{
 "cells": [
  {
   "cell_type": "markdown",
   "metadata": {
    "toc": true
   },
   "source": [
    "<h1>Table of Contents<span class=\"tocSkip\"></span></h1>\n",
    "<div class=\"toc\"><ul class=\"toc-item\"><li><span><a href=\"#Goal\" data-toc-modified-id=\"Goal-1\"><span class=\"toc-item-num\">1&nbsp;&nbsp;</span>Goal</a></span></li><li><span><a href=\"#Var\" data-toc-modified-id=\"Var-2\"><span class=\"toc-item-num\">2&nbsp;&nbsp;</span>Var</a></span></li><li><span><a href=\"#Init\" data-toc-modified-id=\"Init-3\"><span class=\"toc-item-num\">3&nbsp;&nbsp;</span>Init</a></span></li><li><span><a href=\"#Load\" data-toc-modified-id=\"Load-4\"><span class=\"toc-item-num\">4&nbsp;&nbsp;</span>Load</a></span><ul class=\"toc-item\"><li><span><a href=\"#Checks\" data-toc-modified-id=\"Checks-4.1\"><span class=\"toc-item-num\">4.1&nbsp;&nbsp;</span>Checks</a></span></li></ul></li><li><span><a href=\"#Merging-&amp;-pruning-tree\" data-toc-modified-id=\"Merging-&amp;-pruning-tree-5\"><span class=\"toc-item-num\">5&nbsp;&nbsp;</span>Merging &amp; pruning tree</a></span><ul class=\"toc-item\"><li><span><a href=\"#Checks\" data-toc-modified-id=\"Checks-5.1\"><span class=\"toc-item-num\">5.1&nbsp;&nbsp;</span>Checks</a></span></li><li><span><a href=\"#Writing-tree\" data-toc-modified-id=\"Writing-tree-5.2\"><span class=\"toc-item-num\">5.2&nbsp;&nbsp;</span>Writing tree</a></span></li></ul></li><li><span><a href=\"#sessionInfo\" data-toc-modified-id=\"sessionInfo-6\"><span class=\"toc-item-num\">6&nbsp;&nbsp;</span>sessionInfo</a></span></li></ul></div>"
   ]
  },
  {
   "cell_type": "markdown",
   "metadata": {},
   "source": [
    "# Goal\n",
    "\n",
    "* Create phylogeny for all genome reps used for the Struo2 database\n",
    "  * merging & filtering GTDB MLSA phylogenies"
   ]
  },
  {
   "cell_type": "markdown",
   "metadata": {},
   "source": [
    "# Var"
   ]
  },
  {
   "cell_type": "code",
   "execution_count": 98,
   "metadata": {
    "ExecuteTime": {
     "end_time": "2020-11-04T13:13:05.381271Z",
     "start_time": "2020-11-04T13:13:05.310Z"
    }
   },
   "outputs": [],
   "source": [
    "work_dir = '/ebio/abt3_projects/databases_no-backup/GTDB/release95/Struo/phylogeny/'\n",
    "\n",
    "# species-rep genomes selected\n",
    "genomes_file = file.path(dirname(work_dir),'metadata_1per-GTDB-Spec_gte50comp-lt5cont_wtaxID_wPath.tsv')\n",
    "\n",
    "# trees from gtdb\n",
    "arc_tree_file = '/ebio/abt3_projects/databases_no-backup/GTDB/release95/phylogeny/ar122_r95.tree'\n",
    "bac_tree_file = '/ebio/abt3_projects/databases_no-backup/GTDB/release95/phylogeny/bac120_r95.tree'\n",
    "\n",
    "# full gtdb metadata\n",
    "gtdb_meta_dir = '/ebio/abt3_projects/databases_no-backup/GTDB/release95/metadata/'\n",
    "gtdb_meta_arc_file = file.path(gtdb_meta_dir, 'ar122_metadata_r95.tsv')\n",
    "gtdb_meta_bac_file = file.path(gtdb_meta_dir, 'bac120_metadata_r95.tsv')"
   ]
  },
  {
   "cell_type": "markdown",
   "metadata": {},
   "source": [
    "# Init"
   ]
  },
  {
   "cell_type": "code",
   "execution_count": 99,
   "metadata": {
    "ExecuteTime": {
     "end_time": "2020-11-04T13:13:06.416925Z",
     "start_time": "2020-11-04T13:13:06.354Z"
    }
   },
   "outputs": [],
   "source": [
    "library(dplyr)\n",
    "library(tidyr)\n",
    "library(ggplot2)\n",
    "library(data.table)\n",
    "library(tidytable)\n",
    "library(ape)\n",
    "library(LeyLabRMisc)"
   ]
  },
  {
   "cell_type": "code",
   "execution_count": 100,
   "metadata": {
    "ExecuteTime": {
     "end_time": "2020-11-04T13:13:06.534594Z",
     "start_time": "2020-11-04T13:13:06.485Z"
    }
   },
   "outputs": [],
   "source": [
    "df.dims()"
   ]
  },
  {
   "cell_type": "markdown",
   "metadata": {},
   "source": [
    "# Load"
   ]
  },
  {
   "cell_type": "code",
   "execution_count": 113,
   "metadata": {
    "ExecuteTime": {
     "end_time": "2020-11-04T13:17:16.785960Z",
     "start_time": "2020-11-04T13:17:16.718Z"
    }
   },
   "outputs": [],
   "source": [
    "tax_levs = c('Domain', 'Phylum', 'Class', 'Order', 'Family', 'Genus', 'Species')"
   ]
  },
  {
   "cell_type": "code",
   "execution_count": 125,
   "metadata": {
    "ExecuteTime": {
     "end_time": "2020-11-04T13:19:24.767335Z",
     "start_time": "2020-11-04T13:19:23.273Z"
    }
   },
   "outputs": [
    {
     "name": "stdout",
     "output_type": "stream",
     "text": [
      "No. of unique genomes: 30989 \n"
     ]
    },
    {
     "data": {
      "text/html": [
       "<table>\n",
       "<caption>A data.table: 30989 × 9</caption>\n",
       "<thead>\n",
       "\t<tr><th scope=col>ncbi_organism_name</th><th scope=col>accession</th><th scope=col>Domain</th><th scope=col>Phylum</th><th scope=col>Class</th><th scope=col>Order</th><th scope=col>Family</th><th scope=col>Genus</th><th scope=col>Species</th></tr>\n",
       "\t<tr><th scope=col>&lt;chr&gt;</th><th scope=col>&lt;chr&gt;</th><th scope=col>&lt;chr&gt;</th><th scope=col>&lt;chr&gt;</th><th scope=col>&lt;chr&gt;</th><th scope=col>&lt;chr&gt;</th><th scope=col>&lt;chr&gt;</th><th scope=col>&lt;chr&gt;</th><th scope=col>&lt;chr&gt;</th></tr>\n",
       "</thead>\n",
       "<tbody>\n",
       "\t<tr><td>GB_GCA_002789635.1_Candidatus Aenigmarchaeota archaeon CG_4_9_14_3_um_filter_37_18</td><td>GB_GCA_002789635.1</td><td>d__Archaea</td><td>p__Aenigmatarchaeota</td><td>c__Aenigmatarchaeia</td><td>o__CG10238-14</td><td>f__CG10238-14</td><td>g__CG10238-14  </td><td>s__CG10238-14_sp002789635  </td></tr>\n",
       "\t<tr><td>GB_GCA_001784635.1_Candidatus Micrarchaeota archaeon RBG_16_49_10                 </td><td>GB_GCA_001784635.1</td><td>d__Archaea</td><td>p__Aenigmatarchaeota</td><td>c__Aenigmatarchaeia</td><td>o__CG10238-14</td><td>f__CG10238-14</td><td>g__RBG-16-49-10</td><td>s__RBG-16-49-10_sp001784635</td></tr>\n",
       "\t<tr><td>⋮</td><td>⋮</td><td>⋮</td><td>⋮</td><td>⋮</td><td>⋮</td><td>⋮</td><td>⋮</td><td>⋮</td></tr>\n",
       "\t<tr><td>RS_GCF_001644955.1_Pseudomonas putida</td><td>RS_GCF_001644955.1</td><td>d__Bacteria</td><td>p__Proteobacteria</td><td>c__Gammaproteobacteria</td><td>o__Pseudomonadales</td><td>f__Pseudomonadaceae</td><td>g__Pseudomonas_E</td><td>s__Pseudomonas_E_putida_C</td></tr>\n",
       "\t<tr><td>RS_GCF_003233695.1_Lysobacter maris  </td><td>RS_GCF_003233695.1</td><td>d__Bacteria</td><td>p__Proteobacteria</td><td>c__Gammaproteobacteria</td><td>o__Xanthomonadales</td><td>f__Xanthomonadaceae</td><td>g__Lysobacter   </td><td>s__Lysobacter_maris      </td></tr>\n",
       "</tbody>\n",
       "</table>\n"
      ],
      "text/latex": [
       "A data.table: 30989 × 9\n",
       "\\begin{tabular}{lllllllll}\n",
       " ncbi\\_organism\\_name & accession & Domain & Phylum & Class & Order & Family & Genus & Species\\\\\n",
       " <chr> & <chr> & <chr> & <chr> & <chr> & <chr> & <chr> & <chr> & <chr>\\\\\n",
       "\\hline\n",
       "\t GB\\_GCA\\_002789635.1\\_Candidatus Aenigmarchaeota archaeon CG\\_4\\_9\\_14\\_3\\_um\\_filter\\_37\\_18 & GB\\_GCA\\_002789635.1 & d\\_\\_Archaea & p\\_\\_Aenigmatarchaeota & c\\_\\_Aenigmatarchaeia & o\\_\\_CG10238-14 & f\\_\\_CG10238-14 & g\\_\\_CG10238-14   & s\\_\\_CG10238-14\\_sp002789635  \\\\\n",
       "\t GB\\_GCA\\_001784635.1\\_Candidatus Micrarchaeota archaeon RBG\\_16\\_49\\_10                  & GB\\_GCA\\_001784635.1 & d\\_\\_Archaea & p\\_\\_Aenigmatarchaeota & c\\_\\_Aenigmatarchaeia & o\\_\\_CG10238-14 & f\\_\\_CG10238-14 & g\\_\\_RBG-16-49-10 & s\\_\\_RBG-16-49-10\\_sp001784635\\\\\n",
       "\t ⋮ & ⋮ & ⋮ & ⋮ & ⋮ & ⋮ & ⋮ & ⋮ & ⋮\\\\\n",
       "\t RS\\_GCF\\_001644955.1\\_Pseudomonas putida & RS\\_GCF\\_001644955.1 & d\\_\\_Bacteria & p\\_\\_Proteobacteria & c\\_\\_Gammaproteobacteria & o\\_\\_Pseudomonadales & f\\_\\_Pseudomonadaceae & g\\_\\_Pseudomonas\\_E & s\\_\\_Pseudomonas\\_E\\_putida\\_C\\\\\n",
       "\t RS\\_GCF\\_003233695.1\\_Lysobacter maris   & RS\\_GCF\\_003233695.1 & d\\_\\_Bacteria & p\\_\\_Proteobacteria & c\\_\\_Gammaproteobacteria & o\\_\\_Xanthomonadales & f\\_\\_Xanthomonadaceae & g\\_\\_Lysobacter    & s\\_\\_Lysobacter\\_maris      \\\\\n",
       "\\end{tabular}\n"
      ],
      "text/markdown": [
       "\n",
       "A data.table: 30989 × 9\n",
       "\n",
       "| ncbi_organism_name &lt;chr&gt; | accession &lt;chr&gt; | Domain &lt;chr&gt; | Phylum &lt;chr&gt; | Class &lt;chr&gt; | Order &lt;chr&gt; | Family &lt;chr&gt; | Genus &lt;chr&gt; | Species &lt;chr&gt; |\n",
       "|---|---|---|---|---|---|---|---|---|\n",
       "| GB_GCA_002789635.1_Candidatus Aenigmarchaeota archaeon CG_4_9_14_3_um_filter_37_18 | GB_GCA_002789635.1 | d__Archaea | p__Aenigmatarchaeota | c__Aenigmatarchaeia | o__CG10238-14 | f__CG10238-14 | g__CG10238-14   | s__CG10238-14_sp002789635   |\n",
       "| GB_GCA_001784635.1_Candidatus Micrarchaeota archaeon RBG_16_49_10                  | GB_GCA_001784635.1 | d__Archaea | p__Aenigmatarchaeota | c__Aenigmatarchaeia | o__CG10238-14 | f__CG10238-14 | g__RBG-16-49-10 | s__RBG-16-49-10_sp001784635 |\n",
       "| ⋮ | ⋮ | ⋮ | ⋮ | ⋮ | ⋮ | ⋮ | ⋮ | ⋮ |\n",
       "| RS_GCF_001644955.1_Pseudomonas putida | RS_GCF_001644955.1 | d__Bacteria | p__Proteobacteria | c__Gammaproteobacteria | o__Pseudomonadales | f__Pseudomonadaceae | g__Pseudomonas_E | s__Pseudomonas_E_putida_C |\n",
       "| RS_GCF_003233695.1_Lysobacter maris   | RS_GCF_003233695.1 | d__Bacteria | p__Proteobacteria | c__Gammaproteobacteria | o__Xanthomonadales | f__Xanthomonadaceae | g__Lysobacter    | s__Lysobacter_maris       |\n",
       "\n"
      ],
      "text/plain": [
       "      ncbi_organism_name                                                                \n",
       "1     GB_GCA_002789635.1_Candidatus Aenigmarchaeota archaeon CG_4_9_14_3_um_filter_37_18\n",
       "2     GB_GCA_001784635.1_Candidatus Micrarchaeota archaeon RBG_16_49_10                 \n",
       "⋮     ⋮                                                                                 \n",
       "30988 RS_GCF_001644955.1_Pseudomonas putida                                             \n",
       "30989 RS_GCF_003233695.1_Lysobacter maris                                               \n",
       "      accession          Domain      Phylum              \n",
       "1     GB_GCA_002789635.1 d__Archaea  p__Aenigmatarchaeota\n",
       "2     GB_GCA_001784635.1 d__Archaea  p__Aenigmatarchaeota\n",
       "⋮     ⋮                  ⋮           ⋮                   \n",
       "30988 RS_GCF_001644955.1 d__Bacteria p__Proteobacteria   \n",
       "30989 RS_GCF_003233695.1 d__Bacteria p__Proteobacteria   \n",
       "      Class                  Order              Family             \n",
       "1     c__Aenigmatarchaeia    o__CG10238-14      f__CG10238-14      \n",
       "2     c__Aenigmatarchaeia    o__CG10238-14      f__CG10238-14      \n",
       "⋮     ⋮                      ⋮                  ⋮                  \n",
       "30988 c__Gammaproteobacteria o__Pseudomonadales f__Pseudomonadaceae\n",
       "30989 c__Gammaproteobacteria o__Xanthomonadales f__Xanthomonadaceae\n",
       "      Genus            Species                    \n",
       "1     g__CG10238-14    s__CG10238-14_sp002789635  \n",
       "2     g__RBG-16-49-10  s__RBG-16-49-10_sp001784635\n",
       "⋮     ⋮                ⋮                          \n",
       "30988 g__Pseudomonas_E s__Pseudomonas_E_putida_C  \n",
       "30989 g__Lysobacter    s__Lysobacter_maris        "
      ]
     },
     "metadata": {},
     "output_type": "display_data"
    }
   ],
   "source": [
    "# genomes used for struo\n",
    "genomes = Fread(genomes_file) %>%\n",
    "    select.(ncbi_organism_name, accession, gtdb_taxonomy) %>%\n",
    "    separate.(gtdb_taxonomy, tax_levs, sep = ';') %>%\n",
    "    mutate.(Species = gsub(' ', '_', Species))\n",
    "genomes %>% unique_n('genomes', ncbi_organism_name)\n",
    "genomes"
   ]
  },
  {
   "cell_type": "code",
   "execution_count": 102,
   "metadata": {
    "ExecuteTime": {
     "end_time": "2020-11-04T13:13:19.282463Z",
     "start_time": "2020-11-04T13:13:19.185Z"
    }
   },
   "outputs": [
    {
     "data": {
      "text/plain": [
       "\n",
       "Phylogenetic tree with 1672 tips and 1671 internal nodes.\n",
       "\n",
       "Tip labels:\n",
       "\tRS_GCF_002286985.1, RS_GCF_003781945.1, RS_GCF_000739595.1, RS_GCF_002727125.1, RS_GCF_000337915.1, RS_GCF_004114995.1, ...\n",
       "Node labels:\n",
       "\td__Archaea, 100, 74, 100, 100:p__Halobacteriota, 84, ...\n",
       "\n",
       "Rooted; includes branch lengths."
      ]
     },
     "metadata": {},
     "output_type": "display_data"
    }
   ],
   "source": [
    "# arc tree\n",
    "arc_tree = read.tree(arc_tree_file)\n",
    "arc_tree"
   ]
  },
  {
   "cell_type": "code",
   "execution_count": 103,
   "metadata": {
    "ExecuteTime": {
     "end_time": "2020-11-04T13:13:20.467117Z",
     "start_time": "2020-11-04T13:13:19.378Z"
    }
   },
   "outputs": [
    {
     "data": {
      "text/plain": [
       "\n",
       "Phylogenetic tree with 30238 tips and 30237 internal nodes.\n",
       "\n",
       "Tip labels:\n",
       "\tRS_GCF_000783395.1, RS_GCF_900580865.1, RS_GCF_900582195.1, RS_GCF_005938625.1, GB_GCA_002754355.1, RS_GCF_003732425.1, ...\n",
       "Node labels:\n",
       "\t100.0:d__Bacteria, 9, 0, 0, 0, 0, ...\n",
       "\n",
       "Rooted; includes branch lengths."
      ]
     },
     "metadata": {},
     "output_type": "display_data"
    }
   ],
   "source": [
    "# bac tree\n",
    "bac_tree = read.tree(bac_tree_file)\n",
    "bac_tree"
   ]
  },
  {
   "cell_type": "code",
   "execution_count": 117,
   "metadata": {
    "ExecuteTime": {
     "end_time": "2020-11-04T13:17:59.918957Z",
     "start_time": "2020-11-04T13:17:59.744Z"
    }
   },
   "outputs": [
    {
     "data": {
      "text/html": [
       "<table>\n",
       "<caption>A data.table: 1672 × 8</caption>\n",
       "<thead>\n",
       "\t<tr><th scope=col>accession</th><th scope=col>Domain</th><th scope=col>Phylum</th><th scope=col>Class</th><th scope=col>Order</th><th scope=col>Family</th><th scope=col>Genus</th><th scope=col>Species</th></tr>\n",
       "\t<tr><th scope=col>&lt;chr&gt;</th><th scope=col>&lt;chr&gt;</th><th scope=col>&lt;chr&gt;</th><th scope=col>&lt;chr&gt;</th><th scope=col>&lt;chr&gt;</th><th scope=col>&lt;chr&gt;</th><th scope=col>&lt;chr&gt;</th><th scope=col>&lt;chr&gt;</th></tr>\n",
       "</thead>\n",
       "<tbody>\n",
       "\t<tr><td>GB_GCA_000007185.1</td><td>d__Archaea</td><td>p__Methanobacteriota</td><td>c__Methanopyri    </td><td>o__Methanopyrales   </td><td>f__Methanopyraceae   </td><td>g__Methanopyrus  </td><td>s__Methanopyrus kandleri     </td></tr>\n",
       "\t<tr><td>GB_GCA_000007345.1</td><td>d__Archaea</td><td>p__Halobacteriota   </td><td>c__Methanosarcinia</td><td>o__Methanosarcinales</td><td>f__Methanosarcinaceae</td><td>g__Methanosarcina</td><td>s__Methanosarcina acetivorans</td></tr>\n",
       "\t<tr><td>⋮</td><td>⋮</td><td>⋮</td><td>⋮</td><td>⋮</td><td>⋮</td><td>⋮</td><td>⋮</td></tr>\n",
       "\t<tr><td>GB_GCA_013330595.1</td><td>d__Archaea</td><td>p__Nanoarchaeota   </td><td>c__Nanoarchaeia</td><td>o__Woesearchaeales</td><td>f__UBA9642           </td><td>g__UBA9642 </td><td>s__UBA9642 sp12459u </td></tr>\n",
       "\t<tr><td>GB_GCA_013330385.1</td><td>d__Archaea</td><td>p__Thermoplasmatota</td><td>c__Poseidoniia </td><td>o__Poseidoniales  </td><td>f__Thalassarchaeaceae</td><td>g__MGIIb-O1</td><td>s__MGIIb-O1 sp12570u</td></tr>\n",
       "</tbody>\n",
       "</table>\n"
      ],
      "text/latex": [
       "A data.table: 1672 × 8\n",
       "\\begin{tabular}{llllllll}\n",
       " accession & Domain & Phylum & Class & Order & Family & Genus & Species\\\\\n",
       " <chr> & <chr> & <chr> & <chr> & <chr> & <chr> & <chr> & <chr>\\\\\n",
       "\\hline\n",
       "\t GB\\_GCA\\_000007185.1 & d\\_\\_Archaea & p\\_\\_Methanobacteriota & c\\_\\_Methanopyri     & o\\_\\_Methanopyrales    & f\\_\\_Methanopyraceae    & g\\_\\_Methanopyrus   & s\\_\\_Methanopyrus kandleri     \\\\\n",
       "\t GB\\_GCA\\_000007345.1 & d\\_\\_Archaea & p\\_\\_Halobacteriota    & c\\_\\_Methanosarcinia & o\\_\\_Methanosarcinales & f\\_\\_Methanosarcinaceae & g\\_\\_Methanosarcina & s\\_\\_Methanosarcina acetivorans\\\\\n",
       "\t ⋮ & ⋮ & ⋮ & ⋮ & ⋮ & ⋮ & ⋮ & ⋮\\\\\n",
       "\t GB\\_GCA\\_013330595.1 & d\\_\\_Archaea & p\\_\\_Nanoarchaeota    & c\\_\\_Nanoarchaeia & o\\_\\_Woesearchaeales & f\\_\\_UBA9642            & g\\_\\_UBA9642  & s\\_\\_UBA9642 sp12459u \\\\\n",
       "\t GB\\_GCA\\_013330385.1 & d\\_\\_Archaea & p\\_\\_Thermoplasmatota & c\\_\\_Poseidoniia  & o\\_\\_Poseidoniales   & f\\_\\_Thalassarchaeaceae & g\\_\\_MGIIb-O1 & s\\_\\_MGIIb-O1 sp12570u\\\\\n",
       "\\end{tabular}\n"
      ],
      "text/markdown": [
       "\n",
       "A data.table: 1672 × 8\n",
       "\n",
       "| accession &lt;chr&gt; | Domain &lt;chr&gt; | Phylum &lt;chr&gt; | Class &lt;chr&gt; | Order &lt;chr&gt; | Family &lt;chr&gt; | Genus &lt;chr&gt; | Species &lt;chr&gt; |\n",
       "|---|---|---|---|---|---|---|---|\n",
       "| GB_GCA_000007185.1 | d__Archaea | p__Methanobacteriota | c__Methanopyri     | o__Methanopyrales    | f__Methanopyraceae    | g__Methanopyrus   | s__Methanopyrus kandleri      |\n",
       "| GB_GCA_000007345.1 | d__Archaea | p__Halobacteriota    | c__Methanosarcinia | o__Methanosarcinales | f__Methanosarcinaceae | g__Methanosarcina | s__Methanosarcina acetivorans |\n",
       "| ⋮ | ⋮ | ⋮ | ⋮ | ⋮ | ⋮ | ⋮ | ⋮ |\n",
       "| GB_GCA_013330595.1 | d__Archaea | p__Nanoarchaeota    | c__Nanoarchaeia | o__Woesearchaeales | f__UBA9642            | g__UBA9642  | s__UBA9642 sp12459u  |\n",
       "| GB_GCA_013330385.1 | d__Archaea | p__Thermoplasmatota | c__Poseidoniia  | o__Poseidoniales   | f__Thalassarchaeaceae | g__MGIIb-O1 | s__MGIIb-O1 sp12570u |\n",
       "\n"
      ],
      "text/plain": [
       "     accession          Domain     Phylum               Class             \n",
       "1    GB_GCA_000007185.1 d__Archaea p__Methanobacteriota c__Methanopyri    \n",
       "2    GB_GCA_000007345.1 d__Archaea p__Halobacteriota    c__Methanosarcinia\n",
       "⋮    ⋮                  ⋮          ⋮                    ⋮                 \n",
       "1671 GB_GCA_013330595.1 d__Archaea p__Nanoarchaeota     c__Nanoarchaeia   \n",
       "1672 GB_GCA_013330385.1 d__Archaea p__Thermoplasmatota  c__Poseidoniia    \n",
       "     Order                Family                Genus            \n",
       "1    o__Methanopyrales    f__Methanopyraceae    g__Methanopyrus  \n",
       "2    o__Methanosarcinales f__Methanosarcinaceae g__Methanosarcina\n",
       "⋮    ⋮                    ⋮                     ⋮                \n",
       "1671 o__Woesearchaeales   f__UBA9642            g__UBA9642       \n",
       "1672 o__Poseidoniales     f__Thalassarchaeaceae g__MGIIb-O1      \n",
       "     Species                      \n",
       "1    s__Methanopyrus kandleri     \n",
       "2    s__Methanosarcina acetivorans\n",
       "⋮    ⋮                            \n",
       "1671 s__UBA9642 sp12459u          \n",
       "1672 s__MGIIb-O1 sp12570u         "
      ]
     },
     "metadata": {},
     "output_type": "display_data"
    }
   ],
   "source": [
    "# metadata: archaea\n",
    "gtdb_meta_arc = Fread(gtdb_meta_arc_file) %>%\n",
    "    select.(accession, gtdb_taxonomy) %>%\n",
    "    filter.(accession %in% arc_tree$tip.label) %>%\n",
    "    separate.(gtdb_taxonomy, tax_levs, sep = ';')\n",
    "gtdb_meta_arc"
   ]
  },
  {
   "cell_type": "code",
   "execution_count": 118,
   "metadata": {
    "ExecuteTime": {
     "end_time": "2020-11-04T13:18:04.528952Z",
     "start_time": "2020-11-04T13:17:59.952Z"
    }
   },
   "outputs": [
    {
     "data": {
      "text/html": [
       "<table>\n",
       "<caption>A data.table: 30238 × 8</caption>\n",
       "<thead>\n",
       "\t<tr><th scope=col>accession</th><th scope=col>Domain</th><th scope=col>Phylum</th><th scope=col>Class</th><th scope=col>Order</th><th scope=col>Family</th><th scope=col>Genus</th><th scope=col>Species</th></tr>\n",
       "\t<tr><th scope=col>&lt;chr&gt;</th><th scope=col>&lt;chr&gt;</th><th scope=col>&lt;chr&gt;</th><th scope=col>&lt;chr&gt;</th><th scope=col>&lt;chr&gt;</th><th scope=col>&lt;chr&gt;</th><th scope=col>&lt;chr&gt;</th><th scope=col>&lt;chr&gt;</th></tr>\n",
       "</thead>\n",
       "<tbody>\n",
       "\t<tr><td>GB_GCA_000010565.1</td><td>d__Bacteria</td><td>p__Firmicutes_B </td><td>c__Desulfotomaculia</td><td>o__Desulfotomaculales</td><td>f__Pelotomaculaceae  </td><td>g__Pelotomaculum</td><td>s__Pelotomaculum thermopropionicum</td></tr>\n",
       "\t<tr><td>GB_GCA_000018565.1</td><td>d__Bacteria</td><td>p__Chloroflexota</td><td>c__Chloroflexia    </td><td>o__Chloroflexales    </td><td>f__Herpetosiphonaceae</td><td>g__Herpetosiphon</td><td>s__Herpetosiphon aurantiacus      </td></tr>\n",
       "\t<tr><td>⋮</td><td>⋮</td><td>⋮</td><td>⋮</td><td>⋮</td><td>⋮</td><td>⋮</td><td>⋮</td></tr>\n",
       "\t<tr><td>RS_GCF_902159415.1</td><td>d__Bacteria</td><td>p__Firmicutes  </td><td>c__Bacilli    </td><td>o__Lactobacillales</td><td>f__Streptococcaceae</td><td>g__Streptococcus</td><td>s__Streptococcus mitis_BG </td></tr>\n",
       "\t<tr><td>RS_GCF_902167325.1</td><td>d__Bacteria</td><td>p__Bacteroidota</td><td>c__Bacteroidia</td><td>o__Chitinophagales</td><td>f__Chitinophagaceae</td><td>g__Chitinophaga </td><td>s__Chitinophaga pinensis_A</td></tr>\n",
       "</tbody>\n",
       "</table>\n"
      ],
      "text/latex": [
       "A data.table: 30238 × 8\n",
       "\\begin{tabular}{llllllll}\n",
       " accession & Domain & Phylum & Class & Order & Family & Genus & Species\\\\\n",
       " <chr> & <chr> & <chr> & <chr> & <chr> & <chr> & <chr> & <chr>\\\\\n",
       "\\hline\n",
       "\t GB\\_GCA\\_000010565.1 & d\\_\\_Bacteria & p\\_\\_Firmicutes\\_B  & c\\_\\_Desulfotomaculia & o\\_\\_Desulfotomaculales & f\\_\\_Pelotomaculaceae   & g\\_\\_Pelotomaculum & s\\_\\_Pelotomaculum thermopropionicum\\\\\n",
       "\t GB\\_GCA\\_000018565.1 & d\\_\\_Bacteria & p\\_\\_Chloroflexota & c\\_\\_Chloroflexia     & o\\_\\_Chloroflexales     & f\\_\\_Herpetosiphonaceae & g\\_\\_Herpetosiphon & s\\_\\_Herpetosiphon aurantiacus      \\\\\n",
       "\t ⋮ & ⋮ & ⋮ & ⋮ & ⋮ & ⋮ & ⋮ & ⋮\\\\\n",
       "\t RS\\_GCF\\_902159415.1 & d\\_\\_Bacteria & p\\_\\_Firmicutes   & c\\_\\_Bacilli     & o\\_\\_Lactobacillales & f\\_\\_Streptococcaceae & g\\_\\_Streptococcus & s\\_\\_Streptococcus mitis\\_BG \\\\\n",
       "\t RS\\_GCF\\_902167325.1 & d\\_\\_Bacteria & p\\_\\_Bacteroidota & c\\_\\_Bacteroidia & o\\_\\_Chitinophagales & f\\_\\_Chitinophagaceae & g\\_\\_Chitinophaga  & s\\_\\_Chitinophaga pinensis\\_A\\\\\n",
       "\\end{tabular}\n"
      ],
      "text/markdown": [
       "\n",
       "A data.table: 30238 × 8\n",
       "\n",
       "| accession &lt;chr&gt; | Domain &lt;chr&gt; | Phylum &lt;chr&gt; | Class &lt;chr&gt; | Order &lt;chr&gt; | Family &lt;chr&gt; | Genus &lt;chr&gt; | Species &lt;chr&gt; |\n",
       "|---|---|---|---|---|---|---|---|\n",
       "| GB_GCA_000010565.1 | d__Bacteria | p__Firmicutes_B  | c__Desulfotomaculia | o__Desulfotomaculales | f__Pelotomaculaceae   | g__Pelotomaculum | s__Pelotomaculum thermopropionicum |\n",
       "| GB_GCA_000018565.1 | d__Bacteria | p__Chloroflexota | c__Chloroflexia     | o__Chloroflexales     | f__Herpetosiphonaceae | g__Herpetosiphon | s__Herpetosiphon aurantiacus       |\n",
       "| ⋮ | ⋮ | ⋮ | ⋮ | ⋮ | ⋮ | ⋮ | ⋮ |\n",
       "| RS_GCF_902159415.1 | d__Bacteria | p__Firmicutes   | c__Bacilli     | o__Lactobacillales | f__Streptococcaceae | g__Streptococcus | s__Streptococcus mitis_BG  |\n",
       "| RS_GCF_902167325.1 | d__Bacteria | p__Bacteroidota | c__Bacteroidia | o__Chitinophagales | f__Chitinophagaceae | g__Chitinophaga  | s__Chitinophaga pinensis_A |\n",
       "\n"
      ],
      "text/plain": [
       "      accession          Domain      Phylum           Class              \n",
       "1     GB_GCA_000010565.1 d__Bacteria p__Firmicutes_B  c__Desulfotomaculia\n",
       "2     GB_GCA_000018565.1 d__Bacteria p__Chloroflexota c__Chloroflexia    \n",
       "⋮     ⋮                  ⋮           ⋮                ⋮                  \n",
       "30237 RS_GCF_902159415.1 d__Bacteria p__Firmicutes    c__Bacilli         \n",
       "30238 RS_GCF_902167325.1 d__Bacteria p__Bacteroidota  c__Bacteroidia     \n",
       "      Order                 Family                Genus           \n",
       "1     o__Desulfotomaculales f__Pelotomaculaceae   g__Pelotomaculum\n",
       "2     o__Chloroflexales     f__Herpetosiphonaceae g__Herpetosiphon\n",
       "⋮     ⋮                     ⋮                     ⋮               \n",
       "30237 o__Lactobacillales    f__Streptococcaceae   g__Streptococcus\n",
       "30238 o__Chitinophagales    f__Chitinophagaceae   g__Chitinophaga \n",
       "      Species                           \n",
       "1     s__Pelotomaculum thermopropionicum\n",
       "2     s__Herpetosiphon aurantiacus      \n",
       "⋮     ⋮                                 \n",
       "30237 s__Streptococcus mitis_BG         \n",
       "30238 s__Chitinophaga pinensis_A        "
      ]
     },
     "metadata": {},
     "output_type": "display_data"
    }
   ],
   "source": [
    "# metadata: bacteria\n",
    "gtdb_meta_bac = Fread(gtdb_meta_bac_file) %>%\n",
    "    select.(accession, gtdb_taxonomy) %>%\n",
    "    filter.(accession %in% bac_tree$tip.label) %>%\n",
    "    separate.(gtdb_taxonomy, tax_levs, sep = ';')\n",
    "gtdb_meta_bac"
   ]
  },
  {
   "cell_type": "code",
   "execution_count": 119,
   "metadata": {
    "ExecuteTime": {
     "end_time": "2020-11-04T13:18:04.571550Z",
     "start_time": "2020-11-04T13:18:00.085Z"
    }
   },
   "outputs": [
    {
     "data": {
      "text/html": [
       "<table>\n",
       "<caption>A data.table: 31910 × 8</caption>\n",
       "<thead>\n",
       "\t<tr><th scope=col>accession</th><th scope=col>Domain</th><th scope=col>Phylum</th><th scope=col>Class</th><th scope=col>Order</th><th scope=col>Family</th><th scope=col>Genus</th><th scope=col>Species</th></tr>\n",
       "\t<tr><th scope=col>&lt;chr&gt;</th><th scope=col>&lt;chr&gt;</th><th scope=col>&lt;chr&gt;</th><th scope=col>&lt;chr&gt;</th><th scope=col>&lt;chr&gt;</th><th scope=col>&lt;chr&gt;</th><th scope=col>&lt;chr&gt;</th><th scope=col>&lt;chr&gt;</th></tr>\n",
       "</thead>\n",
       "<tbody>\n",
       "\t<tr><td>GB_GCA_000007185.1</td><td>d__Archaea</td><td>p__Methanobacteriota</td><td>c__Methanopyri    </td><td>o__Methanopyrales   </td><td>f__Methanopyraceae   </td><td>g__Methanopyrus  </td><td>s__Methanopyrus kandleri     </td></tr>\n",
       "\t<tr><td>GB_GCA_000007345.1</td><td>d__Archaea</td><td>p__Halobacteriota   </td><td>c__Methanosarcinia</td><td>o__Methanosarcinales</td><td>f__Methanosarcinaceae</td><td>g__Methanosarcina</td><td>s__Methanosarcina acetivorans</td></tr>\n",
       "\t<tr><td>⋮</td><td>⋮</td><td>⋮</td><td>⋮</td><td>⋮</td><td>⋮</td><td>⋮</td><td>⋮</td></tr>\n",
       "\t<tr><td>RS_GCF_902159415.1</td><td>d__Bacteria</td><td>p__Firmicutes  </td><td>c__Bacilli    </td><td>o__Lactobacillales</td><td>f__Streptococcaceae</td><td>g__Streptococcus</td><td>s__Streptococcus mitis_BG </td></tr>\n",
       "\t<tr><td>RS_GCF_902167325.1</td><td>d__Bacteria</td><td>p__Bacteroidota</td><td>c__Bacteroidia</td><td>o__Chitinophagales</td><td>f__Chitinophagaceae</td><td>g__Chitinophaga </td><td>s__Chitinophaga pinensis_A</td></tr>\n",
       "</tbody>\n",
       "</table>\n"
      ],
      "text/latex": [
       "A data.table: 31910 × 8\n",
       "\\begin{tabular}{llllllll}\n",
       " accession & Domain & Phylum & Class & Order & Family & Genus & Species\\\\\n",
       " <chr> & <chr> & <chr> & <chr> & <chr> & <chr> & <chr> & <chr>\\\\\n",
       "\\hline\n",
       "\t GB\\_GCA\\_000007185.1 & d\\_\\_Archaea & p\\_\\_Methanobacteriota & c\\_\\_Methanopyri     & o\\_\\_Methanopyrales    & f\\_\\_Methanopyraceae    & g\\_\\_Methanopyrus   & s\\_\\_Methanopyrus kandleri     \\\\\n",
       "\t GB\\_GCA\\_000007345.1 & d\\_\\_Archaea & p\\_\\_Halobacteriota    & c\\_\\_Methanosarcinia & o\\_\\_Methanosarcinales & f\\_\\_Methanosarcinaceae & g\\_\\_Methanosarcina & s\\_\\_Methanosarcina acetivorans\\\\\n",
       "\t ⋮ & ⋮ & ⋮ & ⋮ & ⋮ & ⋮ & ⋮ & ⋮\\\\\n",
       "\t RS\\_GCF\\_902159415.1 & d\\_\\_Bacteria & p\\_\\_Firmicutes   & c\\_\\_Bacilli     & o\\_\\_Lactobacillales & f\\_\\_Streptococcaceae & g\\_\\_Streptococcus & s\\_\\_Streptococcus mitis\\_BG \\\\\n",
       "\t RS\\_GCF\\_902167325.1 & d\\_\\_Bacteria & p\\_\\_Bacteroidota & c\\_\\_Bacteroidia & o\\_\\_Chitinophagales & f\\_\\_Chitinophagaceae & g\\_\\_Chitinophaga  & s\\_\\_Chitinophaga pinensis\\_A\\\\\n",
       "\\end{tabular}\n"
      ],
      "text/markdown": [
       "\n",
       "A data.table: 31910 × 8\n",
       "\n",
       "| accession &lt;chr&gt; | Domain &lt;chr&gt; | Phylum &lt;chr&gt; | Class &lt;chr&gt; | Order &lt;chr&gt; | Family &lt;chr&gt; | Genus &lt;chr&gt; | Species &lt;chr&gt; |\n",
       "|---|---|---|---|---|---|---|---|\n",
       "| GB_GCA_000007185.1 | d__Archaea | p__Methanobacteriota | c__Methanopyri     | o__Methanopyrales    | f__Methanopyraceae    | g__Methanopyrus   | s__Methanopyrus kandleri      |\n",
       "| GB_GCA_000007345.1 | d__Archaea | p__Halobacteriota    | c__Methanosarcinia | o__Methanosarcinales | f__Methanosarcinaceae | g__Methanosarcina | s__Methanosarcina acetivorans |\n",
       "| ⋮ | ⋮ | ⋮ | ⋮ | ⋮ | ⋮ | ⋮ | ⋮ |\n",
       "| RS_GCF_902159415.1 | d__Bacteria | p__Firmicutes   | c__Bacilli     | o__Lactobacillales | f__Streptococcaceae | g__Streptococcus | s__Streptococcus mitis_BG  |\n",
       "| RS_GCF_902167325.1 | d__Bacteria | p__Bacteroidota | c__Bacteroidia | o__Chitinophagales | f__Chitinophagaceae | g__Chitinophaga  | s__Chitinophaga pinensis_A |\n",
       "\n"
      ],
      "text/plain": [
       "      accession          Domain      Phylum               Class             \n",
       "1     GB_GCA_000007185.1 d__Archaea  p__Methanobacteriota c__Methanopyri    \n",
       "2     GB_GCA_000007345.1 d__Archaea  p__Halobacteriota    c__Methanosarcinia\n",
       "⋮     ⋮                  ⋮           ⋮                    ⋮                 \n",
       "31909 RS_GCF_902159415.1 d__Bacteria p__Firmicutes        c__Bacilli        \n",
       "31910 RS_GCF_902167325.1 d__Bacteria p__Bacteroidota      c__Bacteroidia    \n",
       "      Order                Family                Genus            \n",
       "1     o__Methanopyrales    f__Methanopyraceae    g__Methanopyrus  \n",
       "2     o__Methanosarcinales f__Methanosarcinaceae g__Methanosarcina\n",
       "⋮     ⋮                    ⋮                     ⋮                \n",
       "31909 o__Lactobacillales   f__Streptococcaceae   g__Streptococcus \n",
       "31910 o__Chitinophagales   f__Chitinophagaceae   g__Chitinophaga  \n",
       "      Species                      \n",
       "1     s__Methanopyrus kandleri     \n",
       "2     s__Methanosarcina acetivorans\n",
       "⋮     ⋮                            \n",
       "31909 s__Streptococcus mitis_BG    \n",
       "31910 s__Chitinophaga pinensis_A   "
      ]
     },
     "metadata": {},
     "output_type": "display_data"
    }
   ],
   "source": [
    "# combined\n",
    "gtdb_meta = rbind(gtdb_meta_arc, gtdb_meta_bac)\n",
    "gtdb_meta_arc = gtdb_meta_bac = NULL\n",
    "gtdb_meta"
   ]
  },
  {
   "cell_type": "markdown",
   "metadata": {},
   "source": [
    "## Checks"
   ]
  },
  {
   "cell_type": "code",
   "execution_count": 120,
   "metadata": {
    "ExecuteTime": {
     "end_time": "2020-11-04T13:18:04.604449Z",
     "start_time": "2020-11-04T13:18:01.276Z"
    }
   },
   "outputs": [
    {
     "data": {
      "text/plain": [
       "   Min. 1st Qu.  Median    Mean 3rd Qu.    Max. \n",
       "0.00000 0.02860 0.06234 0.13371 0.14856 1.98299 "
      ]
     },
     "metadata": {},
     "output_type": "display_data"
    },
    {
     "data": {
      "text/plain": [
       "   Min. 1st Qu.  Median    Mean 3rd Qu.    Max. \n",
       "0.00000 0.01200 0.03000 0.05857 0.07000 1.35600 "
      ]
     },
     "metadata": {},
     "output_type": "display_data"
    }
   ],
   "source": [
    "arc_tree$edge.length %>% summary\n",
    "bac_tree$edge.length %>% summary"
   ]
  },
  {
   "cell_type": "markdown",
   "metadata": {},
   "source": [
    "# Merging & pruning tree"
   ]
  },
  {
   "cell_type": "code",
   "execution_count": 121,
   "metadata": {
    "ExecuteTime": {
     "end_time": "2020-11-04T13:18:13.626402Z",
     "start_time": "2020-11-04T13:18:13.516Z"
    }
   },
   "outputs": [
    {
     "data": {
      "text/plain": [
       "\n",
       "Phylogenetic tree with 31910 tips and 31907 internal nodes.\n",
       "\n",
       "Tip labels:\n",
       "\tRS_GCF_002286985.1, RS_GCF_003781945.1, RS_GCF_000739595.1, RS_GCF_002727125.1, RS_GCF_000337915.1, RS_GCF_004114995.1, ...\n",
       "Node labels:\n",
       "\td__Archaea, 100, 74, 100, 100:p__Halobacteriota, 84, ...\n",
       "\n",
       "Unrooted; includes branch lengths."
      ]
     },
     "metadata": {},
     "output_type": "display_data"
    }
   ],
   "source": [
    "# binding trees at root\n",
    "tree = ape::bind.tree(arc_tree, bac_tree)\n",
    "tree"
   ]
  },
  {
   "cell_type": "code",
   "execution_count": 122,
   "metadata": {
    "ExecuteTime": {
     "end_time": "2020-11-04T13:18:29.494829Z",
     "start_time": "2020-11-04T13:18:28.556Z"
    }
   },
   "outputs": [
    {
     "data": {
      "text/plain": [
       "\n",
       "Phylogenetic tree with 31910 tips and 31907 internal nodes.\n",
       "\n",
       "Tip labels:\n",
       "\ts__Halorubrum_sp002286985, s__Halorubrum_sp003781945, s__Halorubrum_halophilum, s__Halorubrum_persicum, s__Halorubrum_saccharovorum, s__Halorubrum_sp004114995, ...\n",
       "Node labels:\n",
       "\td__Archaea, 100, 74, 100, 100:p__Halobacteriota, 84, ...\n",
       "\n",
       "Unrooted; includes branch lengths."
      ]
     },
     "metadata": {},
     "output_type": "display_data"
    }
   ],
   "source": [
    "# renaming as species\n",
    "idx = gtdb_meta %>%\n",
    "    filter.(accession %in% tree$tip.label) %>%\n",
    "    select.(accession, Species) %>%\n",
    "    mutate.(Species = gsub(' ', '_', Species)) %>%\n",
    "    as.data.frame\n",
    "rownames(idx) = idx$accession\n",
    "tree$tip.label = idx[tree$tip.label,'Species']\n",
    "tree"
   ]
  },
  {
   "cell_type": "code",
   "execution_count": 126,
   "metadata": {
    "ExecuteTime": {
     "end_time": "2020-11-04T13:19:28.200524Z",
     "start_time": "2020-11-04T13:19:28.111Z"
    }
   },
   "outputs": [
    {
     "name": "stdout",
     "output_type": "stream",
     "text": [
      "intersect(x,y): 30989 \n",
      "setdiff(x,y): 0 \n",
      "setdiff(y,x): 921 \n",
      "union(x,y): 31910 \n"
     ]
    }
   ],
   "source": [
    "# checking overlap\n",
    "overlap(genomes$Species, tree$tip.label)"
   ]
  },
  {
   "cell_type": "code",
   "execution_count": 130,
   "metadata": {
    "ExecuteTime": {
     "end_time": "2020-11-04T13:20:18.642898Z",
     "start_time": "2020-11-04T13:20:18.414Z"
    }
   },
   "outputs": [
    {
     "data": {
      "text/html": [
       "921"
      ],
      "text/latex": [
       "921"
      ],
      "text/markdown": [
       "921"
      ],
      "text/plain": [
       "[1] 921"
      ]
     },
     "metadata": {},
     "output_type": "display_data"
    },
    {
     "data": {
      "text/plain": [
       "\n",
       "Phylogenetic tree with 30989 tips and 30986 internal nodes.\n",
       "\n",
       "Tip labels:\n",
       "\ts__Halorubrum_sp002286985, s__Halorubrum_sp003781945, s__Halorubrum_halophilum, s__Halorubrum_persicum, s__Halorubrum_saccharovorum, s__Halorubrum_sp004114995, ...\n",
       "Node labels:\n",
       "\td__Archaea, 100, 74, 100, 100:p__Halobacteriota, 84, ...\n",
       "\n",
       "Unrooted; includes branch lengths."
      ]
     },
     "metadata": {},
     "output_type": "display_data"
    }
   ],
   "source": [
    "# purning\n",
    "to_rm = setdiff(tree$tip.label, genomes$Species)\n",
    "to_rm %>% length\n",
    "tree_f = ape::drop.tip(tree, to_rm)\n",
    "tree_f"
   ]
  },
  {
   "cell_type": "markdown",
   "metadata": {},
   "source": [
    "## Checks"
   ]
  },
  {
   "cell_type": "code",
   "execution_count": 131,
   "metadata": {
    "ExecuteTime": {
     "end_time": "2020-11-04T13:20:35.014692Z",
     "start_time": "2020-11-04T13:20:34.943Z"
    }
   },
   "outputs": [
    {
     "data": {
      "text/plain": [
       "   Min. 1st Qu.  Median    Mean 3rd Qu.    Max. \n",
       "0.00000 0.01200 0.03100 0.06276 0.07400 1.98299 "
      ]
     },
     "metadata": {},
     "output_type": "display_data"
    }
   ],
   "source": [
    "# branch lengths\n",
    "tree_f$edge.length %>% summary"
   ]
  },
  {
   "cell_type": "code",
   "execution_count": 133,
   "metadata": {
    "ExecuteTime": {
     "end_time": "2020-11-04T13:21:07.386360Z",
     "start_time": "2020-11-04T13:21:07.325Z"
    }
   },
   "outputs": [
    {
     "name": "stdout",
     "output_type": "stream",
     "text": [
      "intersect(x,y): 30989 \n",
      "setdiff(x,y): 0 \n",
      "setdiff(y,x): 0 \n",
      "union(x,y): 30989 \n"
     ]
    }
   ],
   "source": [
    "# checking overlap\n",
    "overlap(genomes$Species, tree_f$tip.label)"
   ]
  },
  {
   "cell_type": "markdown",
   "metadata": {},
   "source": [
    "## Writing tree"
   ]
  },
  {
   "cell_type": "code",
   "execution_count": 134,
   "metadata": {
    "ExecuteTime": {
     "end_time": "2020-11-04T13:22:21.932627Z",
     "start_time": "2020-11-04T13:22:20.155Z"
    }
   },
   "outputs": [
    {
     "name": "stdout",
     "output_type": "stream",
     "text": [
      "File writen: /ebio/abt3_projects/databases_no-backup/GTDB/release95/Struo/phylogeny//ar122-bac120_r89_1per-GTDB-Spec_gte50comp-lt5cont.nwk \n"
     ]
    }
   ],
   "source": [
    "F = file.path(work_dir, 'ar122-bac120_r89_1per-GTDB-Spec_gte50comp-lt5cont.nwk')\n",
    "write.tree(tree_f, F)\n",
    "cat('File writen:', F, '\\n')"
   ]
  },
  {
   "cell_type": "markdown",
   "metadata": {},
   "source": [
    "# sessionInfo"
   ]
  },
  {
   "cell_type": "code",
   "execution_count": 62,
   "metadata": {
    "ExecuteTime": {
     "end_time": "2020-11-01T12:39:13.641082Z",
     "start_time": "2020-11-01T12:39:13.524Z"
    }
   },
   "outputs": [
    {
     "data": {
      "text/plain": [
       "R version 3.6.3 (2020-02-29)\n",
       "Platform: x86_64-conda_cos6-linux-gnu (64-bit)\n",
       "Running under: Ubuntu 18.04.5 LTS\n",
       "\n",
       "Matrix products: default\n",
       "BLAS/LAPACK: /ebio/abt3_projects/Georg_animal_feces/envs/phyloseq/lib/libopenblasp-r0.3.9.so\n",
       "\n",
       "locale:\n",
       " [1] LC_CTYPE=en_US.UTF-8       LC_NUMERIC=C              \n",
       " [3] LC_TIME=en_US.UTF-8        LC_COLLATE=en_US.UTF-8    \n",
       " [5] LC_MONETARY=en_US.UTF-8    LC_MESSAGES=en_US.UTF-8   \n",
       " [7] LC_PAPER=en_US.UTF-8       LC_NAME=C                 \n",
       " [9] LC_ADDRESS=C               LC_TELEPHONE=C            \n",
       "[11] LC_MEASUREMENT=en_US.UTF-8 LC_IDENTIFICATION=C       \n",
       "\n",
       "attached base packages:\n",
       "[1] stats     graphics  grDevices utils     datasets  methods   base     \n",
       "\n",
       "other attached packages:\n",
       "[1] ape_5.4           LeyLabRMisc_0.1.6 tidytable_0.4.1   data.table_1.12.8\n",
       "[5] ggplot2_3.3.1     tidyr_1.1.0       dplyr_1.0.0      \n",
       "\n",
       "loaded via a namespace (and not attached):\n",
       " [1] Rcpp_1.0.4.6     pillar_1.4.4     compiler_3.6.3   base64enc_0.1-3 \n",
       " [5] tools_3.6.3      digest_0.6.25    uuid_0.1-4       jsonlite_1.6.1  \n",
       " [9] evaluate_0.14    lifecycle_0.2.0  tibble_3.0.1     gtable_0.3.0    \n",
       "[13] nlme_3.1-148     lattice_0.20-41  pkgconfig_2.0.3  rlang_0.4.6     \n",
       "[17] IRdisplay_0.7.0  parallel_3.6.3   IRkernel_1.1     xfun_0.14       \n",
       "[21] knitr_1.28       repr_1.1.0       withr_2.2.0      generics_0.0.2  \n",
       "[25] vctrs_0.3.0      grid_3.6.3       tidyselect_1.1.0 glue_1.4.1      \n",
       "[29] R6_2.4.1         pbdZMQ_0.3-3     purrr_0.3.4      magrittr_1.5    \n",
       "[33] scales_1.1.1     ellipsis_0.3.1   htmltools_0.4.0  colorspace_1.4-1\n",
       "[37] munsell_0.5.0    crayon_1.3.4    "
      ]
     },
     "metadata": {},
     "output_type": "display_data"
    }
   ],
   "source": [
    "sessionInfo()"
   ]
  }
 ],
 "metadata": {
  "kernelspec": {
   "display_name": "R [conda env:Georg_animal_feces-phyloseq]",
   "language": "R",
   "name": "conda-env-Georg_animal_feces-phyloseq-r"
  },
  "language_info": {
   "codemirror_mode": "r",
   "file_extension": ".r",
   "mimetype": "text/x-r-source",
   "name": "R",
   "pygments_lexer": "r",
   "version": "3.6.3"
  },
  "notify_time": "30",
  "toc": {
   "base_numbering": 1,
   "nav_menu": {},
   "number_sections": true,
   "sideBar": true,
   "skip_h1_title": false,
   "title_cell": "Table of Contents",
   "title_sidebar": "Contents",
   "toc_cell": true,
   "toc_position": {
    "height": "calc(100% - 180px)",
    "left": "10px",
    "top": "150px",
    "width": "196px"
   },
   "toc_section_display": true,
   "toc_window_display": true
  }
 },
 "nbformat": 4,
 "nbformat_minor": 4
}
