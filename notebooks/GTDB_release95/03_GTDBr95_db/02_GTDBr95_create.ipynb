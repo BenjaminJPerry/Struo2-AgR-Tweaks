{
 "cells": [
  {
   "cell_type": "markdown",
   "metadata": {
    "toc": true
   },
   "source": [
    "<h1>Table of Contents<span class=\"tocSkip\"></span></h1>\n",
    "<div class=\"toc\"><ul class=\"toc-item\"><li><span><a href=\"#Goal\" data-toc-modified-id=\"Goal-1\"><span class=\"toc-item-num\">1&nbsp;&nbsp;</span>Goal</a></span></li><li><span><a href=\"#Var\" data-toc-modified-id=\"Var-2\"><span class=\"toc-item-num\">2&nbsp;&nbsp;</span>Var</a></span></li><li><span><a href=\"#Init\" data-toc-modified-id=\"Init-3\"><span class=\"toc-item-num\">3&nbsp;&nbsp;</span>Init</a></span></li><li><span><a href=\"#Struo2:-db-create\" data-toc-modified-id=\"Struo2:-db-create-4\"><span class=\"toc-item-num\">4&nbsp;&nbsp;</span>Struo2: db-create</a></span><ul class=\"toc-item\"><li><ul class=\"toc-item\"><li><span><a href=\"#Config\" data-toc-modified-id=\"Config-4.0.1\"><span class=\"toc-item-num\">4.0.1&nbsp;&nbsp;</span>Config</a></span></li><li><span><a href=\"#Run\" data-toc-modified-id=\"Run-4.0.2\"><span class=\"toc-item-num\">4.0.2&nbsp;&nbsp;</span>Run</a></span></li></ul></li></ul></li><li><span><a href=\"#Summary\" data-toc-modified-id=\"Summary-5\"><span class=\"toc-item-num\">5&nbsp;&nbsp;</span>Summary</a></span><ul class=\"toc-item\"><li><ul class=\"toc-item\"><li><span><a href=\"#kraken/bracken\" data-toc-modified-id=\"kraken/bracken-5.0.1\"><span class=\"toc-item-num\">5.0.1&nbsp;&nbsp;</span>kraken/bracken</a></span></li><li><span><a href=\"#humann3\" data-toc-modified-id=\"humann3-5.0.2\"><span class=\"toc-item-num\">5.0.2&nbsp;&nbsp;</span>humann3</a></span></li></ul></li></ul></li><li><span><a href=\"#sessionInfo\" data-toc-modified-id=\"sessionInfo-6\"><span class=\"toc-item-num\">6&nbsp;&nbsp;</span>sessionInfo</a></span></li></ul></div>"
   ]
  },
  {
   "cell_type": "markdown",
   "metadata": {},
   "source": [
    "# Goal\n",
    "\n",
    "* Create GTDBr95 Struo2 databases:\n",
    "  * kraken2/bracken\n",
    "  * gene clusters\n",
    "  * humann3"
   ]
  },
  {
   "cell_type": "markdown",
   "metadata": {},
   "source": [
    "# Var"
   ]
  },
  {
   "cell_type": "code",
   "execution_count": 4,
   "metadata": {
    "ExecuteTime": {
     "end_time": "2021-02-06T16:11:52.873379Z",
     "start_time": "2021-02-06T16:11:51.115Z"
    }
   },
   "outputs": [],
   "source": [
    "work_dir = '/ebio/abt3_projects2/databases_no-backup/GTDB/release95/Struo2/'\n",
    "\n",
    "#params\n",
    "threads = 8"
   ]
  },
  {
   "cell_type": "markdown",
   "metadata": {},
   "source": [
    "# Init"
   ]
  },
  {
   "cell_type": "code",
   "execution_count": 7,
   "metadata": {
    "ExecuteTime": {
     "end_time": "2021-02-06T16:12:21.731645Z",
     "start_time": "2021-02-06T16:12:21.668Z"
    }
   },
   "outputs": [],
   "source": [
    "library(dplyr)\n",
    "library(tidyr)\n",
    "library(ggplot2)\n",
    "library(LeyLabRMisc)"
   ]
  },
  {
   "cell_type": "code",
   "execution_count": 3,
   "metadata": {
    "ExecuteTime": {
     "end_time": "2021-02-06T16:11:52.854343Z",
     "start_time": "2021-02-06T16:11:49.891Z"
    }
   },
   "outputs": [],
   "source": [
    "df.dims()"
   ]
  },
  {
   "cell_type": "markdown",
   "metadata": {},
   "source": [
    "# Struo2: db-create"
   ]
  },
  {
   "cell_type": "markdown",
   "metadata": {},
   "source": [
    "### Config"
   ]
  },
  {
   "cell_type": "code",
   "execution_count": 6,
   "metadata": {
    "ExecuteTime": {
     "end_time": "2020-12-15T11:26:28.946952Z",
     "start_time": "2020-12-15T11:26:28.897Z"
    }
   },
   "outputs": [
    {
     "name": "stdout",
     "output_type": "stream",
     "text": [
      "#-- email notifications of pipeline success/failure (use \"Skip\" to deactivate) --#\n",
      "email: nyoungblut@tuebingen.mpg.de\n",
      "\n",
      "#-- I/O --#\n",
      "# file listing samples and associated data\n",
      "samples_file: /ebio/abt3_projects2/databases_no-backup/GTDB/release95/Struo/metadata_1per-GTDB-Spec_gte50comp-lt5cont_wtaxID_wPath.tsv\n",
      "\n",
      "## column names in samples table\n",
      "samples_col: 'ncbi_organism_name'\n",
      "accession_col: 'accession'\n",
      "fasta_file_path_col: 'fasta_file_path'\n",
      "taxID_col: 'gtdb_taxid'          # or 'ncbi_species_taxid'\n",
      "taxonomy_col: 'gtdb_taxonomy'    # or 'ncbi_taxonomy' \n",
      "\n",
      "# output location\n",
      "output_dir: /ebio/abt3_projects2/databases_no-backup/GTDB/release95/Struo2/\n",
      "\n",
      "# temporary file directory (your username will be added automatically)\n",
      "tmp_dir: /ebio/abt3_scratch/\n",
      "\n",
      "#-- databases to create --#\n",
      "# Replace \"Create\" with \"Skip\" to skip creation of any of these\n",
      "# Note that braken relies on the kraken2 database\n",
      "databases:\n",
      "  kraken2: Create\n",
      "  bracken: Create\n",
      "  genes: Create\n",
      "  humann3_bowtie2: Create\n",
      "  humann3_diamond: Create\n",
      "  metaphlan3: Skip #Create\n",
      "\n",
      "# Name of UniRef clustering (uniref90 or uniref50)\n",
      "## uniref90 highly recommended\n",
      "uniref_name: uniref90\n",
      "# Name of the humann3 diamond database to be created\n",
      "## This must match naming allowed by humann3\n",
      "dmnd_name: uniref90_201901.dmnd\n",
      "# Index mapping UniRef90 clusters to UniRef50 (saves time vs re-annotating)\n",
      "## This is skipped if annotating with UniRef50\n",
      "cluster_idx: /ebio/abt3_projects2/databases_no-backup/uniref/2019.01/uniref50-90.pkl\n",
      "\n",
      "#-- if custom NCBI taxdump files (or just Skip) --#\n",
      "# Used for kraken taxonomy & metaphlan\n",
      "names_dmp: /ebio/abt3_projects2/databases_no-backup/GTDB/release95/taxdump/names.dmp\n",
      "nodes_dmp: /ebio/abt3_projects2/databases_no-backup/GTDB/release95/taxdump/nodes.dmp\n",
      "\n",
      "#-- keep intermediate files required for re-creating DBs (eg., w/ more genomes) --#\n",
      "# If \"True\", the intermediate files are saved to `output_dir`\n",
      "# Else, the intermediate files are temporarily stored in `temp_folder`\n",
      "keep_intermediate: True\n",
      "\n",
      "#-- software parameters --#\n",
      "# `vsearch_per_genome` = per-genome gene clustering\n",
      "# for humann3, use either mmseqs or diamond (mmseqs gets priority if neither skipped)\n",
      "# for humann3::mmseqs_search::run, --num-iterations must be >=2\n",
      "params:\n",
      "  ionice: -c 3\n",
      "  bracken:\n",
      "    build_kmer: 35\n",
      "    build_read_lens:\n",
      "      - 100\n",
      "      - 150\n",
      "  genes:\n",
      "    prodigal: \"\"\n",
      "    vsearch_per_genome: --id 0.97 --strand both --qmask none --fasta_width 0\n",
      "    mmseqs_cluster: --min-seq-id 0.9 -c 0.8\n",
      "    mmseqs_cluster_method: linclust         # or \"cluster\", which is slower\n",
      "  humann3:\n",
      "    batches: 3000\n",
      "    mmseqs_search:\n",
      "      db: /ebio/abt3_projects2/databases_no-backup/mmseqs/UniRef90/2019_01/uniref90\n",
      "      run: -e 1e-3 --max-accept 1 --max-seqs 100 --num-iterations 2 --start-sens 1 --sens-steps 3 -s 6\n",
      "    diamond:\n",
      "      db: /ebio/abt3_projects2/databases_no-backup/humann3/201901/uniref90/uniref90_201901.dmnd\n",
      "      run: Skip #--evalue 1e-3 --query-cover 80 --id 50 --max-target-seqs 1 --block-size 4 --index-chunks 2\n",
      "    propagate_annotations: --min-cov 80 --min-pident 90\n",
      "  metaphlan3:\n",
      "    pkl: /ebio/abt3_projects2/databases_no-backup/metaphlan3/201901/mpa_v30_CHOCOPhlAn_201901.pkl\n",
      "    fasta: /ebio/abt3_projects2/databases_no-backup/metaphlan3/201901/mpa_v30_CHOCOPhlAn_201901.fna.bz2\n",
      "    species_specific_markers: --ext-abs-cutoff 10 --ext-rel-cutoff 0.1\n",
      "\n",
      "#-- snakemake pipeline --#\n",
      "pipeline:\n",
      "  snakemake_folder: ./\n",
      "  script_folder: ./bin/scripts/\n",
      "  name: Struo2_db-create\n",
      "  config: create"
     ]
    }
   ],
   "source": [
    "F = file.path(work_dir, 'config_db-create.yaml')\n",
    "cat_file(F)"
   ]
  },
  {
   "cell_type": "markdown",
   "metadata": {},
   "source": [
    "### Run\n",
    "\n",
    "```\n",
    "(snakemake) @ rick:/ebio/abt3_projects2/databases_no-backup/bin/struo2\n",
    "$ screen -L -S struo2-GTDBr95 ./snakemake_sge.sh /ebio/abt3_projects2/databases_no-backup/GTDB/release95/Struo2/config_db-create.yaml 300 -F\n",
    "```"
   ]
  },
  {
   "cell_type": "markdown",
   "metadata": {},
   "source": [
    "# Summary"
   ]
  },
  {
   "cell_type": "markdown",
   "metadata": {},
   "source": [
    "### kraken/bracken"
   ]
  },
  {
   "cell_type": "code",
   "execution_count": 10,
   "metadata": {
    "ExecuteTime": {
     "end_time": "2021-01-10T10:56:38.440603Z",
     "start_time": "2021-01-10T10:56:38.379Z"
    }
   },
   "outputs": [
    {
     "data": {
      "text/html": [
       "<table>\n",
       "<caption>A data.frame: 3 × 10</caption>\n",
       "<thead>\n",
       "\t<tr><th></th><th scope=col>size</th><th scope=col>isdir</th><th scope=col>mode</th><th scope=col>mtime</th><th scope=col>ctime</th><th scope=col>atime</th><th scope=col>uid</th><th scope=col>gid</th><th scope=col>uname</th><th scope=col>grname</th></tr>\n",
       "\t<tr><th></th><th scope=col>&lt;dbl&gt;</th><th scope=col>&lt;lgl&gt;</th><th scope=col>&lt;octmode&gt;</th><th scope=col>&lt;dttm&gt;</th><th scope=col>&lt;dttm&gt;</th><th scope=col>&lt;dttm&gt;</th><th scope=col>&lt;int&gt;</th><th scope=col>&lt;int&gt;</th><th scope=col>&lt;chr&gt;</th><th scope=col>&lt;chr&gt;</th></tr>\n",
       "</thead>\n",
       "<tbody>\n",
       "\t<tr><th scope=row>/ebio/abt3_projects2/databases_no-backup/GTDB/release95/Struo2/kraken2/hash.k2d</th><td>1.66341e+11</td><td>FALSE</td><td>644</td><td>2020-12-17 15:49:27</td><td>2020-12-17 15:49:27</td><td>2020-12-17 15:49:27</td><td>6354</td><td>353</td><td>nyoungblut</td><td>abt3</td></tr>\n",
       "\t<tr><th scope=row>/ebio/abt3_projects2/databases_no-backup/GTDB/release95/Struo2/kraken2/opts.k2d</th><td>6.40000e+01</td><td>FALSE</td><td>644</td><td>2020-12-17 15:49:27</td><td>2020-12-17 15:49:27</td><td>2020-12-17 15:49:27</td><td>6354</td><td>353</td><td>nyoungblut</td><td>abt3</td></tr>\n",
       "\t<tr><th scope=row>/ebio/abt3_projects2/databases_no-backup/GTDB/release95/Struo2/kraken2/taxo.k2d</th><td>5.80944e+06</td><td>FALSE</td><td>644</td><td>2020-12-17 15:49:27</td><td>2020-12-17 15:49:27</td><td>2020-12-17 15:49:27</td><td>6354</td><td>353</td><td>nyoungblut</td><td>abt3</td></tr>\n",
       "</tbody>\n",
       "</table>\n"
      ],
      "text/latex": [
       "A data.frame: 3 × 10\n",
       "\\begin{tabular}{r|llllllllll}\n",
       "  & size & isdir & mode & mtime & ctime & atime & uid & gid & uname & grname\\\\\n",
       "  & <dbl> & <lgl> & <octmode> & <dttm> & <dttm> & <dttm> & <int> & <int> & <chr> & <chr>\\\\\n",
       "\\hline\n",
       "\t/ebio/abt3\\_projects/databases\\_no-backup/GTDB/release95/Struo2/kraken2/hash.k2d & 1.66341e+11 & FALSE & 644 & 2020-12-17 15:49:27 & 2020-12-17 15:49:27 & 2020-12-17 15:49:27 & 6354 & 353 & nyoungblut & abt3\\\\\n",
       "\t/ebio/abt3\\_projects/databases\\_no-backup/GTDB/release95/Struo2/kraken2/opts.k2d & 6.40000e+01 & FALSE & 644 & 2020-12-17 15:49:27 & 2020-12-17 15:49:27 & 2020-12-17 15:49:27 & 6354 & 353 & nyoungblut & abt3\\\\\n",
       "\t/ebio/abt3\\_projects/databases\\_no-backup/GTDB/release95/Struo2/kraken2/taxo.k2d & 5.80944e+06 & FALSE & 644 & 2020-12-17 15:49:27 & 2020-12-17 15:49:27 & 2020-12-17 15:49:27 & 6354 & 353 & nyoungblut & abt3\\\\\n",
       "\\end{tabular}\n"
      ],
      "text/markdown": [
       "\n",
       "A data.frame: 3 × 10\n",
       "\n",
       "| <!--/--> | size &lt;dbl&gt; | isdir &lt;lgl&gt; | mode &lt;octmode&gt; | mtime &lt;dttm&gt; | ctime &lt;dttm&gt; | atime &lt;dttm&gt; | uid &lt;int&gt; | gid &lt;int&gt; | uname &lt;chr&gt; | grname &lt;chr&gt; |\n",
       "|---|---|---|---|---|---|---|---|---|---|---|\n",
       "| /ebio/abt3_projects2/databases_no-backup/GTDB/release95/Struo2/kraken2/hash.k2d | 1.66341e+11 | FALSE | 644 | 2020-12-17 15:49:27 | 2020-12-17 15:49:27 | 2020-12-17 15:49:27 | 6354 | 353 | nyoungblut | abt3 |\n",
       "| /ebio/abt3_projects2/databases_no-backup/GTDB/release95/Struo2/kraken2/opts.k2d | 6.40000e+01 | FALSE | 644 | 2020-12-17 15:49:27 | 2020-12-17 15:49:27 | 2020-12-17 15:49:27 | 6354 | 353 | nyoungblut | abt3 |\n",
       "| /ebio/abt3_projects2/databases_no-backup/GTDB/release95/Struo2/kraken2/taxo.k2d | 5.80944e+06 | FALSE | 644 | 2020-12-17 15:49:27 | 2020-12-17 15:49:27 | 2020-12-17 15:49:27 | 6354 | 353 | nyoungblut | abt3 |\n",
       "\n"
      ],
      "text/plain": [
       "                                                                               size       \n",
       "/ebio/abt3_projects2/databases_no-backup/GTDB/release95/Struo2/kraken2/hash.k2d 1.66341e+11\n",
       "/ebio/abt3_projects2/databases_no-backup/GTDB/release95/Struo2/kraken2/opts.k2d 6.40000e+01\n",
       "/ebio/abt3_projects2/databases_no-backup/GTDB/release95/Struo2/kraken2/taxo.k2d 5.80944e+06\n",
       "                                                                               isdir\n",
       "/ebio/abt3_projects2/databases_no-backup/GTDB/release95/Struo2/kraken2/hash.k2d FALSE\n",
       "/ebio/abt3_projects2/databases_no-backup/GTDB/release95/Struo2/kraken2/opts.k2d FALSE\n",
       "/ebio/abt3_projects2/databases_no-backup/GTDB/release95/Struo2/kraken2/taxo.k2d FALSE\n",
       "                                                                               mode\n",
       "/ebio/abt3_projects2/databases_no-backup/GTDB/release95/Struo2/kraken2/hash.k2d 644 \n",
       "/ebio/abt3_projects2/databases_no-backup/GTDB/release95/Struo2/kraken2/opts.k2d 644 \n",
       "/ebio/abt3_projects2/databases_no-backup/GTDB/release95/Struo2/kraken2/taxo.k2d 644 \n",
       "                                                                               mtime              \n",
       "/ebio/abt3_projects2/databases_no-backup/GTDB/release95/Struo2/kraken2/hash.k2d 2020-12-17 15:49:27\n",
       "/ebio/abt3_projects2/databases_no-backup/GTDB/release95/Struo2/kraken2/opts.k2d 2020-12-17 15:49:27\n",
       "/ebio/abt3_projects2/databases_no-backup/GTDB/release95/Struo2/kraken2/taxo.k2d 2020-12-17 15:49:27\n",
       "                                                                               ctime              \n",
       "/ebio/abt3_projects2/databases_no-backup/GTDB/release95/Struo2/kraken2/hash.k2d 2020-12-17 15:49:27\n",
       "/ebio/abt3_projects2/databases_no-backup/GTDB/release95/Struo2/kraken2/opts.k2d 2020-12-17 15:49:27\n",
       "/ebio/abt3_projects2/databases_no-backup/GTDB/release95/Struo2/kraken2/taxo.k2d 2020-12-17 15:49:27\n",
       "                                                                               atime              \n",
       "/ebio/abt3_projects2/databases_no-backup/GTDB/release95/Struo2/kraken2/hash.k2d 2020-12-17 15:49:27\n",
       "/ebio/abt3_projects2/databases_no-backup/GTDB/release95/Struo2/kraken2/opts.k2d 2020-12-17 15:49:27\n",
       "/ebio/abt3_projects2/databases_no-backup/GTDB/release95/Struo2/kraken2/taxo.k2d 2020-12-17 15:49:27\n",
       "                                                                               uid \n",
       "/ebio/abt3_projects2/databases_no-backup/GTDB/release95/Struo2/kraken2/hash.k2d 6354\n",
       "/ebio/abt3_projects2/databases_no-backup/GTDB/release95/Struo2/kraken2/opts.k2d 6354\n",
       "/ebio/abt3_projects2/databases_no-backup/GTDB/release95/Struo2/kraken2/taxo.k2d 6354\n",
       "                                                                               gid\n",
       "/ebio/abt3_projects2/databases_no-backup/GTDB/release95/Struo2/kraken2/hash.k2d 353\n",
       "/ebio/abt3_projects2/databases_no-backup/GTDB/release95/Struo2/kraken2/opts.k2d 353\n",
       "/ebio/abt3_projects2/databases_no-backup/GTDB/release95/Struo2/kraken2/taxo.k2d 353\n",
       "                                                                               uname     \n",
       "/ebio/abt3_projects2/databases_no-backup/GTDB/release95/Struo2/kraken2/hash.k2d nyoungblut\n",
       "/ebio/abt3_projects2/databases_no-backup/GTDB/release95/Struo2/kraken2/opts.k2d nyoungblut\n",
       "/ebio/abt3_projects2/databases_no-backup/GTDB/release95/Struo2/kraken2/taxo.k2d nyoungblut\n",
       "                                                                               grname\n",
       "/ebio/abt3_projects2/databases_no-backup/GTDB/release95/Struo2/kraken2/hash.k2d abt3  \n",
       "/ebio/abt3_projects2/databases_no-backup/GTDB/release95/Struo2/kraken2/opts.k2d abt3  \n",
       "/ebio/abt3_projects2/databases_no-backup/GTDB/release95/Struo2/kraken2/taxo.k2d abt3  "
      ]
     },
     "metadata": {},
     "output_type": "display_data"
    }
   ],
   "source": [
    "db_files = c(\n",
    "    '/ebio/abt3_projects2/databases_no-backup/GTDB/release95/Struo2/kraken2/hash.k2d',\n",
    "    '/ebio/abt3_projects2/databases_no-backup/GTDB/release95/Struo2/kraken2/opts.k2d',\n",
    "    '/ebio/abt3_projects2/databases_no-backup/GTDB/release95/Struo2/kraken2/taxo.k2d'\n",
    ")\n",
    "db_files %>% lapply(file.info) %>% do.call(rbind, .)"
   ]
  },
  {
   "cell_type": "markdown",
   "metadata": {},
   "source": [
    "### humann3"
   ]
  },
  {
   "cell_type": "code",
   "execution_count": 11,
   "metadata": {
    "ExecuteTime": {
     "end_time": "2021-01-10T10:56:42.506334Z",
     "start_time": "2021-01-10T10:56:42.449Z"
    }
   },
   "outputs": [
    {
     "data": {
      "text/html": [
       "<table>\n",
       "<caption>A data.frame: 2 × 10</caption>\n",
       "<thead>\n",
       "\t<tr><th></th><th scope=col>size</th><th scope=col>isdir</th><th scope=col>mode</th><th scope=col>mtime</th><th scope=col>ctime</th><th scope=col>atime</th><th scope=col>uid</th><th scope=col>gid</th><th scope=col>uname</th><th scope=col>grname</th></tr>\n",
       "\t<tr><th></th><th scope=col>&lt;dbl&gt;</th><th scope=col>&lt;lgl&gt;</th><th scope=col>&lt;octmode&gt;</th><th scope=col>&lt;dttm&gt;</th><th scope=col>&lt;dttm&gt;</th><th scope=col>&lt;dttm&gt;</th><th scope=col>&lt;int&gt;</th><th scope=col>&lt;int&gt;</th><th scope=col>&lt;chr&gt;</th><th scope=col>&lt;chr&gt;</th></tr>\n",
       "</thead>\n",
       "<tbody>\n",
       "\t<tr><th scope=row>/ebio/abt3_projects2/databases_no-backup/GTDB/release95/Struo2/humann3/uniref50/genome_reps_filt_annot.fna.gz</th><td> 8529591835</td><td>FALSE</td><td>644</td><td>2020-12-24 02:29:52</td><td>2020-12-24 02:29:52</td><td>2020-12-24 02:29:52</td><td>6354</td><td>353</td><td>nyoungblut</td><td>abt3</td></tr>\n",
       "\t<tr><th scope=row>/ebio/abt3_projects2/databases_no-backup/GTDB/release95/Struo2/humann3/uniref50/protein_database/uniref50_201901.dmnd</th><td>12200605556</td><td>FALSE</td><td>644</td><td>2020-12-24 01:14:17</td><td>2020-12-24 01:14:17</td><td>2020-12-24 01:14:17</td><td>6354</td><td>353</td><td>nyoungblut</td><td>abt3</td></tr>\n",
       "</tbody>\n",
       "</table>\n"
      ],
      "text/latex": [
       "A data.frame: 2 × 10\n",
       "\\begin{tabular}{r|llllllllll}\n",
       "  & size & isdir & mode & mtime & ctime & atime & uid & gid & uname & grname\\\\\n",
       "  & <dbl> & <lgl> & <octmode> & <dttm> & <dttm> & <dttm> & <int> & <int> & <chr> & <chr>\\\\\n",
       "\\hline\n",
       "\t/ebio/abt3\\_projects/databases\\_no-backup/GTDB/release95/Struo2/humann3/uniref50/genome\\_reps\\_filt\\_annot.fna.gz &  8529591835 & FALSE & 644 & 2020-12-24 02:29:52 & 2020-12-24 02:29:52 & 2020-12-24 02:29:52 & 6354 & 353 & nyoungblut & abt3\\\\\n",
       "\t/ebio/abt3\\_projects/databases\\_no-backup/GTDB/release95/Struo2/humann3/uniref50/protein\\_database/uniref50\\_201901.dmnd & 12200605556 & FALSE & 644 & 2020-12-24 01:14:17 & 2020-12-24 01:14:17 & 2020-12-24 01:14:17 & 6354 & 353 & nyoungblut & abt3\\\\\n",
       "\\end{tabular}\n"
      ],
      "text/markdown": [
       "\n",
       "A data.frame: 2 × 10\n",
       "\n",
       "| <!--/--> | size &lt;dbl&gt; | isdir &lt;lgl&gt; | mode &lt;octmode&gt; | mtime &lt;dttm&gt; | ctime &lt;dttm&gt; | atime &lt;dttm&gt; | uid &lt;int&gt; | gid &lt;int&gt; | uname &lt;chr&gt; | grname &lt;chr&gt; |\n",
       "|---|---|---|---|---|---|---|---|---|---|---|\n",
       "| /ebio/abt3_projects2/databases_no-backup/GTDB/release95/Struo2/humann3/uniref50/genome_reps_filt_annot.fna.gz |  8529591835 | FALSE | 644 | 2020-12-24 02:29:52 | 2020-12-24 02:29:52 | 2020-12-24 02:29:52 | 6354 | 353 | nyoungblut | abt3 |\n",
       "| /ebio/abt3_projects2/databases_no-backup/GTDB/release95/Struo2/humann3/uniref50/protein_database/uniref50_201901.dmnd | 12200605556 | FALSE | 644 | 2020-12-24 01:14:17 | 2020-12-24 01:14:17 | 2020-12-24 01:14:17 | 6354 | 353 | nyoungblut | abt3 |\n",
       "\n"
      ],
      "text/plain": [
       "                                                                                                                     size       \n",
       "/ebio/abt3_projects2/databases_no-backup/GTDB/release95/Struo2/humann3/uniref50/genome_reps_filt_annot.fna.gz          8529591835\n",
       "/ebio/abt3_projects2/databases_no-backup/GTDB/release95/Struo2/humann3/uniref50/protein_database/uniref50_201901.dmnd 12200605556\n",
       "                                                                                                                     isdir\n",
       "/ebio/abt3_projects2/databases_no-backup/GTDB/release95/Struo2/humann3/uniref50/genome_reps_filt_annot.fna.gz         FALSE\n",
       "/ebio/abt3_projects2/databases_no-backup/GTDB/release95/Struo2/humann3/uniref50/protein_database/uniref50_201901.dmnd FALSE\n",
       "                                                                                                                     mode\n",
       "/ebio/abt3_projects2/databases_no-backup/GTDB/release95/Struo2/humann3/uniref50/genome_reps_filt_annot.fna.gz         644 \n",
       "/ebio/abt3_projects2/databases_no-backup/GTDB/release95/Struo2/humann3/uniref50/protein_database/uniref50_201901.dmnd 644 \n",
       "                                                                                                                     mtime              \n",
       "/ebio/abt3_projects2/databases_no-backup/GTDB/release95/Struo2/humann3/uniref50/genome_reps_filt_annot.fna.gz         2020-12-24 02:29:52\n",
       "/ebio/abt3_projects2/databases_no-backup/GTDB/release95/Struo2/humann3/uniref50/protein_database/uniref50_201901.dmnd 2020-12-24 01:14:17\n",
       "                                                                                                                     ctime              \n",
       "/ebio/abt3_projects2/databases_no-backup/GTDB/release95/Struo2/humann3/uniref50/genome_reps_filt_annot.fna.gz         2020-12-24 02:29:52\n",
       "/ebio/abt3_projects2/databases_no-backup/GTDB/release95/Struo2/humann3/uniref50/protein_database/uniref50_201901.dmnd 2020-12-24 01:14:17\n",
       "                                                                                                                     atime              \n",
       "/ebio/abt3_projects2/databases_no-backup/GTDB/release95/Struo2/humann3/uniref50/genome_reps_filt_annot.fna.gz         2020-12-24 02:29:52\n",
       "/ebio/abt3_projects2/databases_no-backup/GTDB/release95/Struo2/humann3/uniref50/protein_database/uniref50_201901.dmnd 2020-12-24 01:14:17\n",
       "                                                                                                                     uid \n",
       "/ebio/abt3_projects2/databases_no-backup/GTDB/release95/Struo2/humann3/uniref50/genome_reps_filt_annot.fna.gz         6354\n",
       "/ebio/abt3_projects2/databases_no-backup/GTDB/release95/Struo2/humann3/uniref50/protein_database/uniref50_201901.dmnd 6354\n",
       "                                                                                                                     gid\n",
       "/ebio/abt3_projects2/databases_no-backup/GTDB/release95/Struo2/humann3/uniref50/genome_reps_filt_annot.fna.gz         353\n",
       "/ebio/abt3_projects2/databases_no-backup/GTDB/release95/Struo2/humann3/uniref50/protein_database/uniref50_201901.dmnd 353\n",
       "                                                                                                                     uname     \n",
       "/ebio/abt3_projects2/databases_no-backup/GTDB/release95/Struo2/humann3/uniref50/genome_reps_filt_annot.fna.gz         nyoungblut\n",
       "/ebio/abt3_projects2/databases_no-backup/GTDB/release95/Struo2/humann3/uniref50/protein_database/uniref50_201901.dmnd nyoungblut\n",
       "                                                                                                                     grname\n",
       "/ebio/abt3_projects2/databases_no-backup/GTDB/release95/Struo2/humann3/uniref50/genome_reps_filt_annot.fna.gz         abt3  \n",
       "/ebio/abt3_projects2/databases_no-backup/GTDB/release95/Struo2/humann3/uniref50/protein_database/uniref50_201901.dmnd abt3  "
      ]
     },
     "metadata": {},
     "output_type": "display_data"
    }
   ],
   "source": [
    "db_files = c(\n",
    "    '/ebio/abt3_projects2/databases_no-backup/GTDB/release95/Struo2/humann3/uniref50/genome_reps_filt_annot.fna.gz',\n",
    "    '/ebio/abt3_projects2/databases_no-backup/GTDB/release95/Struo2/humann3/uniref50/protein_database/uniref50_201901.dmnd'\n",
    ")\n",
    "db_files %>% lapply(file.info) %>% do.call(rbind, .)"
   ]
  },
  {
   "cell_type": "markdown",
   "metadata": {},
   "source": [
    "# sessionInfo"
   ]
  },
  {
   "cell_type": "code",
   "execution_count": 6,
   "metadata": {
    "ExecuteTime": {
     "end_time": "2021-02-06T16:12:16.411362Z",
     "start_time": "2021-02-06T16:12:16.276Z"
    }
   },
   "outputs": [
    {
     "name": "stdout",
     "output_type": "stream",
     "text": [
      "Struo2\n",
      "======\n",
      "\n",
      "**Struo2:** a pipeline for building custom databases for common metagenome profilers\n",
      "\n",
      "> \"Struo\" --> from the Latin: “I build” or “I gather”\n",
      "\n",
      "![](https://media.giphy.com/media/lPSMFWqKCJY5Let2v5/giphy.gif)\n",
      "\n",
      "* Version: 2.1.2\n",
      "\n",
      "--- conda envs ---\n",
      "==> /ebio/abt3_projects2/databases_no-backup/bin/struo2/bin/envs/genes.yaml <==\n",
      "channels:\n",
      "- bioconda\n",
      "dependencies:\n",
      "- pigz\n",
      "- python=3\n",
      "- numpy\n",
      "- bioconda::seqkit\n",
      "- bioconda::fasta-splitter\n",
      "- bioconda::vsearch\n",
      "- bioconda::prodigal\n",
      "- bioconda::mmseqs2\n",
      "==> /ebio/abt3_projects2/databases_no-backup/bin/struo2/bin/envs/humann2.yaml <==\n",
      "channels:\n",
      "- bioconda\n",
      "dependencies:\n",
      "- pigz\n",
      "- bioconda::bowtie2\n",
      "- bioconda::vsearch\n",
      "- bioconda::prodigal\n",
      "- bioconda::diamond=0.8.36\n",
      "\n",
      "==> /ebio/abt3_projects2/databases_no-backup/bin/struo2/bin/envs/humann3.yaml <==\n",
      "channels:\n",
      "- bioconda\n",
      "- biobakery\n",
      "dependencies:\n",
      "- pigz\n",
      "- bioconda::seqkit\n",
      "- bioconda::vsearch\n",
      "- bioconda::prodigal\n",
      "- bioconda::diamond=0.9.24\n",
      "- biobakery::humann\n",
      "\n",
      "==> /ebio/abt3_projects2/databases_no-backup/bin/struo2/bin/envs/kraken2.yaml <==\n",
      "channels:\n",
      "- bioconda\n",
      "dependencies:\n",
      "- libiconv\n",
      "- bioconda::kraken2\n",
      "- bioconda::bracken\n"
     ]
    }
   ],
   "source": [
    "pipelineInfo('/ebio/abt3_projects2/databases_no-backup/bin/struo2')"
   ]
  },
  {
   "cell_type": "code",
   "execution_count": 5,
   "metadata": {
    "ExecuteTime": {
     "end_time": "2021-02-06T16:11:54.027574Z",
     "start_time": "2021-02-06T16:11:53.972Z"
    }
   },
   "outputs": [
    {
     "data": {
      "text/plain": [
       "R version 3.6.3 (2020-02-29)\n",
       "Platform: x86_64-conda_cos6-linux-gnu (64-bit)\n",
       "Running under: Ubuntu 18.04.5 LTS\n",
       "\n",
       "Matrix products: default\n",
       "BLAS/LAPACK: /ebio/abt3_projects/Georg_animal_feces/envs/tidyverse/lib/libopenblasp-r0.3.9.so\n",
       "\n",
       "locale:\n",
       " [1] LC_CTYPE=en_US.UTF-8       LC_NUMERIC=C              \n",
       " [3] LC_TIME=en_US.UTF-8        LC_COLLATE=en_US.UTF-8    \n",
       " [5] LC_MONETARY=en_US.UTF-8    LC_MESSAGES=en_US.UTF-8   \n",
       " [7] LC_PAPER=en_US.UTF-8       LC_NAME=C                 \n",
       " [9] LC_ADDRESS=C               LC_TELEPHONE=C            \n",
       "[11] LC_MEASUREMENT=en_US.UTF-8 LC_IDENTIFICATION=C       \n",
       "\n",
       "attached base packages:\n",
       "[1] stats     graphics  grDevices utils     datasets  methods   base     \n",
       "\n",
       "other attached packages:\n",
       "[1] LeyLabRMisc_0.1.6 ggplot2_3.3.1     tidyr_1.1.0       dplyr_1.0.0      \n",
       "\n",
       "loaded via a namespace (and not attached):\n",
       " [1] Rcpp_1.0.4.6     magrittr_1.5     munsell_0.5.0    tidyselect_1.1.0\n",
       " [5] uuid_0.1-4       colorspace_1.4-1 R6_2.4.1         rlang_0.4.6     \n",
       " [9] tools_3.6.3      grid_3.6.3       gtable_0.3.0     withr_2.2.0     \n",
       "[13] htmltools_0.4.0  ellipsis_0.3.1   digest_0.6.25    tibble_3.0.1    \n",
       "[17] lifecycle_0.2.0  crayon_1.3.4     IRdisplay_0.7.0  purrr_0.3.4     \n",
       "[21] repr_1.1.0       base64enc_0.1-3  vctrs_0.3.1      IRkernel_1.1    \n",
       "[25] glue_1.4.1       evaluate_0.14    pbdZMQ_0.3-3     compiler_3.6.3  \n",
       "[29] pillar_1.4.4     scales_1.1.1     generics_0.0.2   jsonlite_1.6.1  \n",
       "[33] pkgconfig_2.0.3 "
      ]
     },
     "metadata": {},
     "output_type": "display_data"
    }
   ],
   "source": [
    "sessionInfo()"
   ]
  },
  {
   "cell_type": "code",
   "execution_count": null,
   "metadata": {},
   "outputs": [],
   "source": []
  }
 ],
 "metadata": {
  "kernelspec": {
   "display_name": "R [conda env:Georg_animal_feces-tidyverse]",
   "language": "R",
   "name": "conda-env-Georg_animal_feces-tidyverse-r"
  },
  "language_info": {
   "codemirror_mode": "r",
   "file_extension": ".r",
   "mimetype": "text/x-r-source",
   "name": "R",
   "pygments_lexer": "r",
   "version": "3.6.3"
  },
  "notify_time": "30",
  "toc": {
   "base_numbering": 1,
   "nav_menu": {},
   "number_sections": true,
   "sideBar": true,
   "skip_h1_title": false,
   "title_cell": "Table of Contents",
   "title_sidebar": "Contents",
   "toc_cell": true,
   "toc_position": {},
   "toc_section_display": true,
   "toc_window_display": true
  }
 },
 "nbformat": 4,
 "nbformat_minor": 4
}
