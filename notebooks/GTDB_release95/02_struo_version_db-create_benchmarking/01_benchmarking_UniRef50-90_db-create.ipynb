{
 "cells": [
  {
   "cell_type": "markdown",
   "metadata": {
    "toc": true
   },
   "source": [
    "<h1>Table of Contents<span class=\"tocSkip\"></span></h1>\n",
    "<div class=\"toc\"><ul class=\"toc-item\"><li><span><a href=\"#Goal\" data-toc-modified-id=\"Goal-1\"><span class=\"toc-item-num\">1&nbsp;&nbsp;</span>Goal</a></span></li><li><span><a href=\"#Var\" data-toc-modified-id=\"Var-2\"><span class=\"toc-item-num\">2&nbsp;&nbsp;</span>Var</a></span></li><li><span><a href=\"#Init\" data-toc-modified-id=\"Init-3\"><span class=\"toc-item-num\">3&nbsp;&nbsp;</span>Init</a></span></li><li><span><a href=\"#Load\" data-toc-modified-id=\"Load-4\"><span class=\"toc-item-num\">4&nbsp;&nbsp;</span>Load</a></span></li><li><span><a href=\"#n100\" data-toc-modified-id=\"n100-5\"><span class=\"toc-item-num\">5&nbsp;&nbsp;</span>n100</a></span><ul class=\"toc-item\"><li><span><a href=\"#Struo1\" data-toc-modified-id=\"Struo1-5.1\"><span class=\"toc-item-num\">5.1&nbsp;&nbsp;</span>Struo1</a></span><ul class=\"toc-item\"><li><span><a href=\"#Kraken/Bracken-+-UniRef50\" data-toc-modified-id=\"Kraken/Bracken-+-UniRef50-5.1.1\"><span class=\"toc-item-num\">5.1.1&nbsp;&nbsp;</span>Kraken/Bracken + UniRef50</a></span><ul class=\"toc-item\"><li><span><a href=\"#Config\" data-toc-modified-id=\"Config-5.1.1.1\"><span class=\"toc-item-num\">5.1.1.1&nbsp;&nbsp;</span>Config</a></span></li><li><span><a href=\"#Run\" data-toc-modified-id=\"Run-5.1.1.2\"><span class=\"toc-item-num\">5.1.1.2&nbsp;&nbsp;</span>Run</a></span></li></ul></li><li><span><a href=\"#UniRef90\" data-toc-modified-id=\"UniRef90-5.1.2\"><span class=\"toc-item-num\">5.1.2&nbsp;&nbsp;</span>UniRef90</a></span><ul class=\"toc-item\"><li><span><a href=\"#Config\" data-toc-modified-id=\"Config-5.1.2.1\"><span class=\"toc-item-num\">5.1.2.1&nbsp;&nbsp;</span>Config</a></span></li><li><span><a href=\"#Run\" data-toc-modified-id=\"Run-5.1.2.2\"><span class=\"toc-item-num\">5.1.2.2&nbsp;&nbsp;</span>Run</a></span></li></ul></li></ul></li><li><span><a href=\"#Struo2\" data-toc-modified-id=\"Struo2-5.2\"><span class=\"toc-item-num\">5.2&nbsp;&nbsp;</span>Struo2</a></span><ul class=\"toc-item\"><li><span><a href=\"#Config\" data-toc-modified-id=\"Config-5.2.1\"><span class=\"toc-item-num\">5.2.1&nbsp;&nbsp;</span>Config</a></span></li><li><span><a href=\"#Run\" data-toc-modified-id=\"Run-5.2.2\"><span class=\"toc-item-num\">5.2.2&nbsp;&nbsp;</span>Run</a></span></li></ul></li></ul></li><li><span><a href=\"#n500\" data-toc-modified-id=\"n500-6\"><span class=\"toc-item-num\">6&nbsp;&nbsp;</span>n500</a></span><ul class=\"toc-item\"><li><span><a href=\"#Struo1\" data-toc-modified-id=\"Struo1-6.1\"><span class=\"toc-item-num\">6.1&nbsp;&nbsp;</span>Struo1</a></span><ul class=\"toc-item\"><li><span><a href=\"#Kraken/Bracken-+-UniRef50\" data-toc-modified-id=\"Kraken/Bracken-+-UniRef50-6.1.1\"><span class=\"toc-item-num\">6.1.1&nbsp;&nbsp;</span>Kraken/Bracken + UniRef50</a></span><ul class=\"toc-item\"><li><span><a href=\"#Config\" data-toc-modified-id=\"Config-6.1.1.1\"><span class=\"toc-item-num\">6.1.1.1&nbsp;&nbsp;</span>Config</a></span></li><li><span><a href=\"#Run\" data-toc-modified-id=\"Run-6.1.1.2\"><span class=\"toc-item-num\">6.1.1.2&nbsp;&nbsp;</span>Run</a></span></li></ul></li><li><span><a href=\"#UniRef90\" data-toc-modified-id=\"UniRef90-6.1.2\"><span class=\"toc-item-num\">6.1.2&nbsp;&nbsp;</span>UniRef90</a></span><ul class=\"toc-item\"><li><span><a href=\"#Config\" data-toc-modified-id=\"Config-6.1.2.1\"><span class=\"toc-item-num\">6.1.2.1&nbsp;&nbsp;</span>Config</a></span></li><li><span><a href=\"#Run\" data-toc-modified-id=\"Run-6.1.2.2\"><span class=\"toc-item-num\">6.1.2.2&nbsp;&nbsp;</span>Run</a></span></li></ul></li></ul></li><li><span><a href=\"#Struo2\" data-toc-modified-id=\"Struo2-6.2\"><span class=\"toc-item-num\">6.2&nbsp;&nbsp;</span>Struo2</a></span><ul class=\"toc-item\"><li><span><a href=\"#Config\" data-toc-modified-id=\"Config-6.2.1\"><span class=\"toc-item-num\">6.2.1&nbsp;&nbsp;</span>Config</a></span></li><li><span><a href=\"#Run\" data-toc-modified-id=\"Run-6.2.2\"><span class=\"toc-item-num\">6.2.2&nbsp;&nbsp;</span>Run</a></span></li></ul></li></ul></li><li><span><a href=\"#n1000\" data-toc-modified-id=\"n1000-7\"><span class=\"toc-item-num\">7&nbsp;&nbsp;</span>n1000</a></span><ul class=\"toc-item\"><li><span><a href=\"#Struo1\" data-toc-modified-id=\"Struo1-7.1\"><span class=\"toc-item-num\">7.1&nbsp;&nbsp;</span>Struo1</a></span><ul class=\"toc-item\"><li><span><a href=\"#Kraken/Bracken-+-UniRef50\" data-toc-modified-id=\"Kraken/Bracken-+-UniRef50-7.1.1\"><span class=\"toc-item-num\">7.1.1&nbsp;&nbsp;</span>Kraken/Bracken + UniRef50</a></span><ul class=\"toc-item\"><li><span><a href=\"#Config\" data-toc-modified-id=\"Config-7.1.1.1\"><span class=\"toc-item-num\">7.1.1.1&nbsp;&nbsp;</span>Config</a></span></li><li><span><a href=\"#Run\" data-toc-modified-id=\"Run-7.1.1.2\"><span class=\"toc-item-num\">7.1.1.2&nbsp;&nbsp;</span>Run</a></span></li></ul></li><li><span><a href=\"#UniRef90\" data-toc-modified-id=\"UniRef90-7.1.2\"><span class=\"toc-item-num\">7.1.2&nbsp;&nbsp;</span>UniRef90</a></span><ul class=\"toc-item\"><li><span><a href=\"#Config\" data-toc-modified-id=\"Config-7.1.2.1\"><span class=\"toc-item-num\">7.1.2.1&nbsp;&nbsp;</span>Config</a></span></li><li><span><a href=\"#Run\" data-toc-modified-id=\"Run-7.1.2.2\"><span class=\"toc-item-num\">7.1.2.2&nbsp;&nbsp;</span>Run</a></span></li></ul></li></ul></li><li><span><a href=\"#Struo2\" data-toc-modified-id=\"Struo2-7.2\"><span class=\"toc-item-num\">7.2&nbsp;&nbsp;</span>Struo2</a></span><ul class=\"toc-item\"><li><span><a href=\"#Config\" data-toc-modified-id=\"Config-7.2.1\"><span class=\"toc-item-num\">7.2.1&nbsp;&nbsp;</span>Config</a></span></li><li><span><a href=\"#Run\" data-toc-modified-id=\"Run-7.2.2\"><span class=\"toc-item-num\">7.2.2&nbsp;&nbsp;</span>Run</a></span></li></ul></li></ul></li><li><span><a href=\"#Summary\" data-toc-modified-id=\"Summary-8\"><span class=\"toc-item-num\">8&nbsp;&nbsp;</span>Summary</a></span><ul class=\"toc-item\"><li><span><a href=\"#CPU-hours\" data-toc-modified-id=\"CPU-hours-8.1\"><span class=\"toc-item-num\">8.1&nbsp;&nbsp;</span>CPU hours</a></span></li><li><span><a href=\"#Genes-annotated\" data-toc-modified-id=\"Genes-annotated-8.2\"><span class=\"toc-item-num\">8.2&nbsp;&nbsp;</span>Genes annotated</a></span><ul class=\"toc-item\"><li><span><a href=\"#Struo1\" data-toc-modified-id=\"Struo1-8.2.1\"><span class=\"toc-item-num\">8.2.1&nbsp;&nbsp;</span>Struo1</a></span></li><li><span><a href=\"#Struo2\" data-toc-modified-id=\"Struo2-8.2.2\"><span class=\"toc-item-num\">8.2.2&nbsp;&nbsp;</span>Struo2</a></span></li></ul></li></ul></li><li><span><a href=\"#sessionInfo\" data-toc-modified-id=\"sessionInfo-9\"><span class=\"toc-item-num\">9&nbsp;&nbsp;</span>sessionInfo</a></span></li></ul></div>"
   ]
  },
  {
   "cell_type": "markdown",
   "metadata": {},
   "source": [
    "# Goal\n",
    "\n",
    "* Comparing how long Struo v1 & Struo v2 take to annotate both UniRef50 + UniRef90 sequences"
   ]
  },
  {
   "cell_type": "markdown",
   "metadata": {},
   "source": [
    "# Var"
   ]
  },
  {
   "cell_type": "code",
   "execution_count": 1,
   "metadata": {
    "ExecuteTime": {
     "end_time": "2021-02-06T16:12:55.196609Z",
     "start_time": "2021-02-06T16:12:54.772Z"
    }
   },
   "outputs": [],
   "source": [
    "work_dir = '/ebio/abt3_projects2/databases_no-backup/GTDB/release95/Struo/benchmarking/db_create/UniRef50-90/'\n",
    "\n",
    "# GTDB metadata (1 genome per species)\n",
    "metadata_file = '/ebio/abt3_projects2/databases_no-backup/GTDB/release95/Struo/metadata_1per-GTDB-Spec_gte50comp-lt5cont_wtaxID_wPath.tsv'\n",
    "\n",
    "# mapping\n",
    "map_dir = '/ebio/abt3_projects2/databases_no-backup/humann3/201901/utility_mapping/'\n",
    "map_pfam_file = file.path(map_dir, 'map_pfam_uniref50.txt.gz')\n",
    "map_eggnog_file = file.path(map_dir, 'map_eggnog_uniref50.txt.gz')\n",
    "map_go_file = file.path(map_dir, 'map_go_uniref50.txt.gz')\n",
    "\n",
    "# params\n",
    "threads = 8"
   ]
  },
  {
   "cell_type": "markdown",
   "metadata": {},
   "source": [
    "# Init"
   ]
  },
  {
   "cell_type": "code",
   "execution_count": 4,
   "metadata": {
    "ExecuteTime": {
     "end_time": "2021-02-06T16:12:57.459096Z",
     "start_time": "2021-02-06T16:12:57.419Z"
    }
   },
   "outputs": [],
   "source": [
    "library(dplyr)\n",
    "library(tidyr)\n",
    "library(ggplot2)\n",
    "library(data.table)\n",
    "library(tidytable)\n",
    "library(LeyLabRMisc)"
   ]
  },
  {
   "cell_type": "code",
   "execution_count": 3,
   "metadata": {
    "ExecuteTime": {
     "end_time": "2021-02-06T16:12:56.227964Z",
     "start_time": "2021-02-06T16:12:55.694Z"
    }
   },
   "outputs": [
    {
     "name": "stdout",
     "output_type": "stream",
     "text": [
      "Directory already exists: /ebio/abt3_projects2/databases_no-backup/GTDB/release95/Struo/benchmarking/db_create/UniRef50-90/ \n"
     ]
    }
   ],
   "source": [
    "set.seed(6471)\n",
    "setDTthreads(threads)\n",
    "make_dir(work_dir)\n",
    "df.dims()"
   ]
  },
  {
   "cell_type": "markdown",
   "metadata": {},
   "source": [
    "# Load"
   ]
  },
  {
   "cell_type": "code",
   "execution_count": 7,
   "metadata": {
    "ExecuteTime": {
     "end_time": "2020-12-10T18:42:06.772862Z",
     "start_time": "2020-12-10T18:42:05.691Z"
    }
   },
   "outputs": [
    {
     "data": {
      "text/html": [
       "<table>\n",
       "<caption>A data.table: 30989 × 113</caption>\n",
       "<thead>\n",
       "\t<tr><th scope=col>ncbi_organism_name</th><th scope=col>accession</th><th scope=col>ambiguous_bases</th><th scope=col>checkm_completeness</th><th scope=col>checkm_contamination</th><th scope=col>checkm_marker_count</th><th scope=col>checkm_marker_lineage</th><th scope=col>checkm_marker_set_count</th><th scope=col>checkm_strain_heterogeneity</th><th scope=col>coding_bases</th><th scope=col>⋯</th><th scope=col>ssu_silva_blast_perc_identity</th><th scope=col>ssu_silva_blast_subject_id</th><th scope=col>ssu_silva_taxonomy</th><th scope=col>total_gap_length</th><th scope=col>trna_aa_count</th><th scope=col>trna_count</th><th scope=col>trna_selenocysteine_count</th><th scope=col>SPECIES</th><th scope=col>gtdb_taxid</th><th scope=col>fasta_file_path</th></tr>\n",
       "\t<tr><th scope=col>&lt;chr&gt;</th><th scope=col>&lt;chr&gt;</th><th scope=col>&lt;int&gt;</th><th scope=col>&lt;dbl&gt;</th><th scope=col>&lt;dbl&gt;</th><th scope=col>&lt;int&gt;</th><th scope=col>&lt;chr&gt;</th><th scope=col>&lt;int&gt;</th><th scope=col>&lt;dbl&gt;</th><th scope=col>&lt;int&gt;</th><th scope=col>⋯</th><th scope=col>&lt;chr&gt;</th><th scope=col>&lt;chr&gt;</th><th scope=col>&lt;chr&gt;</th><th scope=col>&lt;int&gt;</th><th scope=col>&lt;int&gt;</th><th scope=col>&lt;int&gt;</th><th scope=col>&lt;int&gt;</th><th scope=col>&lt;chr&gt;</th><th scope=col>&lt;int&gt;</th><th scope=col>&lt;chr&gt;</th></tr>\n",
       "</thead>\n",
       "<tbody>\n",
       "\t<tr><td>GB_GCA_002789635.1_Candidatus Aenigmarchaeota archaeon CG_4_9_14_3_um_filter_37_18</td><td>GB_GCA_002789635.1</td><td>  9</td><td>79.44</td><td>0</td><td>149</td><td>k__Archaea (UID2)</td><td>107</td><td>0</td><td>794970</td><td>⋯</td><td>100</td><td>MNUF01000028.16163.17137</td><td>Archaea;Nanoarchaeaeota;Nanohaloarchaeia;Aenigmarchaeales;Candidatus Aenigmarchaeota archaeon CG1_02_38_14</td><td> 368</td><td>19</td><td>35</td><td>0</td><td>CG10238-14 sp002789635  </td><td> 689</td><td>/ebio/abt3_projects2/databases_no-backup/GTDB/release95/Struo/genomes/genbank/archaea/GCA_002789635.1/GCA_002789635.1_ASM278963v1_genomic.fna.gz</td></tr>\n",
       "\t<tr><td>GB_GCA_001784635.1_Candidatus Micrarchaeota archaeon RBG_16_49_10                 </td><td>GB_GCA_001784635.1</td><td>151</td><td>74.92</td><td>0</td><td>149</td><td>k__Archaea (UID2)</td><td>107</td><td>0</td><td>773516</td><td>⋯</td><td>100</td><td>MFRS01000021.2138.3463  </td><td>Archaea;Nanoarchaeaeota;Nanohaloarchaeia;Aenigmarchaeales;Candidatus Micrarchaeota archaeon RBG_16_49_10  </td><td>6621</td><td>18</td><td>36</td><td>0</td><td>RBG-16-49-10 sp001784635</td><td>3509</td><td>/ebio/abt3_projects2/databases_no-backup/GTDB/release95/Struo/genomes/genbank/archaea/GCA_001784635.1/GCA_001784635.1_ASM178463v1_genomic.fna.gz</td></tr>\n",
       "\t<tr><td>⋮</td><td>⋮</td><td>⋮</td><td>⋮</td><td>⋮</td><td>⋮</td><td>⋮</td><td>⋮</td><td>⋮</td><td>⋮</td><td>⋱</td><td>⋮</td><td>⋮</td><td>⋮</td><td>⋮</td><td>⋮</td><td>⋮</td><td>⋮</td><td>⋮</td><td>⋮</td><td>⋮</td></tr>\n",
       "\t<tr><td>RS_GCF_001644955.1_Pseudomonas putida</td><td>RS_GCF_001644955.1</td><td>0</td><td>99.59</td><td>0.16</td><td>813</td><td>o__Pseudomonadales (UID4488) </td><td>308</td><td>0</td><td>5508282</td><td>⋯</td><td>none</td><td>none           </td><td>none                                                                                                  </td><td>0</td><td>19</td><td>61</td><td>0</td><td>Pseudomonas_E putida_C</td><td>188090</td><td>/ebio/abt3_projects2/databases_no-backup/GTDB/release95/Struo/genomes/genbank/bacteria/GCA_001644955.1/GCA_001644955.1_CBF10-2_genomic.fna.gz    </td></tr>\n",
       "\t<tr><td>RS_GCF_003233695.1_Lysobacter maris  </td><td>RS_GCF_003233695.1</td><td>0</td><td>99.77</td><td>0.69</td><td>659</td><td>f__Xanthomonadaceae (UID4214)</td><td>290</td><td>0</td><td>3531075</td><td>⋯</td><td>100 </td><td>KX886800.1.1510</td><td>Bacteria;Proteobacteria;Gammaproteobacteria;Xanthomonadales;Xanthomonadaceae;Lysobacter;Lysobacter sp.</td><td>0</td><td>20</td><td>56</td><td>0</td><td>Lysobacter maris      </td><td>183442</td><td>/ebio/abt3_projects2/databases_no-backup/GTDB/release95/Struo/genomes/genbank/bacteria/GCA_003233695.1/GCA_003233695.1_ASM323369v1_genomic.fna.gz</td></tr>\n",
       "</tbody>\n",
       "</table>\n"
      ],
      "text/latex": [
       "A data.table: 30989 × 113\n",
       "\\begin{tabular}{lllllllllllllllllllll}\n",
       " ncbi\\_organism\\_name & accession & ambiguous\\_bases & checkm\\_completeness & checkm\\_contamination & checkm\\_marker\\_count & checkm\\_marker\\_lineage & checkm\\_marker\\_set\\_count & checkm\\_strain\\_heterogeneity & coding\\_bases & ⋯ & ssu\\_silva\\_blast\\_perc\\_identity & ssu\\_silva\\_blast\\_subject\\_id & ssu\\_silva\\_taxonomy & total\\_gap\\_length & trna\\_aa\\_count & trna\\_count & trna\\_selenocysteine\\_count & SPECIES & gtdb\\_taxid & fasta\\_file\\_path\\\\\n",
       " <chr> & <chr> & <int> & <dbl> & <dbl> & <int> & <chr> & <int> & <dbl> & <int> & ⋯ & <chr> & <chr> & <chr> & <int> & <int> & <int> & <int> & <chr> & <int> & <chr>\\\\\n",
       "\\hline\n",
       "\t GB\\_GCA\\_002789635.1\\_Candidatus Aenigmarchaeota archaeon CG\\_4\\_9\\_14\\_3\\_um\\_filter\\_37\\_18 & GB\\_GCA\\_002789635.1 &   9 & 79.44 & 0 & 149 & k\\_\\_Archaea (UID2) & 107 & 0 & 794970 & ⋯ & 100 & MNUF01000028.16163.17137 & Archaea;Nanoarchaeaeota;Nanohaloarchaeia;Aenigmarchaeales;Candidatus Aenigmarchaeota archaeon CG1\\_02\\_38\\_14 &  368 & 19 & 35 & 0 & CG10238-14 sp002789635   &  689 & /ebio/abt3\\_projects/databases\\_no-backup/GTDB/release95/Struo/genomes/genbank/archaea/GCA\\_002789635.1/GCA\\_002789635.1\\_ASM278963v1\\_genomic.fna.gz\\\\\n",
       "\t GB\\_GCA\\_001784635.1\\_Candidatus Micrarchaeota archaeon RBG\\_16\\_49\\_10                  & GB\\_GCA\\_001784635.1 & 151 & 74.92 & 0 & 149 & k\\_\\_Archaea (UID2) & 107 & 0 & 773516 & ⋯ & 100 & MFRS01000021.2138.3463   & Archaea;Nanoarchaeaeota;Nanohaloarchaeia;Aenigmarchaeales;Candidatus Micrarchaeota archaeon RBG\\_16\\_49\\_10   & 6621 & 18 & 36 & 0 & RBG-16-49-10 sp001784635 & 3509 & /ebio/abt3\\_projects/databases\\_no-backup/GTDB/release95/Struo/genomes/genbank/archaea/GCA\\_001784635.1/GCA\\_001784635.1\\_ASM178463v1\\_genomic.fna.gz\\\\\n",
       "\t ⋮ & ⋮ & ⋮ & ⋮ & ⋮ & ⋮ & ⋮ & ⋮ & ⋮ & ⋮ & ⋱ & ⋮ & ⋮ & ⋮ & ⋮ & ⋮ & ⋮ & ⋮ & ⋮ & ⋮ & ⋮\\\\\n",
       "\t RS\\_GCF\\_001644955.1\\_Pseudomonas putida & RS\\_GCF\\_001644955.1 & 0 & 99.59 & 0.16 & 813 & o\\_\\_Pseudomonadales (UID4488)  & 308 & 0 & 5508282 & ⋯ & none & none            & none                                                                                                   & 0 & 19 & 61 & 0 & Pseudomonas\\_E putida\\_C & 188090 & /ebio/abt3\\_projects/databases\\_no-backup/GTDB/release95/Struo/genomes/genbank/bacteria/GCA\\_001644955.1/GCA\\_001644955.1\\_CBF10-2\\_genomic.fna.gz    \\\\\n",
       "\t RS\\_GCF\\_003233695.1\\_Lysobacter maris   & RS\\_GCF\\_003233695.1 & 0 & 99.77 & 0.69 & 659 & f\\_\\_Xanthomonadaceae (UID4214) & 290 & 0 & 3531075 & ⋯ & 100  & KX886800.1.1510 & Bacteria;Proteobacteria;Gammaproteobacteria;Xanthomonadales;Xanthomonadaceae;Lysobacter;Lysobacter sp. & 0 & 20 & 56 & 0 & Lysobacter maris       & 183442 & /ebio/abt3\\_projects/databases\\_no-backup/GTDB/release95/Struo/genomes/genbank/bacteria/GCA\\_003233695.1/GCA\\_003233695.1\\_ASM323369v1\\_genomic.fna.gz\\\\\n",
       "\\end{tabular}\n"
      ],
      "text/markdown": [
       "\n",
       "A data.table: 30989 × 113\n",
       "\n",
       "| ncbi_organism_name &lt;chr&gt; | accession &lt;chr&gt; | ambiguous_bases &lt;int&gt; | checkm_completeness &lt;dbl&gt; | checkm_contamination &lt;dbl&gt; | checkm_marker_count &lt;int&gt; | checkm_marker_lineage &lt;chr&gt; | checkm_marker_set_count &lt;int&gt; | checkm_strain_heterogeneity &lt;dbl&gt; | coding_bases &lt;int&gt; | ⋯ ⋯ | ssu_silva_blast_perc_identity &lt;chr&gt; | ssu_silva_blast_subject_id &lt;chr&gt; | ssu_silva_taxonomy &lt;chr&gt; | total_gap_length &lt;int&gt; | trna_aa_count &lt;int&gt; | trna_count &lt;int&gt; | trna_selenocysteine_count &lt;int&gt; | SPECIES &lt;chr&gt; | gtdb_taxid &lt;int&gt; | fasta_file_path &lt;chr&gt; |\n",
       "|---|---|---|---|---|---|---|---|---|---|---|---|---|---|---|---|---|---|---|---|---|\n",
       "| GB_GCA_002789635.1_Candidatus Aenigmarchaeota archaeon CG_4_9_14_3_um_filter_37_18 | GB_GCA_002789635.1 |   9 | 79.44 | 0 | 149 | k__Archaea (UID2) | 107 | 0 | 794970 | ⋯ | 100 | MNUF01000028.16163.17137 | Archaea;Nanoarchaeaeota;Nanohaloarchaeia;Aenigmarchaeales;Candidatus Aenigmarchaeota archaeon CG1_02_38_14 |  368 | 19 | 35 | 0 | CG10238-14 sp002789635   |  689 | /ebio/abt3_projects2/databases_no-backup/GTDB/release95/Struo/genomes/genbank/archaea/GCA_002789635.1/GCA_002789635.1_ASM278963v1_genomic.fna.gz |\n",
       "| GB_GCA_001784635.1_Candidatus Micrarchaeota archaeon RBG_16_49_10                  | GB_GCA_001784635.1 | 151 | 74.92 | 0 | 149 | k__Archaea (UID2) | 107 | 0 | 773516 | ⋯ | 100 | MFRS01000021.2138.3463   | Archaea;Nanoarchaeaeota;Nanohaloarchaeia;Aenigmarchaeales;Candidatus Micrarchaeota archaeon RBG_16_49_10   | 6621 | 18 | 36 | 0 | RBG-16-49-10 sp001784635 | 3509 | /ebio/abt3_projects2/databases_no-backup/GTDB/release95/Struo/genomes/genbank/archaea/GCA_001784635.1/GCA_001784635.1_ASM178463v1_genomic.fna.gz |\n",
       "| ⋮ | ⋮ | ⋮ | ⋮ | ⋮ | ⋮ | ⋮ | ⋮ | ⋮ | ⋮ | ⋱ | ⋮ | ⋮ | ⋮ | ⋮ | ⋮ | ⋮ | ⋮ | ⋮ | ⋮ | ⋮ |\n",
       "| RS_GCF_001644955.1_Pseudomonas putida | RS_GCF_001644955.1 | 0 | 99.59 | 0.16 | 813 | o__Pseudomonadales (UID4488)  | 308 | 0 | 5508282 | ⋯ | none | none            | none                                                                                                   | 0 | 19 | 61 | 0 | Pseudomonas_E putida_C | 188090 | /ebio/abt3_projects2/databases_no-backup/GTDB/release95/Struo/genomes/genbank/bacteria/GCA_001644955.1/GCA_001644955.1_CBF10-2_genomic.fna.gz     |\n",
       "| RS_GCF_003233695.1_Lysobacter maris   | RS_GCF_003233695.1 | 0 | 99.77 | 0.69 | 659 | f__Xanthomonadaceae (UID4214) | 290 | 0 | 3531075 | ⋯ | 100  | KX886800.1.1510 | Bacteria;Proteobacteria;Gammaproteobacteria;Xanthomonadales;Xanthomonadaceae;Lysobacter;Lysobacter sp. | 0 | 20 | 56 | 0 | Lysobacter maris       | 183442 | /ebio/abt3_projects2/databases_no-backup/GTDB/release95/Struo/genomes/genbank/bacteria/GCA_003233695.1/GCA_003233695.1_ASM323369v1_genomic.fna.gz |\n",
       "\n"
      ],
      "text/plain": [
       "      ncbi_organism_name                                                                \n",
       "1     GB_GCA_002789635.1_Candidatus Aenigmarchaeota archaeon CG_4_9_14_3_um_filter_37_18\n",
       "2     GB_GCA_001784635.1_Candidatus Micrarchaeota archaeon RBG_16_49_10                 \n",
       "⋮     ⋮                                                                                 \n",
       "30988 RS_GCF_001644955.1_Pseudomonas putida                                             \n",
       "30989 RS_GCF_003233695.1_Lysobacter maris                                               \n",
       "      accession          ambiguous_bases checkm_completeness\n",
       "1     GB_GCA_002789635.1   9             79.44              \n",
       "2     GB_GCA_001784635.1 151             74.92              \n",
       "⋮     ⋮                  ⋮               ⋮                  \n",
       "30988 RS_GCF_001644955.1 0               99.59              \n",
       "30989 RS_GCF_003233695.1 0               99.77              \n",
       "      checkm_contamination checkm_marker_count checkm_marker_lineage        \n",
       "1     0                    149                 k__Archaea (UID2)            \n",
       "2     0                    149                 k__Archaea (UID2)            \n",
       "⋮     ⋮                    ⋮                   ⋮                            \n",
       "30988 0.16                 813                 o__Pseudomonadales (UID4488) \n",
       "30989 0.69                 659                 f__Xanthomonadaceae (UID4214)\n",
       "      checkm_marker_set_count checkm_strain_heterogeneity coding_bases ⋯\n",
       "1     107                     0                           794970       ⋯\n",
       "2     107                     0                           773516       ⋯\n",
       "⋮     ⋮                       ⋮                           ⋮            ⋱\n",
       "30988 308                     0                           5508282      ⋯\n",
       "30989 290                     0                           3531075      ⋯\n",
       "      ssu_silva_blast_perc_identity ssu_silva_blast_subject_id\n",
       "1     100                           MNUF01000028.16163.17137  \n",
       "2     100                           MFRS01000021.2138.3463    \n",
       "⋮     ⋮                             ⋮                         \n",
       "30988 none                          none                      \n",
       "30989 100                           KX886800.1.1510           \n",
       "      ssu_silva_taxonomy                                                                                        \n",
       "1     Archaea;Nanoarchaeaeota;Nanohaloarchaeia;Aenigmarchaeales;Candidatus Aenigmarchaeota archaeon CG1_02_38_14\n",
       "2     Archaea;Nanoarchaeaeota;Nanohaloarchaeia;Aenigmarchaeales;Candidatus Micrarchaeota archaeon RBG_16_49_10  \n",
       "⋮     ⋮                                                                                                         \n",
       "30988 none                                                                                                      \n",
       "30989 Bacteria;Proteobacteria;Gammaproteobacteria;Xanthomonadales;Xanthomonadaceae;Lysobacter;Lysobacter sp.    \n",
       "      total_gap_length trna_aa_count trna_count trna_selenocysteine_count\n",
       "1      368             19            35         0                        \n",
       "2     6621             18            36         0                        \n",
       "⋮     ⋮                ⋮             ⋮          ⋮                        \n",
       "30988 0                19            61         0                        \n",
       "30989 0                20            56         0                        \n",
       "      SPECIES                  gtdb_taxid\n",
       "1     CG10238-14 sp002789635    689      \n",
       "2     RBG-16-49-10 sp001784635 3509      \n",
       "⋮     ⋮                        ⋮         \n",
       "30988 Pseudomonas_E putida_C   188090    \n",
       "30989 Lysobacter maris         183442    \n",
       "      fasta_file_path                                                                                                                                 \n",
       "1     /ebio/abt3_projects2/databases_no-backup/GTDB/release95/Struo/genomes/genbank/archaea/GCA_002789635.1/GCA_002789635.1_ASM278963v1_genomic.fna.gz \n",
       "2     /ebio/abt3_projects2/databases_no-backup/GTDB/release95/Struo/genomes/genbank/archaea/GCA_001784635.1/GCA_001784635.1_ASM178463v1_genomic.fna.gz \n",
       "⋮     ⋮                                                                                                                                               \n",
       "30988 /ebio/abt3_projects2/databases_no-backup/GTDB/release95/Struo/genomes/genbank/bacteria/GCA_001644955.1/GCA_001644955.1_CBF10-2_genomic.fna.gz    \n",
       "30989 /ebio/abt3_projects2/databases_no-backup/GTDB/release95/Struo/genomes/genbank/bacteria/GCA_003233695.1/GCA_003233695.1_ASM323369v1_genomic.fna.gz"
      ]
     },
     "metadata": {},
     "output_type": "display_data"
    }
   ],
   "source": [
    "meta = Fread(metadata_file)\n",
    "meta"
   ]
  },
  {
   "cell_type": "markdown",
   "metadata": {},
   "source": [
    "# n100"
   ]
  },
  {
   "cell_type": "code",
   "execution_count": 9,
   "metadata": {
    "ExecuteTime": {
     "end_time": "2020-12-10T18:42:14.267414Z",
     "start_time": "2020-12-10T18:42:13.703Z"
    }
   },
   "outputs": [
    {
     "data": {
      "text/html": [
       "<table>\n",
       "<caption>A data.table: 100 × 113</caption>\n",
       "<thead>\n",
       "\t<tr><th scope=col>ncbi_organism_name</th><th scope=col>accession</th><th scope=col>ambiguous_bases</th><th scope=col>checkm_completeness</th><th scope=col>checkm_contamination</th><th scope=col>checkm_marker_count</th><th scope=col>checkm_marker_lineage</th><th scope=col>checkm_marker_set_count</th><th scope=col>checkm_strain_heterogeneity</th><th scope=col>coding_bases</th><th scope=col>⋯</th><th scope=col>ssu_silva_blast_perc_identity</th><th scope=col>ssu_silva_blast_subject_id</th><th scope=col>ssu_silva_taxonomy</th><th scope=col>total_gap_length</th><th scope=col>trna_aa_count</th><th scope=col>trna_count</th><th scope=col>trna_selenocysteine_count</th><th scope=col>SPECIES</th><th scope=col>gtdb_taxid</th><th scope=col>fasta_file_path</th></tr>\n",
       "\t<tr><th scope=col>&lt;chr&gt;</th><th scope=col>&lt;chr&gt;</th><th scope=col>&lt;int&gt;</th><th scope=col>&lt;dbl&gt;</th><th scope=col>&lt;dbl&gt;</th><th scope=col>&lt;int&gt;</th><th scope=col>&lt;chr&gt;</th><th scope=col>&lt;int&gt;</th><th scope=col>&lt;dbl&gt;</th><th scope=col>&lt;int&gt;</th><th scope=col>⋯</th><th scope=col>&lt;chr&gt;</th><th scope=col>&lt;chr&gt;</th><th scope=col>&lt;chr&gt;</th><th scope=col>&lt;int&gt;</th><th scope=col>&lt;int&gt;</th><th scope=col>&lt;int&gt;</th><th scope=col>&lt;int&gt;</th><th scope=col>&lt;chr&gt;</th><th scope=col>&lt;int&gt;</th><th scope=col>&lt;chr&gt;</th></tr>\n",
       "</thead>\n",
       "<tbody>\n",
       "\t<tr><td>GB_GCA_002316675.1_Tyzzerella sp. UBA1042</td><td>GB_GCA_002316675.1</td><td>5</td><td>92.62</td><td>0.00</td><td>263</td><td>o__Clostridiales (UID1212)     </td><td>149</td><td> 0.0</td><td>2088476</td><td>⋯</td><td>none</td><td>none</td><td>none</td><td>25091</td><td>11</td><td>23</td><td>0</td><td>Anaerotignum sp002316675  </td><td>194515</td><td>/ebio/abt3_projects2/databases_no-backup/GTDB/release95/Struo/genomes/genbank/bacteria/GCA_002316675.1/GCA_002316675.1_ASM231667v1_genomic.fna.gz</td></tr>\n",
       "\t<tr><td>GB_GCA_003249625.1_Propionivibrio sp.    </td><td>GB_GCA_003249625.1</td><td>0</td><td>89.96</td><td>4.11</td><td>425</td><td>c__Betaproteobacteria (UID3971)</td><td>211</td><td>62.5</td><td>3268562</td><td>⋯</td><td>none</td><td>none</td><td>none</td><td>    0</td><td>17</td><td>37</td><td>0</td><td>Propionivibrio sp003249625</td><td>197637</td><td>/ebio/abt3_projects2/databases_no-backup/GTDB/release95/Struo/genomes/genbank/bacteria/GCA_003249625.1/GCA_003249625.1_ASM324962v1_genomic.fna.gz</td></tr>\n",
       "\t<tr><td>⋮</td><td>⋮</td><td>⋮</td><td>⋮</td><td>⋮</td><td>⋮</td><td>⋮</td><td>⋮</td><td>⋮</td><td>⋮</td><td>⋱</td><td>⋮</td><td>⋮</td><td>⋮</td><td>⋮</td><td>⋮</td><td>⋮</td><td>⋮</td><td>⋮</td><td>⋮</td><td>⋮</td></tr>\n",
       "\t<tr><td>GB_GCA_003645825.1_Candidatus Marinimicrobia bacterium</td><td>GB_GCA_003645825.1</td><td>0</td><td>82.42</td><td>0.1</td><td>147</td><td>k__Bacteria (UID2495)       </td><td> 91</td><td>100</td><td>1990459</td><td>⋯</td><td>none  </td><td>none           </td><td>none                                                                                                  </td><td>0</td><td>16</td><td>32</td><td>0</td><td>B5-G15 sp003645825</td><td>184933</td><td>/ebio/abt3_projects2/databases_no-backup/GTDB/release95/Struo/genomes/genbank/bacteria/GCA_003645825.1/GCA_003645825.1_ASM364582v1_genomic.fna.gz</td></tr>\n",
       "\t<tr><td>RS_GCF_002993285.1_Gordonia iterans                   </td><td>RS_GCF_002993285.1</td><td>0</td><td>99.46</td><td>0.3</td><td>572</td><td>o__Actinomycetales (UID1814)</td><td>276</td><td>  0</td><td>3623834</td><td>⋯</td><td>99.659</td><td>FR798915.1.1467</td><td>Bacteria;Actinobacteria;Actinobacteria;Corynebacteriales;Nocardiaceae;Gordonia;Gordonia sp. CCUG 60728</td><td>0</td><td>20</td><td>51</td><td>0</td><td>Gordonia iterans  </td><td>236202</td><td>/ebio/abt3_projects2/databases_no-backup/GTDB/release95/Struo/genomes/genbank/bacteria/GCA_002993285.1/GCA_002993285.1_ASM299328v1_genomic.fna.gz</td></tr>\n",
       "</tbody>\n",
       "</table>\n"
      ],
      "text/latex": [
       "A data.table: 100 × 113\n",
       "\\begin{tabular}{lllllllllllllllllllll}\n",
       " ncbi\\_organism\\_name & accession & ambiguous\\_bases & checkm\\_completeness & checkm\\_contamination & checkm\\_marker\\_count & checkm\\_marker\\_lineage & checkm\\_marker\\_set\\_count & checkm\\_strain\\_heterogeneity & coding\\_bases & ⋯ & ssu\\_silva\\_blast\\_perc\\_identity & ssu\\_silva\\_blast\\_subject\\_id & ssu\\_silva\\_taxonomy & total\\_gap\\_length & trna\\_aa\\_count & trna\\_count & trna\\_selenocysteine\\_count & SPECIES & gtdb\\_taxid & fasta\\_file\\_path\\\\\n",
       " <chr> & <chr> & <int> & <dbl> & <dbl> & <int> & <chr> & <int> & <dbl> & <int> & ⋯ & <chr> & <chr> & <chr> & <int> & <int> & <int> & <int> & <chr> & <int> & <chr>\\\\\n",
       "\\hline\n",
       "\t GB\\_GCA\\_002316675.1\\_Tyzzerella sp. UBA1042 & GB\\_GCA\\_002316675.1 & 5 & 92.62 & 0.00 & 263 & o\\_\\_Clostridiales (UID1212)      & 149 &  0.0 & 2088476 & ⋯ & none & none & none & 25091 & 11 & 23 & 0 & Anaerotignum sp002316675   & 194515 & /ebio/abt3\\_projects/databases\\_no-backup/GTDB/release95/Struo/genomes/genbank/bacteria/GCA\\_002316675.1/GCA\\_002316675.1\\_ASM231667v1\\_genomic.fna.gz\\\\\n",
       "\t GB\\_GCA\\_003249625.1\\_Propionivibrio sp.     & GB\\_GCA\\_003249625.1 & 0 & 89.96 & 4.11 & 425 & c\\_\\_Betaproteobacteria (UID3971) & 211 & 62.5 & 3268562 & ⋯ & none & none & none &     0 & 17 & 37 & 0 & Propionivibrio sp003249625 & 197637 & /ebio/abt3\\_projects/databases\\_no-backup/GTDB/release95/Struo/genomes/genbank/bacteria/GCA\\_003249625.1/GCA\\_003249625.1\\_ASM324962v1\\_genomic.fna.gz\\\\\n",
       "\t ⋮ & ⋮ & ⋮ & ⋮ & ⋮ & ⋮ & ⋮ & ⋮ & ⋮ & ⋮ & ⋱ & ⋮ & ⋮ & ⋮ & ⋮ & ⋮ & ⋮ & ⋮ & ⋮ & ⋮ & ⋮\\\\\n",
       "\t GB\\_GCA\\_003645825.1\\_Candidatus Marinimicrobia bacterium & GB\\_GCA\\_003645825.1 & 0 & 82.42 & 0.1 & 147 & k\\_\\_Bacteria (UID2495)        &  91 & 100 & 1990459 & ⋯ & none   & none            & none                                                                                                   & 0 & 16 & 32 & 0 & B5-G15 sp003645825 & 184933 & /ebio/abt3\\_projects/databases\\_no-backup/GTDB/release95/Struo/genomes/genbank/bacteria/GCA\\_003645825.1/GCA\\_003645825.1\\_ASM364582v1\\_genomic.fna.gz\\\\\n",
       "\t RS\\_GCF\\_002993285.1\\_Gordonia iterans                    & RS\\_GCF\\_002993285.1 & 0 & 99.46 & 0.3 & 572 & o\\_\\_Actinomycetales (UID1814) & 276 &   0 & 3623834 & ⋯ & 99.659 & FR798915.1.1467 & Bacteria;Actinobacteria;Actinobacteria;Corynebacteriales;Nocardiaceae;Gordonia;Gordonia sp. CCUG 60728 & 0 & 20 & 51 & 0 & Gordonia iterans   & 236202 & /ebio/abt3\\_projects/databases\\_no-backup/GTDB/release95/Struo/genomes/genbank/bacteria/GCA\\_002993285.1/GCA\\_002993285.1\\_ASM299328v1\\_genomic.fna.gz\\\\\n",
       "\\end{tabular}\n"
      ],
      "text/markdown": [
       "\n",
       "A data.table: 100 × 113\n",
       "\n",
       "| ncbi_organism_name &lt;chr&gt; | accession &lt;chr&gt; | ambiguous_bases &lt;int&gt; | checkm_completeness &lt;dbl&gt; | checkm_contamination &lt;dbl&gt; | checkm_marker_count &lt;int&gt; | checkm_marker_lineage &lt;chr&gt; | checkm_marker_set_count &lt;int&gt; | checkm_strain_heterogeneity &lt;dbl&gt; | coding_bases &lt;int&gt; | ⋯ ⋯ | ssu_silva_blast_perc_identity &lt;chr&gt; | ssu_silva_blast_subject_id &lt;chr&gt; | ssu_silva_taxonomy &lt;chr&gt; | total_gap_length &lt;int&gt; | trna_aa_count &lt;int&gt; | trna_count &lt;int&gt; | trna_selenocysteine_count &lt;int&gt; | SPECIES &lt;chr&gt; | gtdb_taxid &lt;int&gt; | fasta_file_path &lt;chr&gt; |\n",
       "|---|---|---|---|---|---|---|---|---|---|---|---|---|---|---|---|---|---|---|---|---|\n",
       "| GB_GCA_002316675.1_Tyzzerella sp. UBA1042 | GB_GCA_002316675.1 | 5 | 92.62 | 0.00 | 263 | o__Clostridiales (UID1212)      | 149 |  0.0 | 2088476 | ⋯ | none | none | none | 25091 | 11 | 23 | 0 | Anaerotignum sp002316675   | 194515 | /ebio/abt3_projects2/databases_no-backup/GTDB/release95/Struo/genomes/genbank/bacteria/GCA_002316675.1/GCA_002316675.1_ASM231667v1_genomic.fna.gz |\n",
       "| GB_GCA_003249625.1_Propionivibrio sp.     | GB_GCA_003249625.1 | 0 | 89.96 | 4.11 | 425 | c__Betaproteobacteria (UID3971) | 211 | 62.5 | 3268562 | ⋯ | none | none | none |     0 | 17 | 37 | 0 | Propionivibrio sp003249625 | 197637 | /ebio/abt3_projects2/databases_no-backup/GTDB/release95/Struo/genomes/genbank/bacteria/GCA_003249625.1/GCA_003249625.1_ASM324962v1_genomic.fna.gz |\n",
       "| ⋮ | ⋮ | ⋮ | ⋮ | ⋮ | ⋮ | ⋮ | ⋮ | ⋮ | ⋮ | ⋱ | ⋮ | ⋮ | ⋮ | ⋮ | ⋮ | ⋮ | ⋮ | ⋮ | ⋮ | ⋮ |\n",
       "| GB_GCA_003645825.1_Candidatus Marinimicrobia bacterium | GB_GCA_003645825.1 | 0 | 82.42 | 0.1 | 147 | k__Bacteria (UID2495)        |  91 | 100 | 1990459 | ⋯ | none   | none            | none                                                                                                   | 0 | 16 | 32 | 0 | B5-G15 sp003645825 | 184933 | /ebio/abt3_projects2/databases_no-backup/GTDB/release95/Struo/genomes/genbank/bacteria/GCA_003645825.1/GCA_003645825.1_ASM364582v1_genomic.fna.gz |\n",
       "| RS_GCF_002993285.1_Gordonia iterans                    | RS_GCF_002993285.1 | 0 | 99.46 | 0.3 | 572 | o__Actinomycetales (UID1814) | 276 |   0 | 3623834 | ⋯ | 99.659 | FR798915.1.1467 | Bacteria;Actinobacteria;Actinobacteria;Corynebacteriales;Nocardiaceae;Gordonia;Gordonia sp. CCUG 60728 | 0 | 20 | 51 | 0 | Gordonia iterans   | 236202 | /ebio/abt3_projects2/databases_no-backup/GTDB/release95/Struo/genomes/genbank/bacteria/GCA_002993285.1/GCA_002993285.1_ASM299328v1_genomic.fna.gz |\n",
       "\n"
      ],
      "text/plain": [
       "    ncbi_organism_name                                     accession         \n",
       "1   GB_GCA_002316675.1_Tyzzerella sp. UBA1042              GB_GCA_002316675.1\n",
       "2   GB_GCA_003249625.1_Propionivibrio sp.                  GB_GCA_003249625.1\n",
       "⋮   ⋮                                                      ⋮                 \n",
       "99  GB_GCA_003645825.1_Candidatus Marinimicrobia bacterium GB_GCA_003645825.1\n",
       "100 RS_GCF_002993285.1_Gordonia iterans                    RS_GCF_002993285.1\n",
       "    ambiguous_bases checkm_completeness checkm_contamination\n",
       "1   5               92.62               0.00                \n",
       "2   0               89.96               4.11                \n",
       "⋮   ⋮               ⋮                   ⋮                   \n",
       "99  0               82.42               0.1                 \n",
       "100 0               99.46               0.3                 \n",
       "    checkm_marker_count checkm_marker_lineage           checkm_marker_set_count\n",
       "1   263                 o__Clostridiales (UID1212)      149                    \n",
       "2   425                 c__Betaproteobacteria (UID3971) 211                    \n",
       "⋮   ⋮                   ⋮                               ⋮                      \n",
       "99  147                 k__Bacteria (UID2495)            91                    \n",
       "100 572                 o__Actinomycetales (UID1814)    276                    \n",
       "    checkm_strain_heterogeneity coding_bases ⋯ ssu_silva_blast_perc_identity\n",
       "1    0.0                        2088476      ⋯ none                         \n",
       "2   62.5                        3268562      ⋯ none                         \n",
       "⋮   ⋮                           ⋮            ⋱ ⋮                            \n",
       "99  100                         1990459      ⋯ none                         \n",
       "100   0                         3623834      ⋯ 99.659                       \n",
       "    ssu_silva_blast_subject_id\n",
       "1   none                      \n",
       "2   none                      \n",
       "⋮   ⋮                         \n",
       "99  none                      \n",
       "100 FR798915.1.1467           \n",
       "    ssu_silva_taxonomy                                                                                    \n",
       "1   none                                                                                                  \n",
       "2   none                                                                                                  \n",
       "⋮   ⋮                                                                                                     \n",
       "99  none                                                                                                  \n",
       "100 Bacteria;Actinobacteria;Actinobacteria;Corynebacteriales;Nocardiaceae;Gordonia;Gordonia sp. CCUG 60728\n",
       "    total_gap_length trna_aa_count trna_count trna_selenocysteine_count\n",
       "1   25091            11            23         0                        \n",
       "2       0            17            37         0                        \n",
       "⋮   ⋮                ⋮             ⋮          ⋮                        \n",
       "99  0                16            32         0                        \n",
       "100 0                20            51         0                        \n",
       "    SPECIES                    gtdb_taxid\n",
       "1   Anaerotignum sp002316675   194515    \n",
       "2   Propionivibrio sp003249625 197637    \n",
       "⋮   ⋮                          ⋮         \n",
       "99  B5-G15 sp003645825         184933    \n",
       "100 Gordonia iterans           236202    \n",
       "    fasta_file_path                                                                                                                                 \n",
       "1   /ebio/abt3_projects2/databases_no-backup/GTDB/release95/Struo/genomes/genbank/bacteria/GCA_002316675.1/GCA_002316675.1_ASM231667v1_genomic.fna.gz\n",
       "2   /ebio/abt3_projects2/databases_no-backup/GTDB/release95/Struo/genomes/genbank/bacteria/GCA_003249625.1/GCA_003249625.1_ASM324962v1_genomic.fna.gz\n",
       "⋮   ⋮                                                                                                                                               \n",
       "99  /ebio/abt3_projects2/databases_no-backup/GTDB/release95/Struo/genomes/genbank/bacteria/GCA_003645825.1/GCA_003645825.1_ASM364582v1_genomic.fna.gz\n",
       "100 /ebio/abt3_projects2/databases_no-backup/GTDB/release95/Struo/genomes/genbank/bacteria/GCA_002993285.1/GCA_002993285.1_ASM299328v1_genomic.fna.gz"
      ]
     },
     "metadata": {},
     "output_type": "display_data"
    }
   ],
   "source": [
    "to_keep = sample(1:nrow(meta), 100)\n",
    "meta_f = meta %>%\n",
    "    slice.(rows=to_keep)\n",
    "meta_f"
   ]
  },
  {
   "cell_type": "code",
   "execution_count": 11,
   "metadata": {
    "ExecuteTime": {
     "end_time": "2020-12-10T18:43:11.745596Z",
     "start_time": "2020-12-10T18:43:11.670Z"
    }
   },
   "outputs": [
    {
     "name": "stdout",
     "output_type": "stream",
     "text": [
      "File written: /ebio/abt3_projects2/databases_no-backup/GTDB/release95/Struo/benchmarking/db_create/UniRef50-90/n100/genome_meta_n100.tsv \n"
     ]
    }
   ],
   "source": [
    "F = file.path(work_dir, 'n100', 'genome_meta_n100.tsv')\n",
    "meta_f %>% write_table(F)"
   ]
  },
  {
   "cell_type": "markdown",
   "metadata": {},
   "source": [
    "## Struo1"
   ]
  },
  {
   "cell_type": "markdown",
   "metadata": {},
   "source": [
    "### Kraken/Bracken + UniRef50"
   ]
  },
  {
   "cell_type": "markdown",
   "metadata": {},
   "source": [
    "#### Config"
   ]
  },
  {
   "cell_type": "code",
   "execution_count": 67,
   "metadata": {
    "ExecuteTime": {
     "end_time": "2020-12-14T07:48:57.375516Z",
     "start_time": "2020-12-14T07:48:57.299Z"
    }
   },
   "outputs": [
    {
     "name": "stdout",
     "output_type": "stream",
     "text": [
      "#-- I/O --#\n",
      "# file listing samples and associated data\n",
      "samples_file: /ebio/abt3_projects2/databases_no-backup/GTDB/release95/Struo/benchmarking/db_create/UniRef50-90/n100/genome_meta_n100.tsv \n",
      "\n",
      "## column names in samples table\n",
      "samples_col: 'ncbi_organism_name'\n",
      "fasta_file_path_col: 'fasta_file_path'\n",
      "taxID_col: 'ncbi_species_taxid'    \n",
      "taxonomy_col: 'ncbi_taxonomy'   \n",
      "\n",
      "# output location\n",
      "output_dir: /ebio/abt3_projects2/databases_no-backup/GTDB/release95/Struo/benchmarking/db_create/UniRef50-90/n100/struo1/\n",
      "\n",
      "# temporary file directory (your username will be added automatically)\n",
      "tmp_dir: /ebio/abt3_scratch/\n",
      "\n",
      "#-- databases to create --#\n",
      "# Replace \"Create\" with \"Skip\" to skip creation of any of these\n",
      "# Note that braken relies on the kraken2 database\n",
      "databases:\n",
      "  kraken2: Create\n",
      "  bracken: Create\n",
      "  humann2_bowtie2: Create\n",
      "  humann2_diamond: Create\n",
      "\n",
      "# output database name\n",
      "db_name: GTDB-custom\n",
      "\n",
      "#-- keep intermediate files required for re-creating DBs (eg., w/ more genomes) --#\n",
      "# If \"True\", the intermediate files are saved to `output_dir`\n",
      "# Else, the intermediate files are temporarily stored in `temp_folder`\n",
      "keep_intermediate: True\n",
      "use_ancient: True\n",
      "\n",
      "#-- if custom NCBI taxdump files (or just Skip) --#\n",
      "names_dmp: /ebio/abt3_projects2/databases_no-backup/GTDB/release95/taxdump/names.dmp\n",
      "nodes_dmp: /ebio/abt3_projects2/databases_no-backup/GTDB/release95/taxdump/nodes.dmp\n",
      "\n",
      "#-- software parameters --#\n",
      "# `vsearch_per_genome` = per-genome gene clustering\n",
      "# `vsearch_all` = all genes clustered (including `humann2_nuc_seqs` & `humann2_prot_seqs`)\n",
      "params:\n",
      "  bracken_build_kmer: 35\n",
      "  bracken_build_read_lens:\n",
      "    - 100\n",
      "    - 150\n",
      "  prodigal: \"\"\n",
      "  diamond_db: /ebio/abt3_projects2/databases_no-backup/humann3/201901/uniref50/uniref50_201901.dmnd\n",
      "  diamond_db_to_mem: True\n",
      "  diamond: --evalue 1e-3 --sensitive --query-cover 80 --id 50 --max-target-seqs 20 --block-size 3 --index-chunks 2\n",
      "  vsearch_per_genome: --id 0.97 --strand both --qmask none --fasta_width 0\n",
      "  vsearch_all: Skip #--id 1.0 --strand both --qmask none --fasta_width 0\n",
      "\n",
      "#-- If adding genes to humann2 database --#\n",
      "# If you have nucleotid and/or protein gene sequences formatted for humann2,\n",
      "# provide the file paths to the fasta files below (gzip'ed)\n",
      "humann2_nuc_seqs: Skip\n",
      "humann2_prot_seqs: Skip\n",
      "\n",
      "#-- snakemake pipeline --#\n",
      "pipeline:\n",
      "  snakemake_folder: ./\n",
      "  script_folder: ./bin/scripts/"
     ]
    }
   ],
   "source": [
    "config_file = file.path(work_dir, 'n100', 'struo1', 'config_uniref50.yaml')\n",
    "cat_file(config_file)"
   ]
  },
  {
   "cell_type": "markdown",
   "metadata": {},
   "source": [
    "#### Run\n",
    "\n",
    "```\n",
    "(snakemake) @ rick:/ebio/abt3_projects2/databases_no-backup/bin/Struo\n",
    "$ screen -L -S struo-bmk ./snakemake_sge.sh /ebio/abt3_projects2/databases_no-backup/GTDB/release95/Struo/benchmarking/db_create/UniRef50-90/n100/struo1/config_uniref50.yaml 50 -F\n",
    "```"
   ]
  },
  {
   "cell_type": "markdown",
   "metadata": {},
   "source": [
    "### UniRef90"
   ]
  },
  {
   "cell_type": "markdown",
   "metadata": {},
   "source": [
    "#### Config"
   ]
  },
  {
   "cell_type": "code",
   "execution_count": 68,
   "metadata": {
    "ExecuteTime": {
     "end_time": "2020-12-14T10:03:19.045205Z",
     "start_time": "2020-12-14T10:03:18.900Z"
    }
   },
   "outputs": [
    {
     "name": "stdout",
     "output_type": "stream",
     "text": [
      "#-- I/O --#\n",
      "# file listing samples and associated data\n",
      "samples_file: /ebio/abt3_projects2/databases_no-backup/GTDB/release95/Struo/benchmarking/db_create/UniRef50-90/n100/genome_meta_n100.tsv \n",
      "\n",
      "## column names in samples table\n",
      "samples_col: 'ncbi_organism_name'\n",
      "fasta_file_path_col: 'fasta_file_path'\n",
      "taxID_col: 'ncbi_species_taxid'    \n",
      "taxonomy_col: 'ncbi_taxonomy'   \n",
      "\n",
      "# output location\n",
      "output_dir: /ebio/abt3_projects2/databases_no-backup/GTDB/release95/Struo/benchmarking/db_create/UniRef50-90/n100/struo1/uniref90/\n",
      "\n",
      "# temporary file directory (your username will be added automatically)\n",
      "tmp_dir: /ebio/abt3_scratch/\n",
      "\n",
      "#-- databases to create --#\n",
      "# Replace \"Create\" with \"Skip\" to skip creation of any of these\n",
      "# Note that braken relies on the kraken2 database\n",
      "databases:\n",
      "  kraken2: Skip #Create\n",
      "  bracken: Skip #Create\n",
      "  humann2_bowtie2: Create\n",
      "  humann2_diamond: Create\n",
      "\n",
      "# output database name\n",
      "db_name: GTDB-custom\n",
      "\n",
      "#-- keep intermediate files required for re-creating DBs (eg., w/ more genomes) --#\n",
      "# If \"True\", the intermediate files are saved to `output_dir`\n",
      "# Else, the intermediate files are temporarily stored in `temp_folder`\n",
      "keep_intermediate: True\n",
      "use_ancient: True\n",
      "\n",
      "#-- if custom NCBI taxdump files (or just Skip) --#\n",
      "names_dmp: /ebio/abt3_projects2/databases_no-backup/GTDB/release95/taxdump/names.dmp\n",
      "nodes_dmp: /ebio/abt3_projects2/databases_no-backup/GTDB/release95/taxdump/nodes.dmp\n",
      "\n",
      "#-- software parameters --#\n",
      "# `vsearch_per_genome` = per-genome gene clustering\n",
      "# `vsearch_all` = all genes clustered (including `humann2_nuc_seqs` & `humann2_prot_seqs`)\n",
      "params:\n",
      "  bracken_build_kmer: 35\n",
      "  bracken_build_read_lens:\n",
      "    - 100\n",
      "    - 150\n",
      "  prodigal: \"\"\n",
      "  diamond_db: /ebio/abt3_projects2/databases_no-backup/humann3/201901/uniref90/uniref90_201901.dmnd\n",
      "  diamond_db_to_mem: True\n",
      "  diamond: --evalue 1e-3 --sensitive --query-cover 80 --id 90 --max-target-seqs 20 --block-size 3 --index-chunks 2 \n",
      "  vsearch_per_genome: --id 0.97 --strand both --qmask none --fasta_width 0\n",
      "  vsearch_all: Skip #--id 1.0 --strand both --qmask none --fasta_width 0\n",
      "\n",
      "#-- If adding genes to humann2 database --#\n",
      "# If you have nucleotid and/or protein gene sequences formatted for humann2,\n",
      "# provide the file paths to the fasta files below (gzip'ed)\n",
      "humann2_nuc_seqs: Skip\n",
      "humann2_prot_seqs: Skip\n",
      "\n",
      "#-- snakemake pipeline --#\n",
      "pipeline:\n",
      "  snakemake_folder: ./\n",
      "  script_folder: ./bin/scripts/"
     ]
    }
   ],
   "source": [
    "config_file = file.path(work_dir, 'n100', 'struo1', 'config_uniref90.yaml')\n",
    "cat_file(config_file)"
   ]
  },
  {
   "cell_type": "markdown",
   "metadata": {},
   "source": [
    "#### Run\n",
    "\n",
    "```\n",
    "(snakemake) @ rick:/ebio/abt3_projects2/databases_no-backup/bin/Struo\n",
    "$ screen -L -S struo-bmk ./snakemake_sge.sh /ebio/abt3_projects2/databases_no-backup/GTDB/release95/Struo/benchmarking/db_create/UniRef50-90/n100/struo1/config_uniref90.yaml 50 -F\n",
    "```"
   ]
  },
  {
   "cell_type": "markdown",
   "metadata": {},
   "source": [
    "## Struo2"
   ]
  },
  {
   "cell_type": "markdown",
   "metadata": {},
   "source": [
    "### Config"
   ]
  },
  {
   "cell_type": "code",
   "execution_count": 14,
   "metadata": {
    "ExecuteTime": {
     "end_time": "2020-12-12T14:38:44.822622Z",
     "start_time": "2020-12-12T14:38:44.717Z"
    }
   },
   "outputs": [
    {
     "name": "stdout",
     "output_type": "stream",
     "text": [
      "#-- email notifications of pipeline success/failure (use \"Skip\" to deactivate) --#\n",
      "email: nyoungblut@tuebingen.mpg.de\n",
      "\n",
      "#-- I/O --#\n",
      "# file listing samples and associated data\n",
      "samples_file: /ebio/abt3_projects2/databases_no-backup/GTDB/release95/Struo/benchmarking/db_create/UniRef50-90/n100/genome_meta_n100.tsv\n",
      "\n",
      "## column names in samples table\n",
      "samples_col: 'ncbi_organism_name'\n",
      "accession_col: 'accession'\n",
      "fasta_file_path_col: 'fasta_file_path'\n",
      "taxID_col: 'gtdb_taxid'          # or 'ncbi_species_taxid'\n",
      "taxonomy_col: 'gtdb_taxonomy'    # or 'ncbi_taxonomy' \n",
      "\n",
      "# output location\n",
      "output_dir: /ebio/abt3_projects2/databases_no-backup/GTDB/release95/Struo/benchmarking/db_create/UniRef50-90/n100/struo2/\n",
      "\n",
      "# temporary file directory (your username will be added automatically)\n",
      "tmp_dir: /ebio/abt3_scratch/\n",
      "\n",
      "#-- databases to create --#\n",
      "# Replace \"Create\" with \"Skip\" to skip creation of any of these\n",
      "# Note that braken relies on the kraken2 database\n",
      "databases:\n",
      "  kraken2: Create\n",
      "  bracken: Create\n",
      "  genes: Create\n",
      "  humann3_bowtie2: Create\n",
      "  humann3_diamond: Create\n",
      "  metaphlan3: Skip #Create\n",
      "\n",
      "# Name of UniRef clustering (uniref90 or uniref50)\n",
      "## uniref90 highly recommended\n",
      "uniref_name: uniref90\n",
      "# Name of the humann3 diamond database to be created\n",
      "## This must match naming allowed by humann3\n",
      "dmnd_name: uniref90_201901.dmnd\n",
      "# Index mapping UniRef90 clusters to UniRef50 (saves time vs re-annotating)\n",
      "## This is skipped if annotating with UniRef50\n",
      "cluster_idx: /ebio/abt3_projects2/databases_no-backup/uniref/2019.01/uniref50-90.pkl\n",
      "\n",
      "#-- if custom NCBI taxdump files (or just Skip) --#\n",
      "# Used for kraken taxonomy & metaphlan\n",
      "names_dmp: /ebio/abt3_projects2/databases_no-backup/GTDB/release95/taxdump/names.dmp\n",
      "nodes_dmp: /ebio/abt3_projects2/databases_no-backup/GTDB/release95/taxdump/nodes.dmp\n",
      "\n",
      "#-- keep intermediate files required for re-creating DBs (eg., w/ more genomes) --#\n",
      "# If \"True\", the intermediate files are saved to `output_dir`\n",
      "# Else, the intermediate files are temporarily stored in `temp_folder`\n",
      "keep_intermediate: True\n",
      "\n",
      "#-- software parameters --#\n",
      "# `vsearch_per_genome` = per-genome gene clustering\n",
      "# for humann3, use either mmseqs or diamond (mmseqs gets priority if neither skipped)\n",
      "# for humann3::mmseqs_search::run, --num-iterations must be >=2\n",
      "params:\n",
      "  ionice: -c 3\n",
      "  bracken:\n",
      "    build_kmer: 35\n",
      "    build_read_lens:\n",
      "      - 100\n",
      "      - 150\n",
      "  genes:\n",
      "    prodigal: \"\"\n",
      "    vsearch_per_genome: --id 0.97 --strand both --qmask none --fasta_width 0\n",
      "    mmseqs_cluster: --min-seq-id 0.9 -c 0.8\n",
      "    mmseqs_cluster_method: linclust         # or \"cluster\", which is slower\n",
      "  humann3:\n",
      "    batches: 100\n",
      "    mmseqs_search:\n",
      "      db: /ebio/abt3_projects2/databases_no-backup/mmseqs/UniRef90/2019_01/uniref90\n",
      "      run: -e 1e-3 --max-accept 1 --max-seqs 100 --num-iterations 2 --start-sens 1 --sens-steps 3 -s 6\n",
      "    diamond:\n",
      "      db: /ebio/abt3_projects2/databases_no-backup/humann3/201901/uniref90/uniref90_201901.dmnd\n",
      "      run: Skip #--evalue 1e-3 --query-cover 80 --id 90 --max-target-seqs 1 --block-size 4 --index-chunks 2\n",
      "    propagate_annotations: --min-cov 80 --min-pident 90\n",
      "  metaphlan3:\n",
      "    pkl: /ebio/abt3_projects2/databases_no-backup/metaphlan3/201901/mpa_v30_CHOCOPhlAn_201901.pkl\n",
      "    fasta: /ebio/abt3_projects2/databases_no-backup/metaphlan3/201901/mpa_v30_CHOCOPhlAn_201901.fna.bz2\n",
      "    species_specific_markers: --ext-abs-cutoff 10 --ext-rel-cutoff 0.1\n",
      "\n",
      "#-- snakemake pipeline --#\n",
      "pipeline:\n",
      "  snakemake_folder: ./\n",
      "  script_folder: ./bin/scripts/\n",
      "  name: Struo2_db-create\n",
      "  config: create"
     ]
    }
   ],
   "source": [
    "config_file = file.path(work_dir, 'n100', 'struo2', 'config_db-create.yaml')\n",
    "cat_file(config_file)"
   ]
  },
  {
   "cell_type": "markdown",
   "metadata": {},
   "source": [
    "### Run\n",
    "\n",
    "```\n",
    "(snakemake) @ rick:/ebio/abt3_projects2/databases_no-backup/bin/struo2_1\n",
    "$ screen -L -S struo2-bmk-n100 ./snakemake_sge.sh /ebio/abt3_projects2/databases_no-backup/GTDB/release95/Struo/benchmarking/db_create/UniRef50-90/n100/struo2/config_db-create.yaml 50 -F\n",
    "```"
   ]
  },
  {
   "cell_type": "markdown",
   "metadata": {},
   "source": [
    "# n500"
   ]
  },
  {
   "cell_type": "code",
   "execution_count": 38,
   "metadata": {
    "ExecuteTime": {
     "end_time": "2020-12-13T06:24:23.996332Z",
     "start_time": "2020-12-13T06:24:23.889Z"
    }
   },
   "outputs": [
    {
     "data": {
      "text/html": [
       "<table>\n",
       "<caption>A data.table: 500 × 113</caption>\n",
       "<thead>\n",
       "\t<tr><th scope=col>ncbi_organism_name</th><th scope=col>accession</th><th scope=col>ambiguous_bases</th><th scope=col>checkm_completeness</th><th scope=col>checkm_contamination</th><th scope=col>checkm_marker_count</th><th scope=col>checkm_marker_lineage</th><th scope=col>checkm_marker_set_count</th><th scope=col>checkm_strain_heterogeneity</th><th scope=col>coding_bases</th><th scope=col>⋯</th><th scope=col>ssu_silva_blast_perc_identity</th><th scope=col>ssu_silva_blast_subject_id</th><th scope=col>ssu_silva_taxonomy</th><th scope=col>total_gap_length</th><th scope=col>trna_aa_count</th><th scope=col>trna_count</th><th scope=col>trna_selenocysteine_count</th><th scope=col>SPECIES</th><th scope=col>gtdb_taxid</th><th scope=col>fasta_file_path</th></tr>\n",
       "\t<tr><th scope=col>&lt;chr&gt;</th><th scope=col>&lt;chr&gt;</th><th scope=col>&lt;int&gt;</th><th scope=col>&lt;dbl&gt;</th><th scope=col>&lt;dbl&gt;</th><th scope=col>&lt;int&gt;</th><th scope=col>&lt;chr&gt;</th><th scope=col>&lt;int&gt;</th><th scope=col>&lt;dbl&gt;</th><th scope=col>&lt;int&gt;</th><th scope=col>⋯</th><th scope=col>&lt;chr&gt;</th><th scope=col>&lt;chr&gt;</th><th scope=col>&lt;chr&gt;</th><th scope=col>&lt;int&gt;</th><th scope=col>&lt;int&gt;</th><th scope=col>&lt;int&gt;</th><th scope=col>&lt;int&gt;</th><th scope=col>&lt;chr&gt;</th><th scope=col>&lt;int&gt;</th><th scope=col>&lt;chr&gt;</th></tr>\n",
       "</thead>\n",
       "<tbody>\n",
       "\t<tr><td>RS_GCF_000160875.1_Lactobacillus iners DSM 13335</td><td>RS_GCF_000160875.1</td><td>0</td><td>99.41</td><td>0.44</td><td>440</td><td>g__Lactobacillus (UID381)   </td><td>113</td><td>0</td><td>1140108</td><td>⋯</td><td>100</td><td>AEHN01000009.189.1754 </td><td>Bacteria;Firmicutes;Bacilli;Lactobacillales;Lactobacillaceae;Lactobacillus;Lactobacillus iners LactinV 11V1-d        </td><td>8328</td><td>18</td><td>44</td><td>0</td><td>Lactobacillus iners          </td><td>139650</td><td>/ebio/abt3_projects2/databases_no-backup/GTDB/release95/Struo/genomes/genbank/bacteria/GCA_000160875.1/GCA_000160875.1_ASM16087v1_genomic.fna.gz </td></tr>\n",
       "\t<tr><td>RS_GCF_001942305.1_Saccharomonospora sp. CUA-673</td><td>RS_GCF_001942305.1</td><td>0</td><td>94.97</td><td>0.00</td><td>350</td><td>o__Actinomycetales (UID2014)</td><td>203</td><td>0</td><td>4720569</td><td>⋯</td><td>100</td><td>MKKE01000074.3467.4997</td><td>Bacteria;Actinobacteria;Actinobacteria;Pseudonocardiales;Pseudonocardiaceae;Prauserella;Saccharomonospora sp. CUA-673</td><td>   0</td><td>20</td><td>48</td><td>1</td><td>Saccharomonospora sp001942305</td><td>223192</td><td>/ebio/abt3_projects2/databases_no-backup/GTDB/release95/Struo/genomes/genbank/bacteria/GCA_001942305.1/GCA_001942305.1_ASM194230v1_genomic.fna.gz</td></tr>\n",
       "\t<tr><td>⋮</td><td>⋮</td><td>⋮</td><td>⋮</td><td>⋮</td><td>⋮</td><td>⋮</td><td>⋮</td><td>⋮</td><td>⋮</td><td>⋱</td><td>⋮</td><td>⋮</td><td>⋮</td><td>⋮</td><td>⋮</td><td>⋮</td><td>⋮</td><td>⋮</td><td>⋮</td><td>⋮</td></tr>\n",
       "\t<tr><td>RS_GCF_000010325.1_Nitratiruptor sp. SB155-2        </td><td>RS_GCF_000010325.1</td><td> 0</td><td>98.78</td><td>0.00</td><td>338</td><td>k__Bacteria (UID3060)</td><td>246</td><td>0</td><td>1789739</td><td>⋯</td><td>100   </td><td>AP009178.654527.656067</td><td>Bacteria;Epsilonbacteraeota;Campylobacteria;Campylobacterales;Nitratiruptoraceae;Nitratiruptor;Nitratiruptor sp. SB155-2</td><td>    0</td><td>20</td><td>45</td><td>0</td><td>Nitratiruptor sp000010325</td><td>234389</td><td>/ebio/abt3_projects2/databases_no-backup/GTDB/release95/Struo/genomes/genbank/bacteria/GCA_000010325.1/GCA_000010325.1_ASM1032v1_genomic.fna.gz  </td></tr>\n",
       "\t<tr><td>GB_GCA_002405485.1_Phycisphaerales bacterium UBA4658</td><td>GB_GCA_002405485.1</td><td>38</td><td>77.69</td><td>1.14</td><td>143</td><td>k__Bacteria (UID2565)</td><td> 88</td><td>0</td><td>3307153</td><td>⋯</td><td>92.535</td><td>KC003075.1.1352       </td><td>Bacteria;Planctomycetes;Phycisphaerae;Phycisphaerales;Phycisphaeraceae;SM1A02;unidentified marine bacterioplankton      </td><td>89545</td><td>19</td><td>40</td><td>0</td><td>UBA4658 sp002405485      </td><td>230293</td><td>/ebio/abt3_projects2/databases_no-backup/GTDB/release95/Struo/genomes/genbank/bacteria/GCA_002405485.1/GCA_002405485.1_ASM240548v1_genomic.fna.gz</td></tr>\n",
       "</tbody>\n",
       "</table>\n"
      ],
      "text/latex": [
       "A data.table: 500 × 113\n",
       "\\begin{tabular}{lllllllllllllllllllll}\n",
       " ncbi\\_organism\\_name & accession & ambiguous\\_bases & checkm\\_completeness & checkm\\_contamination & checkm\\_marker\\_count & checkm\\_marker\\_lineage & checkm\\_marker\\_set\\_count & checkm\\_strain\\_heterogeneity & coding\\_bases & ⋯ & ssu\\_silva\\_blast\\_perc\\_identity & ssu\\_silva\\_blast\\_subject\\_id & ssu\\_silva\\_taxonomy & total\\_gap\\_length & trna\\_aa\\_count & trna\\_count & trna\\_selenocysteine\\_count & SPECIES & gtdb\\_taxid & fasta\\_file\\_path\\\\\n",
       " <chr> & <chr> & <int> & <dbl> & <dbl> & <int> & <chr> & <int> & <dbl> & <int> & ⋯ & <chr> & <chr> & <chr> & <int> & <int> & <int> & <int> & <chr> & <int> & <chr>\\\\\n",
       "\\hline\n",
       "\t RS\\_GCF\\_000160875.1\\_Lactobacillus iners DSM 13335 & RS\\_GCF\\_000160875.1 & 0 & 99.41 & 0.44 & 440 & g\\_\\_Lactobacillus (UID381)    & 113 & 0 & 1140108 & ⋯ & 100 & AEHN01000009.189.1754  & Bacteria;Firmicutes;Bacilli;Lactobacillales;Lactobacillaceae;Lactobacillus;Lactobacillus iners LactinV 11V1-d         & 8328 & 18 & 44 & 0 & Lactobacillus iners           & 139650 & /ebio/abt3\\_projects/databases\\_no-backup/GTDB/release95/Struo/genomes/genbank/bacteria/GCA\\_000160875.1/GCA\\_000160875.1\\_ASM16087v1\\_genomic.fna.gz \\\\\n",
       "\t RS\\_GCF\\_001942305.1\\_Saccharomonospora sp. CUA-673 & RS\\_GCF\\_001942305.1 & 0 & 94.97 & 0.00 & 350 & o\\_\\_Actinomycetales (UID2014) & 203 & 0 & 4720569 & ⋯ & 100 & MKKE01000074.3467.4997 & Bacteria;Actinobacteria;Actinobacteria;Pseudonocardiales;Pseudonocardiaceae;Prauserella;Saccharomonospora sp. CUA-673 &    0 & 20 & 48 & 1 & Saccharomonospora sp001942305 & 223192 & /ebio/abt3\\_projects/databases\\_no-backup/GTDB/release95/Struo/genomes/genbank/bacteria/GCA\\_001942305.1/GCA\\_001942305.1\\_ASM194230v1\\_genomic.fna.gz\\\\\n",
       "\t ⋮ & ⋮ & ⋮ & ⋮ & ⋮ & ⋮ & ⋮ & ⋮ & ⋮ & ⋮ & ⋱ & ⋮ & ⋮ & ⋮ & ⋮ & ⋮ & ⋮ & ⋮ & ⋮ & ⋮ & ⋮\\\\\n",
       "\t RS\\_GCF\\_000010325.1\\_Nitratiruptor sp. SB155-2         & RS\\_GCF\\_000010325.1 &  0 & 98.78 & 0.00 & 338 & k\\_\\_Bacteria (UID3060) & 246 & 0 & 1789739 & ⋯ & 100    & AP009178.654527.656067 & Bacteria;Epsilonbacteraeota;Campylobacteria;Campylobacterales;Nitratiruptoraceae;Nitratiruptor;Nitratiruptor sp. SB155-2 &     0 & 20 & 45 & 0 & Nitratiruptor sp000010325 & 234389 & /ebio/abt3\\_projects/databases\\_no-backup/GTDB/release95/Struo/genomes/genbank/bacteria/GCA\\_000010325.1/GCA\\_000010325.1\\_ASM1032v1\\_genomic.fna.gz  \\\\\n",
       "\t GB\\_GCA\\_002405485.1\\_Phycisphaerales bacterium UBA4658 & GB\\_GCA\\_002405485.1 & 38 & 77.69 & 1.14 & 143 & k\\_\\_Bacteria (UID2565) &  88 & 0 & 3307153 & ⋯ & 92.535 & KC003075.1.1352        & Bacteria;Planctomycetes;Phycisphaerae;Phycisphaerales;Phycisphaeraceae;SM1A02;unidentified marine bacterioplankton       & 89545 & 19 & 40 & 0 & UBA4658 sp002405485       & 230293 & /ebio/abt3\\_projects/databases\\_no-backup/GTDB/release95/Struo/genomes/genbank/bacteria/GCA\\_002405485.1/GCA\\_002405485.1\\_ASM240548v1\\_genomic.fna.gz\\\\\n",
       "\\end{tabular}\n"
      ],
      "text/markdown": [
       "\n",
       "A data.table: 500 × 113\n",
       "\n",
       "| ncbi_organism_name &lt;chr&gt; | accession &lt;chr&gt; | ambiguous_bases &lt;int&gt; | checkm_completeness &lt;dbl&gt; | checkm_contamination &lt;dbl&gt; | checkm_marker_count &lt;int&gt; | checkm_marker_lineage &lt;chr&gt; | checkm_marker_set_count &lt;int&gt; | checkm_strain_heterogeneity &lt;dbl&gt; | coding_bases &lt;int&gt; | ⋯ ⋯ | ssu_silva_blast_perc_identity &lt;chr&gt; | ssu_silva_blast_subject_id &lt;chr&gt; | ssu_silva_taxonomy &lt;chr&gt; | total_gap_length &lt;int&gt; | trna_aa_count &lt;int&gt; | trna_count &lt;int&gt; | trna_selenocysteine_count &lt;int&gt; | SPECIES &lt;chr&gt; | gtdb_taxid &lt;int&gt; | fasta_file_path &lt;chr&gt; |\n",
       "|---|---|---|---|---|---|---|---|---|---|---|---|---|---|---|---|---|---|---|---|---|\n",
       "| RS_GCF_000160875.1_Lactobacillus iners DSM 13335 | RS_GCF_000160875.1 | 0 | 99.41 | 0.44 | 440 | g__Lactobacillus (UID381)    | 113 | 0 | 1140108 | ⋯ | 100 | AEHN01000009.189.1754  | Bacteria;Firmicutes;Bacilli;Lactobacillales;Lactobacillaceae;Lactobacillus;Lactobacillus iners LactinV 11V1-d         | 8328 | 18 | 44 | 0 | Lactobacillus iners           | 139650 | /ebio/abt3_projects2/databases_no-backup/GTDB/release95/Struo/genomes/genbank/bacteria/GCA_000160875.1/GCA_000160875.1_ASM16087v1_genomic.fna.gz  |\n",
       "| RS_GCF_001942305.1_Saccharomonospora sp. CUA-673 | RS_GCF_001942305.1 | 0 | 94.97 | 0.00 | 350 | o__Actinomycetales (UID2014) | 203 | 0 | 4720569 | ⋯ | 100 | MKKE01000074.3467.4997 | Bacteria;Actinobacteria;Actinobacteria;Pseudonocardiales;Pseudonocardiaceae;Prauserella;Saccharomonospora sp. CUA-673 |    0 | 20 | 48 | 1 | Saccharomonospora sp001942305 | 223192 | /ebio/abt3_projects2/databases_no-backup/GTDB/release95/Struo/genomes/genbank/bacteria/GCA_001942305.1/GCA_001942305.1_ASM194230v1_genomic.fna.gz |\n",
       "| ⋮ | ⋮ | ⋮ | ⋮ | ⋮ | ⋮ | ⋮ | ⋮ | ⋮ | ⋮ | ⋱ | ⋮ | ⋮ | ⋮ | ⋮ | ⋮ | ⋮ | ⋮ | ⋮ | ⋮ | ⋮ |\n",
       "| RS_GCF_000010325.1_Nitratiruptor sp. SB155-2         | RS_GCF_000010325.1 |  0 | 98.78 | 0.00 | 338 | k__Bacteria (UID3060) | 246 | 0 | 1789739 | ⋯ | 100    | AP009178.654527.656067 | Bacteria;Epsilonbacteraeota;Campylobacteria;Campylobacterales;Nitratiruptoraceae;Nitratiruptor;Nitratiruptor sp. SB155-2 |     0 | 20 | 45 | 0 | Nitratiruptor sp000010325 | 234389 | /ebio/abt3_projects2/databases_no-backup/GTDB/release95/Struo/genomes/genbank/bacteria/GCA_000010325.1/GCA_000010325.1_ASM1032v1_genomic.fna.gz   |\n",
       "| GB_GCA_002405485.1_Phycisphaerales bacterium UBA4658 | GB_GCA_002405485.1 | 38 | 77.69 | 1.14 | 143 | k__Bacteria (UID2565) |  88 | 0 | 3307153 | ⋯ | 92.535 | KC003075.1.1352        | Bacteria;Planctomycetes;Phycisphaerae;Phycisphaerales;Phycisphaeraceae;SM1A02;unidentified marine bacterioplankton       | 89545 | 19 | 40 | 0 | UBA4658 sp002405485       | 230293 | /ebio/abt3_projects2/databases_no-backup/GTDB/release95/Struo/genomes/genbank/bacteria/GCA_002405485.1/GCA_002405485.1_ASM240548v1_genomic.fna.gz |\n",
       "\n"
      ],
      "text/plain": [
       "    ncbi_organism_name                                   accession         \n",
       "1   RS_GCF_000160875.1_Lactobacillus iners DSM 13335     RS_GCF_000160875.1\n",
       "2   RS_GCF_001942305.1_Saccharomonospora sp. CUA-673     RS_GCF_001942305.1\n",
       "⋮   ⋮                                                    ⋮                 \n",
       "499 RS_GCF_000010325.1_Nitratiruptor sp. SB155-2         RS_GCF_000010325.1\n",
       "500 GB_GCA_002405485.1_Phycisphaerales bacterium UBA4658 GB_GCA_002405485.1\n",
       "    ambiguous_bases checkm_completeness checkm_contamination\n",
       "1   0               99.41               0.44                \n",
       "2   0               94.97               0.00                \n",
       "⋮   ⋮               ⋮                   ⋮                   \n",
       "499  0              98.78               0.00                \n",
       "500 38              77.69               1.14                \n",
       "    checkm_marker_count checkm_marker_lineage        checkm_marker_set_count\n",
       "1   440                 g__Lactobacillus (UID381)    113                    \n",
       "2   350                 o__Actinomycetales (UID2014) 203                    \n",
       "⋮   ⋮                   ⋮                            ⋮                      \n",
       "499 338                 k__Bacteria (UID3060)        246                    \n",
       "500 143                 k__Bacteria (UID2565)         88                    \n",
       "    checkm_strain_heterogeneity coding_bases ⋯ ssu_silva_blast_perc_identity\n",
       "1   0                           1140108      ⋯ 100                          \n",
       "2   0                           4720569      ⋯ 100                          \n",
       "⋮   ⋮                           ⋮            ⋱ ⋮                            \n",
       "499 0                           1789739      ⋯ 100                          \n",
       "500 0                           3307153      ⋯ 92.535                       \n",
       "    ssu_silva_blast_subject_id\n",
       "1   AEHN01000009.189.1754     \n",
       "2   MKKE01000074.3467.4997    \n",
       "⋮   ⋮                         \n",
       "499 AP009178.654527.656067    \n",
       "500 KC003075.1.1352           \n",
       "    ssu_silva_taxonomy                                                                                                      \n",
       "1   Bacteria;Firmicutes;Bacilli;Lactobacillales;Lactobacillaceae;Lactobacillus;Lactobacillus iners LactinV 11V1-d           \n",
       "2   Bacteria;Actinobacteria;Actinobacteria;Pseudonocardiales;Pseudonocardiaceae;Prauserella;Saccharomonospora sp. CUA-673   \n",
       "⋮   ⋮                                                                                                                       \n",
       "499 Bacteria;Epsilonbacteraeota;Campylobacteria;Campylobacterales;Nitratiruptoraceae;Nitratiruptor;Nitratiruptor sp. SB155-2\n",
       "500 Bacteria;Planctomycetes;Phycisphaerae;Phycisphaerales;Phycisphaeraceae;SM1A02;unidentified marine bacterioplankton      \n",
       "    total_gap_length trna_aa_count trna_count trna_selenocysteine_count\n",
       "1   8328             18            44         0                        \n",
       "2      0             20            48         1                        \n",
       "⋮   ⋮                ⋮             ⋮          ⋮                        \n",
       "499     0            20            45         0                        \n",
       "500 89545            19            40         0                        \n",
       "    SPECIES                       gtdb_taxid\n",
       "1   Lactobacillus iners           139650    \n",
       "2   Saccharomonospora sp001942305 223192    \n",
       "⋮   ⋮                             ⋮         \n",
       "499 Nitratiruptor sp000010325     234389    \n",
       "500 UBA4658 sp002405485           230293    \n",
       "    fasta_file_path                                                                                                                                 \n",
       "1   /ebio/abt3_projects2/databases_no-backup/GTDB/release95/Struo/genomes/genbank/bacteria/GCA_000160875.1/GCA_000160875.1_ASM16087v1_genomic.fna.gz \n",
       "2   /ebio/abt3_projects2/databases_no-backup/GTDB/release95/Struo/genomes/genbank/bacteria/GCA_001942305.1/GCA_001942305.1_ASM194230v1_genomic.fna.gz\n",
       "⋮   ⋮                                                                                                                                               \n",
       "499 /ebio/abt3_projects2/databases_no-backup/GTDB/release95/Struo/genomes/genbank/bacteria/GCA_000010325.1/GCA_000010325.1_ASM1032v1_genomic.fna.gz  \n",
       "500 /ebio/abt3_projects2/databases_no-backup/GTDB/release95/Struo/genomes/genbank/bacteria/GCA_002405485.1/GCA_002405485.1_ASM240548v1_genomic.fna.gz"
      ]
     },
     "metadata": {},
     "output_type": "display_data"
    }
   ],
   "source": [
    "#' selecting genomes\n",
    "to_keep = sample(1:nrow(meta), 500)\n",
    "meta_f = meta %>%\n",
    "    slice.(rows=to_keep)\n",
    "meta_f"
   ]
  },
  {
   "cell_type": "code",
   "execution_count": 40,
   "metadata": {
    "ExecuteTime": {
     "end_time": "2020-12-13T06:25:08.627880Z",
     "start_time": "2020-12-13T06:25:08.567Z"
    }
   },
   "outputs": [
    {
     "name": "stdout",
     "output_type": "stream",
     "text": [
      "Created directory: /ebio/abt3_projects2/databases_no-backup/GTDB/release95/Struo/benchmarking/db_create/UniRef50-90/n500 \n",
      "File written: /ebio/abt3_projects2/databases_no-backup/GTDB/release95/Struo/benchmarking/db_create/UniRef50-90/n500/genome_meta_n500.tsv \n"
     ]
    }
   ],
   "source": [
    "F = file.path(work_dir, 'n500')\n",
    "make_dir(F)\n",
    "F = file.path(work_dir, 'n500', 'genome_meta_n500.tsv')\n",
    "meta_f %>% write_table(F)"
   ]
  },
  {
   "cell_type": "markdown",
   "metadata": {},
   "source": [
    "## Struo1"
   ]
  },
  {
   "cell_type": "markdown",
   "metadata": {},
   "source": [
    "### Kraken/Bracken + UniRef50"
   ]
  },
  {
   "cell_type": "markdown",
   "metadata": {},
   "source": [
    "#### Config"
   ]
  },
  {
   "cell_type": "code",
   "execution_count": 71,
   "metadata": {
    "ExecuteTime": {
     "end_time": "2020-12-14T18:41:22.718833Z",
     "start_time": "2020-12-14T18:41:22.638Z"
    }
   },
   "outputs": [
    {
     "name": "stdout",
     "output_type": "stream",
     "text": [
      "#-- I/O --#\n",
      "# file listing samples and associated data\n",
      "samples_file: /ebio/abt3_projects2/databases_no-backup/GTDB/release95/Struo/benchmarking/db_create/UniRef50-90/n500/genome_meta_n500.tsv \n",
      "\n",
      "## column names in samples table\n",
      "samples_col: 'ncbi_organism_name'\n",
      "fasta_file_path_col: 'fasta_file_path'\n",
      "taxID_col: 'ncbi_species_taxid'    \n",
      "taxonomy_col: 'ncbi_taxonomy'   \n",
      "\n",
      "# output location\n",
      "output_dir: /ebio/abt3_projects2/databases_no-backup/GTDB/release95/Struo/benchmarking/db_create/UniRef50-90/n500/struo1/\n",
      "\n",
      "# temporary file directory (your username will be added automatically)\n",
      "tmp_dir: /ebio/abt3_scratch/\n",
      "\n",
      "#-- databases to create --#\n",
      "# Replace \"Create\" with \"Skip\" to skip creation of any of these\n",
      "# Note that braken relies on the kraken2 database\n",
      "databases:\n",
      "  kraken2: Create\n",
      "  bracken: Create\n",
      "  humann2_bowtie2: Create\n",
      "  humann2_diamond: Create\n",
      "\n",
      "# output database name\n",
      "db_name: GTDB-custom\n",
      "\n",
      "#-- keep intermediate files required for re-creating DBs (eg., w/ more genomes) --#\n",
      "# If \"True\", the intermediate files are saved to `output_dir`\n",
      "# Else, the intermediate files are temporarily stored in `temp_folder`\n",
      "keep_intermediate: True\n",
      "use_ancient: True\n",
      "\n",
      "#-- if custom NCBI taxdump files (or just Skip) --#\n",
      "names_dmp: /ebio/abt3_projects2/databases_no-backup/GTDB/release95/taxdump/names.dmp\n",
      "nodes_dmp: /ebio/abt3_projects2/databases_no-backup/GTDB/release95/taxdump/nodes.dmp\n",
      "\n",
      "#-- software parameters --#\n",
      "# `vsearch_per_genome` = per-genome gene clustering\n",
      "# `vsearch_all` = all genes clustered (including `humann2_nuc_seqs` & `humann2_prot_seqs`)\n",
      "params:\n",
      "  bracken_build_kmer: 35\n",
      "  bracken_build_read_lens:\n",
      "    - 100\n",
      "    - 150\n",
      "  prodigal: \"\"\n",
      "  diamond_db: /ebio/abt3_projects2/databases_no-backup/humann3/201901/uniref50/uniref50_201901.dmnd\n",
      "  diamond_db_to_mem: True\n",
      "  diamond: --evalue 1e-3 --sensitive --query-cover 80 --id 50 --max-target-seqs 20 --block-size 3 --index-chunks 2\n",
      "  vsearch_per_genome: --id 0.97 --strand both --qmask none --fasta_width 0\n",
      "  vsearch_all: Skip #--id 1.0 --strand both --qmask none --fasta_width 0\n",
      "\n",
      "#-- If adding genes to humann2 database --#\n",
      "# If you have nucleotid and/or protein gene sequences formatted for humann2,\n",
      "# provide the file paths to the fasta files below (gzip'ed)\n",
      "humann2_nuc_seqs: Skip\n",
      "humann2_prot_seqs: Skip\n",
      "\n",
      "#-- snakemake pipeline --#\n",
      "pipeline:\n",
      "  snakemake_folder: ./\n",
      "  script_folder: ./bin/scripts/"
     ]
    }
   ],
   "source": [
    "config_file = file.path(work_dir, 'n500', 'struo1', 'config_uniref50.yaml')\n",
    "cat_file(config_file)"
   ]
  },
  {
   "cell_type": "markdown",
   "metadata": {},
   "source": [
    "#### Run\n",
    "\n",
    "```\n",
    "(snakemake) @ rick:/ebio/abt3_projects2/databases_no-backup/bin/Struo\n",
    "$ screen -L -S struo1-bmk-n500 ./snakemake_sge.sh /ebio/abt3_projects2/databases_no-backup/GTDB/release95/Struo/benchmarking/db_create/UniRef50-90/n500/struo1/config_uniref50.yaml 50 -F\n",
    "```"
   ]
  },
  {
   "cell_type": "markdown",
   "metadata": {},
   "source": [
    "### UniRef90"
   ]
  },
  {
   "cell_type": "markdown",
   "metadata": {},
   "source": [
    "#### Config"
   ]
  },
  {
   "cell_type": "code",
   "execution_count": 84,
   "metadata": {
    "ExecuteTime": {
     "end_time": "2020-12-22T08:23:59.124798Z",
     "start_time": "2020-12-22T08:23:58.546Z"
    }
   },
   "outputs": [
    {
     "name": "stdout",
     "output_type": "stream",
     "text": [
      "#-- I/O --#\n",
      "# file listing samples and associated data\n",
      "samples_file: /ebio/abt3_projects2/databases_no-backup/GTDB/release95/Struo/benchmarking/db_create/UniRef50-90/n500/genome_meta_n500.tsv \n",
      "\n",
      "## column names in samples table\n",
      "samples_col: 'ncbi_organism_name'\n",
      "fasta_file_path_col: 'fasta_file_path'\n",
      "taxID_col: 'gtdb_taxid'    \n",
      "taxonomy_col: 'gtdb_taxonomy'   \n",
      "\n",
      "# output location\n",
      "output_dir: /ebio/abt3_projects2/databases_no-backup/GTDB/release95/Struo/benchmarking/db_create/UniRef50-90/n500/struo1/uniref90/\n",
      "\n",
      "# temporary file directory (your username will be added automatically)\n",
      "tmp_dir: /ebio/abt3_scratch/\n",
      "\n",
      "#-- databases to create --#\n",
      "# Replace \"Create\" with \"Skip\" to skip creation of any of these\n",
      "# Note that braken relies on the kraken2 database\n",
      "databases:\n",
      "  kraken2: Skip #Create\n",
      "  bracken: Skip #Create\n",
      "  humann2_bowtie2: Create\n",
      "  humann2_diamond: Create\n",
      "\n",
      "# output database name\n",
      "db_name: GTDB-custom\n",
      "\n",
      "#-- keep intermediate files required for re-creating DBs (eg., w/ more genomes) --#\n",
      "# If \"True\", the intermediate files are saved to `output_dir`\n",
      "# Else, the intermediate files are temporarily stored in `temp_folder`\n",
      "keep_intermediate: True\n",
      "use_ancient: True\n",
      "\n",
      "#-- if custom NCBI taxdump files (or just Skip) --#\n",
      "names_dmp: /ebio/abt3_projects2/databases_no-backup/GTDB/release95/taxdump/names.dmp\n",
      "nodes_dmp: /ebio/abt3_projects2/databases_no-backup/GTDB/release95/taxdump/nodes.dmp\n",
      "\n",
      "#-- software parameters --#\n",
      "# `vsearch_per_genome` = per-genome gene clustering\n",
      "# `vsearch_all` = all genes clustered (including `humann2_nuc_seqs` & `humann2_prot_seqs`)\n",
      "params:\n",
      "  bracken_build_kmer: 35\n",
      "  bracken_build_read_lens:\n",
      "    - 100\n",
      "    - 150\n",
      "  prodigal: \"\"\n",
      "  diamond_db: /ebio/abt3_projects2/databases_no-backup/humann3/201901/uniref90/uniref90_201901.dmnd\n",
      "  diamond_db_to_mem: True\n",
      "  diamond: --evalue 1e-3 --sensitive --query-cover 80 --id 90 --max-target-seqs 20 --block-size 3 --index-chunks 2\n",
      "  vsearch_per_genome: --id 0.97 --strand both --qmask none --fasta_width 0\n",
      "  vsearch_all: Skip #--id 1.0 --strand both --qmask none --fasta_width 0\n",
      "\n",
      "#-- If adding genes to humann2 database --#\n",
      "# If you have nucleotid and/or protein gene sequences formatted for humann2,\n",
      "# provide the file paths to the fasta files below (gzip'ed)\n",
      "humann2_nuc_seqs: Skip\n",
      "humann2_prot_seqs: Skip\n",
      "\n",
      "#-- snakemake pipeline --#\n",
      "pipeline:\n",
      "  snakemake_folder: ./\n",
      "  script_folder: ./bin/scripts/"
     ]
    }
   ],
   "source": [
    "config_file = file.path(work_dir, 'n500', 'struo1', 'config_uniref90.yaml')\n",
    "cat_file(config_file)"
   ]
  },
  {
   "cell_type": "markdown",
   "metadata": {},
   "source": [
    "#### Run\n",
    "\n",
    "```\n",
    "(snakemake) @ rick:/ebio/abt3_projects2/databases_no-backup/bin/Struo\n",
    "$ screen -L -S struo1-bmk-n500 ./snakemake_sge.sh /ebio/abt3_projects2/databases_no-backup/GTDB/release95/Struo/benchmarking/db_create/UniRef50-90/n500/struo1/config_uniref90.yaml 50 -F\n",
    "```"
   ]
  },
  {
   "cell_type": "markdown",
   "metadata": {},
   "source": [
    "## Struo2"
   ]
  },
  {
   "cell_type": "markdown",
   "metadata": {},
   "source": [
    "### Config"
   ]
  },
  {
   "cell_type": "code",
   "execution_count": 42,
   "metadata": {
    "ExecuteTime": {
     "end_time": "2020-12-13T06:29:21.761312Z",
     "start_time": "2020-12-13T06:29:21.627Z"
    }
   },
   "outputs": [
    {
     "name": "stdout",
     "output_type": "stream",
     "text": [
      "#-- email notifications of pipeline success/failure (use \"Skip\" to deactivate) --#\n",
      "email: nyoungblut@tuebingen.mpg.de\n",
      "\n",
      "#-- I/O --#\n",
      "# file listing samples and associated data\n",
      "samples_file: /ebio/abt3_projects2/databases_no-backup/GTDB/release95/Struo/benchmarking/db_create/UniRef50-90/n500/genome_meta_n500.tsv\n",
      "\n",
      "## column names in samples table\n",
      "samples_col: 'ncbi_organism_name'\n",
      "accession_col: 'accession'\n",
      "fasta_file_path_col: 'fasta_file_path'\n",
      "taxID_col: 'gtdb_taxid'          # or 'ncbi_species_taxid'\n",
      "taxonomy_col: 'gtdb_taxonomy'    # or 'ncbi_taxonomy' \n",
      "\n",
      "# output location\n",
      "output_dir: /ebio/abt3_projects2/databases_no-backup/GTDB/release95/Struo/benchmarking/db_create/UniRef50-90/n500/struo2/\n",
      "\n",
      "# temporary file directory (your username will be added automatically)\n",
      "tmp_dir: /ebio/abt3_scratch/\n",
      "\n",
      "#-- databases to create --#\n",
      "# Replace \"Create\" with \"Skip\" to skip creation of any of these\n",
      "# Note that braken relies on the kraken2 database\n",
      "databases:\n",
      "  kraken2: Create\n",
      "  bracken: Create\n",
      "  genes: Create\n",
      "  humann3_bowtie2: Create\n",
      "  humann3_diamond: Create\n",
      "  metaphlan3: Skip #Create\n",
      "\n",
      "# Name of UniRef clustering (uniref90 or uniref50)\n",
      "## uniref90 highly recommended\n",
      "uniref_name: uniref90\n",
      "# Name of the humann3 diamond database to be created\n",
      "## This must match naming allowed by humann3\n",
      "dmnd_name: uniref90_201901.dmnd\n",
      "# Index mapping UniRef90 clusters to UniRef50 (saves time vs re-annotating)\n",
      "## This is skipped if annotating with UniRef50\n",
      "cluster_idx: /ebio/abt3_projects2/databases_no-backup/uniref/2019.01/uniref50-90.pkl\n",
      "\n",
      "#-- if custom NCBI taxdump files (or just Skip) --#\n",
      "# Used for kraken taxonomy & metaphlan\n",
      "names_dmp: /ebio/abt3_projects2/databases_no-backup/GTDB/release95/taxdump/names.dmp\n",
      "nodes_dmp: /ebio/abt3_projects2/databases_no-backup/GTDB/release95/taxdump/nodes.dmp\n",
      "\n",
      "#-- keep intermediate files required for re-creating DBs (eg., w/ more genomes) --#\n",
      "# If \"True\", the intermediate files are saved to `output_dir`\n",
      "# Else, the intermediate files are temporarily stored in `temp_folder`\n",
      "keep_intermediate: True\n",
      "\n",
      "#-- software parameters --#\n",
      "# `vsearch_per_genome` = per-genome gene clustering\n",
      "# for humann3, use either mmseqs or diamond (mmseqs gets priority if neither skipped)\n",
      "# for humann3::mmseqs_search::run, --num-iterations must be >=2\n",
      "params:\n",
      "  ionice: -c 3\n",
      "  bracken:\n",
      "    build_kmer: 35\n",
      "    build_read_lens:\n",
      "      - 100\n",
      "      - 150\n",
      "  genes:\n",
      "    prodigal: \"\"\n",
      "    vsearch_per_genome: --id 0.97 --strand both --qmask none --fasta_width 0\n",
      "    mmseqs_cluster: --min-seq-id 0.9 -c 0.8\n",
      "    mmseqs_cluster_method: linclust         # or \"cluster\", which is slower\n",
      "  humann3:\n",
      "    batches: 100\n",
      "    mmseqs_search:\n",
      "      db: /ebio/abt3_projects2/databases_no-backup/mmseqs/UniRef90/2019_01/uniref90\n",
      "      run: -e 1e-3 --max-accept 1 --max-seqs 100 --num-iterations 2 --start-sens 1 --sens-steps 3 -s 6\n",
      "    diamond:\n",
      "      db: /ebio/abt3_projects2/databases_no-backup/humann3/201901/uniref90/uniref90_201901.dmnd\n",
      "      run: Skip #--evalue 1e-3 --query-cover 80 --id 90 --max-target-seqs 1 --block-size 4 --index-chunks 2\n",
      "    propagate_annotations: --min-cov 80 --min-pident 90\n",
      "  metaphlan3:\n",
      "    pkl: /ebio/abt3_projects2/databases_no-backup/metaphlan3/201901/mpa_v30_CHOCOPhlAn_201901.pkl\n",
      "    fasta: /ebio/abt3_projects2/databases_no-backup/metaphlan3/201901/mpa_v30_CHOCOPhlAn_201901.fna.bz2\n",
      "    species_specific_markers: --ext-abs-cutoff 10 --ext-rel-cutoff 0.1\n",
      "\n",
      "#-- snakemake pipeline --#\n",
      "pipeline:\n",
      "  snakemake_folder: ./\n",
      "  script_folder: ./bin/scripts/\n",
      "  name: Struo2_db-create\n",
      "  config: create"
     ]
    }
   ],
   "source": [
    "config_file = file.path(work_dir, 'n500', 'struo2', 'config_db-create.yaml')\n",
    "cat_file(config_file)"
   ]
  },
  {
   "cell_type": "markdown",
   "metadata": {},
   "source": [
    "### Run\n",
    "\n",
    "```\n",
    "(snakemake) @ rick:/ebio/abt3_projects2/databases_no-backup/bin/struo2_1\n",
    "$ screen -L -S struo2-bmk-n500 ./snakemake_sge.sh /ebio/abt3_projects2/databases_no-backup/GTDB/release95/Struo/benchmarking/db_create/UniRef50-90/n500/struo2/config_db-create.yaml 50 -F\n",
    "```"
   ]
  },
  {
   "cell_type": "markdown",
   "metadata": {},
   "source": [
    "# n1000"
   ]
  },
  {
   "cell_type": "code",
   "execution_count": 59,
   "metadata": {
    "ExecuteTime": {
     "end_time": "2020-12-14T07:33:22.342084Z",
     "start_time": "2020-12-14T07:33:22.235Z"
    }
   },
   "outputs": [
    {
     "data": {
      "text/html": [
       "<table>\n",
       "<caption>A data.table: 1000 × 113</caption>\n",
       "<thead>\n",
       "\t<tr><th scope=col>ncbi_organism_name</th><th scope=col>accession</th><th scope=col>ambiguous_bases</th><th scope=col>checkm_completeness</th><th scope=col>checkm_contamination</th><th scope=col>checkm_marker_count</th><th scope=col>checkm_marker_lineage</th><th scope=col>checkm_marker_set_count</th><th scope=col>checkm_strain_heterogeneity</th><th scope=col>coding_bases</th><th scope=col>⋯</th><th scope=col>ssu_silva_blast_perc_identity</th><th scope=col>ssu_silva_blast_subject_id</th><th scope=col>ssu_silva_taxonomy</th><th scope=col>total_gap_length</th><th scope=col>trna_aa_count</th><th scope=col>trna_count</th><th scope=col>trna_selenocysteine_count</th><th scope=col>SPECIES</th><th scope=col>gtdb_taxid</th><th scope=col>fasta_file_path</th></tr>\n",
       "\t<tr><th scope=col>&lt;chr&gt;</th><th scope=col>&lt;chr&gt;</th><th scope=col>&lt;int&gt;</th><th scope=col>&lt;dbl&gt;</th><th scope=col>&lt;dbl&gt;</th><th scope=col>&lt;int&gt;</th><th scope=col>&lt;chr&gt;</th><th scope=col>&lt;int&gt;</th><th scope=col>&lt;dbl&gt;</th><th scope=col>&lt;int&gt;</th><th scope=col>⋯</th><th scope=col>&lt;chr&gt;</th><th scope=col>&lt;chr&gt;</th><th scope=col>&lt;chr&gt;</th><th scope=col>&lt;int&gt;</th><th scope=col>&lt;int&gt;</th><th scope=col>&lt;int&gt;</th><th scope=col>&lt;int&gt;</th><th scope=col>&lt;chr&gt;</th><th scope=col>&lt;int&gt;</th><th scope=col>&lt;chr&gt;</th></tr>\n",
       "</thead>\n",
       "<tbody>\n",
       "\t<tr><td>GB_GCA_001303225.1_candidate division TA06 bacterium DG_78  </td><td>GB_GCA_001303225.1</td><td>1</td><td>75.60</td><td>1.19</td><td>143</td><td>k__Bacteria (UID2495)</td><td> 89</td><td>0</td><td>1913044</td><td>⋯</td><td>93.634</td><td>AB807342.1.1489</td><td>Bacteria;TA06;uncultured bacterium                       </td><td>  14</td><td>18</td><td>39</td><td>1</td><td>DG-78 sp001303225 </td><td>213534</td><td>/ebio/abt3_projects2/databases_no-backup/GTDB/release95/Struo/genomes/genbank/bacteria/GCA_001303225.1/GCA_001303225.1_ASM130322v1_genomic.fna.gz</td></tr>\n",
       "\t<tr><td>GB_GCA_002505585.1_Candidatus Woesearchaeota archaeon UBA489</td><td>GB_GCA_002505585.1</td><td>0</td><td>79.44</td><td>0.00</td><td>149</td><td>k__Archaea (UID2)    </td><td>107</td><td>0</td><td> 705612</td><td>⋯</td><td>86.558</td><td>FJ810532.1.1401</td><td>Archaea;Nanoarchaeaeota;Woesearchaeia;uncultured archaeon</td><td>1009</td><td>17</td><td>30</td><td>0</td><td>UBA489 sp002505585</td><td>  2731</td><td>/ebio/abt3_projects2/databases_no-backup/GTDB/release95/Struo/genomes/genbank/archaea/GCA_002505585.1/GCA_002505585.1_ASM250558v1_genomic.fna.gz </td></tr>\n",
       "\t<tr><td>⋮</td><td>⋮</td><td>⋮</td><td>⋮</td><td>⋮</td><td>⋮</td><td>⋮</td><td>⋮</td><td>⋮</td><td>⋮</td><td>⋱</td><td>⋮</td><td>⋮</td><td>⋮</td><td>⋮</td><td>⋮</td><td>⋮</td><td>⋮</td><td>⋮</td><td>⋮</td><td>⋮</td></tr>\n",
       "\t<tr><td>RS_GCF_003337735.1_Thioalbus denitrificans</td><td>RS_GCF_003337735.1</td><td>9</td><td>99.28</td><td>4.11</td><td>544</td><td>c__Gammaproteobacteria (UID4267)</td><td>284</td><td>0</td><td>3604666</td><td>⋯</td><td>100   </td><td>AB597529.1.1537</td><td>Bacteria;Proteobacteria;Gammaproteobacteria;Ectothiorhodospirales;Ectothiorhodospiraceae;Thioalbus;uncultured gamma proteobacterium</td><td>979</td><td>20</td><td>45</td><td>0</td><td>Thioalbus denitrificans </td><td>215411</td><td>/ebio/abt3_projects2/databases_no-backup/GTDB/release95/Struo/genomes/genbank/bacteria/GCA_003337735.1/GCA_003337735.1_ASM333773v1_genomic.fna.gz</td></tr>\n",
       "\t<tr><td>RS_GCF_005250675.1_Nocardioides sp. 4053  </td><td>RS_GCF_005250675.1</td><td>0</td><td>98.96</td><td>0.17</td><td>329</td><td>o__Actinomycetales (UID1697)    </td><td>192</td><td>0</td><td>4062816</td><td>⋯</td><td>97.823</td><td>DQ532242.1.1512</td><td>Bacteria;Actinobacteria;Actinobacteria;Propionibacteriales;Nocardioidaceae;Nocardioides;uncultured bacterium                       </td><td>  0</td><td>20</td><td>45</td><td>0</td><td>Nocardioides sp005954645</td><td>189773</td><td>/ebio/abt3_projects2/databases_no-backup/GTDB/release95/Struo/genomes/genbank/bacteria/GCA_005250675.1/GCA_005250675.1_ASM525067v1_genomic.fna.gz</td></tr>\n",
       "</tbody>\n",
       "</table>\n"
      ],
      "text/latex": [
       "A data.table: 1000 × 113\n",
       "\\begin{tabular}{lllllllllllllllllllll}\n",
       " ncbi\\_organism\\_name & accession & ambiguous\\_bases & checkm\\_completeness & checkm\\_contamination & checkm\\_marker\\_count & checkm\\_marker\\_lineage & checkm\\_marker\\_set\\_count & checkm\\_strain\\_heterogeneity & coding\\_bases & ⋯ & ssu\\_silva\\_blast\\_perc\\_identity & ssu\\_silva\\_blast\\_subject\\_id & ssu\\_silva\\_taxonomy & total\\_gap\\_length & trna\\_aa\\_count & trna\\_count & trna\\_selenocysteine\\_count & SPECIES & gtdb\\_taxid & fasta\\_file\\_path\\\\\n",
       " <chr> & <chr> & <int> & <dbl> & <dbl> & <int> & <chr> & <int> & <dbl> & <int> & ⋯ & <chr> & <chr> & <chr> & <int> & <int> & <int> & <int> & <chr> & <int> & <chr>\\\\\n",
       "\\hline\n",
       "\t GB\\_GCA\\_001303225.1\\_candidate division TA06 bacterium DG\\_78   & GB\\_GCA\\_001303225.1 & 1 & 75.60 & 1.19 & 143 & k\\_\\_Bacteria (UID2495) &  89 & 0 & 1913044 & ⋯ & 93.634 & AB807342.1.1489 & Bacteria;TA06;uncultured bacterium                        &   14 & 18 & 39 & 1 & DG-78 sp001303225  & 213534 & /ebio/abt3\\_projects/databases\\_no-backup/GTDB/release95/Struo/genomes/genbank/bacteria/GCA\\_001303225.1/GCA\\_001303225.1\\_ASM130322v1\\_genomic.fna.gz\\\\\n",
       "\t GB\\_GCA\\_002505585.1\\_Candidatus Woesearchaeota archaeon UBA489 & GB\\_GCA\\_002505585.1 & 0 & 79.44 & 0.00 & 149 & k\\_\\_Archaea (UID2)     & 107 & 0 &  705612 & ⋯ & 86.558 & FJ810532.1.1401 & Archaea;Nanoarchaeaeota;Woesearchaeia;uncultured archaeon & 1009 & 17 & 30 & 0 & UBA489 sp002505585 &   2731 & /ebio/abt3\\_projects/databases\\_no-backup/GTDB/release95/Struo/genomes/genbank/archaea/GCA\\_002505585.1/GCA\\_002505585.1\\_ASM250558v1\\_genomic.fna.gz \\\\\n",
       "\t ⋮ & ⋮ & ⋮ & ⋮ & ⋮ & ⋮ & ⋮ & ⋮ & ⋮ & ⋮ & ⋱ & ⋮ & ⋮ & ⋮ & ⋮ & ⋮ & ⋮ & ⋮ & ⋮ & ⋮ & ⋮\\\\\n",
       "\t RS\\_GCF\\_003337735.1\\_Thioalbus denitrificans & RS\\_GCF\\_003337735.1 & 9 & 99.28 & 4.11 & 544 & c\\_\\_Gammaproteobacteria (UID4267) & 284 & 0 & 3604666 & ⋯ & 100    & AB597529.1.1537 & Bacteria;Proteobacteria;Gammaproteobacteria;Ectothiorhodospirales;Ectothiorhodospiraceae;Thioalbus;uncultured gamma proteobacterium & 979 & 20 & 45 & 0 & Thioalbus denitrificans  & 215411 & /ebio/abt3\\_projects/databases\\_no-backup/GTDB/release95/Struo/genomes/genbank/bacteria/GCA\\_003337735.1/GCA\\_003337735.1\\_ASM333773v1\\_genomic.fna.gz\\\\\n",
       "\t RS\\_GCF\\_005250675.1\\_Nocardioides sp. 4053   & RS\\_GCF\\_005250675.1 & 0 & 98.96 & 0.17 & 329 & o\\_\\_Actinomycetales (UID1697)     & 192 & 0 & 4062816 & ⋯ & 97.823 & DQ532242.1.1512 & Bacteria;Actinobacteria;Actinobacteria;Propionibacteriales;Nocardioidaceae;Nocardioides;uncultured bacterium                        &   0 & 20 & 45 & 0 & Nocardioides sp005954645 & 189773 & /ebio/abt3\\_projects/databases\\_no-backup/GTDB/release95/Struo/genomes/genbank/bacteria/GCA\\_005250675.1/GCA\\_005250675.1\\_ASM525067v1\\_genomic.fna.gz\\\\\n",
       "\\end{tabular}\n"
      ],
      "text/markdown": [
       "\n",
       "A data.table: 1000 × 113\n",
       "\n",
       "| ncbi_organism_name &lt;chr&gt; | accession &lt;chr&gt; | ambiguous_bases &lt;int&gt; | checkm_completeness &lt;dbl&gt; | checkm_contamination &lt;dbl&gt; | checkm_marker_count &lt;int&gt; | checkm_marker_lineage &lt;chr&gt; | checkm_marker_set_count &lt;int&gt; | checkm_strain_heterogeneity &lt;dbl&gt; | coding_bases &lt;int&gt; | ⋯ ⋯ | ssu_silva_blast_perc_identity &lt;chr&gt; | ssu_silva_blast_subject_id &lt;chr&gt; | ssu_silva_taxonomy &lt;chr&gt; | total_gap_length &lt;int&gt; | trna_aa_count &lt;int&gt; | trna_count &lt;int&gt; | trna_selenocysteine_count &lt;int&gt; | SPECIES &lt;chr&gt; | gtdb_taxid &lt;int&gt; | fasta_file_path &lt;chr&gt; |\n",
       "|---|---|---|---|---|---|---|---|---|---|---|---|---|---|---|---|---|---|---|---|---|\n",
       "| GB_GCA_001303225.1_candidate division TA06 bacterium DG_78   | GB_GCA_001303225.1 | 1 | 75.60 | 1.19 | 143 | k__Bacteria (UID2495) |  89 | 0 | 1913044 | ⋯ | 93.634 | AB807342.1.1489 | Bacteria;TA06;uncultured bacterium                        |   14 | 18 | 39 | 1 | DG-78 sp001303225  | 213534 | /ebio/abt3_projects2/databases_no-backup/GTDB/release95/Struo/genomes/genbank/bacteria/GCA_001303225.1/GCA_001303225.1_ASM130322v1_genomic.fna.gz |\n",
       "| GB_GCA_002505585.1_Candidatus Woesearchaeota archaeon UBA489 | GB_GCA_002505585.1 | 0 | 79.44 | 0.00 | 149 | k__Archaea (UID2)     | 107 | 0 |  705612 | ⋯ | 86.558 | FJ810532.1.1401 | Archaea;Nanoarchaeaeota;Woesearchaeia;uncultured archaeon | 1009 | 17 | 30 | 0 | UBA489 sp002505585 |   2731 | /ebio/abt3_projects2/databases_no-backup/GTDB/release95/Struo/genomes/genbank/archaea/GCA_002505585.1/GCA_002505585.1_ASM250558v1_genomic.fna.gz  |\n",
       "| ⋮ | ⋮ | ⋮ | ⋮ | ⋮ | ⋮ | ⋮ | ⋮ | ⋮ | ⋮ | ⋱ | ⋮ | ⋮ | ⋮ | ⋮ | ⋮ | ⋮ | ⋮ | ⋮ | ⋮ | ⋮ |\n",
       "| RS_GCF_003337735.1_Thioalbus denitrificans | RS_GCF_003337735.1 | 9 | 99.28 | 4.11 | 544 | c__Gammaproteobacteria (UID4267) | 284 | 0 | 3604666 | ⋯ | 100    | AB597529.1.1537 | Bacteria;Proteobacteria;Gammaproteobacteria;Ectothiorhodospirales;Ectothiorhodospiraceae;Thioalbus;uncultured gamma proteobacterium | 979 | 20 | 45 | 0 | Thioalbus denitrificans  | 215411 | /ebio/abt3_projects2/databases_no-backup/GTDB/release95/Struo/genomes/genbank/bacteria/GCA_003337735.1/GCA_003337735.1_ASM333773v1_genomic.fna.gz |\n",
       "| RS_GCF_005250675.1_Nocardioides sp. 4053   | RS_GCF_005250675.1 | 0 | 98.96 | 0.17 | 329 | o__Actinomycetales (UID1697)     | 192 | 0 | 4062816 | ⋯ | 97.823 | DQ532242.1.1512 | Bacteria;Actinobacteria;Actinobacteria;Propionibacteriales;Nocardioidaceae;Nocardioides;uncultured bacterium                        |   0 | 20 | 45 | 0 | Nocardioides sp005954645 | 189773 | /ebio/abt3_projects2/databases_no-backup/GTDB/release95/Struo/genomes/genbank/bacteria/GCA_005250675.1/GCA_005250675.1_ASM525067v1_genomic.fna.gz |\n",
       "\n"
      ],
      "text/plain": [
       "     ncbi_organism_name                                          \n",
       "1    GB_GCA_001303225.1_candidate division TA06 bacterium DG_78  \n",
       "2    GB_GCA_002505585.1_Candidatus Woesearchaeota archaeon UBA489\n",
       "⋮    ⋮                                                           \n",
       "999  RS_GCF_003337735.1_Thioalbus denitrificans                  \n",
       "1000 RS_GCF_005250675.1_Nocardioides sp. 4053                    \n",
       "     accession          ambiguous_bases checkm_completeness\n",
       "1    GB_GCA_001303225.1 1               75.60              \n",
       "2    GB_GCA_002505585.1 0               79.44              \n",
       "⋮    ⋮                  ⋮               ⋮                  \n",
       "999  RS_GCF_003337735.1 9               99.28              \n",
       "1000 RS_GCF_005250675.1 0               98.96              \n",
       "     checkm_contamination checkm_marker_count checkm_marker_lineage           \n",
       "1    1.19                 143                 k__Bacteria (UID2495)           \n",
       "2    0.00                 149                 k__Archaea (UID2)               \n",
       "⋮    ⋮                    ⋮                   ⋮                               \n",
       "999  4.11                 544                 c__Gammaproteobacteria (UID4267)\n",
       "1000 0.17                 329                 o__Actinomycetales (UID1697)    \n",
       "     checkm_marker_set_count checkm_strain_heterogeneity coding_bases ⋯\n",
       "1     89                     0                           1913044      ⋯\n",
       "2    107                     0                            705612      ⋯\n",
       "⋮    ⋮                       ⋮                           ⋮            ⋱\n",
       "999  284                     0                           3604666      ⋯\n",
       "1000 192                     0                           4062816      ⋯\n",
       "     ssu_silva_blast_perc_identity ssu_silva_blast_subject_id\n",
       "1    93.634                        AB807342.1.1489           \n",
       "2    86.558                        FJ810532.1.1401           \n",
       "⋮    ⋮                             ⋮                         \n",
       "999  100                           AB597529.1.1537           \n",
       "1000 97.823                        DQ532242.1.1512           \n",
       "     ssu_silva_taxonomy                                                                                                                 \n",
       "1    Bacteria;TA06;uncultured bacterium                                                                                                 \n",
       "2    Archaea;Nanoarchaeaeota;Woesearchaeia;uncultured archaeon                                                                          \n",
       "⋮    ⋮                                                                                                                                  \n",
       "999  Bacteria;Proteobacteria;Gammaproteobacteria;Ectothiorhodospirales;Ectothiorhodospiraceae;Thioalbus;uncultured gamma proteobacterium\n",
       "1000 Bacteria;Actinobacteria;Actinobacteria;Propionibacteriales;Nocardioidaceae;Nocardioides;uncultured bacterium                       \n",
       "     total_gap_length trna_aa_count trna_count trna_selenocysteine_count\n",
       "1      14             18            39         1                        \n",
       "2    1009             17            30         0                        \n",
       "⋮    ⋮                ⋮             ⋮          ⋮                        \n",
       "999  979              20            45         0                        \n",
       "1000   0              20            45         0                        \n",
       "     SPECIES                  gtdb_taxid\n",
       "1    DG-78 sp001303225        213534    \n",
       "2    UBA489 sp002505585         2731    \n",
       "⋮    ⋮                        ⋮         \n",
       "999  Thioalbus denitrificans  215411    \n",
       "1000 Nocardioides sp005954645 189773    \n",
       "     fasta_file_path                                                                                                                                 \n",
       "1    /ebio/abt3_projects2/databases_no-backup/GTDB/release95/Struo/genomes/genbank/bacteria/GCA_001303225.1/GCA_001303225.1_ASM130322v1_genomic.fna.gz\n",
       "2    /ebio/abt3_projects2/databases_no-backup/GTDB/release95/Struo/genomes/genbank/archaea/GCA_002505585.1/GCA_002505585.1_ASM250558v1_genomic.fna.gz \n",
       "⋮    ⋮                                                                                                                                               \n",
       "999  /ebio/abt3_projects2/databases_no-backup/GTDB/release95/Struo/genomes/genbank/bacteria/GCA_003337735.1/GCA_003337735.1_ASM333773v1_genomic.fna.gz\n",
       "1000 /ebio/abt3_projects2/databases_no-backup/GTDB/release95/Struo/genomes/genbank/bacteria/GCA_005250675.1/GCA_005250675.1_ASM525067v1_genomic.fna.gz"
      ]
     },
     "metadata": {},
     "output_type": "display_data"
    }
   ],
   "source": [
    "to_keep = sample(1:nrow(meta), 1000)\n",
    "meta_f = meta %>%\n",
    "    slice.(rows=to_keep)\n",
    "meta_f"
   ]
  },
  {
   "cell_type": "code",
   "execution_count": 60,
   "metadata": {
    "ExecuteTime": {
     "end_time": "2020-12-14T07:33:22.500960Z",
     "start_time": "2020-12-14T07:33:22.377Z"
    }
   },
   "outputs": [
    {
     "name": "stdout",
     "output_type": "stream",
     "text": [
      "File written: /ebio/abt3_projects2/databases_no-backup/GTDB/release95/Struo/benchmarking/db_create/UniRef50-90/n1000/genome_meta_n1000.tsv \n"
     ]
    }
   ],
   "source": [
    "F = file.path(work_dir, 'n1000', 'genome_meta_n1000.tsv')\n",
    "meta_f %>% write_table(F)"
   ]
  },
  {
   "cell_type": "markdown",
   "metadata": {},
   "source": [
    "## Struo1"
   ]
  },
  {
   "cell_type": "markdown",
   "metadata": {},
   "source": [
    "### Kraken/Bracken + UniRef50"
   ]
  },
  {
   "cell_type": "markdown",
   "metadata": {},
   "source": [
    "#### Config"
   ]
  },
  {
   "cell_type": "code",
   "execution_count": 131,
   "metadata": {
    "ExecuteTime": {
     "end_time": "2021-01-10T12:05:19.217365Z",
     "start_time": "2021-01-10T12:05:19.175Z"
    }
   },
   "outputs": [
    {
     "data": {
      "text/html": [
       "'/ebio/abt3_projects2/databases_no-backup/GTDB/release95/Struo/benchmarking/db_create/UniRef50-90/n1000/struo1/config_uniref50.yaml'"
      ],
      "text/latex": [
       "'/ebio/abt3\\_projects/databases\\_no-backup/GTDB/release95/Struo/benchmarking/db\\_create/UniRef50-90/n1000/struo1/config\\_uniref50.yaml'"
      ],
      "text/markdown": [
       "'/ebio/abt3_projects2/databases_no-backup/GTDB/release95/Struo/benchmarking/db_create/UniRef50-90/n1000/struo1/config_uniref50.yaml'"
      ],
      "text/plain": [
       "[1] \"/ebio/abt3_projects2/databases_no-backup/GTDB/release95/Struo/benchmarking/db_create/UniRef50-90/n1000/struo1/config_uniref50.yaml\""
      ]
     },
     "metadata": {},
     "output_type": "display_data"
    }
   ],
   "source": [
    "file.path(work_dir, 'n1000', 'struo1', 'config_uniref50.yaml')"
   ]
  },
  {
   "cell_type": "code",
   "execution_count": 97,
   "metadata": {
    "ExecuteTime": {
     "end_time": "2020-12-27T11:55:46.440693Z",
     "start_time": "2020-12-27T11:55:46.344Z"
    }
   },
   "outputs": [
    {
     "name": "stdout",
     "output_type": "stream",
     "text": [
      "#-- I/O --#\n",
      "# file listing samples and associated data\n",
      "samples_file: /ebio/abt3_projects2/databases_no-backup/GTDB/release95/Struo/benchmarking/db_create/UniRef50-90/n1000/genome_meta_n1000.tsv \n",
      "\n",
      "## column names in samples table\n",
      "samples_col: 'ncbi_organism_name'\n",
      "fasta_file_path_col: 'fasta_file_path'\n",
      "taxID_col: 'gtdb_taxid'    \n",
      "taxonomy_col: 'gtdb_taxonomy'   \n",
      "\n",
      "# output location\n",
      "output_dir: /ebio/abt3_projects2/databases_no-backup/GTDB/release95/Struo/benchmarking/db_create/UniRef50-90/n1000/struo1/\n",
      "\n",
      "# temporary file directory (your username will be added automatically)\n",
      "tmp_dir: /ebio/abt3_scratch/\n",
      "\n",
      "#-- databases to create --#\n",
      "# Replace \"Create\" with \"Skip\" to skip creation of any of these\n",
      "# Note that braken relies on the kraken2 database\n",
      "databases:\n",
      "  kraken2: Create\n",
      "  bracken: Create\n",
      "  humann2_bowtie2: Create\n",
      "  humann2_diamond: Create\n",
      "\n",
      "# output database name\n",
      "db_name: GTDB-custom\n",
      "\n",
      "#-- keep intermediate files required for re-creating DBs (eg., w/ more genomes) --#\n",
      "# If \"True\", the intermediate files are saved to `output_dir`\n",
      "# Else, the intermediate files are temporarily stored in `temp_folder`\n",
      "keep_intermediate: True\n",
      "use_ancient: True\n",
      "\n",
      "#-- if custom NCBI taxdump files (or just Skip) --#\n",
      "names_dmp: /ebio/abt3_projects2/databases_no-backup/GTDB/release95/taxdump/names.dmp\n",
      "nodes_dmp: /ebio/abt3_projects2/databases_no-backup/GTDB/release95/taxdump/nodes.dmp\n",
      "\n",
      "#-- software parameters --#\n",
      "# `vsearch_per_genome` = per-genome gene clustering\n",
      "# `vsearch_all` = all genes clustered (including `humann2_nuc_seqs` & `humann2_prot_seqs`)\n",
      "params:\n",
      "  bracken_build_kmer: 35\n",
      "  bracken_build_read_lens:\n",
      "    - 100\n",
      "    - 150\n",
      "  prodigal: \"\"\n",
      "  diamond_db: /ebio/abt3_projects2/databases_no-backup/humann3/201901/uniref50/uniref50_201901.dmnd\n",
      "  diamond_db_to_mem: True\n",
      "  diamond: --evalue 1e-3 --sensitive --query-cover 80 --id 50 --max-target-seqs 20 --block-size 3 --index-chunks 2\n",
      "  vsearch_per_genome: --id 0.97 --strand both --qmask none --fasta_width 0\n",
      "  vsearch_all: Skip #--id 1.0 --strand both --qmask none --fasta_width 0\n",
      "\n",
      "#-- If adding genes to humann2 database --#\n",
      "# If you have nucleotid and/or protein gene sequences formatted for humann2,\n",
      "# provide the file paths to the fasta files below (gzip'ed)\n",
      "humann2_nuc_seqs: Skip\n",
      "humann2_prot_seqs: Skip\n",
      "\n",
      "#-- snakemake pipeline --#\n",
      "pipeline:\n",
      "  snakemake_folder: ./\n",
      "  script_folder: ./bin/scripts/"
     ]
    }
   ],
   "source": [
    "config_file = file.path(work_dir, 'n1000', 'struo1', 'config_uniref50.yaml')\n",
    "cat_file(config_file)"
   ]
  },
  {
   "cell_type": "markdown",
   "metadata": {},
   "source": [
    "#### Run\n",
    "\n",
    "```\n",
    "(snakemake) @ rick:/ebio/abt3_projects2/databases_no-backup/bin/Struo\n",
    "$ screen -L -S struo1-bmk-n1k ./snakemake_sge.sh /ebio/abt3_projects2/databases_no-backup/GTDB/release95/Struo/benchmarking/db_create/UniRef50-90/n1000/struo1/config_uniref50.yaml 50 -F\n",
    "```"
   ]
  },
  {
   "cell_type": "markdown",
   "metadata": {},
   "source": [
    "### UniRef90"
   ]
  },
  {
   "cell_type": "markdown",
   "metadata": {},
   "source": [
    "#### Config"
   ]
  },
  {
   "cell_type": "code",
   "execution_count": 98,
   "metadata": {
    "ExecuteTime": {
     "end_time": "2020-12-27T11:57:11.740079Z",
     "start_time": "2020-12-27T11:57:11.628Z"
    }
   },
   "outputs": [
    {
     "name": "stdout",
     "output_type": "stream",
     "text": [
      "#-- I/O --#\n",
      "# file listing samples and associated data\n",
      "samples_file: /ebio/abt3_projects2/databases_no-backup/GTDB/release95/Struo/benchmarking/db_create/UniRef50-90/n1000/genome_meta_n1000.tsv \n",
      "\n",
      "## column names in samples table\n",
      "samples_col: 'ncbi_organism_name'\n",
      "fasta_file_path_col: 'fasta_file_path'\n",
      "taxID_col: 'gtdb_taxid'    \n",
      "taxonomy_col: 'gtdb_taxonomy'   \n",
      "\n",
      "# output location\n",
      "output_dir: /ebio/abt3_projects2/databases_no-backup/GTDB/release95/Struo/benchmarking/db_create/UniRef50-90/n1000/struo1/uniref90/\n",
      "\n",
      "# temporary file directory (your username will be added automatically)\n",
      "tmp_dir: /ebio/abt3_scratch/\n",
      "\n",
      "#-- databases to create --#\n",
      "# Replace \"Create\" with \"Skip\" to skip creation of any of these\n",
      "# Note that braken relies on the kraken2 database\n",
      "databases:\n",
      "  kraken2: Skip #Create\n",
      "  bracken: Skip #Create\n",
      "  humann2_bowtie2: Create\n",
      "  humann2_diamond: Create\n",
      "\n",
      "# output database name\n",
      "db_name: GTDB-custom\n",
      "\n",
      "#-- keep intermediate files required for re-creating DBs (eg., w/ more genomes) --#\n",
      "# If \"True\", the intermediate files are saved to `output_dir`\n",
      "# Else, the intermediate files are temporarily stored in `temp_folder`\n",
      "keep_intermediate: True\n",
      "use_ancient: False\n",
      "\n",
      "#-- if custom NCBI taxdump files (or just Skip) --#\n",
      "names_dmp: /ebio/abt3_projects2/databases_no-backup/GTDB/release95/taxdump/names.dmp\n",
      "nodes_dmp: /ebio/abt3_projects2/databases_no-backup/GTDB/release95/taxdump/nodes.dmp\n",
      "\n",
      "#-- software parameters --#\n",
      "# `vsearch_per_genome` = per-genome gene clustering\n",
      "# `vsearch_all` = all genes clustered (including `humann2_nuc_seqs` & `humann2_prot_seqs`)\n",
      "params:\n",
      "  bracken_build_kmer: 35\n",
      "  bracken_build_read_lens:\n",
      "    - 100\n",
      "    - 150\n",
      "  prodigal: \"\"\n",
      "  diamond_db: /ebio/abt3_projects2/databases_no-backup/humann3/201901/uniref90/uniref90_201901.dmnd\n",
      "  diamond_db_to_mem: True\n",
      "  diamond: --evalue 1e-3 --sensitive --query-cover 80 --id 90 --max-target-seqs 20 --block-size 3 --index-chunks 2\n",
      "  vsearch_per_genome: --id 0.97 --strand both --qmask none --fasta_width 0\n",
      "  vsearch_all: Skip #--id 1.0 --strand both --qmask none --fasta_width 0\n",
      "\n",
      "#-- If adding genes to humann2 database --#\n",
      "# If you have nucleotid and/or protein gene sequences formatted for humann2,\n",
      "# provide the file paths to the fasta files below (gzip'ed)\n",
      "humann2_nuc_seqs: Skip\n",
      "humann2_prot_seqs: Skip\n",
      "\n",
      "#-- snakemake pipeline --#\n",
      "pipeline:\n",
      "  snakemake_folder: ./\n",
      "  script_folder: ./bin/scripts/"
     ]
    }
   ],
   "source": [
    "config_file = file.path(work_dir, 'n1000', 'struo1', 'config_uniref90.yaml')\n",
    "cat_file(config_file)"
   ]
  },
  {
   "cell_type": "markdown",
   "metadata": {},
   "source": [
    "#### Run\n",
    "\n",
    "```\n",
    "(snakemake) @ rick:/ebio/abt3_projects2/databases_no-backup/bin/Struo\n",
    "$ screen -L -S struo1-bmk-n1000 ./snakemake_sge.sh /ebio/abt3_projects2/databases_no-backup/GTDB/release95/Struo/benchmarking/db_create/UniRef50-90/n1000/struo1/config_uniref90.yaml 50 -F\n",
    "```"
   ]
  },
  {
   "cell_type": "markdown",
   "metadata": {},
   "source": [
    "## Struo2"
   ]
  },
  {
   "cell_type": "markdown",
   "metadata": {},
   "source": [
    "### Config"
   ]
  },
  {
   "cell_type": "code",
   "execution_count": 61,
   "metadata": {
    "ExecuteTime": {
     "end_time": "2020-12-14T07:35:50.212465Z",
     "start_time": "2020-12-14T07:35:50.120Z"
    }
   },
   "outputs": [
    {
     "name": "stdout",
     "output_type": "stream",
     "text": [
      "#-- email notifications of pipeline success/failure (use \"Skip\" to deactivate) --#\n",
      "email: nyoungblut@tuebingen.mpg.de\n",
      "\n",
      "#-- I/O --#\n",
      "# file listing samples and associated data\n",
      "samples_file: /ebio/abt3_projects2/databases_no-backup/GTDB/release95/Struo/benchmarking/db_create/UniRef50-90/n1000/genome_meta_n1000.tsv\n",
      "\n",
      "## column names in samples table\n",
      "samples_col: 'ncbi_organism_name'\n",
      "accession_col: 'accession'\n",
      "fasta_file_path_col: 'fasta_file_path'\n",
      "taxID_col: 'gtdb_taxid'          # or 'ncbi_species_taxid'\n",
      "taxonomy_col: 'gtdb_taxonomy'    # or 'ncbi_taxonomy' \n",
      "\n",
      "# output location\n",
      "output_dir: /ebio/abt3_projects2/databases_no-backup/GTDB/release95/Struo/benchmarking/db_create/UniRef50-90/n1000/struo2/\n",
      "\n",
      "# temporary file directory (your username will be added automatically)\n",
      "tmp_dir: /ebio/abt3_scratch/\n",
      "\n",
      "#-- databases to create --#\n",
      "# Replace \"Create\" with \"Skip\" to skip creation of any of these\n",
      "# Note that braken relies on the kraken2 database\n",
      "databases:\n",
      "  kraken2: Create\n",
      "  bracken: Create\n",
      "  genes: Create\n",
      "  humann3_bowtie2: Create\n",
      "  humann3_diamond: Create\n",
      "  metaphlan3: Skip #Create\n",
      "\n",
      "# Name of UniRef clustering (uniref90 or uniref50)\n",
      "## uniref90 highly recommended\n",
      "uniref_name: uniref90\n",
      "# Name of the humann3 diamond database to be created\n",
      "## This must match naming allowed by humann3\n",
      "dmnd_name: uniref90_201901.dmnd\n",
      "# Index mapping UniRef90 clusters to UniRef50 (saves time vs re-annotating)\n",
      "## This is skipped if annotating with UniRef50\n",
      "cluster_idx: /ebio/abt3_projects2/databases_no-backup/uniref/2019.01/uniref50-90.pkl\n",
      "\n",
      "#-- if custom NCBI taxdump files (or just Skip) --#\n",
      "# Used for kraken taxonomy & metaphlan\n",
      "names_dmp: /ebio/abt3_projects2/databases_no-backup/GTDB/release95/taxdump/names.dmp\n",
      "nodes_dmp: /ebio/abt3_projects2/databases_no-backup/GTDB/release95/taxdump/nodes.dmp\n",
      "\n",
      "#-- keep intermediate files required for re-creating DBs (eg., w/ more genomes) --#\n",
      "# If \"True\", the intermediate files are saved to `output_dir`\n",
      "# Else, the intermediate files are temporarily stored in `temp_folder`\n",
      "keep_intermediate: True\n",
      "\n",
      "#-- software parameters --#\n",
      "# `vsearch_per_genome` = per-genome gene clustering\n",
      "# for humann3, use either mmseqs or diamond (mmseqs gets priority if neither skipped)\n",
      "# for humann3::mmseqs_search::run, --num-iterations must be >=2\n",
      "params:\n",
      "  ionice: -c 3\n",
      "  bracken:\n",
      "    build_kmer: 35\n",
      "    build_read_lens:\n",
      "      - 100\n",
      "      - 150\n",
      "  genes:\n",
      "    prodigal: \"\"\n",
      "    vsearch_per_genome: --id 0.97 --strand both --qmask none --fasta_width 0\n",
      "    mmseqs_cluster: --min-seq-id 0.9 -c 0.8\n",
      "    mmseqs_cluster_method: linclust         # or \"cluster\", which is slower\n",
      "  humann3:\n",
      "    batches: 100\n",
      "    mmseqs_search:\n",
      "      db: /ebio/abt3_projects2/databases_no-backup/mmseqs/UniRef90/2019_01/uniref90\n",
      "      run: -e 1e-3 --max-accept 1 --max-seqs 100 --num-iterations 2 --start-sens 1 --sens-steps 3 -s 6\n",
      "    diamond:\n",
      "      db: /ebio/abt3_projects2/databases_no-backup/humann3/201901/uniref90/uniref90_201901.dmnd\n",
      "      run: Skip #--evalue 1e-3 --query-cover 80 --id 90 --max-target-seqs 1 --block-size 4 --index-chunks 2\n",
      "    propagate_annotations: --min-cov 80 --min-pident 90\n",
      "  metaphlan3:\n",
      "    pkl: /ebio/abt3_projects2/databases_no-backup/metaphlan3/201901/mpa_v30_CHOCOPhlAn_201901.pkl\n",
      "    fasta: /ebio/abt3_projects2/databases_no-backup/metaphlan3/201901/mpa_v30_CHOCOPhlAn_201901.fna.bz2\n",
      "    species_specific_markers: --ext-abs-cutoff 10 --ext-rel-cutoff 0.1\n",
      "\n",
      "#-- snakemake pipeline --#\n",
      "pipeline:\n",
      "  snakemake_folder: ./\n",
      "  script_folder: ./bin/scripts/\n",
      "  name: Struo2_db-create\n",
      "  config: create"
     ]
    }
   ],
   "source": [
    "config_file = file.path(work_dir, 'n1000', 'struo2', 'config_db-create.yaml')\n",
    "cat_file(config_file)"
   ]
  },
  {
   "cell_type": "markdown",
   "metadata": {},
   "source": [
    "### Run\n",
    "\n",
    "```\n",
    "(snakemake) @ rick:/ebio/abt3_projects2/databases_no-backup/bin/struo2_1\n",
    "$ screen -L -S struo2-bmk-n1k ./snakemake_sge.sh /ebio/abt3_projects2/databases_no-backup/GTDB/release95/Struo/benchmarking/db_create/UniRef50-90/n1000/struo2/config_db-create.yaml 50 -F\n",
    "```"
   ]
  },
  {
   "cell_type": "markdown",
   "metadata": {},
   "source": [
    "# Summary"
   ]
  },
  {
   "cell_type": "markdown",
   "metadata": {},
   "source": [
    "## CPU hours"
   ]
  },
  {
   "cell_type": "code",
   "execution_count": 103,
   "metadata": {
    "ExecuteTime": {
     "end_time": "2020-12-30T17:22:21.142370Z",
     "start_time": "2020-12-30T17:22:21.102Z"
    }
   },
   "outputs": [],
   "source": [
    "#' reading in benchmark all files \n",
    "read_bmk = function(F){\n",
    "    df = read.delim(F, sep='\\t')\n",
    "    df$file = basename(F)\n",
    "    df$rule = basename(dirname(F))\n",
    "    return(df)\n",
    "}"
   ]
  },
  {
   "cell_type": "code",
   "execution_count": 104,
   "metadata": {
    "ExecuteTime": {
     "end_time": "2020-12-30T17:22:21.242751Z",
     "start_time": "2020-12-30T17:22:21.210Z"
    }
   },
   "outputs": [],
   "source": [
    "#' listing & reading in all benchmark files from a base path\n",
    "read_bmks = function(F){\n",
    "    df = list_files(F, '*.txt') %>%\n",
    "        lapply(read_bmk) %>%\n",
    "        do.call(rbind, .)\n",
    "    if(grepl('uniref[0-9]+/benchmarks', F)){\n",
    "        df$dataset = F %>% dirname %>% dirname %>% dirname %>% basename\n",
    "        df$pipeline = F %>% dirname %>% dirname %>% basename\n",
    "    } else {\n",
    "        df$dataset = F %>% dirname %>% dirname %>% basename\n",
    "        df$pipeline = F %>% dirname %>% basename\n",
    "    }\n",
    "\n",
    "    return(df)\n",
    "}"
   ]
  },
  {
   "cell_type": "code",
   "execution_count": 105,
   "metadata": {
    "ExecuteTime": {
     "end_time": "2020-12-30T17:23:21.945115Z",
     "start_time": "2020-12-30T17:22:21.367Z"
    }
   },
   "outputs": [
    {
     "data": {
      "text/html": [
       "<table>\n",
       "<caption>A data.frame: 24980 × 14</caption>\n",
       "<thead>\n",
       "\t<tr><th scope=col>s</th><th scope=col>h.m.s</th><th scope=col>max_rss</th><th scope=col>max_vms</th><th scope=col>max_uss</th><th scope=col>max_pss</th><th scope=col>io_in</th><th scope=col>io_out</th><th scope=col>mean_load</th><th scope=col>cpu_time</th><th scope=col>file</th><th scope=col>rule</th><th scope=col>dataset</th><th scope=col>pipeline</th></tr>\n",
       "\t<tr><th scope=col>&lt;dbl&gt;</th><th scope=col>&lt;fct&gt;</th><th scope=col>&lt;chr&gt;</th><th scope=col>&lt;chr&gt;</th><th scope=col>&lt;chr&gt;</th><th scope=col>&lt;chr&gt;</th><th scope=col>&lt;chr&gt;</th><th scope=col>&lt;chr&gt;</th><th scope=col>&lt;dbl&gt;</th><th scope=col>&lt;dbl&gt;</th><th scope=col>&lt;chr&gt;</th><th scope=col>&lt;chr&gt;</th><th scope=col>&lt;chr&gt;</th><th scope=col>&lt;chr&gt;</th></tr>\n",
       "</thead>\n",
       "<tbody>\n",
       "\t<tr><td>3.1052</td><td>0:00:03</td><td>17.11</td><td>47.66</td><td>8.44</td><td>10.51</td><td>3.84</td><td>0   </td><td>64.68</td><td>2.40</td><td>GB_GCA_000436695_1_Prevotella_sp_CAG_1185.txt            </td><td>annotate_genes</td><td>n100</td><td>struo1</td></tr>\n",
       "\t<tr><td>8.2515</td><td>0:00:08</td><td>18.68</td><td>47.78</td><td>9.46</td><td>10.45</td><td>7.09</td><td>0.98</td><td>85.12</td><td>7.36</td><td>GB_GCA_000585055_1_Candidatus_Accumulibacter_sp_BA_92.txt</td><td>annotate_genes</td><td>n100</td><td>struo1</td></tr>\n",
       "\t<tr><td>⋮</td><td>⋮</td><td>⋮</td><td>⋮</td><td>⋮</td><td>⋮</td><td>⋮</td><td>⋮</td><td>⋮</td><td>⋮</td><td>⋮</td><td>⋮</td><td>⋮</td><td>⋮</td></tr>\n",
       "\t<tr><td>239.6278</td><td>0:03:59</td><td>1565.23</td><td>1870.61</td><td>1559.56</td><td>1560.33</td><td>5.94</td><td>0</td><td>351.49</td><td>842.65</td><td>RS_GCF_900602065_1_Pseudomonas_sp_286.txt      </td><td>vsearch_per_genome</td><td>n1000</td><td>struo2</td></tr>\n",
       "\t<tr><td> 35.6357</td><td>0:00:35</td><td>1525.3 </td><td>1837.71</td><td>1520.61</td><td>1520.68</td><td>2.09</td><td>0</td><td>128.87</td><td> 46.39</td><td>RS_GCF_901764975_1_Actinobacillus_indolicus.txt</td><td>vsearch_per_genome</td><td>n1000</td><td>struo2</td></tr>\n",
       "</tbody>\n",
       "</table>\n"
      ],
      "text/latex": [
       "A data.frame: 24980 × 14\n",
       "\\begin{tabular}{llllllllllllll}\n",
       " s & h.m.s & max\\_rss & max\\_vms & max\\_uss & max\\_pss & io\\_in & io\\_out & mean\\_load & cpu\\_time & file & rule & dataset & pipeline\\\\\n",
       " <dbl> & <fct> & <chr> & <chr> & <chr> & <chr> & <chr> & <chr> & <dbl> & <dbl> & <chr> & <chr> & <chr> & <chr>\\\\\n",
       "\\hline\n",
       "\t 3.1052 & 0:00:03 & 17.11 & 47.66 & 8.44 & 10.51 & 3.84 & 0    & 64.68 & 2.40 & GB\\_GCA\\_000436695\\_1\\_Prevotella\\_sp\\_CAG\\_1185.txt             & annotate\\_genes & n100 & struo1\\\\\n",
       "\t 8.2515 & 0:00:08 & 18.68 & 47.78 & 9.46 & 10.45 & 7.09 & 0.98 & 85.12 & 7.36 & GB\\_GCA\\_000585055\\_1\\_Candidatus\\_Accumulibacter\\_sp\\_BA\\_92.txt & annotate\\_genes & n100 & struo1\\\\\n",
       "\t ⋮ & ⋮ & ⋮ & ⋮ & ⋮ & ⋮ & ⋮ & ⋮ & ⋮ & ⋮ & ⋮ & ⋮ & ⋮ & ⋮\\\\\n",
       "\t 239.6278 & 0:03:59 & 1565.23 & 1870.61 & 1559.56 & 1560.33 & 5.94 & 0 & 351.49 & 842.65 & RS\\_GCF\\_900602065\\_1\\_Pseudomonas\\_sp\\_286.txt       & vsearch\\_per\\_genome & n1000 & struo2\\\\\n",
       "\t  35.6357 & 0:00:35 & 1525.3  & 1837.71 & 1520.61 & 1520.68 & 2.09 & 0 & 128.87 &  46.39 & RS\\_GCF\\_901764975\\_1\\_Actinobacillus\\_indolicus.txt & vsearch\\_per\\_genome & n1000 & struo2\\\\\n",
       "\\end{tabular}\n"
      ],
      "text/markdown": [
       "\n",
       "A data.frame: 24980 × 14\n",
       "\n",
       "| s &lt;dbl&gt; | h.m.s &lt;fct&gt; | max_rss &lt;chr&gt; | max_vms &lt;chr&gt; | max_uss &lt;chr&gt; | max_pss &lt;chr&gt; | io_in &lt;chr&gt; | io_out &lt;chr&gt; | mean_load &lt;dbl&gt; | cpu_time &lt;dbl&gt; | file &lt;chr&gt; | rule &lt;chr&gt; | dataset &lt;chr&gt; | pipeline &lt;chr&gt; |\n",
       "|---|---|---|---|---|---|---|---|---|---|---|---|---|---|\n",
       "| 3.1052 | 0:00:03 | 17.11 | 47.66 | 8.44 | 10.51 | 3.84 | 0    | 64.68 | 2.40 | GB_GCA_000436695_1_Prevotella_sp_CAG_1185.txt             | annotate_genes | n100 | struo1 |\n",
       "| 8.2515 | 0:00:08 | 18.68 | 47.78 | 9.46 | 10.45 | 7.09 | 0.98 | 85.12 | 7.36 | GB_GCA_000585055_1_Candidatus_Accumulibacter_sp_BA_92.txt | annotate_genes | n100 | struo1 |\n",
       "| ⋮ | ⋮ | ⋮ | ⋮ | ⋮ | ⋮ | ⋮ | ⋮ | ⋮ | ⋮ | ⋮ | ⋮ | ⋮ | ⋮ |\n",
       "| 239.6278 | 0:03:59 | 1565.23 | 1870.61 | 1559.56 | 1560.33 | 5.94 | 0 | 351.49 | 842.65 | RS_GCF_900602065_1_Pseudomonas_sp_286.txt       | vsearch_per_genome | n1000 | struo2 |\n",
       "|  35.6357 | 0:00:35 | 1525.3  | 1837.71 | 1520.61 | 1520.68 | 2.09 | 0 | 128.87 |  46.39 | RS_GCF_901764975_1_Actinobacillus_indolicus.txt | vsearch_per_genome | n1000 | struo2 |\n",
       "\n"
      ],
      "text/plain": [
       "      s        h.m.s   max_rss max_vms max_uss max_pss io_in io_out mean_load\n",
       "1     3.1052   0:00:03 17.11   47.66   8.44    10.51   3.84  0      64.68    \n",
       "2     8.2515   0:00:08 18.68   47.78   9.46    10.45   7.09  0.98   85.12    \n",
       "⋮     ⋮        ⋮       ⋮       ⋮       ⋮       ⋮       ⋮     ⋮      ⋮        \n",
       "24979 239.6278 0:03:59 1565.23 1870.61 1559.56 1560.33 5.94  0      351.49   \n",
       "24980  35.6357 0:00:35 1525.3  1837.71 1520.61 1520.68 2.09  0      128.87   \n",
       "      cpu_time file                                                     \n",
       "1     2.40     GB_GCA_000436695_1_Prevotella_sp_CAG_1185.txt            \n",
       "2     7.36     GB_GCA_000585055_1_Candidatus_Accumulibacter_sp_BA_92.txt\n",
       "⋮     ⋮        ⋮                                                        \n",
       "24979 842.65   RS_GCF_900602065_1_Pseudomonas_sp_286.txt                \n",
       "24980  46.39   RS_GCF_901764975_1_Actinobacillus_indolicus.txt          \n",
       "      rule               dataset pipeline\n",
       "1     annotate_genes     n100    struo1  \n",
       "2     annotate_genes     n100    struo1  \n",
       "⋮     ⋮                  ⋮       ⋮       \n",
       "24979 vsearch_per_genome n1000   struo2  \n",
       "24980 vsearch_per_genome n1000   struo2  "
      ]
     },
     "metadata": {},
     "output_type": "display_data"
    }
   ],
   "source": [
    "# reading in all benchmark files\n",
    "L = list(\n",
    "    file.path(work_dir, 'n100', 'struo1', 'benchmarks'),\n",
    "    file.path(work_dir, 'n100', 'struo1', 'uniref90', 'benchmarks'),\n",
    "    file.path(work_dir, 'n500', 'struo1', 'benchmarks'),\n",
    "    file.path(work_dir, 'n500', 'struo1', 'uniref90', 'benchmarks'),\n",
    "    file.path(work_dir, 'n1000', 'struo1', 'benchmarks'),\n",
    "    file.path(work_dir, 'n1000', 'struo1', 'uniref90', 'benchmarks'),\n",
    "    file.path(work_dir, 'n100', 'struo2', 'benchmarks'),\n",
    "    file.path(work_dir, 'n500', 'struo2', 'benchmarks'),\n",
    "    file.path(work_dir, 'n1000', 'struo2', 'benchmarks')\n",
    ") \n",
    "bmk = L %>%\n",
    "    lapply(read_bmks) %>%\n",
    "    do.call(rbind, .)\n",
    "bmk"
   ]
  },
  {
   "cell_type": "code",
   "execution_count": 106,
   "metadata": {
    "ExecuteTime": {
     "end_time": "2020-12-30T17:23:21.981866Z",
     "start_time": "2020-12-30T17:22:24.419Z"
    }
   },
   "outputs": [
    {
     "data": {
      "text/html": [
       "<table>\n",
       "<caption>A tibble: 6 × 3</caption>\n",
       "<thead>\n",
       "\t<tr><th scope=col>dataset</th><th scope=col>pipeline</th><th scope=col>n</th></tr>\n",
       "\t<tr><th scope=col>&lt;chr&gt;</th><th scope=col>&lt;chr&gt;</th><th scope=col>&lt;int&gt;</th></tr>\n",
       "</thead>\n",
       "<tbody>\n",
       "\t<tr><td>n100</td><td>struo1</td><td>1009</td></tr>\n",
       "\t<tr><td>n100</td><td>struo2</td><td> 822</td></tr>\n",
       "\t<tr><td>⋮</td><td>⋮</td><td>⋮</td></tr>\n",
       "\t<tr><td>n500</td><td>struo1</td><td>5002</td></tr>\n",
       "\t<tr><td>n500</td><td>struo2</td><td>2822</td></tr>\n",
       "</tbody>\n",
       "</table>\n"
      ],
      "text/latex": [
       "A tibble: 6 × 3\n",
       "\\begin{tabular}{lll}\n",
       " dataset & pipeline & n\\\\\n",
       " <chr> & <chr> & <int>\\\\\n",
       "\\hline\n",
       "\t n100 & struo1 & 1009\\\\\n",
       "\t n100 & struo2 &  822\\\\\n",
       "\t ⋮ & ⋮ & ⋮\\\\\n",
       "\t n500 & struo1 & 5002\\\\\n",
       "\t n500 & struo2 & 2822\\\\\n",
       "\\end{tabular}\n"
      ],
      "text/markdown": [
       "\n",
       "A tibble: 6 × 3\n",
       "\n",
       "| dataset &lt;chr&gt; | pipeline &lt;chr&gt; | n &lt;int&gt; |\n",
       "|---|---|---|\n",
       "| n100 | struo1 | 1009 |\n",
       "| n100 | struo2 |  822 |\n",
       "| ⋮ | ⋮ | ⋮ |\n",
       "| n500 | struo1 | 5002 |\n",
       "| n500 | struo2 | 2822 |\n",
       "\n"
      ],
      "text/plain": [
       "  dataset pipeline n   \n",
       "1 n100    struo1   1009\n",
       "2 n100    struo2    822\n",
       "⋮ ⋮       ⋮        ⋮   \n",
       "5 n500    struo1   5002\n",
       "6 n500    struo2   2822"
      ]
     },
     "metadata": {},
     "output_type": "display_data"
    }
   ],
   "source": [
    "# records per dataset\n",
    "bmk %>%\n",
    "    group_by(dataset, pipeline) %>%\n",
    "    summarize(n = n(), .groups='drop')"
   ]
  },
  {
   "cell_type": "code",
   "execution_count": 132,
   "metadata": {
    "ExecuteTime": {
     "end_time": "2021-01-12T14:13:11.263551Z",
     "start_time": "2021-01-12T14:13:11.214Z"
    }
   },
   "outputs": [
    {
     "data": {
      "text/html": [
       "<table>\n",
       "<caption>A tibble: 6 × 3</caption>\n",
       "<thead>\n",
       "\t<tr><th scope=col>dataset</th><th scope=col>pipeline</th><th scope=col>cpu_hours</th></tr>\n",
       "\t<tr><th scope=col>&lt;chr&gt;</th><th scope=col>&lt;chr&gt;</th><th scope=col>&lt;dbl&gt;</th></tr>\n",
       "</thead>\n",
       "<tbody>\n",
       "\t<tr><td>n100 </td><td>struo1</td><td> 262.50395</td></tr>\n",
       "\t<tr><td>n100 </td><td>struo2</td><td>  85.02724</td></tr>\n",
       "\t<tr><td>n1000</td><td>struo1</td><td>2465.03609</td></tr>\n",
       "\t<tr><td>n1000</td><td>struo2</td><td> 692.41161</td></tr>\n",
       "\t<tr><td>n500 </td><td>struo1</td><td>1315.40934</td></tr>\n",
       "\t<tr><td>n500 </td><td>struo2</td><td> 432.66165</td></tr>\n",
       "</tbody>\n",
       "</table>\n"
      ],
      "text/latex": [
       "A tibble: 6 × 3\n",
       "\\begin{tabular}{lll}\n",
       " dataset & pipeline & cpu\\_hours\\\\\n",
       " <chr> & <chr> & <dbl>\\\\\n",
       "\\hline\n",
       "\t n100  & struo1 &  262.50395\\\\\n",
       "\t n100  & struo2 &   85.02724\\\\\n",
       "\t n1000 & struo1 & 2465.03609\\\\\n",
       "\t n1000 & struo2 &  692.41161\\\\\n",
       "\t n500  & struo1 & 1315.40934\\\\\n",
       "\t n500  & struo2 &  432.66165\\\\\n",
       "\\end{tabular}\n"
      ],
      "text/markdown": [
       "\n",
       "A tibble: 6 × 3\n",
       "\n",
       "| dataset &lt;chr&gt; | pipeline &lt;chr&gt; | cpu_hours &lt;dbl&gt; |\n",
       "|---|---|---|\n",
       "| n100  | struo1 |  262.50395 |\n",
       "| n100  | struo2 |   85.02724 |\n",
       "| n1000 | struo1 | 2465.03609 |\n",
       "| n1000 | struo2 |  692.41161 |\n",
       "| n500  | struo1 | 1315.40934 |\n",
       "| n500  | struo2 |  432.66165 |\n",
       "\n"
      ],
      "text/plain": [
       "  dataset pipeline cpu_hours \n",
       "1 n100    struo1    262.50395\n",
       "2 n100    struo2     85.02724\n",
       "3 n1000   struo1   2465.03609\n",
       "4 n1000   struo2    692.41161\n",
       "5 n500    struo1   1315.40934\n",
       "6 n500    struo2    432.66165"
      ]
     },
     "metadata": {},
     "output_type": "display_data"
    }
   ],
   "source": [
    "#' cpu hours\n",
    "bmk_s = bmk %>%\n",
    "    group_by(dataset, pipeline) %>%\n",
    "    summarize(cpu_hours = sum(s) / (60 * 60),\n",
    "              .groups='drop')\n",
    "df.dims(20)\n",
    "bmk_s %>% arrange(dataset, pipeline)\n",
    "df.dims()"
   ]
  },
  {
   "cell_type": "code",
   "execution_count": 134,
   "metadata": {
    "ExecuteTime": {
     "end_time": "2021-01-12T14:14:08.509410Z",
     "start_time": "2021-01-12T14:14:07.898Z"
    }
   },
   "outputs": [
    {
     "name": "stderr",
     "output_type": "stream",
     "text": [
      "`geom_smooth()` using formula 'y ~ x'\n",
      "\n"
     ]
    },
    {
     "data": {
      "image/png": "[encoded data removed]",
      "text/plain": [
       "plot without title"
      ]
     },
     "metadata": {
      "image/png": {
       "height": 300,
       "width": 500
      },
      "text/plain": {
       "height": 300,
       "width": 500
      }
     },
     "output_type": "display_data"
    }
   ],
   "source": [
    "#' cpu hours: plotting\n",
    "p = bmk_s %>%\n",
    "    mutate(pipeline = gsub('^s', 'S', pipeline),\n",
    "           dataset = gsub('^n', '', dataset) %>% as.Num) %>%\n",
    "    ggplot(aes(dataset, cpu_hours, color=pipeline)) +\n",
    "    geom_smooth(method='lm', level = 0.9, alpha = 0.2, size=0.5, linetype='dashed') +\n",
    "    geom_point() +    \n",
    "    scale_color_discrete('Struo\\nVersion') +\n",
    "    scale_x_continuous(breaks=c(100, 500, 1000)) +\n",
    "    labs(x='No. of genomes', y='CPU hours') +\n",
    "    theme_bw()\n",
    "\n",
    "p.dims(5,3)\n",
    "plot(p)"
   ]
  },
  {
   "cell_type": "code",
   "execution_count": 114,
   "metadata": {
    "ExecuteTime": {
     "end_time": "2020-12-30T17:25:16.201861Z",
     "start_time": "2020-12-30T17:25:16.066Z"
    }
   },
   "outputs": [
    {
     "data": {
      "text/plain": [
       "\n",
       "Call:\n",
       "lm(formula = cpu_hours ~ dataset, data = .)\n",
       "\n",
       "Residuals:\n",
       "     1      2      3 \n",
       "-27.30 -21.84  49.13 \n",
       "\n",
       "Coefficients:\n",
       "            Estimate Std. Error t value Pr(>|t|)  \n",
       "(Intercept) 45.68063   61.27914   0.745   0.5922  \n",
       "dataset      2.44119    0.09456  25.817   0.0246 *\n",
       "---\n",
       "Signif. codes:  0 ‘***’ 0.001 ‘**’ 0.01 ‘*’ 0.05 ‘.’ 0.1 ‘ ’ 1\n",
       "\n",
       "Residual standard error: 60.3 on 1 degrees of freedom\n",
       "Multiple R-squared:  0.9985,\tAdjusted R-squared:  0.997 \n",
       "F-statistic: 666.5 on 1 and 1 DF,  p-value: 0.02465\n"
      ]
     },
     "metadata": {},
     "output_type": "display_data"
    }
   ],
   "source": [
    "# linear model\n",
    "bmk_s %>%\n",
    "    filter(pipeline == 'struo1') %>%\n",
    "    mutate(dataset = gsub('^n', '', dataset) %>% as.Num) %>%\n",
    "    lm(cpu_hours ~ dataset, data=.) %>%\n",
    "    summary"
   ]
  },
  {
   "cell_type": "code",
   "execution_count": 135,
   "metadata": {
    "ExecuteTime": {
     "end_time": "2021-01-12T14:18:56.956474Z",
     "start_time": "2021-01-12T14:18:56.926Z"
    }
   },
   "outputs": [
    {
     "data": {
      "text/html": [
       "75695.71691"
      ],
      "text/latex": [
       "75695.71691"
      ],
      "text/markdown": [
       "75695.71691"
      ],
      "text/plain": [
       "[1] 75695.72"
      ]
     },
     "metadata": {},
     "output_type": "display_data"
    }
   ],
   "source": [
    "# time for all GTDBr95 genomes (n = 30989)\n",
    "45.68 + 2.44119 * 30989"
   ]
  },
  {
   "cell_type": "code",
   "execution_count": 115,
   "metadata": {
    "ExecuteTime": {
     "end_time": "2020-12-30T17:25:26.483397Z",
     "start_time": "2020-12-30T17:25:26.371Z"
    }
   },
   "outputs": [
    {
     "data": {
      "text/plain": [
       "\n",
       "Call:\n",
       "lm(formula = cpu_hours ~ dataset, data = .)\n",
       "\n",
       "Residuals:\n",
       "     1      2      3 \n",
       "-28.65 -22.92  51.58 \n",
       "\n",
       "Coefficients:\n",
       "            Estimate Std. Error t value Pr(>|t|)  \n",
       "(Intercept) 46.83145   64.32941   0.728   0.5994  \n",
       "dataset      0.66850    0.09926   6.735   0.0938 .\n",
       "---\n",
       "Signif. codes:  0 ‘***’ 0.001 ‘**’ 0.01 ‘*’ 0.05 ‘.’ 0.1 ‘ ’ 1\n",
       "\n",
       "Residual standard error: 63.3 on 1 degrees of freedom\n",
       "Multiple R-squared:  0.9784,\tAdjusted R-squared:  0.9569 \n",
       "F-statistic: 45.36 on 1 and 1 DF,  p-value: 0.09384\n"
      ]
     },
     "metadata": {},
     "output_type": "display_data"
    }
   ],
   "source": [
    "# linear model\n",
    "bmk_s %>%\n",
    "    filter(pipeline == 'struo2') %>%\n",
    "    mutate(dataset = gsub('^n', '', dataset) %>% as.Num) %>%\n",
    "    lm(cpu_hours ~ dataset, data=.) %>%\n",
    "    summary"
   ]
  },
  {
   "cell_type": "code",
   "execution_count": 136,
   "metadata": {
    "ExecuteTime": {
     "end_time": "2021-01-12T14:19:16.258250Z",
     "start_time": "2021-01-12T14:19:16.229Z"
    }
   },
   "outputs": [
    {
     "data": {
      "text/html": [
       "20762.9765"
      ],
      "text/latex": [
       "20762.9765"
      ],
      "text/markdown": [
       "20762.9765"
      ],
      "text/plain": [
       "[1] 20762.98"
      ]
     },
     "metadata": {},
     "output_type": "display_data"
    }
   ],
   "source": [
    "# time for all GTDBr95 genomes (n = 30989)\n",
    "46.83 + 0.66850 * 30989"
   ]
  },
  {
   "cell_type": "markdown",
   "metadata": {},
   "source": [
    "## Genes annotated"
   ]
  },
  {
   "cell_type": "markdown",
   "metadata": {},
   "source": [
    "### Struo1"
   ]
  },
  {
   "cell_type": "code",
   "execution_count": 69,
   "metadata": {
    "ExecuteTime": {
     "end_time": "2020-12-14T18:38:17.390021Z",
     "start_time": "2020-12-14T18:38:14.143Z"
    }
   },
   "outputs": [
    {
     "name": "stdout",
     "output_type": "stream",
     "text": [
      "265147"
     ]
    },
    {
     "data": {
      "text/plain": [
       "NULL"
      ]
     },
     "metadata": {},
     "output_type": "display_data"
    }
   ],
   "source": [
    "F = file.path(work_dir, 'n100', 'struo1', 'humann2', 'GTDB-custom', 'all_genes_annot.faa.gz')\n",
    "cmd = glue::glue(\"gunzip -c {F} | grep -c '>'\", F=F)\n",
    "bash_job(cmd, conda_env = 'base')"
   ]
  },
  {
   "cell_type": "code",
   "execution_count": 70,
   "metadata": {
    "ExecuteTime": {
     "end_time": "2020-12-14T18:38:19.488285Z",
     "start_time": "2020-12-14T18:38:14.692Z"
    }
   },
   "outputs": [
    {
     "name": "stdout",
     "output_type": "stream",
     "text": [
      "224221"
     ]
    },
    {
     "data": {
      "text/plain": [
       "NULL"
      ]
     },
     "metadata": {},
     "output_type": "display_data"
    }
   ],
   "source": [
    "F = file.path(work_dir, 'n100', 'struo1', 'uniref90', 'humann2', 'GTDB-custom', 'all_genes_annot.faa.gz')\n",
    "cmd = glue::glue(\"gunzip -c {F} | grep -c '>'\", F=F)\n",
    "bash_job(cmd, conda_env = 'base')"
   ]
  },
  {
   "cell_type": "code",
   "execution_count": 99,
   "metadata": {
    "ExecuteTime": {
     "end_time": "2020-12-27T11:58:01.549100Z",
     "start_time": "2020-12-27T11:57:53.435Z"
    }
   },
   "outputs": [
    {
     "name": "stdout",
     "output_type": "stream",
     "text": [
      "1351073"
     ]
    },
    {
     "data": {
      "text/plain": [
       "NULL"
      ]
     },
     "metadata": {},
     "output_type": "display_data"
    }
   ],
   "source": [
    "F = file.path(work_dir, 'n500', 'struo1', 'humann2', 'GTDB-custom', 'all_genes_annot.faa.gz')\n",
    "cmd = glue::glue(\"gunzip -c {F} | grep -c '>'\", F=F)\n",
    "bash_job(cmd, conda_env = 'base')"
   ]
  },
  {
   "cell_type": "code",
   "execution_count": 100,
   "metadata": {
    "ExecuteTime": {
     "end_time": "2020-12-27T11:58:20.513089Z",
     "start_time": "2020-12-27T11:57:53.804Z"
    }
   },
   "outputs": [
    {
     "name": "stdout",
     "output_type": "stream",
     "text": [
      "1109346"
     ]
    },
    {
     "data": {
      "text/plain": [
       "NULL"
      ]
     },
     "metadata": {},
     "output_type": "display_data"
    }
   ],
   "source": [
    "F = file.path(work_dir, 'n500', 'struo1', 'uniref90', 'humann2', 'GTDB-custom', 'all_genes_annot.faa.gz')\n",
    "cmd = glue::glue(\"gunzip -c {F} | grep -c '>'\", F=F)\n",
    "bash_job(cmd, conda_env = 'base')"
   ]
  },
  {
   "cell_type": "code",
   "execution_count": 109,
   "metadata": {
    "ExecuteTime": {
     "end_time": "2020-12-30T17:23:37.843738Z",
     "start_time": "2020-12-30T17:22:50.236Z"
    }
   },
   "outputs": [
    {
     "name": "stdout",
     "output_type": "stream",
     "text": [
      "2716683"
     ]
    },
    {
     "data": {
      "text/plain": [
       "NULL"
      ]
     },
     "metadata": {},
     "output_type": "display_data"
    }
   ],
   "source": [
    "F = file.path(work_dir, 'n1000', 'struo1', 'humann2', 'GTDB-custom', 'all_genes_annot.faa.gz')\n",
    "cmd = glue::glue(\"gunzip -c {F} | grep -c '>'\", F=F)\n",
    "bash_job(cmd, conda_env = 'base')"
   ]
  },
  {
   "cell_type": "code",
   "execution_count": 110,
   "metadata": {
    "ExecuteTime": {
     "end_time": "2020-12-30T17:23:50.418510Z",
     "start_time": "2020-12-30T17:22:50.371Z"
    }
   },
   "outputs": [
    {
     "name": "stdout",
     "output_type": "stream",
     "text": [
      "2227466"
     ]
    },
    {
     "data": {
      "text/plain": [
       "NULL"
      ]
     },
     "metadata": {},
     "output_type": "display_data"
    }
   ],
   "source": [
    "F = file.path(work_dir, 'n1000', 'struo1', 'uniref90', 'humann2', 'GTDB-custom', 'all_genes_annot.faa.gz')\n",
    "cmd = glue::glue(\"gunzip -c {F} | grep -c '>'\", F=F)\n",
    "bash_job(cmd, conda_env = 'base')"
   ]
  },
  {
   "cell_type": "markdown",
   "metadata": {},
   "source": [
    "### Struo2"
   ]
  },
  {
   "cell_type": "code",
   "execution_count": 64,
   "metadata": {
    "ExecuteTime": {
     "end_time": "2020-12-14T07:40:43.412820Z",
     "start_time": "2020-12-14T07:40:41.167Z"
    }
   },
   "outputs": [
    {
     "name": "stdout",
     "output_type": "stream",
     "text": [
      "228222"
     ]
    },
    {
     "data": {
      "text/plain": [
       "NULL"
      ]
     },
     "metadata": {},
     "output_type": "display_data"
    }
   ],
   "source": [
    "F = file.path(work_dir, 'n100', 'struo2', 'humann3', 'uniref90', 'genome_reps_filt_annot.faa.gz')\n",
    "cmd = glue::glue(\"gunzip -c {F} | grep -c '>'\", F=F)\n",
    "bash_job(cmd, conda_env = 'base')"
   ]
  },
  {
   "cell_type": "code",
   "execution_count": 66,
   "metadata": {
    "ExecuteTime": {
     "end_time": "2020-12-14T07:43:03.987210Z",
     "start_time": "2020-12-14T07:42:56.826Z"
    }
   },
   "outputs": [
    {
     "name": "stdout",
     "output_type": "stream",
     "text": [
      "1130013"
     ]
    },
    {
     "data": {
      "text/plain": [
       "NULL"
      ]
     },
     "metadata": {},
     "output_type": "display_data"
    }
   ],
   "source": [
    "F = file.path(work_dir, 'n500', 'struo2', 'humann3', 'uniref90', 'genome_reps_filt_annot.faa.gz')\n",
    "cmd = glue::glue(\"gunzip -c {F} | grep -c '>'\", F=F)\n",
    "bash_job(cmd, conda_env = 'base')"
   ]
  },
  {
   "cell_type": "code",
   "execution_count": 112,
   "metadata": {
    "ExecuteTime": {
     "end_time": "2020-12-30T17:24:29.243541Z",
     "start_time": "2020-12-30T17:24:16.165Z"
    }
   },
   "outputs": [
    {
     "name": "stdout",
     "output_type": "stream",
     "text": [
      "2270402"
     ]
    },
    {
     "data": {
      "text/plain": [
       "NULL"
      ]
     },
     "metadata": {},
     "output_type": "display_data"
    }
   ],
   "source": [
    "F = file.path(work_dir, 'n1000', 'struo2', 'humann3', 'uniref90', 'genome_reps_filt_annot.faa.gz')\n",
    "cmd = glue::glue(\"gunzip -c {F} | grep -c '>'\", F=F)\n",
    "bash_job(cmd, conda_env = 'base')"
   ]
  },
  {
   "cell_type": "code",
   "execution_count": 10,
   "metadata": {
    "ExecuteTime": {
     "end_time": "2021-01-30T15:11:05.228898Z",
     "start_time": "2021-01-30T15:11:04.978Z"
    }
   },
   "outputs": [
    {
     "data": {
      "text/html": [
       "<table>\n",
       "<caption>A data.frame: 6 × 3</caption>\n",
       "<thead>\n",
       "\t<tr><th scope=col>n_genomes</th><th scope=col>version</th><th scope=col>genes_annot</th></tr>\n",
       "\t<tr><th scope=col>&lt;dbl&gt;</th><th scope=col>&lt;chr&gt;</th><th scope=col>&lt;dbl&gt;</th></tr>\n",
       "</thead>\n",
       "<tbody>\n",
       "\t<tr><td>100</td><td>Struo1</td><td> 224221</td></tr>\n",
       "\t<tr><td>500</td><td>Struo1</td><td>1109346</td></tr>\n",
       "\t<tr><td>⋮</td><td>⋮</td><td>⋮</td></tr>\n",
       "\t<tr><td> 500</td><td>Struo2</td><td>1130013</td></tr>\n",
       "\t<tr><td>1000</td><td>Struo2</td><td>2270402</td></tr>\n",
       "</tbody>\n",
       "</table>\n"
      ],
      "text/latex": [
       "A data.frame: 6 × 3\n",
       "\\begin{tabular}{lll}\n",
       " n\\_genomes & version & genes\\_annot\\\\\n",
       " <dbl> & <chr> & <dbl>\\\\\n",
       "\\hline\n",
       "\t 100 & Struo1 &  224221\\\\\n",
       "\t 500 & Struo1 & 1109346\\\\\n",
       "\t ⋮ & ⋮ & ⋮\\\\\n",
       "\t  500 & Struo2 & 1130013\\\\\n",
       "\t 1000 & Struo2 & 2270402\\\\\n",
       "\\end{tabular}\n"
      ],
      "text/markdown": [
       "\n",
       "A data.frame: 6 × 3\n",
       "\n",
       "| n_genomes &lt;dbl&gt; | version &lt;chr&gt; | genes_annot &lt;dbl&gt; |\n",
       "|---|---|---|\n",
       "| 100 | Struo1 |  224221 |\n",
       "| 500 | Struo1 | 1109346 |\n",
       "| ⋮ | ⋮ | ⋮ |\n",
       "|  500 | Struo2 | 1130013 |\n",
       "| 1000 | Struo2 | 2270402 |\n",
       "\n"
      ],
      "text/plain": [
       "  n_genomes version genes_annot\n",
       "1 100       Struo1   224221    \n",
       "2 500       Struo1  1109346    \n",
       "⋮ ⋮         ⋮       ⋮          \n",
       "5  500      Struo2  1130013    \n",
       "6 1000      Struo2  2270402    "
      ]
     },
     "metadata": {},
     "output_type": "display_data"
    }
   ],
   "source": [
    "# formatting\n",
    "df = data.frame(n_genomes = c(100, 500, 1000),\n",
    "                Struo1 = c(224221, 1109346, 2227466),\n",
    "                Struo2 = c(228222, 1130013, 2270402)) %>%\n",
    "    gather(version, genes_annot, -n_genomes)\n",
    "df"
   ]
  },
  {
   "cell_type": "code",
   "execution_count": 20,
   "metadata": {
    "ExecuteTime": {
     "end_time": "2021-01-30T15:14:19.448100Z",
     "start_time": "2021-01-30T15:14:19.059Z"
    }
   },
   "outputs": [
    {
     "data": {
      "image/png": "[encoded data removed]",
      "text/plain": [
       "plot without title"
      ]
     },
     "metadata": {
      "image/png": {
       "height": 220,
       "width": 400
      },
      "text/plain": {
       "height": 220,
       "width": 400
      }
     },
     "output_type": "display_data"
    }
   ],
   "source": [
    "# plotting\n",
    "p = df %>%\n",
    "    mutate(n_genomes = n_genomes %>% as.character %>% reorder(n_genomes %>% as.Num)) %>%\n",
    "    ggplot(aes(n_genomes, genes_annot, fill=version)) +\n",
    "    geom_bar(stat='identity', position='dodge') +\n",
    "    scale_fill_discrete('Struo\\nversion') +\n",
    "    labs(y='No. of annotated genes', x='No. of genomes') +\n",
    "    theme_bw()\n",
    "\n",
    "p.dims(4,2.2)\n",
    "plot(p)"
   ]
  },
  {
   "cell_type": "markdown",
   "metadata": {},
   "source": [
    "# sessionInfo"
   ]
  },
  {
   "cell_type": "code",
   "execution_count": 6,
   "metadata": {
    "ExecuteTime": {
     "end_time": "2021-02-06T16:13:33.692682Z",
     "start_time": "2021-02-06T16:13:33.509Z"
    }
   },
   "outputs": [
    {
     "name": "stdout",
     "output_type": "stream",
     "text": [
      "![Struo](https://github.com/leylabmpi/Struo/workflows/Struo/badge.svg)\n",
      "\n",
      "Struo\n",
      "=====\n",
      "\n",
      "**Struo:** a pipeline for building custom databases for common metagenome profilers\n",
      "\n",
      "> \"Struo\" --> from the Latin: “I build” or “I gather”\n",
      "\n",
      "\n",
      "\n",
      "--- conda envs ---\n",
      "==> /ebio/abt3_projects2/databases_no-backup/bin/Struo//bin/envs/humann2.yaml <==\n",
      "channels:\n",
      "- bioconda\n",
      "dependencies:\n",
      "- pigz\n",
      "- bioconda::bowtie2\n",
      "- bioconda::vsearch\n",
      "- bioconda::prodigal\n",
      "- bioconda::diamond=2\n",
      "\n",
      "==> /ebio/abt3_projects2/databases_no-backup/bin/Struo//bin/envs/kraken2.yaml <==\n",
      "channels:\n",
      "- bioconda\n",
      "dependencies:\n",
      "- libiconv\n",
      "- bioconda::kraken2\n",
      "- bioconda::bracken\n"
     ]
    }
   ],
   "source": [
    "pipelineInfo('/ebio/abt3_projects2/databases_no-backup/bin/Struo/')"
   ]
  },
  {
   "cell_type": "code",
   "execution_count": 7,
   "metadata": {
    "ExecuteTime": {
     "end_time": "2021-02-06T16:14:05.990465Z",
     "start_time": "2021-02-06T16:14:02.005Z"
    }
   },
   "outputs": [
    {
     "name": "stdout",
     "output_type": "stream",
     "text": [
      "Struo2\n",
      "======\n",
      "\n",
      "**Struo2:** a pipeline for building custom databases for common metagenome profilers\n",
      "\n",
      "> \"Struo\" --> from the Latin: “I build” or “I gather”\n",
      "\n",
      "![](https://media.giphy.com/media/lPSMFWqKCJY5Let2v5/giphy.gif)\n",
      "\n",
      "* Version: 2.1.2\n",
      "\n",
      "--- conda envs ---\n",
      "==> /ebio/abt3_projects2/databases_no-backup/bin/struo2_1/bin/envs/genes.yaml <==\n",
      "channels:\n",
      "- bioconda\n",
      "dependencies:\n",
      "- pigz\n",
      "- python=3\n",
      "- numpy\n",
      "- bioconda::seqkit\n",
      "- bioconda::fasta-splitter\n",
      "- bioconda::vsearch\n",
      "- bioconda::prodigal\n",
      "- bioconda::mmseqs2\n",
      "==> /ebio/abt3_projects2/databases_no-backup/bin/struo2_1/bin/envs/humann2.yaml <==\n",
      "channels:\n",
      "- bioconda\n",
      "dependencies:\n",
      "- pigz\n",
      "- bioconda::bowtie2\n",
      "- bioconda::vsearch\n",
      "- bioconda::prodigal\n",
      "- bioconda::diamond=0.8.36\n",
      "\n",
      "==> /ebio/abt3_projects2/databases_no-backup/bin/struo2_1/bin/envs/humann3.yaml <==\n",
      "channels:\n",
      "- bioconda\n",
      "- biobakery\n",
      "dependencies:\n",
      "- pigz\n",
      "- bioconda::seqkit\n",
      "- bioconda::vsearch\n",
      "- bioconda::prodigal\n",
      "- bioconda::diamond=0.9.24\n",
      "- biobakery::humann\n",
      "\n",
      "==> /ebio/abt3_projects2/databases_no-backup/bin/struo2_1/bin/envs/kraken2.yaml <==\n",
      "channels:\n",
      "- bioconda\n",
      "dependencies:\n",
      "- libiconv\n",
      "- bioconda::kraken2\n",
      "- bioconda::bracken\n"
     ]
    }
   ],
   "source": [
    "pipelineInfo('/ebio/abt3_projects2/databases_no-backup/bin/struo2_1')"
   ]
  },
  {
   "cell_type": "code",
   "execution_count": 5,
   "metadata": {
    "ExecuteTime": {
     "end_time": "2021-02-06T16:13:13.473567Z",
     "start_time": "2021-02-06T16:13:13.398Z"
    }
   },
   "outputs": [
    {
     "data": {
      "text/plain": [
       "R version 3.6.3 (2020-02-29)\n",
       "Platform: x86_64-conda_cos6-linux-gnu (64-bit)\n",
       "Running under: Ubuntu 18.04.5 LTS\n",
       "\n",
       "Matrix products: default\n",
       "BLAS/LAPACK: /ebio/abt3_projects/Georg_animal_feces/envs/tidyverse/lib/libopenblasp-r0.3.9.so\n",
       "\n",
       "locale:\n",
       " [1] LC_CTYPE=en_US.UTF-8       LC_NUMERIC=C              \n",
       " [3] LC_TIME=en_US.UTF-8        LC_COLLATE=en_US.UTF-8    \n",
       " [5] LC_MONETARY=en_US.UTF-8    LC_MESSAGES=en_US.UTF-8   \n",
       " [7] LC_PAPER=en_US.UTF-8       LC_NAME=C                 \n",
       " [9] LC_ADDRESS=C               LC_TELEPHONE=C            \n",
       "[11] LC_MEASUREMENT=en_US.UTF-8 LC_IDENTIFICATION=C       \n",
       "\n",
       "attached base packages:\n",
       "[1] stats     graphics  grDevices utils     datasets  methods   base     \n",
       "\n",
       "other attached packages:\n",
       "[1] LeyLabRMisc_0.1.6 tidytable_0.5.1   data.table_1.12.8 ggplot2_3.3.1    \n",
       "[5] tidyr_1.1.0       dplyr_1.0.0      \n",
       "\n",
       "loaded via a namespace (and not attached):\n",
       " [1] Rcpp_1.0.4.6     magrittr_1.5     munsell_0.5.0    tidyselect_1.1.0\n",
       " [5] uuid_0.1-4       colorspace_1.4-1 R6_2.4.1         rlang_0.4.6     \n",
       " [9] tools_3.6.3      grid_3.6.3       gtable_0.3.0     withr_2.2.0     \n",
       "[13] htmltools_0.4.0  ellipsis_0.3.1   digest_0.6.25    tibble_3.0.1    \n",
       "[17] lifecycle_0.2.0  crayon_1.3.4     IRdisplay_0.7.0  purrr_0.3.4     \n",
       "[21] repr_1.1.0       base64enc_0.1-3  vctrs_0.3.1      IRkernel_1.1    \n",
       "[25] glue_1.4.1       evaluate_0.14    pbdZMQ_0.3-3     compiler_3.6.3  \n",
       "[29] pillar_1.4.4     scales_1.1.1     generics_0.0.2   jsonlite_1.6.1  \n",
       "[33] pkgconfig_2.0.3 "
      ]
     },
     "metadata": {},
     "output_type": "display_data"
    }
   ],
   "source": [
    "sessionInfo()"
   ]
  },
  {
   "cell_type": "code",
   "execution_count": null,
   "metadata": {},
   "outputs": [],
   "source": []
  }
 ],
 "metadata": {
  "kernelspec": {
   "display_name": "R [conda env:Georg_animal_feces-tidyverse]",
   "language": "R",
   "name": "conda-env-Georg_animal_feces-tidyverse-r"
  },
  "language_info": {
   "codemirror_mode": "r",
   "file_extension": ".r",
   "mimetype": "text/x-r-source",
   "name": "R",
   "pygments_lexer": "r",
   "version": "3.6.3"
  },
  "notify_time": "30",
  "toc": {
   "base_numbering": 1,
   "nav_menu": {},
   "number_sections": true,
   "sideBar": true,
   "skip_h1_title": false,
   "title_cell": "Table of Contents",
   "title_sidebar": "Contents",
   "toc_cell": true,
   "toc_position": {},
   "toc_section_display": true,
   "toc_window_display": true
  }
 },
 "nbformat": 4,
 "nbformat_minor": 4
}
