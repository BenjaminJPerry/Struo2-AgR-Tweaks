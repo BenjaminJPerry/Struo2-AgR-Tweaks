{
 "cells": [
  {
   "cell_type": "markdown",
   "metadata": {
    "toc": true
   },
   "source": [
    "<h1>Table of Contents<span class=\"tocSkip\"></span></h1>\n",
    "<div class=\"toc\"><ul class=\"toc-item\"><li><span><a href=\"#Goal\" data-toc-modified-id=\"Goal-1\"><span class=\"toc-item-num\">1&nbsp;&nbsp;</span>Goal</a></span></li><li><span><a href=\"#Var\" data-toc-modified-id=\"Var-2\"><span class=\"toc-item-num\">2&nbsp;&nbsp;</span>Var</a></span></li><li><span><a href=\"#Init\" data-toc-modified-id=\"Init-3\"><span class=\"toc-item-num\">3&nbsp;&nbsp;</span>Init</a></span></li><li><span><a href=\"#Selecting-genome-reps\" data-toc-modified-id=\"Selecting-genome-reps-4\"><span class=\"toc-item-num\">4&nbsp;&nbsp;</span>Selecting genome reps</a></span><ul class=\"toc-item\"><li><span><a href=\"#Writing-tables\" data-toc-modified-id=\"Writing-tables-4.1\"><span class=\"toc-item-num\">4.1&nbsp;&nbsp;</span>Writing tables</a></span><ul class=\"toc-item\"><li><span><a href=\"#N100\" data-toc-modified-id=\"N100-4.1.1\"><span class=\"toc-item-num\">4.1.1&nbsp;&nbsp;</span>N100</a></span></li><li><span><a href=\"#N500\" data-toc-modified-id=\"N500-4.1.2\"><span class=\"toc-item-num\">4.1.2&nbsp;&nbsp;</span>N500</a></span></li><li><span><a href=\"#N1000\" data-toc-modified-id=\"N1000-4.1.3\"><span class=\"toc-item-num\">4.1.3&nbsp;&nbsp;</span>N1000</a></span></li><li><span><a href=\"#N10\" data-toc-modified-id=\"N10-4.1.4\"><span class=\"toc-item-num\">4.1.4&nbsp;&nbsp;</span>N10</a></span></li><li><span><a href=\"#N250\" data-toc-modified-id=\"N250-4.1.5\"><span class=\"toc-item-num\">4.1.5&nbsp;&nbsp;</span>N250</a></span></li><li><span><a href=\"#N350\" data-toc-modified-id=\"N350-4.1.6\"><span class=\"toc-item-num\">4.1.6&nbsp;&nbsp;</span>N350</a></span></li><li><span><a href=\"#N175\" data-toc-modified-id=\"N175-4.1.7\"><span class=\"toc-item-num\">4.1.7&nbsp;&nbsp;</span>N175</a></span></li></ul></li></ul></li><li><span><a href=\"#DB-create\" data-toc-modified-id=\"DB-create-5\"><span class=\"toc-item-num\">5&nbsp;&nbsp;</span>DB-create</a></span><ul class=\"toc-item\"><li><span><a href=\"#N1000r0\" data-toc-modified-id=\"N1000r0-5.1\"><span class=\"toc-item-num\">5.1&nbsp;&nbsp;</span>N1000r0</a></span><ul class=\"toc-item\"><li><span><a href=\"#Config\" data-toc-modified-id=\"Config-5.1.1\"><span class=\"toc-item-num\">5.1.1&nbsp;&nbsp;</span>Config</a></span></li><li><span><a href=\"#Run\" data-toc-modified-id=\"Run-5.1.2\"><span class=\"toc-item-num\">5.1.2&nbsp;&nbsp;</span>Run</a></span></li></ul></li></ul></li><li><span><a href=\"#DB-update\" data-toc-modified-id=\"DB-update-6\"><span class=\"toc-item-num\">6&nbsp;&nbsp;</span>DB-update</a></span><ul class=\"toc-item\"><li><span><a href=\"#n10r1\" data-toc-modified-id=\"n10r1-6.1\"><span class=\"toc-item-num\">6.1&nbsp;&nbsp;</span>n10r1</a></span><ul class=\"toc-item\"><li><span><a href=\"#Config\" data-toc-modified-id=\"Config-6.1.1\"><span class=\"toc-item-num\">6.1.1&nbsp;&nbsp;</span>Config</a></span></li><li><span><a href=\"#Run\" data-toc-modified-id=\"Run-6.1.2\"><span class=\"toc-item-num\">6.1.2&nbsp;&nbsp;</span>Run</a></span></li></ul></li><li><span><a href=\"#n100r1\" data-toc-modified-id=\"n100r1-6.2\"><span class=\"toc-item-num\">6.2&nbsp;&nbsp;</span>n100r1</a></span><ul class=\"toc-item\"><li><span><a href=\"#Config\" data-toc-modified-id=\"Config-6.2.1\"><span class=\"toc-item-num\">6.2.1&nbsp;&nbsp;</span>Config</a></span></li><li><span><a href=\"#Run\" data-toc-modified-id=\"Run-6.2.2\"><span class=\"toc-item-num\">6.2.2&nbsp;&nbsp;</span>Run</a></span></li></ul></li><li><span><a href=\"#n100r2\" data-toc-modified-id=\"n100r2-6.3\"><span class=\"toc-item-num\">6.3&nbsp;&nbsp;</span>n100r2</a></span><ul class=\"toc-item\"><li><span><a href=\"#Config\" data-toc-modified-id=\"Config-6.3.1\"><span class=\"toc-item-num\">6.3.1&nbsp;&nbsp;</span>Config</a></span></li><li><span><a href=\"#Run\" data-toc-modified-id=\"Run-6.3.2\"><span class=\"toc-item-num\">6.3.2&nbsp;&nbsp;</span>Run</a></span></li></ul></li><li><span><a href=\"#n175r1\" data-toc-modified-id=\"n175r1-6.4\"><span class=\"toc-item-num\">6.4&nbsp;&nbsp;</span>n175r1</a></span><ul class=\"toc-item\"><li><span><a href=\"#Config\" data-toc-modified-id=\"Config-6.4.1\"><span class=\"toc-item-num\">6.4.1&nbsp;&nbsp;</span>Config</a></span></li><li><span><a href=\"#Run\" data-toc-modified-id=\"Run-6.4.2\"><span class=\"toc-item-num\">6.4.2&nbsp;&nbsp;</span>Run</a></span></li></ul></li><li><span><a href=\"#n250r1\" data-toc-modified-id=\"n250r1-6.5\"><span class=\"toc-item-num\">6.5&nbsp;&nbsp;</span>n250r1</a></span><ul class=\"toc-item\"><li><span><a href=\"#Config\" data-toc-modified-id=\"Config-6.5.1\"><span class=\"toc-item-num\">6.5.1&nbsp;&nbsp;</span>Config</a></span></li><li><span><a href=\"#Run\" data-toc-modified-id=\"Run-6.5.2\"><span class=\"toc-item-num\">6.5.2&nbsp;&nbsp;</span>Run</a></span></li></ul></li><li><span><a href=\"#n350r1\" data-toc-modified-id=\"n350r1-6.6\"><span class=\"toc-item-num\">6.6&nbsp;&nbsp;</span>n350r1</a></span><ul class=\"toc-item\"><li><span><a href=\"#Config\" data-toc-modified-id=\"Config-6.6.1\"><span class=\"toc-item-num\">6.6.1&nbsp;&nbsp;</span>Config</a></span></li><li><span><a href=\"#Run\" data-toc-modified-id=\"Run-6.6.2\"><span class=\"toc-item-num\">6.6.2&nbsp;&nbsp;</span>Run</a></span></li></ul></li><li><span><a href=\"#n500r1\" data-toc-modified-id=\"n500r1-6.7\"><span class=\"toc-item-num\">6.7&nbsp;&nbsp;</span>n500r1</a></span><ul class=\"toc-item\"><li><span><a href=\"#Config\" data-toc-modified-id=\"Config-6.7.1\"><span class=\"toc-item-num\">6.7.1&nbsp;&nbsp;</span>Config</a></span></li><li><span><a href=\"#Run\" data-toc-modified-id=\"Run-6.7.2\"><span class=\"toc-item-num\">6.7.2&nbsp;&nbsp;</span>Run</a></span></li></ul></li><li><span><a href=\"#n500r2\" data-toc-modified-id=\"n500r2-6.8\"><span class=\"toc-item-num\">6.8&nbsp;&nbsp;</span>n500r2</a></span><ul class=\"toc-item\"><li><span><a href=\"#Config\" data-toc-modified-id=\"Config-6.8.1\"><span class=\"toc-item-num\">6.8.1&nbsp;&nbsp;</span>Config</a></span></li><li><span><a href=\"#Run\" data-toc-modified-id=\"Run-6.8.2\"><span class=\"toc-item-num\">6.8.2&nbsp;&nbsp;</span>Run</a></span></li></ul></li><li><span><a href=\"#n1000r1\" data-toc-modified-id=\"n1000r1-6.9\"><span class=\"toc-item-num\">6.9&nbsp;&nbsp;</span>n1000r1</a></span><ul class=\"toc-item\"><li><span><a href=\"#Config\" data-toc-modified-id=\"Config-6.9.1\"><span class=\"toc-item-num\">6.9.1&nbsp;&nbsp;</span>Config</a></span></li><li><span><a href=\"#Run\" data-toc-modified-id=\"Run-6.9.2\"><span class=\"toc-item-num\">6.9.2&nbsp;&nbsp;</span>Run</a></span></li></ul></li></ul></li><li><span><a href=\"#Summary\" data-toc-modified-id=\"Summary-7\"><span class=\"toc-item-num\">7&nbsp;&nbsp;</span>Summary</a></span><ul class=\"toc-item\"><li><span><a href=\"#DB-create\" data-toc-modified-id=\"DB-create-7.1\"><span class=\"toc-item-num\">7.1&nbsp;&nbsp;</span>DB create</a></span></li><li><span><a href=\"#DB-update\" data-toc-modified-id=\"DB-update-7.2\"><span class=\"toc-item-num\">7.2&nbsp;&nbsp;</span>DB update</a></span></li></ul></li><li><span><a href=\"#sessionInfo\" data-toc-modified-id=\"sessionInfo-8\"><span class=\"toc-item-num\">8&nbsp;&nbsp;</span>sessionInfo</a></span></li></ul></div>"
   ]
  },
  {
   "cell_type": "markdown",
   "metadata": {},
   "source": [
    "# Goal\n",
    "\n",
    "* Benchmark resources required to update a database\n",
    "  * Comparing Struo vs Struo2"
   ]
  },
  {
   "cell_type": "markdown",
   "metadata": {},
   "source": [
    "# Var"
   ]
  },
  {
   "cell_type": "code",
   "execution_count": 2,
   "metadata": {
    "ExecuteTime": {
     "end_time": "2021-02-07T07:40:12.028961Z",
     "start_time": "2021-02-07T07:40:10.701Z"
    }
   },
   "outputs": [],
   "source": [
    "# working dir\n",
    "work_dir = '/ebio/abt3_projects2/databases_no-backup/GTDB/release95/Struo/benchmarking/db_update/UniRef50-90/'\n",
    "\n",
    "# GTDB struo2 genome metadata\n",
    "metadata_file = '/ebio/abt3_projects2/databases_no-backup/GTDB/release95/Struo//metadata_1per-GTDB-Spec_gte50comp-lt5cont_wtaxID_wPath.tsv'\n",
    "\n",
    "# params\n",
    "my_seed = 831\n",
    "threads = 4"
   ]
  },
  {
   "cell_type": "markdown",
   "metadata": {},
   "source": [
    "# Init"
   ]
  },
  {
   "cell_type": "code",
   "execution_count": 3,
   "metadata": {
    "ExecuteTime": {
     "end_time": "2021-02-07T07:40:13.020441Z",
     "start_time": "2021-02-07T07:40:10.923Z"
    }
   },
   "outputs": [
    {
     "name": "stderr",
     "output_type": "stream",
     "text": [
      "\n",
      "Attaching package: ‘dplyr’\n",
      "\n",
      "\n",
      "The following objects are masked from ‘package:stats’:\n",
      "\n",
      "    filter, lag\n",
      "\n",
      "\n",
      "The following objects are masked from ‘package:base’:\n",
      "\n",
      "    intersect, setdiff, setequal, union\n",
      "\n",
      "\n",
      "\n",
      "Attaching package: ‘data.table’\n",
      "\n",
      "\n",
      "The following objects are masked from ‘package:dplyr’:\n",
      "\n",
      "    between, first, last\n",
      "\n",
      "\n",
      "\n",
      "Attaching package: ‘tidytable’\n",
      "\n",
      "\n",
      "The following object is masked from ‘package:stats’:\n",
      "\n",
      "    dt\n",
      "\n",
      "\n"
     ]
    }
   ],
   "source": [
    "library(dplyr)\n",
    "library(tidyr)\n",
    "library(ggplot2)\n",
    "library(data.table)\n",
    "library(tidytable)\n",
    "library(LeyLabRMisc)"
   ]
  },
  {
   "cell_type": "code",
   "execution_count": 4,
   "metadata": {
    "ExecuteTime": {
     "end_time": "2021-02-07T07:40:13.210603Z",
     "start_time": "2021-02-07T07:40:11.612Z"
    }
   },
   "outputs": [
    {
     "name": "stdout",
     "output_type": "stream",
     "text": [
      "Directory already exists: /ebio/abt3_projects2/databases_no-backup/GTDB/release95/Struo/benchmarking/db_update/UniRef50-90/ \n"
     ]
    }
   ],
   "source": [
    "set.seed(6471)\n",
    "setDTthreads(threads)\n",
    "make_dir(work_dir)\n",
    "df.dims()"
   ]
  },
  {
   "cell_type": "markdown",
   "metadata": {},
   "source": [
    "# Selecting genome reps"
   ]
  },
  {
   "cell_type": "code",
   "execution_count": 7,
   "metadata": {
    "ExecuteTime": {
     "end_time": "2021-01-18T19:53:26.014425Z",
     "start_time": "2021-01-18T19:53:12.591Z"
    }
   },
   "outputs": [
    {
     "data": {
      "text/html": [
       "<table>\n",
       "<caption>A data.frame: 30989 × 113</caption>\n",
       "<thead>\n",
       "\t<tr><th scope=col>ncbi_organism_name</th><th scope=col>accession</th><th scope=col>ambiguous_bases</th><th scope=col>checkm_completeness</th><th scope=col>checkm_contamination</th><th scope=col>checkm_marker_count</th><th scope=col>checkm_marker_lineage</th><th scope=col>checkm_marker_set_count</th><th scope=col>checkm_strain_heterogeneity</th><th scope=col>coding_bases</th><th scope=col>⋯</th><th scope=col>ssu_silva_blast_perc_identity</th><th scope=col>ssu_silva_blast_subject_id</th><th scope=col>ssu_silva_taxonomy</th><th scope=col>total_gap_length</th><th scope=col>trna_aa_count</th><th scope=col>trna_count</th><th scope=col>trna_selenocysteine_count</th><th scope=col>SPECIES</th><th scope=col>gtdb_taxid</th><th scope=col>fasta_file_path</th></tr>\n",
       "\t<tr><th scope=col>&lt;fct&gt;</th><th scope=col>&lt;fct&gt;</th><th scope=col>&lt;int&gt;</th><th scope=col>&lt;dbl&gt;</th><th scope=col>&lt;dbl&gt;</th><th scope=col>&lt;int&gt;</th><th scope=col>&lt;fct&gt;</th><th scope=col>&lt;int&gt;</th><th scope=col>&lt;dbl&gt;</th><th scope=col>&lt;int&gt;</th><th scope=col>⋯</th><th scope=col>&lt;fct&gt;</th><th scope=col>&lt;fct&gt;</th><th scope=col>&lt;fct&gt;</th><th scope=col>&lt;int&gt;</th><th scope=col>&lt;int&gt;</th><th scope=col>&lt;int&gt;</th><th scope=col>&lt;int&gt;</th><th scope=col>&lt;fct&gt;</th><th scope=col>&lt;int&gt;</th><th scope=col>&lt;fct&gt;</th></tr>\n",
       "</thead>\n",
       "<tbody>\n",
       "\t<tr><td>GB_GCA_002789635.1_Candidatus Aenigmarchaeota archaeon CG_4_9_14_3_um_filter_37_18</td><td>GB_GCA_002789635.1</td><td>  9</td><td>79.44</td><td>0</td><td>149</td><td>k__Archaea (UID2)</td><td>107</td><td>0</td><td>794970</td><td>⋯</td><td>100</td><td>MNUF01000028.16163.17137</td><td>Archaea;Nanoarchaeaeota;Nanohaloarchaeia;Aenigmarchaeales;Candidatus Aenigmarchaeota archaeon CG1_02_38_14</td><td> 368</td><td>19</td><td>35</td><td>0</td><td>CG10238-14 sp002789635  </td><td> 689</td><td>/ebio/abt3_projects2/databases_no-backup/GTDB/release95/Struo/genomes/genbank/archaea/GCA_002789635.1/GCA_002789635.1_ASM278963v1_genomic.fna.gz</td></tr>\n",
       "\t<tr><td>GB_GCA_001784635.1_Candidatus Micrarchaeota archaeon RBG_16_49_10                 </td><td>GB_GCA_001784635.1</td><td>151</td><td>74.92</td><td>0</td><td>149</td><td>k__Archaea (UID2)</td><td>107</td><td>0</td><td>773516</td><td>⋯</td><td>100</td><td>MFRS01000021.2138.3463  </td><td>Archaea;Nanoarchaeaeota;Nanohaloarchaeia;Aenigmarchaeales;Candidatus Micrarchaeota archaeon RBG_16_49_10  </td><td>6621</td><td>18</td><td>36</td><td>0</td><td>RBG-16-49-10 sp001784635</td><td>3509</td><td>/ebio/abt3_projects2/databases_no-backup/GTDB/release95/Struo/genomes/genbank/archaea/GCA_001784635.1/GCA_001784635.1_ASM178463v1_genomic.fna.gz</td></tr>\n",
       "\t<tr><td>⋮</td><td>⋮</td><td>⋮</td><td>⋮</td><td>⋮</td><td>⋮</td><td>⋮</td><td>⋮</td><td>⋮</td><td>⋮</td><td>⋱</td><td>⋮</td><td>⋮</td><td>⋮</td><td>⋮</td><td>⋮</td><td>⋮</td><td>⋮</td><td>⋮</td><td>⋮</td><td>⋮</td></tr>\n",
       "\t<tr><td>RS_GCF_001644955.1_Pseudomonas putida</td><td>RS_GCF_001644955.1</td><td>0</td><td>99.59</td><td>0.16</td><td>813</td><td>o__Pseudomonadales (UID4488) </td><td>308</td><td>0</td><td>5508282</td><td>⋯</td><td>none</td><td>none           </td><td>none                                                                                                  </td><td>0</td><td>19</td><td>61</td><td>0</td><td>Pseudomonas_E putida_C</td><td>188090</td><td>/ebio/abt3_projects2/databases_no-backup/GTDB/release95/Struo/genomes/genbank/bacteria/GCA_001644955.1/GCA_001644955.1_CBF10-2_genomic.fna.gz    </td></tr>\n",
       "\t<tr><td>RS_GCF_003233695.1_Lysobacter maris  </td><td>RS_GCF_003233695.1</td><td>0</td><td>99.77</td><td>0.69</td><td>659</td><td>f__Xanthomonadaceae (UID4214)</td><td>290</td><td>0</td><td>3531075</td><td>⋯</td><td>100 </td><td>KX886800.1.1510</td><td>Bacteria;Proteobacteria;Gammaproteobacteria;Xanthomonadales;Xanthomonadaceae;Lysobacter;Lysobacter sp.</td><td>0</td><td>20</td><td>56</td><td>0</td><td>Lysobacter maris      </td><td>183442</td><td>/ebio/abt3_projects2/databases_no-backup/GTDB/release95/Struo/genomes/genbank/bacteria/GCA_003233695.1/GCA_003233695.1_ASM323369v1_genomic.fna.gz</td></tr>\n",
       "</tbody>\n",
       "</table>\n"
      ],
      "text/latex": [
       "A data.frame: 30989 × 113\n",
       "\\begin{tabular}{lllllllllllllllllllll}\n",
       " ncbi\\_organism\\_name & accession & ambiguous\\_bases & checkm\\_completeness & checkm\\_contamination & checkm\\_marker\\_count & checkm\\_marker\\_lineage & checkm\\_marker\\_set\\_count & checkm\\_strain\\_heterogeneity & coding\\_bases & ⋯ & ssu\\_silva\\_blast\\_perc\\_identity & ssu\\_silva\\_blast\\_subject\\_id & ssu\\_silva\\_taxonomy & total\\_gap\\_length & trna\\_aa\\_count & trna\\_count & trna\\_selenocysteine\\_count & SPECIES & gtdb\\_taxid & fasta\\_file\\_path\\\\\n",
       " <fct> & <fct> & <int> & <dbl> & <dbl> & <int> & <fct> & <int> & <dbl> & <int> & ⋯ & <fct> & <fct> & <fct> & <int> & <int> & <int> & <int> & <fct> & <int> & <fct>\\\\\n",
       "\\hline\n",
       "\t GB\\_GCA\\_002789635.1\\_Candidatus Aenigmarchaeota archaeon CG\\_4\\_9\\_14\\_3\\_um\\_filter\\_37\\_18 & GB\\_GCA\\_002789635.1 &   9 & 79.44 & 0 & 149 & k\\_\\_Archaea (UID2) & 107 & 0 & 794970 & ⋯ & 100 & MNUF01000028.16163.17137 & Archaea;Nanoarchaeaeota;Nanohaloarchaeia;Aenigmarchaeales;Candidatus Aenigmarchaeota archaeon CG1\\_02\\_38\\_14 &  368 & 19 & 35 & 0 & CG10238-14 sp002789635   &  689 & /ebio/abt3\\_projects/databases\\_no-backup/GTDB/release95/Struo/genomes/genbank/archaea/GCA\\_002789635.1/GCA\\_002789635.1\\_ASM278963v1\\_genomic.fna.gz\\\\\n",
       "\t GB\\_GCA\\_001784635.1\\_Candidatus Micrarchaeota archaeon RBG\\_16\\_49\\_10                  & GB\\_GCA\\_001784635.1 & 151 & 74.92 & 0 & 149 & k\\_\\_Archaea (UID2) & 107 & 0 & 773516 & ⋯ & 100 & MFRS01000021.2138.3463   & Archaea;Nanoarchaeaeota;Nanohaloarchaeia;Aenigmarchaeales;Candidatus Micrarchaeota archaeon RBG\\_16\\_49\\_10   & 6621 & 18 & 36 & 0 & RBG-16-49-10 sp001784635 & 3509 & /ebio/abt3\\_projects/databases\\_no-backup/GTDB/release95/Struo/genomes/genbank/archaea/GCA\\_001784635.1/GCA\\_001784635.1\\_ASM178463v1\\_genomic.fna.gz\\\\\n",
       "\t ⋮ & ⋮ & ⋮ & ⋮ & ⋮ & ⋮ & ⋮ & ⋮ & ⋮ & ⋮ & ⋱ & ⋮ & ⋮ & ⋮ & ⋮ & ⋮ & ⋮ & ⋮ & ⋮ & ⋮ & ⋮\\\\\n",
       "\t RS\\_GCF\\_001644955.1\\_Pseudomonas putida & RS\\_GCF\\_001644955.1 & 0 & 99.59 & 0.16 & 813 & o\\_\\_Pseudomonadales (UID4488)  & 308 & 0 & 5508282 & ⋯ & none & none            & none                                                                                                   & 0 & 19 & 61 & 0 & Pseudomonas\\_E putida\\_C & 188090 & /ebio/abt3\\_projects/databases\\_no-backup/GTDB/release95/Struo/genomes/genbank/bacteria/GCA\\_001644955.1/GCA\\_001644955.1\\_CBF10-2\\_genomic.fna.gz    \\\\\n",
       "\t RS\\_GCF\\_003233695.1\\_Lysobacter maris   & RS\\_GCF\\_003233695.1 & 0 & 99.77 & 0.69 & 659 & f\\_\\_Xanthomonadaceae (UID4214) & 290 & 0 & 3531075 & ⋯ & 100  & KX886800.1.1510 & Bacteria;Proteobacteria;Gammaproteobacteria;Xanthomonadales;Xanthomonadaceae;Lysobacter;Lysobacter sp. & 0 & 20 & 56 & 0 & Lysobacter maris       & 183442 & /ebio/abt3\\_projects/databases\\_no-backup/GTDB/release95/Struo/genomes/genbank/bacteria/GCA\\_003233695.1/GCA\\_003233695.1\\_ASM323369v1\\_genomic.fna.gz\\\\\n",
       "\\end{tabular}\n"
      ],
      "text/markdown": [
       "\n",
       "A data.frame: 30989 × 113\n",
       "\n",
       "| ncbi_organism_name &lt;fct&gt; | accession &lt;fct&gt; | ambiguous_bases &lt;int&gt; | checkm_completeness &lt;dbl&gt; | checkm_contamination &lt;dbl&gt; | checkm_marker_count &lt;int&gt; | checkm_marker_lineage &lt;fct&gt; | checkm_marker_set_count &lt;int&gt; | checkm_strain_heterogeneity &lt;dbl&gt; | coding_bases &lt;int&gt; | ⋯ ⋯ | ssu_silva_blast_perc_identity &lt;fct&gt; | ssu_silva_blast_subject_id &lt;fct&gt; | ssu_silva_taxonomy &lt;fct&gt; | total_gap_length &lt;int&gt; | trna_aa_count &lt;int&gt; | trna_count &lt;int&gt; | trna_selenocysteine_count &lt;int&gt; | SPECIES &lt;fct&gt; | gtdb_taxid &lt;int&gt; | fasta_file_path &lt;fct&gt; |\n",
       "|---|---|---|---|---|---|---|---|---|---|---|---|---|---|---|---|---|---|---|---|---|\n",
       "| GB_GCA_002789635.1_Candidatus Aenigmarchaeota archaeon CG_4_9_14_3_um_filter_37_18 | GB_GCA_002789635.1 |   9 | 79.44 | 0 | 149 | k__Archaea (UID2) | 107 | 0 | 794970 | ⋯ | 100 | MNUF01000028.16163.17137 | Archaea;Nanoarchaeaeota;Nanohaloarchaeia;Aenigmarchaeales;Candidatus Aenigmarchaeota archaeon CG1_02_38_14 |  368 | 19 | 35 | 0 | CG10238-14 sp002789635   |  689 | /ebio/abt3_projects2/databases_no-backup/GTDB/release95/Struo/genomes/genbank/archaea/GCA_002789635.1/GCA_002789635.1_ASM278963v1_genomic.fna.gz |\n",
       "| GB_GCA_001784635.1_Candidatus Micrarchaeota archaeon RBG_16_49_10                  | GB_GCA_001784635.1 | 151 | 74.92 | 0 | 149 | k__Archaea (UID2) | 107 | 0 | 773516 | ⋯ | 100 | MFRS01000021.2138.3463   | Archaea;Nanoarchaeaeota;Nanohaloarchaeia;Aenigmarchaeales;Candidatus Micrarchaeota archaeon RBG_16_49_10   | 6621 | 18 | 36 | 0 | RBG-16-49-10 sp001784635 | 3509 | /ebio/abt3_projects2/databases_no-backup/GTDB/release95/Struo/genomes/genbank/archaea/GCA_001784635.1/GCA_001784635.1_ASM178463v1_genomic.fna.gz |\n",
       "| ⋮ | ⋮ | ⋮ | ⋮ | ⋮ | ⋮ | ⋮ | ⋮ | ⋮ | ⋮ | ⋱ | ⋮ | ⋮ | ⋮ | ⋮ | ⋮ | ⋮ | ⋮ | ⋮ | ⋮ | ⋮ |\n",
       "| RS_GCF_001644955.1_Pseudomonas putida | RS_GCF_001644955.1 | 0 | 99.59 | 0.16 | 813 | o__Pseudomonadales (UID4488)  | 308 | 0 | 5508282 | ⋯ | none | none            | none                                                                                                   | 0 | 19 | 61 | 0 | Pseudomonas_E putida_C | 188090 | /ebio/abt3_projects2/databases_no-backup/GTDB/release95/Struo/genomes/genbank/bacteria/GCA_001644955.1/GCA_001644955.1_CBF10-2_genomic.fna.gz     |\n",
       "| RS_GCF_003233695.1_Lysobacter maris   | RS_GCF_003233695.1 | 0 | 99.77 | 0.69 | 659 | f__Xanthomonadaceae (UID4214) | 290 | 0 | 3531075 | ⋯ | 100  | KX886800.1.1510 | Bacteria;Proteobacteria;Gammaproteobacteria;Xanthomonadales;Xanthomonadaceae;Lysobacter;Lysobacter sp. | 0 | 20 | 56 | 0 | Lysobacter maris       | 183442 | /ebio/abt3_projects2/databases_no-backup/GTDB/release95/Struo/genomes/genbank/bacteria/GCA_003233695.1/GCA_003233695.1_ASM323369v1_genomic.fna.gz |\n",
       "\n"
      ],
      "text/plain": [
       "      ncbi_organism_name                                                                \n",
       "1     GB_GCA_002789635.1_Candidatus Aenigmarchaeota archaeon CG_4_9_14_3_um_filter_37_18\n",
       "2     GB_GCA_001784635.1_Candidatus Micrarchaeota archaeon RBG_16_49_10                 \n",
       "⋮     ⋮                                                                                 \n",
       "30988 RS_GCF_001644955.1_Pseudomonas putida                                             \n",
       "30989 RS_GCF_003233695.1_Lysobacter maris                                               \n",
       "      accession          ambiguous_bases checkm_completeness\n",
       "1     GB_GCA_002789635.1   9             79.44              \n",
       "2     GB_GCA_001784635.1 151             74.92              \n",
       "⋮     ⋮                  ⋮               ⋮                  \n",
       "30988 RS_GCF_001644955.1 0               99.59              \n",
       "30989 RS_GCF_003233695.1 0               99.77              \n",
       "      checkm_contamination checkm_marker_count checkm_marker_lineage        \n",
       "1     0                    149                 k__Archaea (UID2)            \n",
       "2     0                    149                 k__Archaea (UID2)            \n",
       "⋮     ⋮                    ⋮                   ⋮                            \n",
       "30988 0.16                 813                 o__Pseudomonadales (UID4488) \n",
       "30989 0.69                 659                 f__Xanthomonadaceae (UID4214)\n",
       "      checkm_marker_set_count checkm_strain_heterogeneity coding_bases ⋯\n",
       "1     107                     0                           794970       ⋯\n",
       "2     107                     0                           773516       ⋯\n",
       "⋮     ⋮                       ⋮                           ⋮            ⋱\n",
       "30988 308                     0                           5508282      ⋯\n",
       "30989 290                     0                           3531075      ⋯\n",
       "      ssu_silva_blast_perc_identity ssu_silva_blast_subject_id\n",
       "1     100                           MNUF01000028.16163.17137  \n",
       "2     100                           MFRS01000021.2138.3463    \n",
       "⋮     ⋮                             ⋮                         \n",
       "30988 none                          none                      \n",
       "30989 100                           KX886800.1.1510           \n",
       "      ssu_silva_taxonomy                                                                                        \n",
       "1     Archaea;Nanoarchaeaeota;Nanohaloarchaeia;Aenigmarchaeales;Candidatus Aenigmarchaeota archaeon CG1_02_38_14\n",
       "2     Archaea;Nanoarchaeaeota;Nanohaloarchaeia;Aenigmarchaeales;Candidatus Micrarchaeota archaeon RBG_16_49_10  \n",
       "⋮     ⋮                                                                                                         \n",
       "30988 none                                                                                                      \n",
       "30989 Bacteria;Proteobacteria;Gammaproteobacteria;Xanthomonadales;Xanthomonadaceae;Lysobacter;Lysobacter sp.    \n",
       "      total_gap_length trna_aa_count trna_count trna_selenocysteine_count\n",
       "1      368             19            35         0                        \n",
       "2     6621             18            36         0                        \n",
       "⋮     ⋮                ⋮             ⋮          ⋮                        \n",
       "30988 0                19            61         0                        \n",
       "30989 0                20            56         0                        \n",
       "      SPECIES                  gtdb_taxid\n",
       "1     CG10238-14 sp002789635    689      \n",
       "2     RBG-16-49-10 sp001784635 3509      \n",
       "⋮     ⋮                        ⋮         \n",
       "30988 Pseudomonas_E putida_C   188090    \n",
       "30989 Lysobacter maris         183442    \n",
       "      fasta_file_path                                                                                                                                 \n",
       "1     /ebio/abt3_projects2/databases_no-backup/GTDB/release95/Struo/genomes/genbank/archaea/GCA_002789635.1/GCA_002789635.1_ASM278963v1_genomic.fna.gz \n",
       "2     /ebio/abt3_projects2/databases_no-backup/GTDB/release95/Struo/genomes/genbank/archaea/GCA_001784635.1/GCA_001784635.1_ASM178463v1_genomic.fna.gz \n",
       "⋮     ⋮                                                                                                                                               \n",
       "30988 /ebio/abt3_projects2/databases_no-backup/GTDB/release95/Struo/genomes/genbank/bacteria/GCA_001644955.1/GCA_001644955.1_CBF10-2_genomic.fna.gz    \n",
       "30989 /ebio/abt3_projects2/databases_no-backup/GTDB/release95/Struo/genomes/genbank/bacteria/GCA_003233695.1/GCA_003233695.1_ASM323369v1_genomic.fna.gz"
      ]
     },
     "metadata": {},
     "output_type": "display_data"
    }
   ],
   "source": [
    "# loading metadata\n",
    "meta = read.delim(metadata_file, sep='\\t') \n",
    "meta"
   ]
  },
  {
   "cell_type": "code",
   "execution_count": 8,
   "metadata": {
    "ExecuteTime": {
     "end_time": "2021-01-18T19:53:26.016406Z",
     "start_time": "2021-01-18T19:53:17.092Z"
    }
   },
   "outputs": [
    {
     "data": {
      "text/html": [
       "30989"
      ],
      "text/latex": [
       "30989"
      ],
      "text/markdown": [
       "30989"
      ],
      "text/plain": [
       "[1] 30989"
      ]
     },
     "metadata": {},
     "output_type": "display_data"
    }
   ],
   "source": [
    "# selecting dataset subsets \n",
    "pool = sample(1:nrow(meta), nrow(meta))\n",
    "pool %>% length"
   ]
  },
  {
   "cell_type": "markdown",
   "metadata": {},
   "source": [
    "## Writing tables"
   ]
  },
  {
   "cell_type": "code",
   "execution_count": 90,
   "metadata": {
    "ExecuteTime": {
     "end_time": "2021-01-24T07:31:03.566535Z",
     "start_time": "2021-01-24T07:31:03.515Z"
    }
   },
   "outputs": [
    {
     "name": "stdout",
     "output_type": "stream",
     "text": [
      "Directory already exists: /ebio/abt3_projects2/databases_no-backup/GTDB/release95/Struo/benchmarking/db_update/UniRef50-90//metadata \n"
     ]
    }
   ],
   "source": [
    "D = file.path(work_dir, 'metadata')\n",
    "make_dir(D)"
   ]
  },
  {
   "cell_type": "markdown",
   "metadata": {},
   "source": [
    "### N100"
   ]
  },
  {
   "cell_type": "code",
   "execution_count": 15,
   "metadata": {
    "ExecuteTime": {
     "end_time": "2021-01-10T11:03:38.254552Z",
     "start_time": "2021-01-10T11:03:38.198Z"
    }
   },
   "outputs": [
    {
     "name": "stdout",
     "output_type": "stream",
     "text": [
      "File written: /ebio/abt3_projects2/databases_no-backup/GTDB/release95/Struo/benchmarking/db_update/UniRef50-90//metadata/metadata_n100_r0.tsv \n"
     ]
    }
   ],
   "source": [
    "# writing\n",
    "outfile = file.path(D, 'metadata_n100_r0.tsv')\n",
    "meta[pool[1:100],] %>%\n",
    "    write_table(outfile)"
   ]
  },
  {
   "cell_type": "code",
   "execution_count": 16,
   "metadata": {
    "ExecuteTime": {
     "end_time": "2021-01-10T11:03:43.406191Z",
     "start_time": "2021-01-10T11:03:43.286Z"
    }
   },
   "outputs": [
    {
     "name": "stdout",
     "output_type": "stream",
     "text": [
      "File written: /ebio/abt3_projects2/databases_no-backup/GTDB/release95/Struo/benchmarking/db_update/UniRef50-90//metadata/metadata_n100_r1.tsv \n"
     ]
    }
   ],
   "source": [
    "# writing\n",
    "outfile = file.path(D, 'metadata_n100_r1.tsv')\n",
    "meta[pool[101:200],] %>%\n",
    "    write_table(outfile)"
   ]
  },
  {
   "cell_type": "code",
   "execution_count": 17,
   "metadata": {
    "ExecuteTime": {
     "end_time": "2021-01-10T11:03:53.530799Z",
     "start_time": "2021-01-10T11:03:53.468Z"
    }
   },
   "outputs": [
    {
     "name": "stdout",
     "output_type": "stream",
     "text": [
      "File written: /ebio/abt3_projects2/databases_no-backup/GTDB/release95/Struo/benchmarking/db_update/UniRef50-90//metadata/metadata_n100_r2.tsv \n"
     ]
    }
   ],
   "source": [
    "# writing\n",
    "outfile = file.path(D, 'metadata_n100_r2.tsv')\n",
    "meta[pool[201:300],] %>%\n",
    "    write_table(outfile)"
   ]
  },
  {
   "cell_type": "code",
   "execution_count": 18,
   "metadata": {
    "ExecuteTime": {
     "end_time": "2021-01-10T11:03:56.451861Z",
     "start_time": "2021-01-10T11:03:56.388Z"
    }
   },
   "outputs": [
    {
     "name": "stdout",
     "output_type": "stream",
     "text": [
      "File written: /ebio/abt3_projects2/databases_no-backup/GTDB/release95/Struo/benchmarking/db_update/UniRef50-90//metadata/metadata_n100_r3.tsv \n"
     ]
    }
   ],
   "source": [
    "# writing\n",
    "outfile = file.path(D, 'metadata_n100_r3.tsv')\n",
    "meta[pool[301:400],] %>%\n",
    "    write_table(outfile)"
   ]
  },
  {
   "cell_type": "markdown",
   "metadata": {},
   "source": [
    "### N500"
   ]
  },
  {
   "cell_type": "code",
   "execution_count": 19,
   "metadata": {
    "ExecuteTime": {
     "end_time": "2021-01-10T11:04:07.800757Z",
     "start_time": "2021-01-10T11:04:07.717Z"
    }
   },
   "outputs": [
    {
     "name": "stdout",
     "output_type": "stream",
     "text": [
      "File written: /ebio/abt3_projects2/databases_no-backup/GTDB/release95/Struo/benchmarking/db_update/UniRef50-90//metadata/metadata_n500_r0.tsv \n"
     ]
    }
   ],
   "source": [
    "# writing\n",
    "outfile = file.path(D, 'metadata_n500_r0.tsv')\n",
    "meta[pool[1001:1500],] %>%\n",
    "    write_table(outfile)"
   ]
  },
  {
   "cell_type": "code",
   "execution_count": 20,
   "metadata": {
    "ExecuteTime": {
     "end_time": "2021-01-10T11:04:10.873404Z",
     "start_time": "2021-01-10T11:04:10.781Z"
    }
   },
   "outputs": [
    {
     "name": "stdout",
     "output_type": "stream",
     "text": [
      "File written: /ebio/abt3_projects2/databases_no-backup/GTDB/release95/Struo/benchmarking/db_update/UniRef50-90//metadata/metadata_n500_r1.tsv \n"
     ]
    }
   ],
   "source": [
    "# writing\n",
    "outfile = file.path(D, 'metadata_n500_r1.tsv')\n",
    "meta[pool[1501:2000],] %>%\n",
    "    write_table(outfile)"
   ]
  },
  {
   "cell_type": "code",
   "execution_count": 21,
   "metadata": {
    "ExecuteTime": {
     "end_time": "2021-01-10T11:04:14.403971Z",
     "start_time": "2021-01-10T11:04:14.317Z"
    }
   },
   "outputs": [
    {
     "name": "stdout",
     "output_type": "stream",
     "text": [
      "File written: /ebio/abt3_projects2/databases_no-backup/GTDB/release95/Struo/benchmarking/db_update/UniRef50-90//metadata/metadata_n500_r2.tsv \n"
     ]
    }
   ],
   "source": [
    "# writing\n",
    "outfile = file.path(D, 'metadata_n500_r2.tsv')\n",
    "meta[pool[2001:2500],] %>%\n",
    "    write_table(outfile)"
   ]
  },
  {
   "cell_type": "code",
   "execution_count": 22,
   "metadata": {
    "ExecuteTime": {
     "end_time": "2021-01-10T11:04:17.675727Z",
     "start_time": "2021-01-10T11:04:17.589Z"
    }
   },
   "outputs": [
    {
     "name": "stdout",
     "output_type": "stream",
     "text": [
      "File written: /ebio/abt3_projects2/databases_no-backup/GTDB/release95/Struo/benchmarking/db_update/UniRef50-90//metadata/metadata_n500_r3.tsv \n"
     ]
    }
   ],
   "source": [
    "# writing\n",
    "outfile = file.path(D, 'metadata_n500_r3.tsv')\n",
    "meta[pool[2501:3000],] %>%\n",
    "    write_table(outfile)"
   ]
  },
  {
   "cell_type": "markdown",
   "metadata": {},
   "source": [
    "### N1000"
   ]
  },
  {
   "cell_type": "code",
   "execution_count": 23,
   "metadata": {
    "ExecuteTime": {
     "end_time": "2021-01-10T11:04:33.540676Z",
     "start_time": "2021-01-10T11:04:33.413Z"
    }
   },
   "outputs": [
    {
     "name": "stdout",
     "output_type": "stream",
     "text": [
      "File written: /ebio/abt3_projects2/databases_no-backup/GTDB/release95/Struo/benchmarking/db_update/UniRef50-90//metadata/metadata_n1000_r0.tsv \n"
     ]
    }
   ],
   "source": [
    "# writing\n",
    "outfile = file.path(D, 'metadata_n1000_r0.tsv')\n",
    "meta[pool[9001:10000],] %>%\n",
    "    write_table(outfile)"
   ]
  },
  {
   "cell_type": "code",
   "execution_count": 24,
   "metadata": {
    "ExecuteTime": {
     "end_time": "2021-01-10T11:04:38.908305Z",
     "start_time": "2021-01-10T11:04:38.741Z"
    }
   },
   "outputs": [
    {
     "name": "stdout",
     "output_type": "stream",
     "text": [
      "File written: /ebio/abt3_projects2/databases_no-backup/GTDB/release95/Struo/benchmarking/db_update/UniRef50-90//metadata/metadata_n1000_r1.tsv \n"
     ]
    }
   ],
   "source": [
    "# writing\n",
    "outfile = file.path(D, 'metadata_n1000_r1.tsv')\n",
    "meta[pool[10001:11000],] %>%\n",
    "    write_table(outfile)"
   ]
  },
  {
   "cell_type": "code",
   "execution_count": 25,
   "metadata": {
    "ExecuteTime": {
     "end_time": "2021-01-10T11:04:41.912897Z",
     "start_time": "2021-01-10T11:04:41.788Z"
    }
   },
   "outputs": [
    {
     "name": "stdout",
     "output_type": "stream",
     "text": [
      "File written: /ebio/abt3_projects2/databases_no-backup/GTDB/release95/Struo/benchmarking/db_update/UniRef50-90//metadata/metadata_n1000_r2.tsv \n"
     ]
    }
   ],
   "source": [
    "# writing\n",
    "outfile = file.path(D, 'metadata_n1000_r2.tsv')\n",
    "meta[pool[11001:12000],] %>%\n",
    "    write_table(outfile)"
   ]
  },
  {
   "cell_type": "code",
   "execution_count": 26,
   "metadata": {
    "ExecuteTime": {
     "end_time": "2021-01-10T11:04:44.750590Z",
     "start_time": "2021-01-10T11:04:44.620Z"
    }
   },
   "outputs": [
    {
     "name": "stdout",
     "output_type": "stream",
     "text": [
      "File written: /ebio/abt3_projects2/databases_no-backup/GTDB/release95/Struo/benchmarking/db_update/UniRef50-90//metadata/metadata_n1000_r3.tsv \n"
     ]
    }
   ],
   "source": [
    "# writing\n",
    "outfile = file.path(D, 'metadata_n1000_r3.tsv')\n",
    "meta[pool[12001:13000],] %>%\n",
    "    write_table(outfile)"
   ]
  },
  {
   "cell_type": "markdown",
   "metadata": {},
   "source": [
    "### N10"
   ]
  },
  {
   "cell_type": "code",
   "execution_count": 91,
   "metadata": {
    "ExecuteTime": {
     "end_time": "2021-01-24T07:31:08.352077Z",
     "start_time": "2021-01-24T07:31:07.156Z"
    }
   },
   "outputs": [
    {
     "name": "stdout",
     "output_type": "stream",
     "text": [
      "File written: /ebio/abt3_projects2/databases_no-backup/GTDB/release95/Struo/benchmarking/db_update/UniRef50-90//metadata/metadata_n10_r1.tsv \n"
     ]
    }
   ],
   "source": [
    "# writing\n",
    "outfile = file.path(D, 'metadata_n10_r1.tsv')\n",
    "meta[pool[13001:13010],] %>%\n",
    "    write_table(outfile)"
   ]
  },
  {
   "cell_type": "code",
   "execution_count": 92,
   "metadata": {
    "ExecuteTime": {
     "end_time": "2021-01-24T07:31:19.816434Z",
     "start_time": "2021-01-24T07:31:19.745Z"
    }
   },
   "outputs": [
    {
     "name": "stdout",
     "output_type": "stream",
     "text": [
      "File written: /ebio/abt3_projects2/databases_no-backup/GTDB/release95/Struo/benchmarking/db_update/UniRef50-90//metadata/metadata_n10_r2.tsv \n"
     ]
    }
   ],
   "source": [
    "# writing\n",
    "outfile = file.path(D, 'metadata_n10_r2.tsv')\n",
    "meta[pool[13011:13020],] %>%\n",
    "    write_table(outfile)"
   ]
  },
  {
   "cell_type": "markdown",
   "metadata": {},
   "source": [
    "### N250"
   ]
  },
  {
   "cell_type": "code",
   "execution_count": 115,
   "metadata": {
    "ExecuteTime": {
     "end_time": "2021-01-24T11:47:41.537840Z",
     "start_time": "2021-01-24T11:47:41.456Z"
    }
   },
   "outputs": [
    {
     "name": "stdout",
     "output_type": "stream",
     "text": [
      "File written: /ebio/abt3_projects2/databases_no-backup/GTDB/release95/Struo/benchmarking/db_update/UniRef50-90//metadata/metadata_n250_r1.tsv \n"
     ]
    }
   ],
   "source": [
    "# writing\n",
    "outfile = file.path(D, 'metadata_n250_r1.tsv')\n",
    "meta[pool[14001:14250],] %>%\n",
    "    write_table(outfile)"
   ]
  },
  {
   "cell_type": "markdown",
   "metadata": {},
   "source": [
    "### N350"
   ]
  },
  {
   "cell_type": "code",
   "execution_count": 131,
   "metadata": {
    "ExecuteTime": {
     "end_time": "2021-01-25T13:16:03.996931Z",
     "start_time": "2021-01-25T13:16:03.886Z"
    }
   },
   "outputs": [
    {
     "name": "stdout",
     "output_type": "stream",
     "text": [
      "File written: /ebio/abt3_projects2/databases_no-backup/GTDB/release95/Struo/benchmarking/db_update/UniRef50-90//metadata/metadata_n350_r1.tsv \n"
     ]
    }
   ],
   "source": [
    "# writing\n",
    "outfile = file.path(D, 'metadata_n350_r1.tsv')\n",
    "meta[pool[15001:15350],] %>%\n",
    "    write_table(outfile)"
   ]
  },
  {
   "cell_type": "markdown",
   "metadata": {},
   "source": [
    "### N175"
   ]
  },
  {
   "cell_type": "code",
   "execution_count": 181,
   "metadata": {
    "ExecuteTime": {
     "end_time": "2021-01-27T10:45:53.896468Z",
     "start_time": "2021-01-27T10:45:53.779Z"
    }
   },
   "outputs": [
    {
     "name": "stdout",
     "output_type": "stream",
     "text": [
      "File written: /ebio/abt3_projects2/databases_no-backup/GTDB/release95/Struo/benchmarking/db_update/UniRef50-90//metadata/metadata_n175_r1.tsv \n"
     ]
    }
   ],
   "source": [
    "# writing\n",
    "outfile = file.path(D, 'metadata_n175_r1.tsv')\n",
    "meta[pool[16001:16175],] %>%\n",
    "    write_table(outfile)"
   ]
  },
  {
   "cell_type": "markdown",
   "metadata": {},
   "source": [
    "# DB-create"
   ]
  },
  {
   "cell_type": "markdown",
   "metadata": {},
   "source": [
    "## N1000r0"
   ]
  },
  {
   "cell_type": "markdown",
   "metadata": {},
   "source": [
    "### Config"
   ]
  },
  {
   "cell_type": "code",
   "execution_count": 29,
   "metadata": {
    "ExecuteTime": {
     "end_time": "2021-01-10T12:01:52.234666Z",
     "start_time": "2021-01-10T12:01:52.164Z"
    }
   },
   "outputs": [
    {
     "name": "stdout",
     "output_type": "stream",
     "text": [
      "#-- email notifications of pipeline success/failure (use \"Skip\" to deactivate) --#\n",
      "email: nyoungblut@tuebingen.mpg.de\n",
      "\n",
      "#-- I/O --#\n",
      "# file listing samples and associated data\n",
      "samples_file: /ebio/abt3_projects2/databases_no-backup/GTDB/release95/Struo/benchmarking/db_update/UniRef50-90//metadata/metadata_n1000_r0.tsv\n",
      "\n",
      "## column names in samples table\n",
      "samples_col: 'ncbi_organism_name'\n",
      "accession_col: 'accession'\n",
      "fasta_file_path_col: 'fasta_file_path'\n",
      "taxID_col: 'gtdb_taxid'          # or 'ncbi_species_taxid'\n",
      "taxonomy_col: 'gtdb_taxonomy'    # or 'ncbi_taxonomy' \n",
      "\n",
      "# output location\n",
      "output_dir: /ebio/abt3_projects2/databases_no-backup/GTDB/release95/Struo/benchmarking/db_update/UniRef50-90/n1000r0/struo2/\n",
      "\n",
      "# temporary file directory (your username will be added automatically)\n",
      "tmp_dir: /ebio/abt3_scratch/\n",
      "\n",
      "#-- databases to create --#\n",
      "# Replace \"Create\" with \"Skip\" to skip creation of any of these\n",
      "# Note that braken relies on the kraken2 database\n",
      "databases:\n",
      "  kraken2: Create\n",
      "  bracken: Create\n",
      "  genes: Create\n",
      "  humann3_bowtie2: Create\n",
      "  humann3_diamond: Create\n",
      "  metaphlan3: Skip #Create\n",
      "\n",
      "# Name of UniRef clustering (uniref90 or uniref50)\n",
      "## uniref90 highly recommended\n",
      "uniref_name: uniref90\n",
      "# Name of the humann3 diamond database to be created\n",
      "## This must match naming allowed by humann3\n",
      "dmnd_name: uniref90_201901.dmnd\n",
      "# Index mapping UniRef90 clusters to UniRef50 (saves time vs re-annotating)\n",
      "## This is skipped if annotating with UniRef50\n",
      "cluster_idx: /ebio/abt3_projects2/databases_no-backup/uniref/2019.01/uniref50-90.pkl\n",
      "\n",
      "#-- if custom NCBI taxdump files (or just Skip) --#\n",
      "# Used for kraken taxonomy & metaphlan\n",
      "names_dmp: /ebio/abt3_projects2/databases_no-backup/GTDB/release95/taxdump/names.dmp\n",
      "nodes_dmp: /ebio/abt3_projects2/databases_no-backup/GTDB/release95/taxdump/nodes.dmp\n",
      "\n",
      "#-- keep intermediate files required for re-creating DBs (eg., w/ more genomes) --#\n",
      "# If \"True\", the intermediate files are saved to `output_dir`\n",
      "# Else, the intermediate files are temporarily stored in `temp_folder`\n",
      "keep_intermediate: True\n",
      "\n",
      "#-- software parameters --#\n",
      "# `vsearch_per_genome` = per-genome gene clustering\n",
      "# for humann3, use either mmseqs or diamond (mmseqs gets priority if neither skipped)\n",
      "# for humann3::mmseqs_search::run, --num-iterations must be >=2\n",
      "params:\n",
      "  ionice: -c 3\n",
      "  bracken:\n",
      "    build_kmer: 35\n",
      "    build_read_lens:\n",
      "      - 100\n",
      "      - 150\n",
      "  genes:\n",
      "    prodigal: \"\"\n",
      "    vsearch_per_genome: --id 0.97 --strand both --qmask none --fasta_width 0\n",
      "    mmseqs_cluster: --min-seq-id 0.9 -c 0.8\n",
      "    mmseqs_cluster_method: linclust         # or \"cluster\", which is slower\n",
      "  humann3:\n",
      "    batches: 100\n",
      "    mmseqs_search:\n",
      "      db: /ebio/abt3_projects2/databases_no-backup/mmseqs/UniRef90/2019_01/uniref90\n",
      "      run: -e 1e-3 --max-accept 1 --max-seqs 100 --num-iterations 2 --start-sens 1 --sens-steps 3 -s 6\n",
      "    diamond:\n",
      "      db: /ebio/abt3_projects2/databases_no-backup/humann3/201901/uniref90/uniref90_201901.dmnd\n",
      "      run: Skip #--evalue 1e-3 --query-cover 80 --id 90 --max-target-seqs 1 --block-size 4 --index-chunks 2\n",
      "    propagate_annotations: --min-cov 80 --min-pident 90\n",
      "  metaphlan3:\n",
      "    pkl: /ebio/abt3_projects2/databases_no-backup/metaphlan3/201901/mpa_v30_CHOCOPhlAn_201901.pkl\n",
      "    fasta: /ebio/abt3_projects2/databases_no-backup/metaphlan3/201901/mpa_v30_CHOCOPhlAn_201901.fna.bz2\n",
      "    species_specific_markers: --ext-abs-cutoff 10 --ext-rel-cutoff 0.1\n",
      "\n",
      "#-- snakemake pipeline --#\n",
      "pipeline:\n",
      "  snakemake_folder: ./\n",
      "  script_folder: ./bin/scripts/\n",
      "  name: Struo2_db-create\n",
      "  config: create"
     ]
    }
   ],
   "source": [
    "config_file = file.path(work_dir, 'n1000r0', 'struo2', 'config_db-create.yaml')\n",
    "cat_file(config_file)"
   ]
  },
  {
   "cell_type": "markdown",
   "metadata": {},
   "source": [
    "### Run\n",
    "\n",
    "```\n",
    "(snakemake) @ rick:/ebio/abt3_projects2/databases_no-backup/bin/struo2_1\n",
    "$ screen -L -S struo2-bmk-n1k ./snakemake_sge.sh /ebio/abt3_projects2/databases_no-backup/GTDB/release95/Struo/benchmarking/db_update/UniRef50-90/n1000r0/struo2/config_db-create.yaml 50 -F\n",
    "```"
   ]
  },
  {
   "cell_type": "markdown",
   "metadata": {},
   "source": [
    "# DB-update"
   ]
  },
  {
   "cell_type": "markdown",
   "metadata": {},
   "source": [
    "## n10r1"
   ]
  },
  {
   "cell_type": "markdown",
   "metadata": {},
   "source": [
    "### Config"
   ]
  },
  {
   "cell_type": "code",
   "execution_count": 95,
   "metadata": {
    "ExecuteTime": {
     "end_time": "2021-01-24T07:37:35.099003Z",
     "start_time": "2021-01-24T07:37:35.019Z"
    }
   },
   "outputs": [
    {
     "name": "stdout",
     "output_type": "stream",
     "text": [
      "#-- email notifications of pipeline success/failure (use \"Skip\" to deactivate) --#\n",
      "email: nyoungblut@tuebingen.mpg.de\n",
      "\n",
      "#-- databases to update --#\n",
      "# Replace \"Create\" with \"Skip\" to skip creation of any of these\n",
      "# Note that braken relies on the kraken2 database\n",
      "databases:\n",
      "  kraken2: Create\n",
      "  bracken: Create\n",
      "  genes: Create\n",
      "  humann3_bowtie2: Create\n",
      "  humann3_diamond: Create\n",
      "  metaphlan3: Skip #Create\n",
      "\n",
      "#-- Input --#\n",
      "#--- If just a set of gene sequences to add ---#\n",
      "# If you have nucleotide/amino-acid gene sequences formatted for humann\n",
      "# If translate = True, missing nuc or AA seqs will be (rev)translated from the other, else seqs not used\n",
      "new_genes:\n",
      "  amino_acid: Skip #tests/output_GTDBr89_n5/genes/UniRef50/genome_reps_filtered.faa.gz\n",
      "  nucleotide: Skip #tests/output_GTDBr89_n5/genes/UniRef50/genome_reps_filtered.fna.gz\n",
      "  metadata: tests/output_GTDBr89_n5/genes/UniRef50/genome_reps_filtered.txt.gz\n",
      "  translate: False\n",
      "\n",
      "#--- If a set of genomes to add ---#\n",
      "# file listing samples and associated data\n",
      "samples_file: /ebio/abt3_projects2/databases_no-backup/GTDB/release95/Struo/benchmarking/db_update/UniRef50-90/metadata/metadata_n10_r1.tsv\n",
      "\n",
      "## column names in samples table\n",
      "samples_col: 'ncbi_organism_name'\n",
      "accession_col: 'accession'\n",
      "fasta_file_path_col: 'fasta_file_path'\n",
      "taxID_col: 'gtdb_taxid'          # or 'ncbi_species_taxid'\n",
      "taxonomy_col: 'gtdb_taxonomy'    # or 'ncbi_taxonomy' \n",
      "\n",
      "# Saved databases that will be updated\n",
      "kraken2_db:\n",
      "  library:  /ebio/abt3_projects2/databases_no-backup/GTDB/release95/Struo/benchmarking/db_update/UniRef50-90/n1000r0/struo2/kraken2/library/\n",
      "  taxonomy: /ebio/abt3_projects2/databases_no-backup/GTDB/release95/Struo/benchmarking/db_update/UniRef50-90/n1000r0/struo2/kraken2/taxonomy/\n",
      "genes_db:\n",
      "  genes:\n",
      "    mmseqs_db:  /ebio/abt3_projects2/databases_no-backup/GTDB/release95/Struo/benchmarking/db_update/UniRef50-90/n1000r0/struo2/genes/genes_db.tar.gz\n",
      "    amino_acid: /ebio/abt3_projects2/databases_no-backup/GTDB/release95/Struo/benchmarking/db_update/UniRef50-90/n1000r0/struo2/genes/genome_reps_filtered.faa.gz\n",
      "    nucleotide: /ebio/abt3_projects2/databases_no-backup/GTDB/release95/Struo/benchmarking/db_update/UniRef50-90/n1000r0/struo2/genes/genome_reps_filtered.fna.gz\n",
      "    metadata:   /ebio/abt3_projects2/databases_no-backup/GTDB/release95/Struo/benchmarking/db_update/UniRef50-90/n1000r0/struo2/genes/genome_reps_filtered.txt.gz\n",
      "  cluster:\n",
      "    mmseqs_db:   /ebio/abt3_projects2/databases_no-backup/GTDB/release95/Struo/benchmarking/db_update/UniRef50-90/n1000r0/struo2/genes/cluster/clusters_db.tar.gz    \n",
      "humann_db:\n",
      "  query:\n",
      "    hits: /ebio/abt3_projects2/databases_no-backup/GTDB/release95/Struo/benchmarking/db_update/UniRef50-90/n1000r0/struo2/humann3/annotation_hits.gz\n",
      "  cluster:\n",
      "    reps: /ebio/abt3_projects2/databases_no-backup/GTDB/release95/Struo/benchmarking/db_update/UniRef50-90/n1000r0/struo2/genes/cluster/clusters_reps.faa.gz\n",
      "    membership: /ebio/abt3_projects2/databases_no-backup/GTDB/release95/Struo/benchmarking/db_update/UniRef50-90/n1000r0/struo2/genes/cluster/clusters_membership.tsv.gz\n",
      "\n",
      "#-- Output --#\n",
      "# output location\n",
      "output_dir: /ebio/abt3_projects2/databases_no-backup/GTDB/release95/Struo/benchmarking/db_update/UniRef50-90/n1000r0/struo2/n10r1/\n",
      "\n",
      "# Name of the humann3 diamond database to create\n",
      "## This must match naming allowed by humann3\n",
      "dmnd_name: uniref90_201901.dmnd\n",
      "# Index mapping UniRef90 clusters to UniRef50 (saves time vs re-annotating)\n",
      "## Skip if annotating with UniRef50\n",
      "cluster_idx: /ebio/abt3_projects2/databases_no-backup/uniref/2019.01/uniref50-90.pkl\n",
      "\n",
      "# temporary file directory (your username will be added automatically)\n",
      "tmp_dir: /ebio/abt3_scratch/\n",
      "\n",
      "#-- keep intermediate files required for re-creating DBs (eg., w/ more genomes) --#\n",
      "# If \"True\", the intermediate files are saved to `output_dir`\n",
      "# Else, the intermediate files are temporarily stored in `temp_folder`\n",
      "keep_intermediate: True\n",
      "\n",
      "#-- software parameters --#\n",
      "# `vsearch_per_genome` = per-genome gene clustering\n",
      "# for humann3, use either mmseqs or diamond (mmseqs gets priority if neither skipped)\n",
      "# for humann3::mmseqs_search::run, --num-iterations must be >=2\n",
      "params:\n",
      "  ionice: -c 3\n",
      "  bracken:\n",
      "    build_kmer: 35\n",
      "    build_read_lens:\n",
      "      - 100\n",
      "      - 150\n",
      "  genes:\n",
      "    prodigal: \"\"\n",
      "    vsearch_per_genome: --id 0.97 --strand both --qmask none --fasta_width 0\n",
      "    mmseqs_cluster_update: --min-seq-id 0.9 -c 0.8 -s 4.0    \n",
      "  humann3:\n",
      "    batches: 10\n",
      "    filter_existing: --min-pident 0  # any existing genes w/ < cutoff with be re-queried\n",
      "    mmseqs_search:\n",
      "      db: /ebio/abt3_projects2/databases_no-backup/mmseqs/UniRef90/2019_01/uniref90\n",
      "      run: -e 1e-3 --max-accept 1 --max-seqs 100 -s 6 --num-iterations 2\n",
      "    diamond:\n",
      "      db: /ebio/abt3_projects2/databases_no-backup/humann3/201901/uniref90/uniref90_201901.dmnd\n",
      "      run: Skip #--evalue 1e-3 --query-cover 80 --id 90 --max-target-seqs 1 --block-size 4 --index-chunks 2\n",
      "    propagate_annotations: --min-cov 80 --min-pident 90\n",
      "  metaphlan3:\n",
      "    species_specific_markers: --ext-abs-cutoff 10 --ext-rel-cutoff 0.1\n",
      "\n",
      "#-- snakemake pipeline --#\n",
      "pipeline:\n",
      "  snakemake_folder: ./\n",
      "  script_folder: ./bin/scripts/\n",
      "  name: Struo2_db-update\n",
      "  config: update"
     ]
    }
   ],
   "source": [
    "config_file = file.path(work_dir, 'n1000r0', 'struo2', 'n10r1', 'config-update.yaml')\n",
    "cat_file(config_file)"
   ]
  },
  {
   "cell_type": "markdown",
   "metadata": {},
   "source": [
    "### Run\n",
    "\n",
    "```\n",
    "screen -L -S struo2-update ./snakemake_sge.sh /ebio/abt3_projects2/databases_no-backup/GTDB/release95/Struo/benchmarking/db_update/UniRef50-90/n1000r0/struo2/n10r1/config-update.yaml 50 -F\n",
    "```"
   ]
  },
  {
   "cell_type": "markdown",
   "metadata": {},
   "source": [
    "## n100r1"
   ]
  },
  {
   "cell_type": "markdown",
   "metadata": {},
   "source": [
    "### Config"
   ]
  },
  {
   "cell_type": "code",
   "execution_count": 33,
   "metadata": {
    "ExecuteTime": {
     "end_time": "2021-01-12T13:52:23.857253Z",
     "start_time": "2021-01-12T13:52:23.764Z"
    }
   },
   "outputs": [
    {
     "name": "stdout",
     "output_type": "stream",
     "text": [
      "#-- email notifications of pipeline success/failure (use \"Skip\" to deactivate) --#\n",
      "email: nyoungblut@tuebingen.mpg.de\n",
      "\n",
      "#-- databases to update --#\n",
      "# Replace \"Create\" with \"Skip\" to skip creation of any of these\n",
      "# Note that braken relies on the kraken2 database\n",
      "databases:\n",
      "  kraken2: Create\n",
      "  bracken: Create\n",
      "  genes: Create\n",
      "  humann3_bowtie2: Create\n",
      "  humann3_diamond: Create\n",
      "  metaphlan3: Skip #Create\n",
      "\n",
      "#-- Input --#\n",
      "#--- If just a set of gene sequences to add ---#\n",
      "# If you have nucleotide/amino-acid gene sequences formatted for humann\n",
      "# If translate = True, missing nuc or AA seqs will be (rev)translated from the other, else seqs not used\n",
      "new_genes:\n",
      "  amino_acid: Skip #tests/output_GTDBr89_n5/genes/UniRef50/genome_reps_filtered.faa.gz\n",
      "  nucleotide: Skip #tests/output_GTDBr89_n5/genes/UniRef50/genome_reps_filtered.fna.gz\n",
      "  metadata: tests/output_GTDBr89_n5/genes/UniRef50/genome_reps_filtered.txt.gz\n",
      "  translate: False\n",
      "\n",
      "#--- If a set of genomes to add ---#\n",
      "# file listing samples and associated data\n",
      "samples_file: /ebio/abt3_projects2/databases_no-backup/GTDB/release95/Struo/benchmarking/db_update/UniRef50-90//metadata/metadata_n100_r1.tsv\n",
      "\n",
      "## column names in samples table\n",
      "samples_col: 'ncbi_organism_name'\n",
      "accession_col: 'accession'\n",
      "fasta_file_path_col: 'fasta_file_path'\n",
      "taxID_col: 'gtdb_taxid'          # or 'ncbi_species_taxid'\n",
      "taxonomy_col: 'gtdb_taxonomy'    # or 'ncbi_taxonomy' \n",
      "\n",
      "# Saved databases that will be updated\n",
      "kraken2_db:\n",
      "  library:  /ebio/abt3_projects2/databases_no-backup/GTDB/release95/Struo/benchmarking/db_update/UniRef50-90/n1000r0/struo2/kraken2/library/\n",
      "  taxonomy: /ebio/abt3_projects2/databases_no-backup/GTDB/release95/Struo/benchmarking/db_update/UniRef50-90/n1000r0/struo2/kraken2/taxonomy/\n",
      "genes_db:\n",
      "  genes:\n",
      "    mmseqs_db:  /ebio/abt3_projects2/databases_no-backup/GTDB/release95/Struo/benchmarking/db_update/UniRef50-90/n1000r0/struo2/genes/genes_db.tar.gz\n",
      "    amino_acid: /ebio/abt3_projects2/databases_no-backup/GTDB/release95/Struo/benchmarking/db_update/UniRef50-90/n1000r0/struo2/genes/genome_reps_filtered.faa.gz\n",
      "    nucleotide: /ebio/abt3_projects2/databases_no-backup/GTDB/release95/Struo/benchmarking/db_update/UniRef50-90/n1000r0/struo2/genes/genome_reps_filtered.fna.gz\n",
      "    metadata:   /ebio/abt3_projects2/databases_no-backup/GTDB/release95/Struo/benchmarking/db_update/UniRef50-90/n1000r0/struo2/genes/genome_reps_filtered.txt.gz\n",
      "  cluster:\n",
      "    mmseqs_db:   /ebio/abt3_projects2/databases_no-backup/GTDB/release95/Struo/benchmarking/db_update/UniRef50-90/n1000r0/struo2/genes/cluster/clusters_db.tar.gz    \n",
      "humann_db:\n",
      "  query:\n",
      "    hits: /ebio/abt3_projects2/databases_no-backup/GTDB/release95/Struo/benchmarking/db_update/UniRef50-90/n1000r0/struo2/humann3/annotation_hits.gz\n",
      "  cluster:\n",
      "    reps: /ebio/abt3_projects2/databases_no-backup/GTDB/release95/Struo/benchmarking/db_update/UniRef50-90/n1000r0/struo2/genes/cluster/clusters_reps.faa.gz\n",
      "    membership: /ebio/abt3_projects2/databases_no-backup/GTDB/release95/Struo/benchmarking/db_update/UniRef50-90/n1000r0/struo2/genes/cluster/clusters_membership.tsv.gz\n",
      "\n",
      "#-- Output --#\n",
      "# output location\n",
      "output_dir: /ebio/abt3_projects2/databases_no-backup/GTDB/release95/Struo/benchmarking/db_update/UniRef50-90/n1000r0/struo2/n100r1/\n",
      "\n",
      "# Name of the humann3 diamond database to create\n",
      "## This must match naming allowed by humann3\n",
      "dmnd_name: uniref90_201901.dmnd\n",
      "# Index mapping UniRef90 clusters to UniRef50 (saves time vs re-annotating)\n",
      "## Skip if annotating with UniRef50\n",
      "cluster_idx: /ebio/abt3_projects2/databases_no-backup/uniref/2019.01/uniref50-90.pkl\n",
      "\n",
      "# temporary file directory (your username will be added automatically)\n",
      "tmp_dir: /ebio/abt3_scratch/\n",
      "\n",
      "#-- keep intermediate files required for re-creating DBs (eg., w/ more genomes) --#\n",
      "# If \"True\", the intermediate files are saved to `output_dir`\n",
      "# Else, the intermediate files are temporarily stored in `temp_folder`\n",
      "keep_intermediate: True\n",
      "\n",
      "#-- software parameters --#\n",
      "# `vsearch_per_genome` = per-genome gene clustering\n",
      "# for humann3, use either mmseqs or diamond (mmseqs gets priority if neither skipped)\n",
      "# for humann3::mmseqs_search::run, --num-iterations must be >=2\n",
      "params:\n",
      "  ionice: -c 3\n",
      "  bracken:\n",
      "    build_kmer: 35\n",
      "    build_read_lens:\n",
      "      - 100\n",
      "      - 150\n",
      "  genes:\n",
      "    prodigal: \"\"\n",
      "    vsearch_per_genome: --id 0.97 --strand both --qmask none --fasta_width 0\n",
      "    mmseqs_cluster_update: --min-seq-id 0.9 -c 0.8 -s 4.0    \n",
      "  humann3:\n",
      "    batches: 10\n",
      "    filter_existing: --min-pident 0  # any existing genes w/ < cutoff with be re-queried\n",
      "    mmseqs_search:\n",
      "      db: /ebio/abt3_projects2/databases_no-backup/mmseqs/UniRef90/2019_01/uniref90\n",
      "      run: -e 1e-3 --max-accept 1 --max-seqs 100 -s 6 --num-iterations 2\n",
      "    diamond:\n",
      "      db: /ebio/abt3_projects2/databases_no-backup/humann3/201901/uniref90/uniref90_201901.dmnd\n",
      "      run: Skip #--evalue 1e-3 --query-cover 80 --id 90 --max-target-seqs 1 --block-size 4 --index-chunks 2\n",
      "    propagate_annotations: --min-cov 80 --min-pident 90\n",
      "  metaphlan3:\n",
      "    species_specific_markers: --ext-abs-cutoff 10 --ext-rel-cutoff 0.1\n",
      "\n",
      "#-- snakemake pipeline --#\n",
      "pipeline:\n",
      "  snakemake_folder: ./\n",
      "  script_folder: ./bin/scripts/\n",
      "  name: Struo2_db-update\n",
      "  config: update"
     ]
    }
   ],
   "source": [
    "config_file = file.path(work_dir, 'n1000r0', 'struo2', 'n100r1', 'config-update.yaml')\n",
    "cat_file(config_file)"
   ]
  },
  {
   "cell_type": "markdown",
   "metadata": {},
   "source": [
    "### Run"
   ]
  },
  {
   "cell_type": "markdown",
   "metadata": {},
   "source": [
    "```\n",
    "screen -L -S struo2-update ./snakemake_sge.sh /ebio/abt3_projects2/databases_no-backup/GTDB/release95/Struo/benchmarking/db_update/UniRef50-90/n1000r0/struo2/n100r1/config-update.yaml 50 -F\n",
    "```"
   ]
  },
  {
   "cell_type": "markdown",
   "metadata": {},
   "source": [
    "## n100r2"
   ]
  },
  {
   "cell_type": "markdown",
   "metadata": {},
   "source": [
    "### Config"
   ]
  },
  {
   "cell_type": "code",
   "execution_count": 71,
   "metadata": {
    "ExecuteTime": {
     "end_time": "2021-01-21T07:57:38.549612Z",
     "start_time": "2021-01-21T07:57:38.162Z"
    }
   },
   "outputs": [
    {
     "name": "stdout",
     "output_type": "stream",
     "text": [
      "#-- email notifications of pipeline success/failure (use \"Skip\" to deactivate) --#\n",
      "email: nyoungblut@tuebingen.mpg.de\n",
      "\n",
      "#-- databases to update --#\n",
      "# Replace \"Create\" with \"Skip\" to skip creation of any of these\n",
      "# Note that braken relies on the kraken2 database\n",
      "databases:\n",
      "  kraken2: Create\n",
      "  bracken: Create\n",
      "  genes: Create\n",
      "  humann3_bowtie2: Create\n",
      "  humann3_diamond: Create\n",
      "  metaphlan3: Skip #Create\n",
      "\n",
      "#-- Input --#\n",
      "#--- If just a set of gene sequences to add ---#\n",
      "# If you have nucleotide/amino-acid gene sequences formatted for humann\n",
      "# If translate = True, missing nuc or AA seqs will be (rev)translated from the other, else seqs not used\n",
      "new_genes:\n",
      "  amino_acid: Skip #tests/output_GTDBr89_n5/genes/UniRef50/genome_reps_filtered.faa.gz\n",
      "  nucleotide: Skip #tests/output_GTDBr89_n5/genes/UniRef50/genome_reps_filtered.fna.gz\n",
      "  metadata: tests/output_GTDBr89_n5/genes/UniRef50/genome_reps_filtered.txt.gz\n",
      "  translate: False\n",
      "\n",
      "#--- If a set of genomes to add ---#\n",
      "# file listing samples and associated data\n",
      "samples_file: /ebio/abt3_projects2/databases_no-backup/GTDB/release95/Struo/benchmarking/db_update/UniRef50-90/metadata/metadata_n100_r2.tsv\n",
      "\n",
      "## column names in samples table\n",
      "samples_col: 'ncbi_organism_name'\n",
      "accession_col: 'accession'\n",
      "fasta_file_path_col: 'fasta_file_path'\n",
      "taxID_col: 'gtdb_taxid'          # or 'ncbi_species_taxid'\n",
      "taxonomy_col: 'gtdb_taxonomy'    # or 'ncbi_taxonomy' \n",
      "\n",
      "# Saved databases that will be updated\n",
      "kraken2_db:\n",
      "  library:  /ebio/abt3_projects2/databases_no-backup/GTDB/release95/Struo/benchmarking/db_update/UniRef50-90/n1000r0/struo2/kraken2/library/\n",
      "  taxonomy: /ebio/abt3_projects2/databases_no-backup/GTDB/release95/Struo/benchmarking/db_update/UniRef50-90/n1000r0/struo2/kraken2/taxonomy/\n",
      "genes_db:\n",
      "  genes:\n",
      "    mmseqs_db:  /ebio/abt3_projects2/databases_no-backup/GTDB/release95/Struo/benchmarking/db_update/UniRef50-90/n1000r0/struo2/genes/genes_db.tar.gz\n",
      "    amino_acid: /ebio/abt3_projects2/databases_no-backup/GTDB/release95/Struo/benchmarking/db_update/UniRef50-90/n1000r0/struo2/genes/genome_reps_filtered.faa.gz\n",
      "    nucleotide: /ebio/abt3_projects2/databases_no-backup/GTDB/release95/Struo/benchmarking/db_update/UniRef50-90/n1000r0/struo2/genes/genome_reps_filtered.fna.gz\n",
      "    metadata:   /ebio/abt3_projects2/databases_no-backup/GTDB/release95/Struo/benchmarking/db_update/UniRef50-90/n1000r0/struo2/genes/genome_reps_filtered.txt.gz\n",
      "  cluster:\n",
      "    mmseqs_db:   /ebio/abt3_projects2/databases_no-backup/GTDB/release95/Struo/benchmarking/db_update/UniRef50-90/n1000r0/struo2/genes/cluster/clusters_db.tar.gz    \n",
      "humann_db:\n",
      "  query:\n",
      "    hits: /ebio/abt3_projects2/databases_no-backup/GTDB/release95/Struo/benchmarking/db_update/UniRef50-90/n1000r0/struo2/humann3/annotation_hits.gz\n",
      "  cluster:\n",
      "    reps: /ebio/abt3_projects2/databases_no-backup/GTDB/release95/Struo/benchmarking/db_update/UniRef50-90/n1000r0/struo2/genes/cluster/clusters_reps.faa.gz\n",
      "    membership: /ebio/abt3_projects2/databases_no-backup/GTDB/release95/Struo/benchmarking/db_update/UniRef50-90/n1000r0/struo2/genes/cluster/clusters_membership.tsv.gz\n",
      "\n",
      "#-- Output --#\n",
      "# output location\n",
      "output_dir: /ebio/abt3_projects2/databases_no-backup/GTDB/release95/Struo/benchmarking/db_update/UniRef50-90/n1000r0/struo2/n100r2/\n",
      "\n",
      "# Name of the humann3 diamond database to create\n",
      "## This must match naming allowed by humann3\n",
      "dmnd_name: uniref90_201901.dmnd\n",
      "# Index mapping UniRef90 clusters to UniRef50 (saves time vs re-annotating)\n",
      "## Skip if annotating with UniRef50\n",
      "cluster_idx: /ebio/abt3_projects2/databases_no-backup/uniref/2019.01/uniref50-90.pkl\n",
      "\n",
      "# temporary file directory (your username will be added automatically)\n",
      "tmp_dir: /ebio/abt3_scratch/\n",
      "\n",
      "#-- keep intermediate files required for re-creating DBs (eg., w/ more genomes) --#\n",
      "# If \"True\", the intermediate files are saved to `output_dir`\n",
      "# Else, the intermediate files are temporarily stored in `temp_folder`\n",
      "keep_intermediate: True\n",
      "\n",
      "#-- software parameters --#\n",
      "# `vsearch_per_genome` = per-genome gene clustering\n",
      "# for humann3, use either mmseqs or diamond (mmseqs gets priority if neither skipped)\n",
      "# for humann3::mmseqs_search::run, --num-iterations must be >=2\n",
      "params:\n",
      "  ionice: -c 3\n",
      "  bracken:\n",
      "    build_kmer: 35\n",
      "    build_read_lens:\n",
      "      - 100\n",
      "      - 150\n",
      "  genes:\n",
      "    prodigal: \"\"\n",
      "    vsearch_per_genome: --id 0.97 --strand both --qmask none --fasta_width 0\n",
      "    mmseqs_cluster_update: --min-seq-id 0.9 -c 0.8 -s 4.0    \n",
      "  humann3:\n",
      "    batches: 10\n",
      "    filter_existing: --min-pident 0  # any existing genes w/ < cutoff with be re-queried\n",
      "    mmseqs_search:\n",
      "      db: /ebio/abt3_projects2/databases_no-backup/mmseqs/UniRef90/2019_01/uniref90\n",
      "      run: -e 1e-3 --max-accept 1 --max-seqs 100 -s 6 --num-iterations 2\n",
      "    diamond:\n",
      "      db: /ebio/abt3_projects2/databases_no-backup/humann3/201901/uniref90/uniref90_201901.dmnd\n",
      "      run: Skip #--evalue 1e-3 --query-cover 80 --id 90 --max-target-seqs 1 --block-size 4 --index-chunks 2\n",
      "    propagate_annotations: --min-cov 80 --min-pident 90\n",
      "  metaphlan3:\n",
      "    species_specific_markers: --ext-abs-cutoff 10 --ext-rel-cutoff 0.1\n",
      "\n",
      "#-- snakemake pipeline --#\n",
      "pipeline:\n",
      "  snakemake_folder: ./\n",
      "  script_folder: ./bin/scripts/\n",
      "  name: Struo2_db-update\n",
      "  config: update"
     ]
    }
   ],
   "source": [
    "config_file = file.path(work_dir, 'n1000r0', 'struo2', 'n100r2', 'config-update.yaml')\n",
    "cat_file(config_file)"
   ]
  },
  {
   "cell_type": "markdown",
   "metadata": {},
   "source": [
    "### Run"
   ]
  },
  {
   "cell_type": "markdown",
   "metadata": {},
   "source": [
    "```\n",
    "(snakemake) @ rick:/ebio/abt3_projects2/databases_no-backup/bin/struo2_1\n",
    "$ screen -L -S struo2-n100r2 ./snakemake_sge.sh /ebio/abt3_projects2/databases_no-backup/GTDB/release95/Struo/benchmarking/db_update/UniRef50-90/n1000r0/struo2/n100r2/config-update.yaml 50 -F\n",
    "```"
   ]
  },
  {
   "cell_type": "markdown",
   "metadata": {},
   "source": [
    "## n175r1"
   ]
  },
  {
   "cell_type": "markdown",
   "metadata": {},
   "source": [
    "### Config"
   ]
  },
  {
   "cell_type": "code",
   "execution_count": 183,
   "metadata": {
    "ExecuteTime": {
     "end_time": "2021-01-27T10:49:34.898591Z",
     "start_time": "2021-01-27T10:49:34.770Z"
    }
   },
   "outputs": [
    {
     "name": "stdout",
     "output_type": "stream",
     "text": [
      "#-- email notifications of pipeline success/failure (use \"Skip\" to deactivate) --#\n",
      "email: nyoungblut@tuebingen.mpg.de\n",
      "\n",
      "#-- databases to update --#\n",
      "# Replace \"Create\" with \"Skip\" to skip creation of any of these\n",
      "# Note that braken relies on the kraken2 database\n",
      "databases:\n",
      "  kraken2: Create\n",
      "  bracken: Create\n",
      "  genes: Create\n",
      "  humann3_bowtie2: Create\n",
      "  humann3_diamond: Create\n",
      "  metaphlan3: Skip #Create\n",
      "\n",
      "#-- Input --#\n",
      "#--- If just a set of gene sequences to add ---#\n",
      "# If you have nucleotide/amino-acid gene sequences formatted for humann\n",
      "# If translate = True, missing nuc or AA seqs will be (rev)translated from the other, else seqs not used\n",
      "new_genes:\n",
      "  amino_acid: Skip #tests/output_GTDBr89_n5/genes/UniRef50/genome_reps_filtered.faa.gz\n",
      "  nucleotide: Skip #tests/output_GTDBr89_n5/genes/UniRef50/genome_reps_filtered.fna.gz\n",
      "  metadata: tests/output_GTDBr89_n5/genes/UniRef50/genome_reps_filtered.txt.gz\n",
      "  translate: False\n",
      "\n",
      "#--- If a set of genomes to add ---#\n",
      "# file listing samples and associated data\n",
      "samples_file: /ebio/abt3_projects2/databases_no-backup/GTDB/release95/Struo/benchmarking/db_update/UniRef50-90/metadata/metadata_n175_r1.tsv\n",
      "\n",
      "## column names in samples table\n",
      "samples_col: 'ncbi_organism_name'\n",
      "accession_col: 'accession'\n",
      "fasta_file_path_col: 'fasta_file_path'\n",
      "taxID_col: 'gtdb_taxid'          # or 'ncbi_species_taxid'\n",
      "taxonomy_col: 'gtdb_taxonomy'    # or 'ncbi_taxonomy' \n",
      "\n",
      "# Saved databases that will be updated\n",
      "kraken2_db:\n",
      "  library:  /ebio/abt3_projects2/databases_no-backup/GTDB/release95/Struo/benchmarking/db_update/UniRef50-90/n1000r0/struo2/kraken2/library/\n",
      "  taxonomy: /ebio/abt3_projects2/databases_no-backup/GTDB/release95/Struo/benchmarking/db_update/UniRef50-90/n1000r0/struo2/kraken2/taxonomy/\n",
      "genes_db:\n",
      "  genes:\n",
      "    mmseqs_db:  /ebio/abt3_projects2/databases_no-backup/GTDB/release95/Struo/benchmarking/db_update/UniRef50-90/n1000r0/struo2/genes/genes_db.tar.gz\n",
      "    amino_acid: /ebio/abt3_projects2/databases_no-backup/GTDB/release95/Struo/benchmarking/db_update/UniRef50-90/n1000r0/struo2/genes/genome_reps_filtered.faa.gz\n",
      "    nucleotide: /ebio/abt3_projects2/databases_no-backup/GTDB/release95/Struo/benchmarking/db_update/UniRef50-90/n1000r0/struo2/genes/genome_reps_filtered.fna.gz\n",
      "    metadata:   /ebio/abt3_projects2/databases_no-backup/GTDB/release95/Struo/benchmarking/db_update/UniRef50-90/n1000r0/struo2/genes/genome_reps_filtered.txt.gz\n",
      "  cluster:\n",
      "    mmseqs_db:   /ebio/abt3_projects2/databases_no-backup/GTDB/release95/Struo/benchmarking/db_update/UniRef50-90/n1000r0/struo2/genes/cluster/clusters_db.tar.gz    \n",
      "humann_db:\n",
      "  query:\n",
      "    hits: /ebio/abt3_projects2/databases_no-backup/GTDB/release95/Struo/benchmarking/db_update/UniRef50-90/n1000r0/struo2/humann3/annotation_hits.gz\n",
      "  cluster:\n",
      "    reps: /ebio/abt3_projects2/databases_no-backup/GTDB/release95/Struo/benchmarking/db_update/UniRef50-90/n1000r0/struo2/genes/cluster/clusters_reps.faa.gz\n",
      "    membership: /ebio/abt3_projects2/databases_no-backup/GTDB/release95/Struo/benchmarking/db_update/UniRef50-90/n1000r0/struo2/genes/cluster/clusters_membership.tsv.gz\n",
      "\n",
      "#-- Output --#\n",
      "# output location\n",
      "output_dir: /ebio/abt3_projects2/databases_no-backup/GTDB/release95/Struo/benchmarking/db_update/UniRef50-90/n1000r0/struo2/n175r1/\n",
      "\n",
      "# Name of the humann3 diamond database to create\n",
      "## This must match naming allowed by humann3\n",
      "dmnd_name: uniref90_201901.dmnd\n",
      "# Index mapping UniRef90 clusters to UniRef50 (saves time vs re-annotating)\n",
      "## Skip if annotating with UniRef50\n",
      "cluster_idx: /ebio/abt3_projects2/databases_no-backup/uniref/2019.01/uniref50-90.pkl\n",
      "\n",
      "# temporary file directory (your username will be added automatically)\n",
      "tmp_dir: /ebio/abt3_scratch/\n",
      "\n",
      "#-- keep intermediate files required for re-creating DBs (eg., w/ more genomes) --#\n",
      "# If \"True\", the intermediate files are saved to `output_dir`\n",
      "# Else, the intermediate files are temporarily stored in `temp_folder`\n",
      "keep_intermediate: True\n",
      "\n",
      "#-- software parameters --#\n",
      "# `vsearch_per_genome` = per-genome gene clustering\n",
      "# for humann3, use either mmseqs or diamond (mmseqs gets priority if neither skipped)\n",
      "# for humann3::mmseqs_search::run, --num-iterations must be >=2\n",
      "params:\n",
      "  ionice: -c 3\n",
      "  bracken:\n",
      "    build_kmer: 35\n",
      "    build_read_lens:\n",
      "      - 100\n",
      "      - 150\n",
      "  genes:\n",
      "    prodigal: \"\"\n",
      "    vsearch_per_genome: --id 0.97 --strand both --qmask none --fasta_width 0\n",
      "    mmseqs_cluster_update: --min-seq-id 0.9 -c 0.8 -s 4.0    \n",
      "  humann3:\n",
      "    batches: 10\n",
      "    filter_existing: --min-pident 0  # any existing genes w/ < cutoff with be re-queried\n",
      "    mmseqs_search:\n",
      "      db: /ebio/abt3_projects2/databases_no-backup/mmseqs/UniRef90/2019_01/uniref90\n",
      "      run: -e 1e-3 --max-accept 1 --max-seqs 100 -s 6 --num-iterations 2\n",
      "    diamond:\n",
      "      db: /ebio/abt3_projects2/databases_no-backup/humann3/201901/uniref90/uniref90_201901.dmnd\n",
      "      run: Skip #--evalue 1e-3 --query-cover 80 --id 90 --max-target-seqs 1 --block-size 4 --index-chunks 2\n",
      "    propagate_annotations: --min-cov 80 --min-pident 90\n",
      "  metaphlan3:\n",
      "    species_specific_markers: --ext-abs-cutoff 10 --ext-rel-cutoff 0.1\n",
      "\n",
      "#-- snakemake pipeline --#\n",
      "pipeline:\n",
      "  snakemake_folder: ./\n",
      "  script_folder: ./bin/scripts/\n",
      "  name: Struo2_db-update\n",
      "  config: update"
     ]
    }
   ],
   "source": [
    "config_file = file.path(work_dir, 'n1000r0', 'struo2', 'n175r1', 'config-update.yaml')\n",
    "cat_file(config_file)"
   ]
  },
  {
   "cell_type": "markdown",
   "metadata": {},
   "source": [
    "### Run"
   ]
  },
  {
   "cell_type": "markdown",
   "metadata": {},
   "source": [
    "```\n",
    "(snakemake) @ rick:/ebio/abt3_projects2/databases_no-backup/bin/struo2_1\n",
    "$ screen -L -S struo2-n175r1 ./snakemake_sge.sh /ebio/abt3_projects2/databases_no-backup/GTDB/release95/Struo/benchmarking/db_update/UniRef50-90/n1000r0/struo2/n175r1/config-update.yaml 50 -F\n",
    "```"
   ]
  },
  {
   "cell_type": "markdown",
   "metadata": {},
   "source": [
    "## n250r1"
   ]
  },
  {
   "cell_type": "markdown",
   "metadata": {},
   "source": [
    "### Config"
   ]
  },
  {
   "cell_type": "code",
   "execution_count": 117,
   "metadata": {
    "ExecuteTime": {
     "end_time": "2021-01-24T11:49:16.152047Z",
     "start_time": "2021-01-24T11:49:16.094Z"
    }
   },
   "outputs": [
    {
     "name": "stdout",
     "output_type": "stream",
     "text": [
      "#-- email notifications of pipeline success/failure (use \"Skip\" to deactivate) --#\n",
      "email: nyoungblut@tuebingen.mpg.de\n",
      "\n",
      "#-- databases to update --#\n",
      "# Replace \"Create\" with \"Skip\" to skip creation of any of these\n",
      "# Note that braken relies on the kraken2 database\n",
      "databases:\n",
      "  kraken2: Create\n",
      "  bracken: Create\n",
      "  genes: Create\n",
      "  humann3_bowtie2: Create\n",
      "  humann3_diamond: Create\n",
      "  metaphlan3: Skip #Create\n",
      "\n",
      "#-- Input --#\n",
      "#--- If just a set of gene sequences to add ---#\n",
      "# If you have nucleotide/amino-acid gene sequences formatted for humann\n",
      "# If translate = True, missing nuc or AA seqs will be (rev)translated from the other, else seqs not used\n",
      "new_genes:\n",
      "  amino_acid: Skip #tests/output_GTDBr89_n5/genes/UniRef50/genome_reps_filtered.faa.gz\n",
      "  nucleotide: Skip #tests/output_GTDBr89_n5/genes/UniRef50/genome_reps_filtered.fna.gz\n",
      "  metadata: tests/output_GTDBr89_n5/genes/UniRef50/genome_reps_filtered.txt.gz\n",
      "  translate: False\n",
      "\n",
      "#--- If a set of genomes to add ---#\n",
      "# file listing samples and associated data\n",
      "samples_file: /ebio/abt3_projects2/databases_no-backup/GTDB/release95/Struo/benchmarking/db_update/UniRef50-90/metadata/metadata_n250_r1.tsv\n",
      "\n",
      "## column names in samples table\n",
      "samples_col: 'ncbi_organism_name'\n",
      "accession_col: 'accession'\n",
      "fasta_file_path_col: 'fasta_file_path'\n",
      "taxID_col: 'gtdb_taxid'          # or 'ncbi_species_taxid'\n",
      "taxonomy_col: 'gtdb_taxonomy'    # or 'ncbi_taxonomy' \n",
      "\n",
      "# Saved databases that will be updated\n",
      "kraken2_db:\n",
      "  library:  /ebio/abt3_projects2/databases_no-backup/GTDB/release95/Struo/benchmarking/db_update/UniRef50-90/n1000r0/struo2/kraken2/library/\n",
      "  taxonomy: /ebio/abt3_projects2/databases_no-backup/GTDB/release95/Struo/benchmarking/db_update/UniRef50-90/n1000r0/struo2/kraken2/taxonomy/\n",
      "genes_db:\n",
      "  genes:\n",
      "    mmseqs_db:  /ebio/abt3_projects2/databases_no-backup/GTDB/release95/Struo/benchmarking/db_update/UniRef50-90/n1000r0/struo2/genes/genes_db.tar.gz\n",
      "    amino_acid: /ebio/abt3_projects2/databases_no-backup/GTDB/release95/Struo/benchmarking/db_update/UniRef50-90/n1000r0/struo2/genes/genome_reps_filtered.faa.gz\n",
      "    nucleotide: /ebio/abt3_projects2/databases_no-backup/GTDB/release95/Struo/benchmarking/db_update/UniRef50-90/n1000r0/struo2/genes/genome_reps_filtered.fna.gz\n",
      "    metadata:   /ebio/abt3_projects2/databases_no-backup/GTDB/release95/Struo/benchmarking/db_update/UniRef50-90/n1000r0/struo2/genes/genome_reps_filtered.txt.gz\n",
      "  cluster:\n",
      "    mmseqs_db:   /ebio/abt3_projects2/databases_no-backup/GTDB/release95/Struo/benchmarking/db_update/UniRef50-90/n1000r0/struo2/genes/cluster/clusters_db.tar.gz    \n",
      "humann_db:\n",
      "  query:\n",
      "    hits: /ebio/abt3_projects2/databases_no-backup/GTDB/release95/Struo/benchmarking/db_update/UniRef50-90/n1000r0/struo2/humann3/annotation_hits.gz\n",
      "  cluster:\n",
      "    reps: /ebio/abt3_projects2/databases_no-backup/GTDB/release95/Struo/benchmarking/db_update/UniRef50-90/n1000r0/struo2/genes/cluster/clusters_reps.faa.gz\n",
      "    membership: /ebio/abt3_projects2/databases_no-backup/GTDB/release95/Struo/benchmarking/db_update/UniRef50-90/n1000r0/struo2/genes/cluster/clusters_membership.tsv.gz\n",
      "\n",
      "#-- Output --#\n",
      "# output location\n",
      "output_dir: /ebio/abt3_projects2/databases_no-backup/GTDB/release95/Struo/benchmarking/db_update/UniRef50-90/n1000r0/struo2/n250r1/\n",
      "\n",
      "# Name of the humann3 diamond database to create\n",
      "## This must match naming allowed by humann3\n",
      "dmnd_name: uniref90_201901.dmnd\n",
      "# Index mapping UniRef90 clusters to UniRef50 (saves time vs re-annotating)\n",
      "## Skip if annotating with UniRef50\n",
      "cluster_idx: /ebio/abt3_projects2/databases_no-backup/uniref/2019.01/uniref50-90.pkl\n",
      "\n",
      "# temporary file directory (your username will be added automatically)\n",
      "tmp_dir: /ebio/abt3_scratch/\n",
      "\n",
      "#-- keep intermediate files required for re-creating DBs (eg., w/ more genomes) --#\n",
      "# If \"True\", the intermediate files are saved to `output_dir`\n",
      "# Else, the intermediate files are temporarily stored in `temp_folder`\n",
      "keep_intermediate: True\n",
      "\n",
      "#-- software parameters --#\n",
      "# `vsearch_per_genome` = per-genome gene clustering\n",
      "# for humann3, use either mmseqs or diamond (mmseqs gets priority if neither skipped)\n",
      "# for humann3::mmseqs_search::run, --num-iterations must be >=2\n",
      "params:\n",
      "  ionice: -c 3\n",
      "  bracken:\n",
      "    build_kmer: 35\n",
      "    build_read_lens:\n",
      "      - 100\n",
      "      - 150\n",
      "  genes:\n",
      "    prodigal: \"\"\n",
      "    vsearch_per_genome: --id 0.97 --strand both --qmask none --fasta_width 0\n",
      "    mmseqs_cluster_update: --min-seq-id 0.9 -c 0.8 -s 4.0    \n",
      "  humann3:\n",
      "    batches: 10\n",
      "    filter_existing: --min-pident 0  # any existing genes w/ < cutoff with be re-queried\n",
      "    mmseqs_search:\n",
      "      db: /ebio/abt3_projects2/databases_no-backup/mmseqs/UniRef90/2019_01/uniref90\n",
      "      run: -e 1e-3 --max-accept 1 --max-seqs 100 -s 6 --num-iterations 2\n",
      "    diamond:\n",
      "      db: /ebio/abt3_projects2/databases_no-backup/humann3/201901/uniref90/uniref90_201901.dmnd\n",
      "      run: Skip #--evalue 1e-3 --query-cover 80 --id 90 --max-target-seqs 1 --block-size 4 --index-chunks 2\n",
      "    propagate_annotations: --min-cov 80 --min-pident 90\n",
      "  metaphlan3:\n",
      "    species_specific_markers: --ext-abs-cutoff 10 --ext-rel-cutoff 0.1\n",
      "\n",
      "#-- snakemake pipeline --#\n",
      "pipeline:\n",
      "  snakemake_folder: ./\n",
      "  script_folder: ./bin/scripts/\n",
      "  name: Struo2_db-update\n",
      "  config: update"
     ]
    }
   ],
   "source": [
    "config_file = file.path(work_dir, 'n1000r0', 'struo2', 'n250r1', 'config-update.yaml')\n",
    "cat_file(config_file)"
   ]
  },
  {
   "cell_type": "markdown",
   "metadata": {},
   "source": [
    "### Run"
   ]
  },
  {
   "cell_type": "markdown",
   "metadata": {},
   "source": [
    "```\n",
    "(snakemake) @ rick:/ebio/abt3_projects2/databases_no-backup/bin/struo2_1\n",
    "$ screen -L -S struo2-n250r1 ./snakemake_sge.sh /ebio/abt3_projects2/databases_no-backup/GTDB/release95/Struo/benchmarking/db_update/UniRef50-90/n1000r0/struo2/n250r1/config-update.yaml 50 -F\n",
    "```"
   ]
  },
  {
   "cell_type": "markdown",
   "metadata": {},
   "source": [
    "## n350r1"
   ]
  },
  {
   "cell_type": "markdown",
   "metadata": {},
   "source": [
    "### Config"
   ]
  },
  {
   "cell_type": "code",
   "execution_count": 133,
   "metadata": {
    "ExecuteTime": {
     "end_time": "2021-01-25T13:25:43.339072Z",
     "start_time": "2021-01-25T13:25:42.579Z"
    }
   },
   "outputs": [
    {
     "name": "stdout",
     "output_type": "stream",
     "text": [
      "#-- email notifications of pipeline success/failure (use \"Skip\" to deactivate) --#\n",
      "email: nyoungblut@tuebingen.mpg.de\n",
      "\n",
      "#-- databases to update --#\n",
      "# Replace \"Create\" with \"Skip\" to skip creation of any of these\n",
      "# Note that braken relies on the kraken2 database\n",
      "databases:\n",
      "  kraken2: Create\n",
      "  bracken: Create\n",
      "  genes: Create\n",
      "  humann3_bowtie2: Create\n",
      "  humann3_diamond: Create\n",
      "  metaphlan3: Skip #Create\n",
      "\n",
      "#-- Input --#\n",
      "#--- If just a set of gene sequences to add ---#\n",
      "# If you have nucleotide/amino-acid gene sequences formatted for humann\n",
      "# If translate = True, missing nuc or AA seqs will be (rev)translated from the other, else seqs not used\n",
      "new_genes:\n",
      "  amino_acid: Skip #tests/output_GTDBr89_n5/genes/UniRef50/genome_reps_filtered.faa.gz\n",
      "  nucleotide: Skip #tests/output_GTDBr89_n5/genes/UniRef50/genome_reps_filtered.fna.gz\n",
      "  metadata: tests/output_GTDBr89_n5/genes/UniRef50/genome_reps_filtered.txt.gz\n",
      "  translate: False\n",
      "\n",
      "#--- If a set of genomes to add ---#\n",
      "# file listing samples and associated data\n",
      "samples_file: /ebio/abt3_projects2/databases_no-backup/GTDB/release95/Struo/benchmarking/db_update/UniRef50-90/metadata/metadata_n350_r1.tsv\n",
      "\n",
      "## column names in samples table\n",
      "samples_col: 'ncbi_organism_name'\n",
      "accession_col: 'accession'\n",
      "fasta_file_path_col: 'fasta_file_path'\n",
      "taxID_col: 'gtdb_taxid'          # or 'ncbi_species_taxid'\n",
      "taxonomy_col: 'gtdb_taxonomy'    # or 'ncbi_taxonomy' \n",
      "\n",
      "# Saved databases that will be updated\n",
      "kraken2_db:\n",
      "  library:  /ebio/abt3_projects2/databases_no-backup/GTDB/release95/Struo/benchmarking/db_update/UniRef50-90/n1000r0/struo2/kraken2/library/\n",
      "  taxonomy: /ebio/abt3_projects2/databases_no-backup/GTDB/release95/Struo/benchmarking/db_update/UniRef50-90/n1000r0/struo2/kraken2/taxonomy/\n",
      "genes_db:\n",
      "  genes:\n",
      "    mmseqs_db:  /ebio/abt3_projects2/databases_no-backup/GTDB/release95/Struo/benchmarking/db_update/UniRef50-90/n1000r0/struo2/genes/genes_db.tar.gz\n",
      "    amino_acid: /ebio/abt3_projects2/databases_no-backup/GTDB/release95/Struo/benchmarking/db_update/UniRef50-90/n1000r0/struo2/genes/genome_reps_filtered.faa.gz\n",
      "    nucleotide: /ebio/abt3_projects2/databases_no-backup/GTDB/release95/Struo/benchmarking/db_update/UniRef50-90/n1000r0/struo2/genes/genome_reps_filtered.fna.gz\n",
      "    metadata:   /ebio/abt3_projects2/databases_no-backup/GTDB/release95/Struo/benchmarking/db_update/UniRef50-90/n1000r0/struo2/genes/genome_reps_filtered.txt.gz\n",
      "  cluster:\n",
      "    mmseqs_db:   /ebio/abt3_projects2/databases_no-backup/GTDB/release95/Struo/benchmarking/db_update/UniRef50-90/n1000r0/struo2/genes/cluster/clusters_db.tar.gz    \n",
      "humann_db:\n",
      "  query:\n",
      "    hits: /ebio/abt3_projects2/databases_no-backup/GTDB/release95/Struo/benchmarking/db_update/UniRef50-90/n1000r0/struo2/humann3/annotation_hits.gz\n",
      "  cluster:\n",
      "    reps: /ebio/abt3_projects2/databases_no-backup/GTDB/release95/Struo/benchmarking/db_update/UniRef50-90/n1000r0/struo2/genes/cluster/clusters_reps.faa.gz\n",
      "    membership: /ebio/abt3_projects2/databases_no-backup/GTDB/release95/Struo/benchmarking/db_update/UniRef50-90/n1000r0/struo2/genes/cluster/clusters_membership.tsv.gz\n",
      "\n",
      "#-- Output --#\n",
      "# output location\n",
      "output_dir: /ebio/abt3_projects2/databases_no-backup/GTDB/release95/Struo/benchmarking/db_update/UniRef50-90/n1000r0/struo2/n350r1/\n",
      "\n",
      "# Name of the humann3 diamond database to create\n",
      "## This must match naming allowed by humann3\n",
      "dmnd_name: uniref90_201901.dmnd\n",
      "# Index mapping UniRef90 clusters to UniRef50 (saves time vs re-annotating)\n",
      "## Skip if annotating with UniRef50\n",
      "cluster_idx: /ebio/abt3_projects2/databases_no-backup/uniref/2019.01/uniref50-90.pkl\n",
      "\n",
      "# temporary file directory (your username will be added automatically)\n",
      "tmp_dir: /ebio/abt3_scratch/\n",
      "\n",
      "#-- keep intermediate files required for re-creating DBs (eg., w/ more genomes) --#\n",
      "# If \"True\", the intermediate files are saved to `output_dir`\n",
      "# Else, the intermediate files are temporarily stored in `temp_folder`\n",
      "keep_intermediate: True\n",
      "\n",
      "#-- software parameters --#\n",
      "# `vsearch_per_genome` = per-genome gene clustering\n",
      "# for humann3, use either mmseqs or diamond (mmseqs gets priority if neither skipped)\n",
      "# for humann3::mmseqs_search::run, --num-iterations must be >=2\n",
      "params:\n",
      "  ionice: -c 3\n",
      "  bracken:\n",
      "    build_kmer: 35\n",
      "    build_read_lens:\n",
      "      - 100\n",
      "      - 150\n",
      "  genes:\n",
      "    prodigal: \"\"\n",
      "    vsearch_per_genome: --id 0.97 --strand both --qmask none --fasta_width 0\n",
      "    mmseqs_cluster_update: --min-seq-id 0.9 -c 0.8 -s 4.0    \n",
      "  humann3:\n",
      "    batches: 10\n",
      "    filter_existing: --min-pident 0  # any existing genes w/ < cutoff with be re-queried\n",
      "    mmseqs_search:\n",
      "      db: /ebio/abt3_projects2/databases_no-backup/mmseqs/UniRef90/2019_01/uniref90\n",
      "      run: -e 1e-3 --max-accept 1 --max-seqs 100 -s 6 --num-iterations 2\n",
      "    diamond:\n",
      "      db: /ebio/abt3_projects2/databases_no-backup/humann3/201901/uniref90/uniref90_201901.dmnd\n",
      "      run: Skip #--evalue 1e-3 --query-cover 80 --id 90 --max-target-seqs 1 --block-size 4 --index-chunks 2\n",
      "    propagate_annotations: --min-cov 80 --min-pident 90\n",
      "  metaphlan3:\n",
      "    species_specific_markers: --ext-abs-cutoff 10 --ext-rel-cutoff 0.1\n",
      "\n",
      "#-- snakemake pipeline --#\n",
      "pipeline:\n",
      "  snakemake_folder: ./\n",
      "  script_folder: ./bin/scripts/\n",
      "  name: Struo2_db-update\n",
      "  config: update"
     ]
    }
   ],
   "source": [
    "config_file = file.path(work_dir, 'n1000r0', 'struo2', 'n350r1', 'config-update.yaml')\n",
    "cat_file(config_file)"
   ]
  },
  {
   "cell_type": "markdown",
   "metadata": {},
   "source": [
    "### Run"
   ]
  },
  {
   "cell_type": "markdown",
   "metadata": {},
   "source": [
    "```\n",
    "$ screen -L -S struo2-n350r1 ./snakemake_sge.sh /ebio/abt3_projects2/databases_no-backup/GTDB/release95/Struo/benchmarking/db_update/UniRef50-90/n1000r0/struo2/n350r1/config-update.yaml 50 -F\n",
    "```"
   ]
  },
  {
   "cell_type": "markdown",
   "metadata": {},
   "source": [
    "## n500r1"
   ]
  },
  {
   "cell_type": "markdown",
   "metadata": {},
   "source": [
    "### Config"
   ]
  },
  {
   "cell_type": "code",
   "execution_count": 57,
   "metadata": {
    "ExecuteTime": {
     "end_time": "2021-01-18T20:09:47.270268Z",
     "start_time": "2021-01-18T20:09:47.151Z"
    }
   },
   "outputs": [
    {
     "name": "stdout",
     "output_type": "stream",
     "text": [
      "#-- email notifications of pipeline success/failure (use \"Skip\" to deactivate) --#\n",
      "email: nyoungblut@tuebingen.mpg.de\n",
      "\n",
      "#-- databases to update --#\n",
      "# Replace \"Create\" with \"Skip\" to skip creation of any of these\n",
      "# Note that braken relies on the kraken2 database\n",
      "databases:\n",
      "  kraken2: Create\n",
      "  bracken: Create\n",
      "  genes: Create\n",
      "  humann3_bowtie2: Create\n",
      "  humann3_diamond: Create\n",
      "  metaphlan3: Skip #Create\n",
      "\n",
      "#-- Input --#\n",
      "#--- If just a set of gene sequences to add ---#\n",
      "# If you have nucleotide/amino-acid gene sequences formatted for humann\n",
      "# If translate = True, missing nuc or AA seqs will be (rev)translated from the other, else seqs not used\n",
      "new_genes:\n",
      "  amino_acid: Skip #tests/output_GTDBr89_n5/genes/UniRef50/genome_reps_filtered.faa.gz\n",
      "  nucleotide: Skip #tests/output_GTDBr89_n5/genes/UniRef50/genome_reps_filtered.fna.gz\n",
      "  metadata: tests/output_GTDBr89_n5/genes/UniRef50/genome_reps_filtered.txt.gz\n",
      "  translate: False\n",
      "\n",
      "#--- If a set of genomes to add ---#\n",
      "# file listing samples and associated data\n",
      "samples_file: /ebio/abt3_projects2/databases_no-backup/GTDB/release95/Struo/benchmarking/db_update/UniRef50-90/metadata/metadata_n500_r1.tsv\n",
      "\n",
      "## column names in samples table\n",
      "samples_col: 'ncbi_organism_name'\n",
      "accession_col: 'accession'\n",
      "fasta_file_path_col: 'fasta_file_path'\n",
      "taxID_col: 'gtdb_taxid'          # or 'ncbi_species_taxid'\n",
      "taxonomy_col: 'gtdb_taxonomy'    # or 'ncbi_taxonomy' \n",
      "\n",
      "# Saved databases that will be updated\n",
      "kraken2_db:\n",
      "  library:  /ebio/abt3_projects2/databases_no-backup/GTDB/release95/Struo/benchmarking/db_update/UniRef50-90/n1000r0/struo2/kraken2/library/\n",
      "  taxonomy: /ebio/abt3_projects2/databases_no-backup/GTDB/release95/Struo/benchmarking/db_update/UniRef50-90/n1000r0/struo2/kraken2/taxonomy/\n",
      "genes_db:\n",
      "  genes:\n",
      "    mmseqs_db:  /ebio/abt3_projects2/databases_no-backup/GTDB/release95/Struo/benchmarking/db_update/UniRef50-90/n1000r0/struo2/genes/genes_db.tar.gz\n",
      "    amino_acid: /ebio/abt3_projects2/databases_no-backup/GTDB/release95/Struo/benchmarking/db_update/UniRef50-90/n1000r0/struo2/genes/genome_reps_filtered.faa.gz\n",
      "    nucleotide: /ebio/abt3_projects2/databases_no-backup/GTDB/release95/Struo/benchmarking/db_update/UniRef50-90/n1000r0/struo2/genes/genome_reps_filtered.fna.gz\n",
      "    metadata:   /ebio/abt3_projects2/databases_no-backup/GTDB/release95/Struo/benchmarking/db_update/UniRef50-90/n1000r0/struo2/genes/genome_reps_filtered.txt.gz\n",
      "  cluster:\n",
      "    mmseqs_db:   /ebio/abt3_projects2/databases_no-backup/GTDB/release95/Struo/benchmarking/db_update/UniRef50-90/n1000r0/struo2/genes/cluster/clusters_db.tar.gz    \n",
      "humann_db:\n",
      "  query:\n",
      "    hits: /ebio/abt3_projects2/databases_no-backup/GTDB/release95/Struo/benchmarking/db_update/UniRef50-90/n1000r0/struo2/humann3/annotation_hits.gz\n",
      "  cluster:\n",
      "    reps: /ebio/abt3_projects2/databases_no-backup/GTDB/release95/Struo/benchmarking/db_update/UniRef50-90/n1000r0/struo2/genes/cluster/clusters_reps.faa.gz\n",
      "    membership: /ebio/abt3_projects2/databases_no-backup/GTDB/release95/Struo/benchmarking/db_update/UniRef50-90/n1000r0/struo2/genes/cluster/clusters_membership.tsv.gz\n",
      "\n",
      "#-- Output --#\n",
      "# output location\n",
      "output_dir: /ebio/abt3_projects2/databases_no-backup/GTDB/release95/Struo/benchmarking/db_update/UniRef50-90/n1000r0/struo2/n500r1/\n",
      "\n",
      "# Name of the humann3 diamond database to create\n",
      "## This must match naming allowed by humann3\n",
      "dmnd_name: uniref90_201901.dmnd\n",
      "# Index mapping UniRef90 clusters to UniRef50 (saves time vs re-annotating)\n",
      "## Skip if annotating with UniRef50\n",
      "cluster_idx: /ebio/abt3_projects2/databases_no-backup/uniref/2019.01/uniref50-90.pkl\n",
      "\n",
      "# temporary file directory (your username will be added automatically)\n",
      "tmp_dir: /ebio/abt3_scratch/\n",
      "\n",
      "#-- keep intermediate files required for re-creating DBs (eg., w/ more genomes) --#\n",
      "# If \"True\", the intermediate files are saved to `output_dir`\n",
      "# Else, the intermediate files are temporarily stored in `temp_folder`\n",
      "keep_intermediate: True\n",
      "\n",
      "#-- software parameters --#\n",
      "# `vsearch_per_genome` = per-genome gene clustering\n",
      "# for humann3, use either mmseqs or diamond (mmseqs gets priority if neither skipped)\n",
      "# for humann3::mmseqs_search::run, --num-iterations must be >=2\n",
      "params:\n",
      "  ionice: -c 3\n",
      "  bracken:\n",
      "    build_kmer: 35\n",
      "    build_read_lens:\n",
      "      - 100\n",
      "      - 150\n",
      "  genes:\n",
      "    prodigal: \"\"\n",
      "    vsearch_per_genome: --id 0.97 --strand both --qmask none --fasta_width 0\n",
      "    mmseqs_cluster_update: --min-seq-id 0.9 -c 0.8 -s 4.0    \n",
      "  humann3:\n",
      "    batches: 10\n",
      "    filter_existing: --min-pident 0  # any existing genes w/ < cutoff with be re-queried\n",
      "    mmseqs_search:\n",
      "      db: /ebio/abt3_projects2/databases_no-backup/mmseqs/UniRef90/2019_01/uniref90\n",
      "      run: -e 1e-3 --max-accept 1 --max-seqs 100 -s 6 --num-iterations 2\n",
      "    diamond:\n",
      "      db: /ebio/abt3_projects2/databases_no-backup/humann3/201901/uniref90/uniref90_201901.dmnd\n",
      "      run: Skip #--evalue 1e-3 --query-cover 80 --id 90 --max-target-seqs 1 --block-size 4 --index-chunks 2\n",
      "    propagate_annotations: --min-cov 80 --min-pident 90\n",
      "  metaphlan3:\n",
      "    species_specific_markers: --ext-abs-cutoff 10 --ext-rel-cutoff 0.1\n",
      "\n",
      "#-- snakemake pipeline --#\n",
      "pipeline:\n",
      "  snakemake_folder: ./\n",
      "  script_folder: ./bin/scripts/\n",
      "  name: Struo2_db-update\n",
      "  config: update"
     ]
    }
   ],
   "source": [
    "config_file = file.path(work_dir, 'n1000r0', 'struo2', 'n500r1', 'config-update.yaml')\n",
    "cat_file(config_file)"
   ]
  },
  {
   "cell_type": "markdown",
   "metadata": {},
   "source": [
    "### Run"
   ]
  },
  {
   "cell_type": "markdown",
   "metadata": {},
   "source": [
    "```\n",
    "(snakemake) @ rick:/ebio/abt3_projects2/databases_no-backup/bin/struo2_1\n",
    "$ screen -L -S struo2-db-update-n500 ./snakemake_sge.sh /ebio/abt3_projects2/databases_no-backup/GTDB/release95/Struo/benchmarking/db_update/UniRef50-90/n1000r0/struo2/n500r1/config-update.yaml 50 -F\n",
    "```"
   ]
  },
  {
   "cell_type": "markdown",
   "metadata": {},
   "source": [
    "## n500r2"
   ]
  },
  {
   "cell_type": "markdown",
   "metadata": {},
   "source": [
    "### Config"
   ]
  },
  {
   "cell_type": "code",
   "execution_count": 72,
   "metadata": {
    "ExecuteTime": {
     "end_time": "2021-01-21T19:40:50.852643Z",
     "start_time": "2021-01-21T19:40:50.708Z"
    }
   },
   "outputs": [
    {
     "name": "stdout",
     "output_type": "stream",
     "text": [
      "#-- email notifications of pipeline success/failure (use \"Skip\" to deactivate) --#\n",
      "email: nyoungblut@tuebingen.mpg.de\n",
      "\n",
      "#-- databases to update --#\n",
      "# Replace \"Create\" with \"Skip\" to skip creation of any of these\n",
      "# Note that braken relies on the kraken2 database\n",
      "databases:\n",
      "  kraken2: Create\n",
      "  bracken: Create\n",
      "  genes: Create\n",
      "  humann3_bowtie2: Create\n",
      "  humann3_diamond: Create\n",
      "  metaphlan3: Skip #Create\n",
      "\n",
      "#-- Input --#\n",
      "#--- If just a set of gene sequences to add ---#\n",
      "# If you have nucleotide/amino-acid gene sequences formatted for humann\n",
      "# If translate = True, missing nuc or AA seqs will be (rev)translated from the other, else seqs not used\n",
      "new_genes:\n",
      "  amino_acid: Skip #tests/output_GTDBr89_n5/genes/UniRef50/genome_reps_filtered.faa.gz\n",
      "  nucleotide: Skip #tests/output_GTDBr89_n5/genes/UniRef50/genome_reps_filtered.fna.gz\n",
      "  metadata: tests/output_GTDBr89_n5/genes/UniRef50/genome_reps_filtered.txt.gz\n",
      "  translate: False\n",
      "\n",
      "#--- If a set of genomes to add ---#\n",
      "# file listing samples and associated data\n",
      "samples_file: /ebio/abt3_projects2/databases_no-backup/GTDB/release95/Struo/benchmarking/db_update/UniRef50-90/metadata/metadata_n500_r2.tsv\n",
      "\n",
      "## column names in samples table\n",
      "samples_col: 'ncbi_organism_name'\n",
      "accession_col: 'accession'\n",
      "fasta_file_path_col: 'fasta_file_path'\n",
      "taxID_col: 'gtdb_taxid'          # or 'ncbi_species_taxid'\n",
      "taxonomy_col: 'gtdb_taxonomy'    # or 'ncbi_taxonomy' \n",
      "\n",
      "# Saved databases that will be updated\n",
      "kraken2_db:\n",
      "  library:  /ebio/abt3_projects2/databases_no-backup/GTDB/release95/Struo/benchmarking/db_update/UniRef50-90/n1000r0/struo2/kraken2/library/\n",
      "  taxonomy: /ebio/abt3_projects2/databases_no-backup/GTDB/release95/Struo/benchmarking/db_update/UniRef50-90/n1000r0/struo2/kraken2/taxonomy/\n",
      "genes_db:\n",
      "  genes:\n",
      "    mmseqs_db:  /ebio/abt3_projects2/databases_no-backup/GTDB/release95/Struo/benchmarking/db_update/UniRef50-90/n1000r0/struo2/genes/genes_db.tar.gz\n",
      "    amino_acid: /ebio/abt3_projects2/databases_no-backup/GTDB/release95/Struo/benchmarking/db_update/UniRef50-90/n1000r0/struo2/genes/genome_reps_filtered.faa.gz\n",
      "    nucleotide: /ebio/abt3_projects2/databases_no-backup/GTDB/release95/Struo/benchmarking/db_update/UniRef50-90/n1000r0/struo2/genes/genome_reps_filtered.fna.gz\n",
      "    metadata:   /ebio/abt3_projects2/databases_no-backup/GTDB/release95/Struo/benchmarking/db_update/UniRef50-90/n1000r0/struo2/genes/genome_reps_filtered.txt.gz\n",
      "  cluster:\n",
      "    mmseqs_db:   /ebio/abt3_projects2/databases_no-backup/GTDB/release95/Struo/benchmarking/db_update/UniRef50-90/n1000r0/struo2/genes/cluster/clusters_db.tar.gz    \n",
      "humann_db:\n",
      "  query:\n",
      "    hits: /ebio/abt3_projects2/databases_no-backup/GTDB/release95/Struo/benchmarking/db_update/UniRef50-90/n1000r0/struo2/humann3/annotation_hits.gz\n",
      "  cluster:\n",
      "    reps: /ebio/abt3_projects2/databases_no-backup/GTDB/release95/Struo/benchmarking/db_update/UniRef50-90/n1000r0/struo2/genes/cluster/clusters_reps.faa.gz\n",
      "    membership: /ebio/abt3_projects2/databases_no-backup/GTDB/release95/Struo/benchmarking/db_update/UniRef50-90/n1000r0/struo2/genes/cluster/clusters_membership.tsv.gz\n",
      "\n",
      "#-- Output --#\n",
      "# output location\n",
      "output_dir: /ebio/abt3_projects2/databases_no-backup/GTDB/release95/Struo/benchmarking/db_update/UniRef50-90/n1000r0/struo2/n500r2/\n",
      "\n",
      "# Name of the humann3 diamond database to create\n",
      "## This must match naming allowed by humann3\n",
      "dmnd_name: uniref90_201901.dmnd\n",
      "# Index mapping UniRef90 clusters to UniRef50 (saves time vs re-annotating)\n",
      "## Skip if annotating with UniRef50\n",
      "cluster_idx: /ebio/abt3_projects2/databases_no-backup/uniref/2019.01/uniref50-90.pkl\n",
      "\n",
      "# temporary file directory (your username will be added automatically)\n",
      "tmp_dir: /ebio/abt3_scratch/\n",
      "\n",
      "#-- keep intermediate files required for re-creating DBs (eg., w/ more genomes) --#\n",
      "# If \"True\", the intermediate files are saved to `output_dir`\n",
      "# Else, the intermediate files are temporarily stored in `temp_folder`\n",
      "keep_intermediate: True\n",
      "\n",
      "#-- software parameters --#\n",
      "# `vsearch_per_genome` = per-genome gene clustering\n",
      "# for humann3, use either mmseqs or diamond (mmseqs gets priority if neither skipped)\n",
      "# for humann3::mmseqs_search::run, --num-iterations must be >=2\n",
      "params:\n",
      "  ionice: -c 3\n",
      "  bracken:\n",
      "    build_kmer: 35\n",
      "    build_read_lens:\n",
      "      - 100\n",
      "      - 150\n",
      "  genes:\n",
      "    prodigal: \"\"\n",
      "    vsearch_per_genome: --id 0.97 --strand both --qmask none --fasta_width 0\n",
      "    mmseqs_cluster_update: --min-seq-id 0.9 -c 0.8 -s 4.0    \n",
      "  humann3:\n",
      "    batches: 10\n",
      "    filter_existing: --min-pident 0  # any existing genes w/ < cutoff with be re-queried\n",
      "    mmseqs_search:\n",
      "      db: /ebio/abt3_projects2/databases_no-backup/mmseqs/UniRef90/2019_01/uniref90\n",
      "      run: -e 1e-3 --max-accept 1 --max-seqs 100 -s 6 --num-iterations 2\n",
      "    diamond:\n",
      "      db: /ebio/abt3_projects2/databases_no-backup/humann3/201901/uniref90/uniref90_201901.dmnd\n",
      "      run: Skip #--evalue 1e-3 --query-cover 80 --id 90 --max-target-seqs 1 --block-size 4 --index-chunks 2\n",
      "    propagate_annotations: --min-cov 80 --min-pident 90\n",
      "  metaphlan3:\n",
      "    species_specific_markers: --ext-abs-cutoff 10 --ext-rel-cutoff 0.1\n",
      "\n",
      "#-- snakemake pipeline --#\n",
      "pipeline:\n",
      "  snakemake_folder: ./\n",
      "  script_folder: ./bin/scripts/\n",
      "  name: Struo2_db-update\n",
      "  config: update"
     ]
    }
   ],
   "source": [
    "config_file = file.path(work_dir, 'n1000r0', 'struo2', 'n500r2', 'config-update.yaml')\n",
    "cat_file(config_file)"
   ]
  },
  {
   "cell_type": "markdown",
   "metadata": {},
   "source": [
    "### Run"
   ]
  },
  {
   "cell_type": "markdown",
   "metadata": {},
   "source": [
    "```\n",
    "(snakemake) @ rick:/ebio/abt3_projects2/databases_no-backup/bin/struo2_1\n",
    "$ screen -L -S struo2-n500r2 ./snakemake_sge.sh /ebio/abt3_projects2/databases_no-backup/GTDB/release95/Struo/benchmarking/db_update/UniRef50-90/n1000r0/struo2/n500r2/config-update.yaml 50 -F\n",
    "```"
   ]
  },
  {
   "cell_type": "markdown",
   "metadata": {},
   "source": [
    "## n1000r1"
   ]
  },
  {
   "cell_type": "markdown",
   "metadata": {},
   "source": [
    "### Config"
   ]
  },
  {
   "cell_type": "code",
   "execution_count": 35,
   "metadata": {
    "ExecuteTime": {
     "end_time": "2021-01-13T07:59:21.480243Z",
     "start_time": "2021-01-13T07:59:21.418Z"
    }
   },
   "outputs": [
    {
     "name": "stdout",
     "output_type": "stream",
     "text": [
      "#-- email notifications of pipeline success/failure (use \"Skip\" to deactivate) --#\n",
      "email: nyoungblut@tuebingen.mpg.de\n",
      "\n",
      "#-- databases to update --#\n",
      "# Replace \"Create\" with \"Skip\" to skip creation of any of these\n",
      "# Note that braken relies on the kraken2 database\n",
      "databases:\n",
      "  kraken2: Create\n",
      "  bracken: Create\n",
      "  genes: Create\n",
      "  humann3_bowtie2: Create\n",
      "  humann3_diamond: Create\n",
      "  metaphlan3: Skip #Create\n",
      "\n",
      "#-- Input --#\n",
      "#--- If just a set of gene sequences to add ---#\n",
      "# If you have nucleotide/amino-acid gene sequences formatted for humann\n",
      "# If translate = True, missing nuc or AA seqs will be (rev)translated from the other, else seqs not used\n",
      "new_genes:\n",
      "  amino_acid: Skip #tests/output_GTDBr89_n5/genes/UniRef50/genome_reps_filtered.faa.gz\n",
      "  nucleotide: Skip #tests/output_GTDBr89_n5/genes/UniRef50/genome_reps_filtered.fna.gz\n",
      "  metadata: tests/output_GTDBr89_n5/genes/UniRef50/genome_reps_filtered.txt.gz\n",
      "  translate: False\n",
      "\n",
      "#--- If a set of genomes to add ---#\n",
      "# file listing samples and associated data\n",
      "samples_file: /ebio/abt3_projects2/databases_no-backup/GTDB/release95/Struo/benchmarking/db_update/UniRef50-90/metadata/metadata_n1000_r1.tsv\n",
      "\n",
      "## column names in samples table\n",
      "samples_col: 'ncbi_organism_name'\n",
      "accession_col: 'accession'\n",
      "fasta_file_path_col: 'fasta_file_path'\n",
      "taxID_col: 'gtdb_taxid'          # or 'ncbi_species_taxid'\n",
      "taxonomy_col: 'gtdb_taxonomy'    # or 'ncbi_taxonomy' \n",
      "\n",
      "# Saved databases that will be updated\n",
      "kraken2_db:\n",
      "  library:  /ebio/abt3_projects2/databases_no-backup/GTDB/release95/Struo/benchmarking/db_update/UniRef50-90/n1000r0/struo2/kraken2/library/\n",
      "  taxonomy: /ebio/abt3_projects2/databases_no-backup/GTDB/release95/Struo/benchmarking/db_update/UniRef50-90/n1000r0/struo2/kraken2/taxonomy/\n",
      "genes_db:\n",
      "  genes:\n",
      "    mmseqs_db:  /ebio/abt3_projects2/databases_no-backup/GTDB/release95/Struo/benchmarking/db_update/UniRef50-90/n1000r0/struo2/genes/genes_db.tar.gz\n",
      "    amino_acid: /ebio/abt3_projects2/databases_no-backup/GTDB/release95/Struo/benchmarking/db_update/UniRef50-90/n1000r0/struo2/genes/genome_reps_filtered.faa.gz\n",
      "    nucleotide: /ebio/abt3_projects2/databases_no-backup/GTDB/release95/Struo/benchmarking/db_update/UniRef50-90/n1000r0/struo2/genes/genome_reps_filtered.fna.gz\n",
      "    metadata:   /ebio/abt3_projects2/databases_no-backup/GTDB/release95/Struo/benchmarking/db_update/UniRef50-90/n1000r0/struo2/genes/genome_reps_filtered.txt.gz\n",
      "  cluster:\n",
      "    mmseqs_db:   /ebio/abt3_projects2/databases_no-backup/GTDB/release95/Struo/benchmarking/db_update/UniRef50-90/n1000r0/struo2/genes/cluster/clusters_db.tar.gz    \n",
      "humann_db:\n",
      "  query:\n",
      "    hits: /ebio/abt3_projects2/databases_no-backup/GTDB/release95/Struo/benchmarking/db_update/UniRef50-90/n1000r0/struo2/humann3/annotation_hits.gz\n",
      "  cluster:\n",
      "    reps: /ebio/abt3_projects2/databases_no-backup/GTDB/release95/Struo/benchmarking/db_update/UniRef50-90/n1000r0/struo2/genes/cluster/clusters_reps.faa.gz\n",
      "    membership: /ebio/abt3_projects2/databases_no-backup/GTDB/release95/Struo/benchmarking/db_update/UniRef50-90/n1000r0/struo2/genes/cluster/clusters_membership.tsv.gz\n",
      "\n",
      "#-- Output --#\n",
      "# output location\n",
      "output_dir: /ebio/abt3_projects2/databases_no-backup/GTDB/release95/Struo/benchmarking/db_update/UniRef50-90/n1000r0/struo2/n1000r1/\n",
      "\n",
      "# Name of the humann3 diamond database to create\n",
      "## This must match naming allowed by humann3\n",
      "dmnd_name: uniref90_201901.dmnd\n",
      "# Index mapping UniRef90 clusters to UniRef50 (saves time vs re-annotating)\n",
      "## Skip if annotating with UniRef50\n",
      "cluster_idx: /ebio/abt3_projects2/databases_no-backup/uniref/2019.01/uniref50-90.pkl\n",
      "\n",
      "# temporary file directory (your username will be added automatically)\n",
      "tmp_dir: /ebio/abt3_scratch/\n",
      "\n",
      "#-- keep intermediate files required for re-creating DBs (eg., w/ more genomes) --#\n",
      "# If \"True\", the intermediate files are saved to `output_dir`\n",
      "# Else, the intermediate files are temporarily stored in `temp_folder`\n",
      "keep_intermediate: True\n",
      "\n",
      "#-- software parameters --#\n",
      "# `vsearch_per_genome` = per-genome gene clustering\n",
      "# for humann3, use either mmseqs or diamond (mmseqs gets priority if neither skipped)\n",
      "# for humann3::mmseqs_search::run, --num-iterations must be >=2\n",
      "params:\n",
      "  ionice: -c 3\n",
      "  bracken:\n",
      "    build_kmer: 35\n",
      "    build_read_lens:\n",
      "      - 100\n",
      "      - 150\n",
      "  genes:\n",
      "    prodigal: \"\"\n",
      "    vsearch_per_genome: --id 0.97 --strand both --qmask none --fasta_width 0\n",
      "    mmseqs_cluster_update: --min-seq-id 0.9 -c 0.8 -s 4.0    \n",
      "  humann3:\n",
      "    batches: 10\n",
      "    filter_existing: --min-pident 0  # any existing genes w/ < cutoff with be re-queried\n",
      "    mmseqs_search:\n",
      "      db: /ebio/abt3_projects2/databases_no-backup/mmseqs/UniRef90/2019_01/uniref90\n",
      "      run: -e 1e-3 --max-accept 1 --max-seqs 100 -s 6 --num-iterations 2\n",
      "    diamond:\n",
      "      db: /ebio/abt3_projects2/databases_no-backup/humann3/201901/uniref90/uniref90_201901.dmnd\n",
      "      run: Skip #--evalue 1e-3 --query-cover 80 --id 90 --max-target-seqs 1 --block-size 4 --index-chunks 2\n",
      "    propagate_annotations: --min-cov 80 --min-pident 90\n",
      "  metaphlan3:\n",
      "    species_specific_markers: --ext-abs-cutoff 10 --ext-rel-cutoff 0.1\n",
      "\n",
      "#-- snakemake pipeline --#\n",
      "pipeline:\n",
      "  snakemake_folder: ./\n",
      "  script_folder: ./bin/scripts/\n",
      "  name: Struo2_db-update\n",
      "  config: update"
     ]
    }
   ],
   "source": [
    "config_file = file.path(work_dir, 'n1000r0', 'struo2', 'n1000r1', 'config-update.yaml')\n",
    "cat_file(config_file)"
   ]
  },
  {
   "cell_type": "markdown",
   "metadata": {},
   "source": [
    "### Run"
   ]
  },
  {
   "cell_type": "markdown",
   "metadata": {},
   "source": [
    "```\n",
    "screen -L -S struo2-update ./snakemake_sge.sh /ebio/abt3_projects2/databases_no-backup/GTDB/release95/Struo/benchmarking/db_update/UniRef50-90/n1000r0/struo2/n100r1/config-update.yaml 50 -F\n",
    "```"
   ]
  },
  {
   "cell_type": "markdown",
   "metadata": {},
   "source": [
    "# Summary"
   ]
  },
  {
   "cell_type": "markdown",
   "metadata": {},
   "source": [
    "## DB create"
   ]
  },
  {
   "cell_type": "code",
   "execution_count": 42,
   "metadata": {
    "ExecuteTime": {
     "end_time": "2021-01-18T20:04:29.450868Z",
     "start_time": "2021-01-18T20:04:29.401Z"
    }
   },
   "outputs": [],
   "source": [
    "#' reading in benchmark all files \n",
    "read_bmk = function(F){\n",
    "    df = read.delim(F, sep='\\t')\n",
    "    df$file = basename(F)\n",
    "    df$rule = basename(dirname(F))\n",
    "    return(df)\n",
    "}"
   ]
  },
  {
   "cell_type": "code",
   "execution_count": 43,
   "metadata": {
    "ExecuteTime": {
     "end_time": "2021-01-18T20:04:29.831719Z",
     "start_time": "2021-01-18T20:04:29.690Z"
    }
   },
   "outputs": [],
   "source": [
    "#' listing & reading in all benchmark files from a base path\n",
    "read_bmks = function(F){\n",
    "    df = list_files(F, '*.txt') %>%\n",
    "        lapply(read_bmk) %>%\n",
    "        do.call(rbind, .)\n",
    "    if(grepl('uniref[0-9]+/benchmarks', F)){\n",
    "        df$dataset = F %>% dirname %>% dirname %>% dirname %>% basename\n",
    "        df$pipeline = F %>% dirname %>% dirname %>% basename\n",
    "    } else {\n",
    "        df$dataset = F %>% dirname %>% dirname %>% basename\n",
    "        df$pipeline = F %>% dirname %>% basename\n",
    "    }\n",
    "\n",
    "    return(df)\n",
    "}"
   ]
  },
  {
   "cell_type": "code",
   "execution_count": 44,
   "metadata": {
    "ExecuteTime": {
     "end_time": "2021-01-18T20:04:42.894828Z",
     "start_time": "2021-01-18T20:04:29.817Z"
    }
   },
   "outputs": [
    {
     "data": {
      "text/html": [
       "<table>\n",
       "<caption>A data.frame: 5322 × 14</caption>\n",
       "<thead>\n",
       "\t<tr><th scope=col>s</th><th scope=col>h.m.s</th><th scope=col>max_rss</th><th scope=col>max_vms</th><th scope=col>max_uss</th><th scope=col>max_pss</th><th scope=col>io_in</th><th scope=col>io_out</th><th scope=col>mean_load</th><th scope=col>cpu_time</th><th scope=col>file</th><th scope=col>rule</th><th scope=col>dataset</th><th scope=col>pipeline</th></tr>\n",
       "\t<tr><th scope=col>&lt;dbl&gt;</th><th scope=col>&lt;fct&gt;</th><th scope=col>&lt;dbl&gt;</th><th scope=col>&lt;dbl&gt;</th><th scope=col>&lt;dbl&gt;</th><th scope=col>&lt;dbl&gt;</th><th scope=col>&lt;dbl&gt;</th><th scope=col>&lt;dbl&gt;</th><th scope=col>&lt;dbl&gt;</th><th scope=col>&lt;dbl&gt;</th><th scope=col>&lt;chr&gt;</th><th scope=col>&lt;chr&gt;</th><th scope=col>&lt;chr&gt;</th><th scope=col>&lt;chr&gt;</th></tr>\n",
       "</thead>\n",
       "<tbody>\n",
       "\t<tr><td>73.9160</td><td>0:01:13</td><td>8468.47</td><td>9393.21</td><td>8455.30</td><td>8455.85</td><td>9190.66</td><td>314.50</td><td>706.48</td><td>523.02</td><td>ReadLen100.txt</td><td>bracken_build</td><td>n1000r0</td><td>struo2</td></tr>\n",
       "\t<tr><td>87.2083</td><td>0:01:27</td><td>8462.74</td><td>9587.34</td><td>8450.84</td><td>8451.15</td><td>9477.97</td><td>365.96</td><td>687.95</td><td>403.13</td><td>ReadLen150.txt</td><td>bracken_build</td><td>n1000r0</td><td>struo2</td></tr>\n",
       "\t<tr><td>⋮</td><td>⋮</td><td>⋮</td><td>⋮</td><td>⋮</td><td>⋮</td><td>⋮</td><td>⋮</td><td>⋮</td><td>⋮</td><td>⋮</td><td>⋮</td><td>⋮</td><td>⋮</td></tr>\n",
       "\t<tr><td> 179.6957</td><td>0:02:59</td><td>1541.27</td><td>1848.79</td><td>1535.45</td><td>1535.91</td><td>2.37</td><td>0</td><td>298.75</td><td>  537.17</td><td>RS_GCF_900636745_1_Actinobacillus_equuli.txt     </td><td>vsearch_per_genome</td><td>n1000r0</td><td>struo2</td></tr>\n",
       "\t<tr><td>3396.6671</td><td>0:56:36</td><td>1579.31</td><td>1878.46</td><td>1575.07</td><td>1575.19</td><td>7.39</td><td>0</td><td>372.96</td><td>12668.65</td><td>RS_GCF_902150045_1_Chitinophaga_polysaccharea.txt</td><td>vsearch_per_genome</td><td>n1000r0</td><td>struo2</td></tr>\n",
       "</tbody>\n",
       "</table>\n"
      ],
      "text/latex": [
       "A data.frame: 5322 × 14\n",
       "\\begin{tabular}{llllllllllllll}\n",
       " s & h.m.s & max\\_rss & max\\_vms & max\\_uss & max\\_pss & io\\_in & io\\_out & mean\\_load & cpu\\_time & file & rule & dataset & pipeline\\\\\n",
       " <dbl> & <fct> & <dbl> & <dbl> & <dbl> & <dbl> & <dbl> & <dbl> & <dbl> & <dbl> & <chr> & <chr> & <chr> & <chr>\\\\\n",
       "\\hline\n",
       "\t 73.9160 & 0:01:13 & 8468.47 & 9393.21 & 8455.30 & 8455.85 & 9190.66 & 314.50 & 706.48 & 523.02 & ReadLen100.txt & bracken\\_build & n1000r0 & struo2\\\\\n",
       "\t 87.2083 & 0:01:27 & 8462.74 & 9587.34 & 8450.84 & 8451.15 & 9477.97 & 365.96 & 687.95 & 403.13 & ReadLen150.txt & bracken\\_build & n1000r0 & struo2\\\\\n",
       "\t ⋮ & ⋮ & ⋮ & ⋮ & ⋮ & ⋮ & ⋮ & ⋮ & ⋮ & ⋮ & ⋮ & ⋮ & ⋮ & ⋮\\\\\n",
       "\t  179.6957 & 0:02:59 & 1541.27 & 1848.79 & 1535.45 & 1535.91 & 2.37 & 0 & 298.75 &   537.17 & RS\\_GCF\\_900636745\\_1\\_Actinobacillus\\_equuli.txt      & vsearch\\_per\\_genome & n1000r0 & struo2\\\\\n",
       "\t 3396.6671 & 0:56:36 & 1579.31 & 1878.46 & 1575.07 & 1575.19 & 7.39 & 0 & 372.96 & 12668.65 & RS\\_GCF\\_902150045\\_1\\_Chitinophaga\\_polysaccharea.txt & vsearch\\_per\\_genome & n1000r0 & struo2\\\\\n",
       "\\end{tabular}\n"
      ],
      "text/markdown": [
       "\n",
       "A data.frame: 5322 × 14\n",
       "\n",
       "| s &lt;dbl&gt; | h.m.s &lt;fct&gt; | max_rss &lt;dbl&gt; | max_vms &lt;dbl&gt; | max_uss &lt;dbl&gt; | max_pss &lt;dbl&gt; | io_in &lt;dbl&gt; | io_out &lt;dbl&gt; | mean_load &lt;dbl&gt; | cpu_time &lt;dbl&gt; | file &lt;chr&gt; | rule &lt;chr&gt; | dataset &lt;chr&gt; | pipeline &lt;chr&gt; |\n",
       "|---|---|---|---|---|---|---|---|---|---|---|---|---|---|\n",
       "| 73.9160 | 0:01:13 | 8468.47 | 9393.21 | 8455.30 | 8455.85 | 9190.66 | 314.50 | 706.48 | 523.02 | ReadLen100.txt | bracken_build | n1000r0 | struo2 |\n",
       "| 87.2083 | 0:01:27 | 8462.74 | 9587.34 | 8450.84 | 8451.15 | 9477.97 | 365.96 | 687.95 | 403.13 | ReadLen150.txt | bracken_build | n1000r0 | struo2 |\n",
       "| ⋮ | ⋮ | ⋮ | ⋮ | ⋮ | ⋮ | ⋮ | ⋮ | ⋮ | ⋮ | ⋮ | ⋮ | ⋮ | ⋮ |\n",
       "|  179.6957 | 0:02:59 | 1541.27 | 1848.79 | 1535.45 | 1535.91 | 2.37 | 0 | 298.75 |   537.17 | RS_GCF_900636745_1_Actinobacillus_equuli.txt      | vsearch_per_genome | n1000r0 | struo2 |\n",
       "| 3396.6671 | 0:56:36 | 1579.31 | 1878.46 | 1575.07 | 1575.19 | 7.39 | 0 | 372.96 | 12668.65 | RS_GCF_902150045_1_Chitinophaga_polysaccharea.txt | vsearch_per_genome | n1000r0 | struo2 |\n",
       "\n"
      ],
      "text/plain": [
       "     s         h.m.s   max_rss max_vms max_uss max_pss io_in   io_out mean_load\n",
       "1    73.9160   0:01:13 8468.47 9393.21 8455.30 8455.85 9190.66 314.50 706.48   \n",
       "2    87.2083   0:01:27 8462.74 9587.34 8450.84 8451.15 9477.97 365.96 687.95   \n",
       "⋮    ⋮         ⋮       ⋮       ⋮       ⋮       ⋮       ⋮       ⋮      ⋮        \n",
       "5321  179.6957 0:02:59 1541.27 1848.79 1535.45 1535.91 2.37    0      298.75   \n",
       "5322 3396.6671 0:56:36 1579.31 1878.46 1575.07 1575.19 7.39    0      372.96   \n",
       "     cpu_time file                                             \n",
       "1    523.02   ReadLen100.txt                                   \n",
       "2    403.13   ReadLen150.txt                                   \n",
       "⋮    ⋮        ⋮                                                \n",
       "5321   537.17 RS_GCF_900636745_1_Actinobacillus_equuli.txt     \n",
       "5322 12668.65 RS_GCF_902150045_1_Chitinophaga_polysaccharea.txt\n",
       "     rule               dataset pipeline\n",
       "1    bracken_build      n1000r0 struo2  \n",
       "2    bracken_build      n1000r0 struo2  \n",
       "⋮    ⋮                  ⋮       ⋮       \n",
       "5321 vsearch_per_genome n1000r0 struo2  \n",
       "5322 vsearch_per_genome n1000r0 struo2  "
      ]
     },
     "metadata": {},
     "output_type": "display_data"
    }
   ],
   "source": [
    "# reading in all benchmark files\n",
    "L = list(\n",
    "    file.path(work_dir, 'n1000r0', 'struo2', 'benchmarks')\n",
    ") \n",
    "bmk_create = L %>%\n",
    "    lapply(read_bmks) %>%\n",
    "    do.call(rbind, .)\n",
    "bmk_create"
   ]
  },
  {
   "cell_type": "code",
   "execution_count": 45,
   "metadata": {
    "ExecuteTime": {
     "end_time": "2021-01-18T20:04:42.919092Z",
     "start_time": "2021-01-18T20:04:29.920Z"
    }
   },
   "outputs": [
    {
     "data": {
      "text/html": [
       "<table>\n",
       "<caption>A tibble: 1 × 3</caption>\n",
       "<thead>\n",
       "\t<tr><th scope=col>dataset</th><th scope=col>pipeline</th><th scope=col>n</th></tr>\n",
       "\t<tr><th scope=col>&lt;chr&gt;</th><th scope=col>&lt;chr&gt;</th><th scope=col>&lt;int&gt;</th></tr>\n",
       "</thead>\n",
       "<tbody>\n",
       "\t<tr><td>n1000r0</td><td>struo2</td><td>5322</td></tr>\n",
       "</tbody>\n",
       "</table>\n"
      ],
      "text/latex": [
       "A tibble: 1 × 3\n",
       "\\begin{tabular}{lll}\n",
       " dataset & pipeline & n\\\\\n",
       " <chr> & <chr> & <int>\\\\\n",
       "\\hline\n",
       "\t n1000r0 & struo2 & 5322\\\\\n",
       "\\end{tabular}\n"
      ],
      "text/markdown": [
       "\n",
       "A tibble: 1 × 3\n",
       "\n",
       "| dataset &lt;chr&gt; | pipeline &lt;chr&gt; | n &lt;int&gt; |\n",
       "|---|---|---|\n",
       "| n1000r0 | struo2 | 5322 |\n",
       "\n"
      ],
      "text/plain": [
       "  dataset pipeline n   \n",
       "1 n1000r0 struo2   5322"
      ]
     },
     "metadata": {},
     "output_type": "display_data"
    }
   ],
   "source": [
    "# records per dataset\n",
    "bmk_create %>%\n",
    "    group_by(dataset, pipeline) %>%\n",
    "    summarize(n = n(), .groups='drop')"
   ]
  },
  {
   "cell_type": "code",
   "execution_count": 46,
   "metadata": {
    "ExecuteTime": {
     "end_time": "2021-01-18T20:04:42.950008Z",
     "start_time": "2021-01-18T20:04:30.130Z"
    }
   },
   "outputs": [
    {
     "data": {
      "text/html": [
       "<table>\n",
       "<caption>A tibble: 1 × 3</caption>\n",
       "<thead>\n",
       "\t<tr><th scope=col>dataset</th><th scope=col>pipeline</th><th scope=col>cpu_hours</th></tr>\n",
       "\t<tr><th scope=col>&lt;chr&gt;</th><th scope=col>&lt;chr&gt;</th><th scope=col>&lt;dbl&gt;</th></tr>\n",
       "</thead>\n",
       "<tbody>\n",
       "\t<tr><td>n1000r0</td><td>struo2</td><td>602.5677</td></tr>\n",
       "</tbody>\n",
       "</table>\n"
      ],
      "text/latex": [
       "A tibble: 1 × 3\n",
       "\\begin{tabular}{lll}\n",
       " dataset & pipeline & cpu\\_hours\\\\\n",
       " <chr> & <chr> & <dbl>\\\\\n",
       "\\hline\n",
       "\t n1000r0 & struo2 & 602.5677\\\\\n",
       "\\end{tabular}\n"
      ],
      "text/markdown": [
       "\n",
       "A tibble: 1 × 3\n",
       "\n",
       "| dataset &lt;chr&gt; | pipeline &lt;chr&gt; | cpu_hours &lt;dbl&gt; |\n",
       "|---|---|---|\n",
       "| n1000r0 | struo2 | 602.5677 |\n",
       "\n"
      ],
      "text/plain": [
       "  dataset pipeline cpu_hours\n",
       "1 n1000r0 struo2   602.5677 "
      ]
     },
     "metadata": {},
     "output_type": "display_data"
    }
   ],
   "source": [
    "#' cpu hours\n",
    "bmk_create_s = bmk_create %>%\n",
    "    group_by(dataset, pipeline) %>%\n",
    "    summarize(cpu_hours = sum(s) / (60 * 60),\n",
    "              .groups='drop')\n",
    "df.dims(20)\n",
    "bmk_create_s %>% arrange(dataset, pipeline)\n",
    "df.dims()"
   ]
  },
  {
   "cell_type": "markdown",
   "metadata": {},
   "source": [
    "## DB update"
   ]
  },
  {
   "cell_type": "code",
   "execution_count": 184,
   "metadata": {
    "ExecuteTime": {
     "end_time": "2021-01-28T11:54:11.790936Z",
     "start_time": "2021-01-28T11:54:11.761Z"
    }
   },
   "outputs": [],
   "source": [
    "#' listing & reading in all benchmark files from a base path\n",
    "read_bmks = function(F){\n",
    "    df = list_files(F, '*.txt') %>%\n",
    "        lapply(read_bmk) %>%\n",
    "        do.call(rbind, .)\n",
    "    if(grepl('uniref[0-9]+/benchmarks', F)){\n",
    "        df$dataset_start = F %>% dirname %>% dirname %>% dirname %>% dirname %>% basename\n",
    "        df$pipeline = F %>% dirname %>% dirname %>% dirname %>% basename\n",
    "        df$dataset_add = F %>% dirname %>% dirname %>% basename\n",
    "    } else {\n",
    "        df$dataset_start = F %>% dirname %>% dirname %>% dirname %>% basename\n",
    "        df$pipeline = F %>% dirname %>% dirname %>% basename\n",
    "        df$dataset_add = F %>% dirname %>% basename\n",
    "    }\n",
    "    return(df)\n",
    "}"
   ]
  },
  {
   "cell_type": "code",
   "execution_count": 185,
   "metadata": {
    "ExecuteTime": {
     "end_time": "2021-01-28T11:54:38.999104Z",
     "start_time": "2021-01-28T11:54:12.014Z"
    }
   },
   "outputs": [
    {
     "data": {
      "text/html": [
       "<table>\n",
       "<caption>A data.frame: 7243 × 15</caption>\n",
       "<thead>\n",
       "\t<tr><th scope=col>s</th><th scope=col>h.m.s</th><th scope=col>max_rss</th><th scope=col>max_vms</th><th scope=col>max_uss</th><th scope=col>max_pss</th><th scope=col>io_in</th><th scope=col>io_out</th><th scope=col>mean_load</th><th scope=col>cpu_time</th><th scope=col>file</th><th scope=col>rule</th><th scope=col>dataset_start</th><th scope=col>pipeline</th><th scope=col>dataset_add</th></tr>\n",
       "\t<tr><th scope=col>&lt;dbl&gt;</th><th scope=col>&lt;fct&gt;</th><th scope=col>&lt;chr&gt;</th><th scope=col>&lt;chr&gt;</th><th scope=col>&lt;chr&gt;</th><th scope=col>&lt;chr&gt;</th><th scope=col>&lt;chr&gt;</th><th scope=col>&lt;chr&gt;</th><th scope=col>&lt;dbl&gt;</th><th scope=col>&lt;dbl&gt;</th><th scope=col>&lt;chr&gt;</th><th scope=col>&lt;chr&gt;</th><th scope=col>&lt;chr&gt;</th><th scope=col>&lt;chr&gt;</th><th scope=col>&lt;chr&gt;</th></tr>\n",
       "</thead>\n",
       "<tbody>\n",
       "\t<tr><td>75.4033</td><td>0:01:15</td><td>7689   </td><td>8595.88</td><td>7677.05</td><td>7679.26</td><td>9586.42</td><td>361.28</td><td>146.61</td><td>33.20</td><td>ReadLen100.txt</td><td>bracken_build</td><td>n1000r0</td><td>struo2</td><td>n10r1</td></tr>\n",
       "\t<tr><td>42.2097</td><td>0:00:42</td><td>7569.01</td><td>8378.32</td><td>7557.48</td><td>7559.79</td><td>6503.82</td><td>43.92 </td><td>128.93</td><td>54.52</td><td>ReadLen150.txt</td><td>bracken_build</td><td>n1000r0</td><td>struo2</td><td>n10r1</td></tr>\n",
       "\t<tr><td>⋮</td><td>⋮</td><td>⋮</td><td>⋮</td><td>⋮</td><td>⋮</td><td>⋮</td><td>⋮</td><td>⋮</td><td>⋮</td><td>⋮</td><td>⋮</td><td>⋮</td><td>⋮</td><td>⋮</td></tr>\n",
       "\t<tr><td>55.2952</td><td>0:00:55</td><td>1536.54</td><td>1846.98</td><td>1531.92</td><td>1532.43</td><td>2.77</td><td>0</td><td>270.36</td><td>149.79</td><td>RS_GCF_900625105_1_Agathobaculum_sp_Marseille_P7918.txt</td><td>vsearch_per_genome</td><td>n1000r0</td><td>struo2</td><td>n500r1</td></tr>\n",
       "\t<tr><td>40.2421</td><td>0:00:40</td><td>1508.84</td><td>1820.2 </td><td>1504.31</td><td>1504.45</td><td>1.8 </td><td>0</td><td> 93.77</td><td> 38.20</td><td>RS_GCF_900638635_1_Bartonella_vinsonii.txt             </td><td>vsearch_per_genome</td><td>n1000r0</td><td>struo2</td><td>n500r1</td></tr>\n",
       "</tbody>\n",
       "</table>\n"
      ],
      "text/latex": [
       "A data.frame: 7243 × 15\n",
       "\\begin{tabular}{lllllllllllllll}\n",
       " s & h.m.s & max\\_rss & max\\_vms & max\\_uss & max\\_pss & io\\_in & io\\_out & mean\\_load & cpu\\_time & file & rule & dataset\\_start & pipeline & dataset\\_add\\\\\n",
       " <dbl> & <fct> & <chr> & <chr> & <chr> & <chr> & <chr> & <chr> & <dbl> & <dbl> & <chr> & <chr> & <chr> & <chr> & <chr>\\\\\n",
       "\\hline\n",
       "\t 75.4033 & 0:01:15 & 7689    & 8595.88 & 7677.05 & 7679.26 & 9586.42 & 361.28 & 146.61 & 33.20 & ReadLen100.txt & bracken\\_build & n1000r0 & struo2 & n10r1\\\\\n",
       "\t 42.2097 & 0:00:42 & 7569.01 & 8378.32 & 7557.48 & 7559.79 & 6503.82 & 43.92  & 128.93 & 54.52 & ReadLen150.txt & bracken\\_build & n1000r0 & struo2 & n10r1\\\\\n",
       "\t ⋮ & ⋮ & ⋮ & ⋮ & ⋮ & ⋮ & ⋮ & ⋮ & ⋮ & ⋮ & ⋮ & ⋮ & ⋮ & ⋮ & ⋮\\\\\n",
       "\t 55.2952 & 0:00:55 & 1536.54 & 1846.98 & 1531.92 & 1532.43 & 2.77 & 0 & 270.36 & 149.79 & RS\\_GCF\\_900625105\\_1\\_Agathobaculum\\_sp\\_Marseille\\_P7918.txt & vsearch\\_per\\_genome & n1000r0 & struo2 & n500r1\\\\\n",
       "\t 40.2421 & 0:00:40 & 1508.84 & 1820.2  & 1504.31 & 1504.45 & 1.8  & 0 &  93.77 &  38.20 & RS\\_GCF\\_900638635\\_1\\_Bartonella\\_vinsonii.txt              & vsearch\\_per\\_genome & n1000r0 & struo2 & n500r1\\\\\n",
       "\\end{tabular}\n"
      ],
      "text/markdown": [
       "\n",
       "A data.frame: 7243 × 15\n",
       "\n",
       "| s &lt;dbl&gt; | h.m.s &lt;fct&gt; | max_rss &lt;chr&gt; | max_vms &lt;chr&gt; | max_uss &lt;chr&gt; | max_pss &lt;chr&gt; | io_in &lt;chr&gt; | io_out &lt;chr&gt; | mean_load &lt;dbl&gt; | cpu_time &lt;dbl&gt; | file &lt;chr&gt; | rule &lt;chr&gt; | dataset_start &lt;chr&gt; | pipeline &lt;chr&gt; | dataset_add &lt;chr&gt; |\n",
       "|---|---|---|---|---|---|---|---|---|---|---|---|---|---|---|\n",
       "| 75.4033 | 0:01:15 | 7689    | 8595.88 | 7677.05 | 7679.26 | 9586.42 | 361.28 | 146.61 | 33.20 | ReadLen100.txt | bracken_build | n1000r0 | struo2 | n10r1 |\n",
       "| 42.2097 | 0:00:42 | 7569.01 | 8378.32 | 7557.48 | 7559.79 | 6503.82 | 43.92  | 128.93 | 54.52 | ReadLen150.txt | bracken_build | n1000r0 | struo2 | n10r1 |\n",
       "| ⋮ | ⋮ | ⋮ | ⋮ | ⋮ | ⋮ | ⋮ | ⋮ | ⋮ | ⋮ | ⋮ | ⋮ | ⋮ | ⋮ | ⋮ |\n",
       "| 55.2952 | 0:00:55 | 1536.54 | 1846.98 | 1531.92 | 1532.43 | 2.77 | 0 | 270.36 | 149.79 | RS_GCF_900625105_1_Agathobaculum_sp_Marseille_P7918.txt | vsearch_per_genome | n1000r0 | struo2 | n500r1 |\n",
       "| 40.2421 | 0:00:40 | 1508.84 | 1820.2  | 1504.31 | 1504.45 | 1.8  | 0 |  93.77 |  38.20 | RS_GCF_900638635_1_Bartonella_vinsonii.txt              | vsearch_per_genome | n1000r0 | struo2 | n500r1 |\n",
       "\n"
      ],
      "text/plain": [
       "     s       h.m.s   max_rss max_vms max_uss max_pss io_in   io_out mean_load\n",
       "1    75.4033 0:01:15 7689    8595.88 7677.05 7679.26 9586.42 361.28 146.61   \n",
       "2    42.2097 0:00:42 7569.01 8378.32 7557.48 7559.79 6503.82 43.92  128.93   \n",
       "⋮    ⋮       ⋮       ⋮       ⋮       ⋮       ⋮       ⋮       ⋮      ⋮        \n",
       "7242 55.2952 0:00:55 1536.54 1846.98 1531.92 1532.43 2.77    0      270.36   \n",
       "7243 40.2421 0:00:40 1508.84 1820.2  1504.31 1504.45 1.8     0       93.77   \n",
       "     cpu_time file                                                   \n",
       "1    33.20    ReadLen100.txt                                         \n",
       "2    54.52    ReadLen150.txt                                         \n",
       "⋮    ⋮        ⋮                                                      \n",
       "7242 149.79   RS_GCF_900625105_1_Agathobaculum_sp_Marseille_P7918.txt\n",
       "7243  38.20   RS_GCF_900638635_1_Bartonella_vinsonii.txt             \n",
       "     rule               dataset_start pipeline dataset_add\n",
       "1    bracken_build      n1000r0       struo2   n10r1      \n",
       "2    bracken_build      n1000r0       struo2   n10r1      \n",
       "⋮    ⋮                  ⋮             ⋮        ⋮          \n",
       "7242 vsearch_per_genome n1000r0       struo2   n500r1     \n",
       "7243 vsearch_per_genome n1000r0       struo2   n500r1     "
      ]
     },
     "metadata": {},
     "output_type": "display_data"
    }
   ],
   "source": [
    "# reading in all benchmark files\n",
    "L = list(\n",
    "    file.path(work_dir, 'n1000r0', 'struo2', 'n10r1', 'benchmarks'),\n",
    "    file.path(work_dir, 'n1000r0', 'struo2', 'n100r1', 'benchmarks'),\n",
    "    file.path(work_dir, 'n1000r0', 'struo2', 'n175r1', 'benchmarks'),\n",
    "    file.path(work_dir, 'n1000r0', 'struo2', 'n250r1', 'benchmarks'),\n",
    "    file.path(work_dir, 'n1000r0', 'struo2', 'n350r1', 'benchmarks'),\n",
    "    file.path(work_dir, 'n1000r0', 'struo2', 'n500r1', 'benchmarks'),\n",
    ") \n",
    "bmk_update = L %>%\n",
    "    lapply(read_bmks) %>%\n",
    "    do.call(rbind, .)\n",
    "bmk_update"
   ]
  },
  {
   "cell_type": "code",
   "execution_count": 186,
   "metadata": {
    "ExecuteTime": {
     "end_time": "2021-01-28T11:54:39.121376Z",
     "start_time": "2021-01-28T11:54:14.895Z"
    }
   },
   "outputs": [
    {
     "data": {
      "text/html": [
       "<table>\n",
       "<caption>A tibble: 6 × 4</caption>\n",
       "<thead>\n",
       "\t<tr><th scope=col>dataset_start</th><th scope=col>pipeline</th><th scope=col>dataset_add</th><th scope=col>n</th></tr>\n",
       "\t<tr><th scope=col>&lt;chr&gt;</th><th scope=col>&lt;chr&gt;</th><th scope=col>&lt;chr&gt;</th><th scope=col>&lt;int&gt;</th></tr>\n",
       "</thead>\n",
       "<tbody>\n",
       "\t<tr><td>n1000r0</td><td>struo2</td><td>n100r1</td><td>553</td></tr>\n",
       "\t<tr><td>n1000r0</td><td>struo2</td><td>n10r1 </td><td>103</td></tr>\n",
       "\t<tr><td>⋮</td><td>⋮</td><td>⋮</td><td>⋮</td></tr>\n",
       "\t<tr><td>n1000r0</td><td>struo2</td><td>n350r1</td><td>1803</td></tr>\n",
       "\t<tr><td>n1000r0</td><td>struo2</td><td>n500r1</td><td>2553</td></tr>\n",
       "</tbody>\n",
       "</table>\n"
      ],
      "text/latex": [
       "A tibble: 6 × 4\n",
       "\\begin{tabular}{llll}\n",
       " dataset\\_start & pipeline & dataset\\_add & n\\\\\n",
       " <chr> & <chr> & <chr> & <int>\\\\\n",
       "\\hline\n",
       "\t n1000r0 & struo2 & n100r1 & 553\\\\\n",
       "\t n1000r0 & struo2 & n10r1  & 103\\\\\n",
       "\t ⋮ & ⋮ & ⋮ & ⋮\\\\\n",
       "\t n1000r0 & struo2 & n350r1 & 1803\\\\\n",
       "\t n1000r0 & struo2 & n500r1 & 2553\\\\\n",
       "\\end{tabular}\n"
      ],
      "text/markdown": [
       "\n",
       "A tibble: 6 × 4\n",
       "\n",
       "| dataset_start &lt;chr&gt; | pipeline &lt;chr&gt; | dataset_add &lt;chr&gt; | n &lt;int&gt; |\n",
       "|---|---|---|---|\n",
       "| n1000r0 | struo2 | n100r1 | 553 |\n",
       "| n1000r0 | struo2 | n10r1  | 103 |\n",
       "| ⋮ | ⋮ | ⋮ | ⋮ |\n",
       "| n1000r0 | struo2 | n350r1 | 1803 |\n",
       "| n1000r0 | struo2 | n500r1 | 2553 |\n",
       "\n"
      ],
      "text/plain": [
       "  dataset_start pipeline dataset_add n   \n",
       "1 n1000r0       struo2   n100r1      553 \n",
       "2 n1000r0       struo2   n10r1       103 \n",
       "⋮ ⋮             ⋮        ⋮           ⋮   \n",
       "5 n1000r0       struo2   n350r1      1803\n",
       "6 n1000r0       struo2   n500r1      2553"
      ]
     },
     "metadata": {},
     "output_type": "display_data"
    }
   ],
   "source": [
    "# records per dataset\n",
    "bmk_update %>%\n",
    "    group_by(dataset_start, pipeline, dataset_add) %>%\n",
    "    summarize(n = n(), .groups='drop')"
   ]
  },
  {
   "cell_type": "code",
   "execution_count": 187,
   "metadata": {
    "ExecuteTime": {
     "end_time": "2021-01-28T11:54:39.190444Z",
     "start_time": "2021-01-28T11:54:16.608Z"
    }
   },
   "outputs": [
    {
     "data": {
      "text/html": [
       "<table>\n",
       "<caption>A tibble: 6 × 10</caption>\n",
       "<thead>\n",
       "\t<tr><th scope=col>dataset_start</th><th scope=col>pipeline</th><th scope=col>n_genomes</th><th scope=col>cpu_hours</th><th scope=col>cpu_hours_wCreate</th><th scope=col>genomes_added</th><th scope=col>total_genomes</th><th scope=col>perc_added</th><th scope=col>cpu_db_create_all</th><th scope=col>cpu_hour_perc_savings</th></tr>\n",
       "\t<tr><th scope=col>&lt;chr&gt;</th><th scope=col>&lt;chr&gt;</th><th scope=col>&lt;chr&gt;</th><th scope=col>&lt;dbl&gt;</th><th scope=col>&lt;dbl&gt;</th><th scope=col>&lt;dbl&gt;</th><th scope=col>&lt;dbl&gt;</th><th scope=col>&lt;dbl&gt;</th><th scope=col>&lt;dbl&gt;</th><th scope=col>&lt;dbl&gt;</th></tr>\n",
       "</thead>\n",
       "<tbody>\n",
       "\t<tr><td>n1000r0</td><td>struo2</td><td>n10 </td><td> 11.55471</td><td>614.1224</td><td> 10</td><td>1010</td><td> 1.0</td><td> 722.520</td><td>15.00271</td></tr>\n",
       "\t<tr><td>n1000r0</td><td>struo2</td><td>n100</td><td> 63.07364</td><td>665.6413</td><td>100</td><td>1100</td><td>10.0</td><td> 782.730</td><td>14.95901</td></tr>\n",
       "\t<tr><td>n1000r0</td><td>struo2</td><td>n175</td><td> 83.75373</td><td>686.3214</td><td>175</td><td>1175</td><td>17.5</td><td> 832.905</td><td>17.59907</td></tr>\n",
       "\t<tr><td>n1000r0</td><td>struo2</td><td>n250</td><td>119.93707</td><td>722.5048</td><td>250</td><td>1250</td><td>25.0</td><td> 883.080</td><td>18.18354</td></tr>\n",
       "\t<tr><td>n1000r0</td><td>struo2</td><td>n350</td><td>180.30615</td><td>782.8739</td><td>350</td><td>1350</td><td>35.0</td><td> 949.980</td><td>17.59049</td></tr>\n",
       "\t<tr><td>n1000r0</td><td>struo2</td><td>n500</td><td>251.80179</td><td>854.3695</td><td>500</td><td>1500</td><td>50.0</td><td>1050.330</td><td>18.65704</td></tr>\n",
       "</tbody>\n",
       "</table>\n"
      ],
      "text/latex": [
       "A tibble: 6 × 10\n",
       "\\begin{tabular}{llllllllll}\n",
       " dataset\\_start & pipeline & n\\_genomes & cpu\\_hours & cpu\\_hours\\_wCreate & genomes\\_added & total\\_genomes & perc\\_added & cpu\\_db\\_create\\_all & cpu\\_hour\\_perc\\_savings\\\\\n",
       " <chr> & <chr> & <chr> & <dbl> & <dbl> & <dbl> & <dbl> & <dbl> & <dbl> & <dbl>\\\\\n",
       "\\hline\n",
       "\t n1000r0 & struo2 & n10  &  11.55471 & 614.1224 &  10 & 1010 &  1.0 &  722.520 & 15.00271\\\\\n",
       "\t n1000r0 & struo2 & n100 &  63.07364 & 665.6413 & 100 & 1100 & 10.0 &  782.730 & 14.95901\\\\\n",
       "\t n1000r0 & struo2 & n175 &  83.75373 & 686.3214 & 175 & 1175 & 17.5 &  832.905 & 17.59907\\\\\n",
       "\t n1000r0 & struo2 & n250 & 119.93707 & 722.5048 & 250 & 1250 & 25.0 &  883.080 & 18.18354\\\\\n",
       "\t n1000r0 & struo2 & n350 & 180.30615 & 782.8739 & 350 & 1350 & 35.0 &  949.980 & 17.59049\\\\\n",
       "\t n1000r0 & struo2 & n500 & 251.80179 & 854.3695 & 500 & 1500 & 50.0 & 1050.330 & 18.65704\\\\\n",
       "\\end{tabular}\n"
      ],
      "text/markdown": [
       "\n",
       "A tibble: 6 × 10\n",
       "\n",
       "| dataset_start &lt;chr&gt; | pipeline &lt;chr&gt; | n_genomes &lt;chr&gt; | cpu_hours &lt;dbl&gt; | cpu_hours_wCreate &lt;dbl&gt; | genomes_added &lt;dbl&gt; | total_genomes &lt;dbl&gt; | perc_added &lt;dbl&gt; | cpu_db_create_all &lt;dbl&gt; | cpu_hour_perc_savings &lt;dbl&gt; |\n",
       "|---|---|---|---|---|---|---|---|---|---|\n",
       "| n1000r0 | struo2 | n10  |  11.55471 | 614.1224 |  10 | 1010 |  1.0 |  722.520 | 15.00271 |\n",
       "| n1000r0 | struo2 | n100 |  63.07364 | 665.6413 | 100 | 1100 | 10.0 |  782.730 | 14.95901 |\n",
       "| n1000r0 | struo2 | n175 |  83.75373 | 686.3214 | 175 | 1175 | 17.5 |  832.905 | 17.59907 |\n",
       "| n1000r0 | struo2 | n250 | 119.93707 | 722.5048 | 250 | 1250 | 25.0 |  883.080 | 18.18354 |\n",
       "| n1000r0 | struo2 | n350 | 180.30615 | 782.8739 | 350 | 1350 | 35.0 |  949.980 | 17.59049 |\n",
       "| n1000r0 | struo2 | n500 | 251.80179 | 854.3695 | 500 | 1500 | 50.0 | 1050.330 | 18.65704 |\n",
       "\n"
      ],
      "text/plain": [
       "  dataset_start pipeline n_genomes cpu_hours cpu_hours_wCreate genomes_added\n",
       "1 n1000r0       struo2   n10        11.55471 614.1224           10          \n",
       "2 n1000r0       struo2   n100       63.07364 665.6413          100          \n",
       "3 n1000r0       struo2   n175       83.75373 686.3214          175          \n",
       "4 n1000r0       struo2   n250      119.93707 722.5048          250          \n",
       "5 n1000r0       struo2   n350      180.30615 782.8739          350          \n",
       "6 n1000r0       struo2   n500      251.80179 854.3695          500          \n",
       "  total_genomes perc_added cpu_db_create_all cpu_hour_perc_savings\n",
       "1 1010           1.0        722.520          15.00271             \n",
       "2 1100          10.0        782.730          14.95901             \n",
       "3 1175          17.5        832.905          17.59907             \n",
       "4 1250          25.0        883.080          18.18354             \n",
       "5 1350          35.0        949.980          17.59049             \n",
       "6 1500          50.0       1050.330          18.65704             "
      ]
     },
     "metadata": {},
     "output_type": "display_data"
    }
   ],
   "source": [
    "# cpu hours\n",
    "starting_genomes = 1000\n",
    "bmk_update_s = bmk_update %>%\n",
    "    separate(dataset_add, c('n_genomes', 'dataset_rep'), sep='r', remove=FALSE) %>%\n",
    "    group_by(dataset_start, dataset_add, pipeline, n_genomes, dataset_rep) %>%\n",
    "    summarize(cpu_hours = sum(s) / (60 * 60),\n",
    "              .groups='drop') %>%\n",
    "    group_by(dataset_start, pipeline, n_genomes) %>%\n",
    "    summarize(cpu_hours = mean(cpu_hours),\n",
    "              .groups='drop') %>%\n",
    "    mutate(cpu_hours_wCreate = cpu_hours + 602.5677,\n",
    "           genomes_added = gsub('n([0-9]+)', '\\\\1', n_genomes) %>% as.Num,\n",
    "           total_genomes = genomes_added + starting_genomes,\n",
    "           perc_added = genomes_added / starting_genomes * 100,\n",
    "           cpu_db_create_all = 46.83 + 0.669 * total_genomes,\n",
    "           cpu_hour_perc_savings = (cpu_db_create_all - cpu_hours_wCreate) / cpu_db_create_all * 100)\n",
    "df.dims(20)\n",
    "bmk_update_s %>% arrange(genomes_added)\n",
    "df.dims()"
   ]
  },
  {
   "cell_type": "code",
   "execution_count": 189,
   "metadata": {
    "ExecuteTime": {
     "end_time": "2021-01-30T15:14:03.895936Z",
     "start_time": "2021-01-30T15:14:03.510Z"
    }
   },
   "outputs": [
    {
     "name": "stderr",
     "output_type": "stream",
     "text": [
      "`geom_smooth()` using formula 'y ~ x'\n",
      "\n"
     ]
    },
    {
     "data": {
      "image/png": "[encoded data removed]",
      "text/plain": [
       "plot without title"
      ]
     },
     "metadata": {
      "image/png": {
       "height": 200,
       "width": 400
      },
      "text/plain": {
       "height": 200,
       "width": 400
      }
     },
     "output_type": "display_data"
    }
   ],
   "source": [
    "# plotting\n",
    "p = bmk_update_s %>%\n",
    "    ggplot(aes(perc_added, cpu_hour_perc_savings)) +\n",
    "    geom_smooth(method='lm') +\n",
    "    geom_point() +\n",
    "    labs(x='% genomes added', y='% CPU hours saved') +\n",
    "    theme_bw()\n",
    "\n",
    "p.dims(4,2)\n",
    "plot(p)"
   ]
  },
  {
   "cell_type": "markdown",
   "metadata": {},
   "source": [
    "# sessionInfo"
   ]
  },
  {
   "cell_type": "code",
   "execution_count": 5,
   "metadata": {
    "ExecuteTime": {
     "end_time": "2021-02-07T07:40:16.290393Z",
     "start_time": "2021-02-07T07:40:15.404Z"
    }
   },
   "outputs": [
    {
     "name": "stdout",
     "output_type": "stream",
     "text": [
      "Struo2\n",
      "======\n",
      "\n",
      "**Struo2:** a pipeline for building custom databases for common metagenome profilers\n",
      "\n",
      "> \"Struo\" --> from the Latin: “I build” or “I gather”\n",
      "\n",
      "![](https://media.giphy.com/media/lPSMFWqKCJY5Let2v5/giphy.gif)\n",
      "\n",
      "* Version: 2.1.2\n",
      "\n",
      "--- conda envs ---\n",
      "==> /ebio/abt3_projects2/databases_no-backup/bin/struo2_1/bin/envs/genes.yaml <==\n",
      "channels:\n",
      "- bioconda\n",
      "dependencies:\n",
      "- pigz\n",
      "- python=3\n",
      "- numpy\n",
      "- bioconda::seqkit\n",
      "- bioconda::fasta-splitter\n",
      "- bioconda::vsearch\n",
      "- bioconda::prodigal\n",
      "- bioconda::mmseqs2\n",
      "==> /ebio/abt3_projects2/databases_no-backup/bin/struo2_1/bin/envs/humann2.yaml <==\n",
      "channels:\n",
      "- bioconda\n",
      "dependencies:\n",
      "- pigz\n",
      "- bioconda::bowtie2\n",
      "- bioconda::vsearch\n",
      "- bioconda::prodigal\n",
      "- bioconda::diamond=0.8.36\n",
      "\n",
      "==> /ebio/abt3_projects2/databases_no-backup/bin/struo2_1/bin/envs/humann3.yaml <==\n",
      "channels:\n",
      "- bioconda\n",
      "- biobakery\n",
      "dependencies:\n",
      "- pigz\n",
      "- bioconda::seqkit\n",
      "- bioconda::vsearch\n",
      "- bioconda::prodigal\n",
      "- bioconda::diamond=0.9.24\n",
      "- biobakery::humann\n",
      "\n",
      "==> /ebio/abt3_projects2/databases_no-backup/bin/struo2_1/bin/envs/kraken2.yaml <==\n",
      "channels:\n",
      "- bioconda\n",
      "dependencies:\n",
      "- libiconv\n",
      "- bioconda::kraken2\n",
      "- bioconda::bracken\n"
     ]
    }
   ],
   "source": [
    "pipelineInfo('/ebio/abt3_projects2/databases_no-backup/bin/struo2_1')"
   ]
  },
  {
   "cell_type": "code",
   "execution_count": 123,
   "metadata": {
    "ExecuteTime": {
     "end_time": "2021-01-25T13:12:35.952378Z",
     "start_time": "2021-01-25T13:12:11.187Z"
    }
   },
   "outputs": [
    {
     "data": {
      "text/plain": [
       "R version 3.6.3 (2020-02-29)\n",
       "Platform: x86_64-conda_cos6-linux-gnu (64-bit)\n",
       "Running under: Ubuntu 18.04.5 LTS\n",
       "\n",
       "Matrix products: default\n",
       "BLAS/LAPACK: /ebio/abt3_projects/Georg_animal_feces/envs/tidyverse/lib/libopenblasp-r0.3.9.so\n",
       "\n",
       "locale:\n",
       " [1] LC_CTYPE=en_US.UTF-8       LC_NUMERIC=C              \n",
       " [3] LC_TIME=en_US.UTF-8        LC_COLLATE=en_US.UTF-8    \n",
       " [5] LC_MONETARY=en_US.UTF-8    LC_MESSAGES=en_US.UTF-8   \n",
       " [7] LC_PAPER=en_US.UTF-8       LC_NAME=C                 \n",
       " [9] LC_ADDRESS=C               LC_TELEPHONE=C            \n",
       "[11] LC_MEASUREMENT=en_US.UTF-8 LC_IDENTIFICATION=C       \n",
       "\n",
       "attached base packages:\n",
       "[1] stats     graphics  grDevices utils     datasets  methods   base     \n",
       "\n",
       "other attached packages:\n",
       "[1] LeyLabRMisc_0.1.6 tidytable_0.5.1   data.table_1.12.8 ggplot2_3.3.1    \n",
       "[5] tidyr_1.1.0       dplyr_1.0.0      \n",
       "\n",
       "loaded via a namespace (and not attached):\n",
       " [1] Rcpp_1.0.4.6     pillar_1.4.4     compiler_3.6.3   base64enc_0.1-3 \n",
       " [5] tools_3.6.3      digest_0.6.25    uuid_0.1-4       jsonlite_1.6.1  \n",
       " [9] evaluate_0.14    lifecycle_0.2.0  tibble_3.0.1     gtable_0.3.0    \n",
       "[13] pkgconfig_2.0.3  rlang_0.4.6      IRdisplay_0.7.0  cli_2.0.2       \n",
       "[17] IRkernel_1.1     repr_1.1.0       withr_2.2.0      generics_0.0.2  \n",
       "[21] vctrs_0.3.1      grid_3.6.3       tidyselect_1.1.0 glue_1.4.1      \n",
       "[25] R6_2.4.1         fansi_0.4.1      pbdZMQ_0.3-3     farver_2.0.3    \n",
       "[29] purrr_0.3.4      magrittr_1.5     scales_1.1.1     ellipsis_0.3.1  \n",
       "[33] htmltools_0.4.0  assertthat_0.2.1 colorspace_1.4-1 labeling_0.3    \n",
       "[37] munsell_0.5.0    crayon_1.3.4    "
      ]
     },
     "metadata": {},
     "output_type": "display_data"
    }
   ],
   "source": [
    "sessionInfo()"
   ]
  }
 ],
 "metadata": {
  "kernelspec": {
   "display_name": "R [conda env:Georg_animal_feces-tidyverse]",
   "language": "R",
   "name": "conda-env-Georg_animal_feces-tidyverse-r"
  },
  "language_info": {
   "codemirror_mode": "r",
   "file_extension": ".r",
   "mimetype": "text/x-r-source",
   "name": "R",
   "pygments_lexer": "r",
   "version": "3.6.3"
  },
  "notify_time": "30",
  "toc": {
   "base_numbering": 1,
   "nav_menu": {},
   "number_sections": true,
   "sideBar": true,
   "skip_h1_title": false,
   "title_cell": "Table of Contents",
   "title_sidebar": "Contents",
   "toc_cell": true,
   "toc_position": {},
   "toc_section_display": true,
   "toc_window_display": true
  }
 },
 "nbformat": 4,
 "nbformat_minor": 4
}
