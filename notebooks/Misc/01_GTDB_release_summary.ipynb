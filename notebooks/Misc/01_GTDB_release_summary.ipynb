{
 "cells": [
  {
   "cell_type": "markdown",
   "metadata": {
    "toc": true
   },
   "source": [
    "<h1>Table of Contents<span class=\"tocSkip\"></span></h1>\n",
    "<div class=\"toc\"><ul class=\"toc-item\"><li><span><a href=\"#Goal\" data-toc-modified-id=\"Goal-1\"><span class=\"toc-item-num\">1&nbsp;&nbsp;</span>Goal</a></span></li><li><span><a href=\"#Var\" data-toc-modified-id=\"Var-2\"><span class=\"toc-item-num\">2&nbsp;&nbsp;</span>Var</a></span></li><li><span><a href=\"#Init\" data-toc-modified-id=\"Init-3\"><span class=\"toc-item-num\">3&nbsp;&nbsp;</span>Init</a></span></li><li><span><a href=\"#Load\" data-toc-modified-id=\"Load-4\"><span class=\"toc-item-num\">4&nbsp;&nbsp;</span>Load</a></span></li><li><span><a href=\"#sessionInfo\" data-toc-modified-id=\"sessionInfo-5\"><span class=\"toc-item-num\">5&nbsp;&nbsp;</span>sessionInfo</a></span></li></ul></div>"
   ]
  },
  {
   "cell_type": "markdown",
   "metadata": {},
   "source": [
    "# Goal\n",
    "\n",
    "* Summarize the number of genomes/species for each GTDB release"
   ]
  },
  {
   "cell_type": "markdown",
   "metadata": {},
   "source": [
    "# Var"
   ]
  },
  {
   "cell_type": "code",
   "execution_count": 1,
   "metadata": {
    "ExecuteTime": {
     "end_time": "2021-07-07T07:09:31.140958Z",
     "start_time": "2021-07-07T07:09:30.480Z"
    }
   },
   "outputs": [],
   "source": [
    "work_dir = '/ebio/abt3_projects/databases_no-backup/GTDB/tmp/'\n",
    "\n",
    "threads = 8"
   ]
  },
  {
   "cell_type": "markdown",
   "metadata": {},
   "source": [
    "# Init"
   ]
  },
  {
   "cell_type": "code",
   "execution_count": 2,
   "metadata": {
    "ExecuteTime": {
     "end_time": "2021-07-07T07:09:36.341444Z",
     "start_time": "2021-07-07T07:09:33.608Z"
    }
   },
   "outputs": [
    {
     "name": "stderr",
     "output_type": "stream",
     "text": [
      "\n",
      "Attaching package: ‘dplyr’\n",
      "\n",
      "\n",
      "The following objects are masked from ‘package:stats’:\n",
      "\n",
      "    filter, lag\n",
      "\n",
      "\n",
      "The following objects are masked from ‘package:base’:\n",
      "\n",
      "    intersect, setdiff, setequal, union\n",
      "\n",
      "\n",
      "\n",
      "Attaching package: ‘data.table’\n",
      "\n",
      "\n",
      "The following objects are masked from ‘package:dplyr’:\n",
      "\n",
      "    between, first, last\n",
      "\n",
      "\n",
      "\n",
      "Attaching package: ‘tidytable’\n",
      "\n",
      "\n",
      "The following object is masked from ‘package:stats’:\n",
      "\n",
      "    dt\n",
      "\n",
      "\n"
     ]
    }
   ],
   "source": [
    "library(dplyr)\n",
    "library(tidyr)\n",
    "library(ggplot2)\n",
    "library(data.table)\n",
    "library(tidytable)\n",
    "library(LeyLabRMisc)"
   ]
  },
  {
   "cell_type": "code",
   "execution_count": 3,
   "metadata": {
    "ExecuteTime": {
     "end_time": "2021-07-07T07:09:36.393047Z",
     "start_time": "2021-07-07T07:09:33.749Z"
    }
   },
   "outputs": [],
   "source": [
    "df.dims()\n",
    "setDTthreads(threads)"
   ]
  },
  {
   "cell_type": "markdown",
   "metadata": {},
   "source": [
    "# Load"
   ]
  },
  {
   "cell_type": "code",
   "execution_count": 22,
   "metadata": {
    "ExecuteTime": {
     "end_time": "2021-07-07T07:15:10.931429Z",
     "start_time": "2021-07-07T07:15:09.298Z"
    }
   },
   "outputs": [
    {
     "data": {
      "text/html": [
       "<table class=\"dataframe\">\n",
       "<caption>A tidytable: 94759 × 3</caption>\n",
       "<thead>\n",
       "\t<tr><th scope=col>accession</th><th scope=col>gtdb_taxonomy</th><th scope=col>Release</th></tr>\n",
       "\t<tr><th scope=col>&lt;chr&gt;</th><th scope=col>&lt;chr&gt;</th><th scope=col>&lt;chr&gt;</th></tr>\n",
       "</thead>\n",
       "<tbody>\n",
       "\t<tr><td>GB_GCA_000006155.2</td><td>d__Bacteria;p__Firmicutes;c__Bacilli;o__Bacillales;f__Bacillaceae_G;g__Bacillus_A;s__Bacillus_A anthracis                          </td><td>80.0</td></tr>\n",
       "\t<tr><td>GB_GCA_000006945.2</td><td>d__Bacteria;p__Proteobacteria;c__Gammaproteobacteria;o__Enterobacterales;f__Enterobacteriaceae;g__Salmonella;s__Salmonella enterica</td><td>80.0</td></tr>\n",
       "\t<tr><td>⋮</td><td>⋮</td><td>⋮</td></tr>\n",
       "\t<tr><td>UBA12578</td><td>d__Bacteria;p__Proteobacteria;c__Gammaproteobacteria;o__UBA10353;f__LS-SOB;g__UBA12578;s__UBA12578 sp1                           </td><td>80.0</td></tr>\n",
       "\t<tr><td>UBA12579</td><td>d__Bacteria;p__Proteobacteria;c__Gammaproteobacteria;o__Enterobacterales;f__Enterobacteriaceae;g__Escherichia;s__Escherichia coli</td><td>80.0</td></tr>\n",
       "</tbody>\n",
       "</table>\n"
      ],
      "text/latex": [
       "A tidytable: 94759 × 3\n",
       "\\begin{tabular}{lll}\n",
       " accession & gtdb\\_taxonomy & Release\\\\\n",
       " <chr> & <chr> & <chr>\\\\\n",
       "\\hline\n",
       "\t GB\\_GCA\\_000006155.2 & d\\_\\_Bacteria;p\\_\\_Firmicutes;c\\_\\_Bacilli;o\\_\\_Bacillales;f\\_\\_Bacillaceae\\_G;g\\_\\_Bacillus\\_A;s\\_\\_Bacillus\\_A anthracis                           & 80.0\\\\\n",
       "\t GB\\_GCA\\_000006945.2 & d\\_\\_Bacteria;p\\_\\_Proteobacteria;c\\_\\_Gammaproteobacteria;o\\_\\_Enterobacterales;f\\_\\_Enterobacteriaceae;g\\_\\_Salmonella;s\\_\\_Salmonella enterica & 80.0\\\\\n",
       "\t ⋮ & ⋮ & ⋮\\\\\n",
       "\t UBA12578 & d\\_\\_Bacteria;p\\_\\_Proteobacteria;c\\_\\_Gammaproteobacteria;o\\_\\_UBA10353;f\\_\\_LS-SOB;g\\_\\_UBA12578;s\\_\\_UBA12578 sp1                            & 80.0\\\\\n",
       "\t UBA12579 & d\\_\\_Bacteria;p\\_\\_Proteobacteria;c\\_\\_Gammaproteobacteria;o\\_\\_Enterobacterales;f\\_\\_Enterobacteriaceae;g\\_\\_Escherichia;s\\_\\_Escherichia coli & 80.0\\\\\n",
       "\\end{tabular}\n"
      ],
      "text/markdown": [
       "\n",
       "A tidytable: 94759 × 3\n",
       "\n",
       "| accession &lt;chr&gt; | gtdb_taxonomy &lt;chr&gt; | Release &lt;chr&gt; |\n",
       "|---|---|---|\n",
       "| GB_GCA_000006155.2 | d__Bacteria;p__Firmicutes;c__Bacilli;o__Bacillales;f__Bacillaceae_G;g__Bacillus_A;s__Bacillus_A anthracis                           | 80.0 |\n",
       "| GB_GCA_000006945.2 | d__Bacteria;p__Proteobacteria;c__Gammaproteobacteria;o__Enterobacterales;f__Enterobacteriaceae;g__Salmonella;s__Salmonella enterica | 80.0 |\n",
       "| ⋮ | ⋮ | ⋮ |\n",
       "| UBA12578 | d__Bacteria;p__Proteobacteria;c__Gammaproteobacteria;o__UBA10353;f__LS-SOB;g__UBA12578;s__UBA12578 sp1                            | 80.0 |\n",
       "| UBA12579 | d__Bacteria;p__Proteobacteria;c__Gammaproteobacteria;o__Enterobacterales;f__Enterobacteriaceae;g__Escherichia;s__Escherichia coli | 80.0 |\n",
       "\n"
      ],
      "text/plain": [
       "      accession         \n",
       "1     GB_GCA_000006155.2\n",
       "2     GB_GCA_000006945.2\n",
       "⋮     ⋮                 \n",
       "94758 UBA12578          \n",
       "94759 UBA12579          \n",
       "      gtdb_taxonomy                                                                                                                      \n",
       "1     d__Bacteria;p__Firmicutes;c__Bacilli;o__Bacillales;f__Bacillaceae_G;g__Bacillus_A;s__Bacillus_A anthracis                          \n",
       "2     d__Bacteria;p__Proteobacteria;c__Gammaproteobacteria;o__Enterobacterales;f__Enterobacteriaceae;g__Salmonella;s__Salmonella enterica\n",
       "⋮     ⋮                                                                                                                                  \n",
       "94758 d__Bacteria;p__Proteobacteria;c__Gammaproteobacteria;o__UBA10353;f__LS-SOB;g__UBA12578;s__UBA12578 sp1                             \n",
       "94759 d__Bacteria;p__Proteobacteria;c__Gammaproteobacteria;o__Enterobacterales;f__Enterobacteriaceae;g__Escherichia;s__Escherichia coli  \n",
       "      Release\n",
       "1     80.0   \n",
       "2     80.0   \n",
       "⋮     ⋮      \n",
       "94758 80.0   \n",
       "94759 80.0   "
      ]
     },
     "metadata": {},
     "output_type": "display_data"
    }
   ],
   "source": [
    "v80 = Fread(file.path(work_dir, 'bac_metadata_r80.tsv')) %>%\n",
    "    distinct.(accession, gtdb_taxonomy) %>%\n",
    "    mutate.(Release = '80.0')\n",
    "v80"
   ]
  },
  {
   "cell_type": "code",
   "execution_count": 23,
   "metadata": {
    "ExecuteTime": {
     "end_time": "2021-07-07T07:15:13.474490Z",
     "start_time": "2021-07-07T07:15:09.441Z"
    }
   },
   "outputs": [
    {
     "data": {
      "text/html": [
       "<table class=\"dataframe\">\n",
       "<caption>A tidytable: 109419 × 3</caption>\n",
       "<thead>\n",
       "\t<tr><th scope=col>accession</th><th scope=col>gtdb_taxonomy</th><th scope=col>Release</th></tr>\n",
       "\t<tr><th scope=col>&lt;chr&gt;</th><th scope=col>&lt;chr&gt;</th><th scope=col>&lt;chr&gt;</th></tr>\n",
       "</thead>\n",
       "<tbody>\n",
       "\t<tr><td>GB_GCA_000006155.2</td><td>d__Bacteria;p__Firmicutes;c__Bacilli;o__Bacillales;f__Bacillaceae_G;g__Bacillus_A;s__Bacillus_A anthracis                       </td><td>83.0</td></tr>\n",
       "\t<tr><td>GB_GCA_000007385.1</td><td>d__Bacteria;p__Proteobacteria;c__Gammaproteobacteria;o__Xanthomonadales;f__Xanthomonadaceae;g__Xanthomonas;s__Xanthomonas oryzae</td><td>83.0</td></tr>\n",
       "\t<tr><td>⋮</td><td>⋮</td><td>⋮</td></tr>\n",
       "\t<tr><td>UBA12578</td><td>d__Bacteria;p__Proteobacteria;c__Gammaproteobacteria;o__UBA10353;f__LS-SOB;g__UBA12578;s__UBA12578 sp1                           </td><td>83.0</td></tr>\n",
       "\t<tr><td>UBA12579</td><td>d__Bacteria;p__Proteobacteria;c__Gammaproteobacteria;o__Enterobacterales;f__Enterobacteriaceae;g__Escherichia;s__Escherichia coli</td><td>83.0</td></tr>\n",
       "</tbody>\n",
       "</table>\n"
      ],
      "text/latex": [
       "A tidytable: 109419 × 3\n",
       "\\begin{tabular}{lll}\n",
       " accession & gtdb\\_taxonomy & Release\\\\\n",
       " <chr> & <chr> & <chr>\\\\\n",
       "\\hline\n",
       "\t GB\\_GCA\\_000006155.2 & d\\_\\_Bacteria;p\\_\\_Firmicutes;c\\_\\_Bacilli;o\\_\\_Bacillales;f\\_\\_Bacillaceae\\_G;g\\_\\_Bacillus\\_A;s\\_\\_Bacillus\\_A anthracis                        & 83.0\\\\\n",
       "\t GB\\_GCA\\_000007385.1 & d\\_\\_Bacteria;p\\_\\_Proteobacteria;c\\_\\_Gammaproteobacteria;o\\_\\_Xanthomonadales;f\\_\\_Xanthomonadaceae;g\\_\\_Xanthomonas;s\\_\\_Xanthomonas oryzae & 83.0\\\\\n",
       "\t ⋮ & ⋮ & ⋮\\\\\n",
       "\t UBA12578 & d\\_\\_Bacteria;p\\_\\_Proteobacteria;c\\_\\_Gammaproteobacteria;o\\_\\_UBA10353;f\\_\\_LS-SOB;g\\_\\_UBA12578;s\\_\\_UBA12578 sp1                            & 83.0\\\\\n",
       "\t UBA12579 & d\\_\\_Bacteria;p\\_\\_Proteobacteria;c\\_\\_Gammaproteobacteria;o\\_\\_Enterobacterales;f\\_\\_Enterobacteriaceae;g\\_\\_Escherichia;s\\_\\_Escherichia coli & 83.0\\\\\n",
       "\\end{tabular}\n"
      ],
      "text/markdown": [
       "\n",
       "A tidytable: 109419 × 3\n",
       "\n",
       "| accession &lt;chr&gt; | gtdb_taxonomy &lt;chr&gt; | Release &lt;chr&gt; |\n",
       "|---|---|---|\n",
       "| GB_GCA_000006155.2 | d__Bacteria;p__Firmicutes;c__Bacilli;o__Bacillales;f__Bacillaceae_G;g__Bacillus_A;s__Bacillus_A anthracis                        | 83.0 |\n",
       "| GB_GCA_000007385.1 | d__Bacteria;p__Proteobacteria;c__Gammaproteobacteria;o__Xanthomonadales;f__Xanthomonadaceae;g__Xanthomonas;s__Xanthomonas oryzae | 83.0 |\n",
       "| ⋮ | ⋮ | ⋮ |\n",
       "| UBA12578 | d__Bacteria;p__Proteobacteria;c__Gammaproteobacteria;o__UBA10353;f__LS-SOB;g__UBA12578;s__UBA12578 sp1                            | 83.0 |\n",
       "| UBA12579 | d__Bacteria;p__Proteobacteria;c__Gammaproteobacteria;o__Enterobacterales;f__Enterobacteriaceae;g__Escherichia;s__Escherichia coli | 83.0 |\n",
       "\n"
      ],
      "text/plain": [
       "       accession         \n",
       "1      GB_GCA_000006155.2\n",
       "2      GB_GCA_000007385.1\n",
       "⋮      ⋮                 \n",
       "109418 UBA12578          \n",
       "109419 UBA12579          \n",
       "       gtdb_taxonomy                                                                                                                    \n",
       "1      d__Bacteria;p__Firmicutes;c__Bacilli;o__Bacillales;f__Bacillaceae_G;g__Bacillus_A;s__Bacillus_A anthracis                        \n",
       "2      d__Bacteria;p__Proteobacteria;c__Gammaproteobacteria;o__Xanthomonadales;f__Xanthomonadaceae;g__Xanthomonas;s__Xanthomonas oryzae \n",
       "⋮      ⋮                                                                                                                                \n",
       "109418 d__Bacteria;p__Proteobacteria;c__Gammaproteobacteria;o__UBA10353;f__LS-SOB;g__UBA12578;s__UBA12578 sp1                           \n",
       "109419 d__Bacteria;p__Proteobacteria;c__Gammaproteobacteria;o__Enterobacterales;f__Enterobacteriaceae;g__Escherichia;s__Escherichia coli\n",
       "       Release\n",
       "1      83.0   \n",
       "2      83.0   \n",
       "⋮      ⋮      \n",
       "109418 83.0   \n",
       "109419 83.0   "
      ]
     },
     "metadata": {},
     "output_type": "display_data"
    }
   ],
   "source": [
    "v83 = Fread(file.path(work_dir, 'bac_metadata_r83.tsv')) %>%\n",
    "    distinct.(accession, gtdb_taxonomy) %>%\n",
    "    mutate.(Release = '83.0')\n",
    "v83"
   ]
  },
  {
   "cell_type": "code",
   "execution_count": 24,
   "metadata": {
    "ExecuteTime": {
     "end_time": "2021-07-07T07:15:17.292179Z",
     "start_time": "2021-07-07T07:15:09.569Z"
    }
   },
   "outputs": [
    {
     "data": {
      "text/html": [
       "<table class=\"dataframe\">\n",
       "<caption>A tidytable: 127318 × 3</caption>\n",
       "<thead>\n",
       "\t<tr><th scope=col>accession</th><th scope=col>gtdb_taxonomy</th><th scope=col>Release</th></tr>\n",
       "\t<tr><th scope=col>&lt;chr&gt;</th><th scope=col>&lt;chr&gt;</th><th scope=col>&lt;chr&gt;</th></tr>\n",
       "</thead>\n",
       "<tbody>\n",
       "\t<tr><td>RS_GCF_001245025.1</td><td>d__Bacteria;p__Proteobacteria;c__Gammaproteobacteria;o__Enterobacterales;f__Enterobacteriaceae;g__Salmonella;s__Salmonella enterica        </td><td>86.2</td></tr>\n",
       "\t<tr><td>RS_GCF_000678935.1</td><td>d__Bacteria;p__Actinobacteriota;c__Actinobacteria;o__Corynebacteriales;f__Corynebacteriaceae;g__Mycobacterium;s__Mycobacterium tuberculosis</td><td>86.2</td></tr>\n",
       "\t<tr><td>⋮</td><td>⋮</td><td>⋮</td></tr>\n",
       "\t<tr><td>GB_GCA_002841105.1</td><td>d__Archaea;p__Altiarchaeota;c__Altiarchaeia;o__ltiarchaeales-1;f__ltiarchaeales-1;g__ltiarchaeales-1;s__</td><td>86.2</td></tr>\n",
       "\t<tr><td>GB_GCA_002497805.1</td><td>d__Archaea;p__Thermoplasmatota;c__MGII;o__MGII;f__MGIIA;g__UBA562;s__UBA562 sp1                         </td><td>86.2</td></tr>\n",
       "</tbody>\n",
       "</table>\n"
      ],
      "text/latex": [
       "A tidytable: 127318 × 3\n",
       "\\begin{tabular}{lll}\n",
       " accession & gtdb\\_taxonomy & Release\\\\\n",
       " <chr> & <chr> & <chr>\\\\\n",
       "\\hline\n",
       "\t RS\\_GCF\\_001245025.1 & d\\_\\_Bacteria;p\\_\\_Proteobacteria;c\\_\\_Gammaproteobacteria;o\\_\\_Enterobacterales;f\\_\\_Enterobacteriaceae;g\\_\\_Salmonella;s\\_\\_Salmonella enterica         & 86.2\\\\\n",
       "\t RS\\_GCF\\_000678935.1 & d\\_\\_Bacteria;p\\_\\_Actinobacteriota;c\\_\\_Actinobacteria;o\\_\\_Corynebacteriales;f\\_\\_Corynebacteriaceae;g\\_\\_Mycobacterium;s\\_\\_Mycobacterium tuberculosis & 86.2\\\\\n",
       "\t ⋮ & ⋮ & ⋮\\\\\n",
       "\t GB\\_GCA\\_002841105.1 & d\\_\\_Archaea;p\\_\\_Altiarchaeota;c\\_\\_Altiarchaeia;o\\_\\_ltiarchaeales-1;f\\_\\_ltiarchaeales-1;g\\_\\_ltiarchaeales-1;s\\_\\_ & 86.2\\\\\n",
       "\t GB\\_GCA\\_002497805.1 & d\\_\\_Archaea;p\\_\\_Thermoplasmatota;c\\_\\_MGII;o\\_\\_MGII;f\\_\\_MGIIA;g\\_\\_UBA562;s\\_\\_UBA562 sp1                          & 86.2\\\\\n",
       "\\end{tabular}\n"
      ],
      "text/markdown": [
       "\n",
       "A tidytable: 127318 × 3\n",
       "\n",
       "| accession &lt;chr&gt; | gtdb_taxonomy &lt;chr&gt; | Release &lt;chr&gt; |\n",
       "|---|---|---|\n",
       "| RS_GCF_001245025.1 | d__Bacteria;p__Proteobacteria;c__Gammaproteobacteria;o__Enterobacterales;f__Enterobacteriaceae;g__Salmonella;s__Salmonella enterica         | 86.2 |\n",
       "| RS_GCF_000678935.1 | d__Bacteria;p__Actinobacteriota;c__Actinobacteria;o__Corynebacteriales;f__Corynebacteriaceae;g__Mycobacterium;s__Mycobacterium tuberculosis | 86.2 |\n",
       "| ⋮ | ⋮ | ⋮ |\n",
       "| GB_GCA_002841105.1 | d__Archaea;p__Altiarchaeota;c__Altiarchaeia;o__ltiarchaeales-1;f__ltiarchaeales-1;g__ltiarchaeales-1;s__ | 86.2 |\n",
       "| GB_GCA_002497805.1 | d__Archaea;p__Thermoplasmatota;c__MGII;o__MGII;f__MGIIA;g__UBA562;s__UBA562 sp1                          | 86.2 |\n",
       "\n"
      ],
      "text/plain": [
       "       accession         \n",
       "1      RS_GCF_001245025.1\n",
       "2      RS_GCF_000678935.1\n",
       "⋮      ⋮                 \n",
       "127317 GB_GCA_002841105.1\n",
       "127318 GB_GCA_002497805.1\n",
       "       gtdb_taxonomy                                                                                                                              \n",
       "1      d__Bacteria;p__Proteobacteria;c__Gammaproteobacteria;o__Enterobacterales;f__Enterobacteriaceae;g__Salmonella;s__Salmonella enterica        \n",
       "2      d__Bacteria;p__Actinobacteriota;c__Actinobacteria;o__Corynebacteriales;f__Corynebacteriaceae;g__Mycobacterium;s__Mycobacterium tuberculosis\n",
       "⋮      ⋮                                                                                                                                          \n",
       "127317 d__Archaea;p__Altiarchaeota;c__Altiarchaeia;o__ltiarchaeales-1;f__ltiarchaeales-1;g__ltiarchaeales-1;s__                                   \n",
       "127318 d__Archaea;p__Thermoplasmatota;c__MGII;o__MGII;f__MGIIA;g__UBA562;s__UBA562 sp1                                                            \n",
       "       Release\n",
       "1      86.2   \n",
       "2      86.2   \n",
       "⋮      ⋮      \n",
       "127317 86.2   \n",
       "127318 86.2   "
      ]
     },
     "metadata": {},
     "output_type": "display_data"
    }
   ],
   "source": [
    "v86 = rbind(\n",
    "    Fread(file.path(work_dir, 'bac120_metadata_r86.2.tsv')) %>%\n",
    "        distinct.(accession, gtdb_taxonomy),\n",
    "    Fread(file.path(work_dir, 'ar122_metadata_r86.2.tsv')) %>%\n",
    "        distinct.(accession, gtdb_taxonomy)) %>%\n",
    "    mutate.(Release = '86.2')\n",
    "v86"
   ]
  },
  {
   "cell_type": "code",
   "execution_count": 25,
   "metadata": {
    "ExecuteTime": {
     "end_time": "2021-07-07T07:15:20.731212Z",
     "start_time": "2021-07-07T07:15:09.701Z"
    }
   },
   "outputs": [
    {
     "data": {
      "text/html": [
       "<table class=\"dataframe\">\n",
       "<caption>A tidytable: 145904 × 3</caption>\n",
       "<thead>\n",
       "\t<tr><th scope=col>accession</th><th scope=col>gtdb_taxonomy</th><th scope=col>Release</th></tr>\n",
       "\t<tr><th scope=col>&lt;chr&gt;</th><th scope=col>&lt;chr&gt;</th><th scope=col>&lt;chr&gt;</th></tr>\n",
       "</thead>\n",
       "<tbody>\n",
       "\t<tr><td>RS_GCF_001999625.1</td><td>d__Bacteria;p__Firmicutes;c__Bacilli;o__Lactobacillales;f__Enterococcaceae;g__Enterococcus;s__Enterococcus faecalis          </td><td>89.0</td></tr>\n",
       "\t<tr><td>RS_GCF_001658645.1</td><td>d__Bacteria;p__Firmicutes;c__Bacilli;o__Staphylococcales;f__Staphylococcaceae;g__Staphylococcus;s__Staphylococcus epidermidis</td><td>89.0</td></tr>\n",
       "\t<tr><td>⋮</td><td>⋮</td><td>⋮</td></tr>\n",
       "\t<tr><td>RS_GCF_000009965.1</td><td>d__Archaea;p__Euryarchaeota;c__Thermococci;o__Thermococcales;f__Thermococcaceae;g__Thermococcus;s__Thermococcus kodakarensis                       </td><td>89.0</td></tr>\n",
       "\t<tr><td>GB_GCA_900316635.1</td><td>d__Archaea;p__Euryarchaeota;c__Methanobacteria;o__Methanobacteriales;f__Methanobacteriaceae;g__Methanobrevibacter;s__Methanobrevibacter sp900314635</td><td>89.0</td></tr>\n",
       "</tbody>\n",
       "</table>\n"
      ],
      "text/latex": [
       "A tidytable: 145904 × 3\n",
       "\\begin{tabular}{lll}\n",
       " accession & gtdb\\_taxonomy & Release\\\\\n",
       " <chr> & <chr> & <chr>\\\\\n",
       "\\hline\n",
       "\t RS\\_GCF\\_001999625.1 & d\\_\\_Bacteria;p\\_\\_Firmicutes;c\\_\\_Bacilli;o\\_\\_Lactobacillales;f\\_\\_Enterococcaceae;g\\_\\_Enterococcus;s\\_\\_Enterococcus faecalis           & 89.0\\\\\n",
       "\t RS\\_GCF\\_001658645.1 & d\\_\\_Bacteria;p\\_\\_Firmicutes;c\\_\\_Bacilli;o\\_\\_Staphylococcales;f\\_\\_Staphylococcaceae;g\\_\\_Staphylococcus;s\\_\\_Staphylococcus epidermidis & 89.0\\\\\n",
       "\t ⋮ & ⋮ & ⋮\\\\\n",
       "\t RS\\_GCF\\_000009965.1 & d\\_\\_Archaea;p\\_\\_Euryarchaeota;c\\_\\_Thermococci;o\\_\\_Thermococcales;f\\_\\_Thermococcaceae;g\\_\\_Thermococcus;s\\_\\_Thermococcus kodakarensis                        & 89.0\\\\\n",
       "\t GB\\_GCA\\_900316635.1 & d\\_\\_Archaea;p\\_\\_Euryarchaeota;c\\_\\_Methanobacteria;o\\_\\_Methanobacteriales;f\\_\\_Methanobacteriaceae;g\\_\\_Methanobrevibacter;s\\_\\_Methanobrevibacter sp900314635 & 89.0\\\\\n",
       "\\end{tabular}\n"
      ],
      "text/markdown": [
       "\n",
       "A tidytable: 145904 × 3\n",
       "\n",
       "| accession &lt;chr&gt; | gtdb_taxonomy &lt;chr&gt; | Release &lt;chr&gt; |\n",
       "|---|---|---|\n",
       "| RS_GCF_001999625.1 | d__Bacteria;p__Firmicutes;c__Bacilli;o__Lactobacillales;f__Enterococcaceae;g__Enterococcus;s__Enterococcus faecalis           | 89.0 |\n",
       "| RS_GCF_001658645.1 | d__Bacteria;p__Firmicutes;c__Bacilli;o__Staphylococcales;f__Staphylococcaceae;g__Staphylococcus;s__Staphylococcus epidermidis | 89.0 |\n",
       "| ⋮ | ⋮ | ⋮ |\n",
       "| RS_GCF_000009965.1 | d__Archaea;p__Euryarchaeota;c__Thermococci;o__Thermococcales;f__Thermococcaceae;g__Thermococcus;s__Thermococcus kodakarensis                        | 89.0 |\n",
       "| GB_GCA_900316635.1 | d__Archaea;p__Euryarchaeota;c__Methanobacteria;o__Methanobacteriales;f__Methanobacteriaceae;g__Methanobrevibacter;s__Methanobrevibacter sp900314635 | 89.0 |\n",
       "\n"
      ],
      "text/plain": [
       "       accession         \n",
       "1      RS_GCF_001999625.1\n",
       "2      RS_GCF_001658645.1\n",
       "⋮      ⋮                 \n",
       "145903 RS_GCF_000009965.1\n",
       "145904 GB_GCA_900316635.1\n",
       "       gtdb_taxonomy                                                                                                                                      \n",
       "1      d__Bacteria;p__Firmicutes;c__Bacilli;o__Lactobacillales;f__Enterococcaceae;g__Enterococcus;s__Enterococcus faecalis                                \n",
       "2      d__Bacteria;p__Firmicutes;c__Bacilli;o__Staphylococcales;f__Staphylococcaceae;g__Staphylococcus;s__Staphylococcus epidermidis                      \n",
       "⋮      ⋮                                                                                                                                                  \n",
       "145903 d__Archaea;p__Euryarchaeota;c__Thermococci;o__Thermococcales;f__Thermococcaceae;g__Thermococcus;s__Thermococcus kodakarensis                       \n",
       "145904 d__Archaea;p__Euryarchaeota;c__Methanobacteria;o__Methanobacteriales;f__Methanobacteriaceae;g__Methanobrevibacter;s__Methanobrevibacter sp900314635\n",
       "       Release\n",
       "1      89.0   \n",
       "2      89.0   \n",
       "⋮      ⋮      \n",
       "145903 89.0   \n",
       "145904 89.0   "
      ]
     },
     "metadata": {},
     "output_type": "display_data"
    }
   ],
   "source": [
    "v89 = rbind(\n",
    "    Fread(file.path(work_dir, 'bac120_metadata_r89.tsv')) %>%\n",
    "        distinct.(accession, gtdb_taxonomy),\n",
    "    Fread(file.path(work_dir, 'ar122_metadata_r89.tsv')) %>%\n",
    "        distinct.(accession, gtdb_taxonomy)) %>%\n",
    "    mutate.(Release = '89.0')\n",
    "v89"
   ]
  },
  {
   "cell_type": "code",
   "execution_count": 26,
   "metadata": {
    "ExecuteTime": {
     "end_time": "2021-07-07T07:15:26.106957Z",
     "start_time": "2021-07-07T07:15:09.800Z"
    }
   },
   "outputs": [
    {
     "data": {
      "text/html": [
       "<table class=\"dataframe\">\n",
       "<caption>A tidytable: 194600 × 3</caption>\n",
       "<thead>\n",
       "\t<tr><th scope=col>accession</th><th scope=col>gtdb_taxonomy</th><th scope=col>Release</th></tr>\n",
       "\t<tr><th scope=col>&lt;chr&gt;</th><th scope=col>&lt;chr&gt;</th><th scope=col>&lt;chr&gt;</th></tr>\n",
       "</thead>\n",
       "<tbody>\n",
       "\t<tr><td>GB_GCA_000006155.2</td><td>d__Bacteria;p__Firmicutes;c__Bacilli;o__Bacillales;f__Bacillaceae_G;g__Bacillus_A;s__Bacillus_A anthracis                       </td><td>95.0</td></tr>\n",
       "\t<tr><td>GB_GCA_000007385.1</td><td>d__Bacteria;p__Proteobacteria;c__Gammaproteobacteria;o__Xanthomonadales;f__Xanthomonadaceae;g__Xanthomonas;s__Xanthomonas oryzae</td><td>95.0</td></tr>\n",
       "\t<tr><td>⋮</td><td>⋮</td><td>⋮</td></tr>\n",
       "\t<tr><td>GB_GCA_013330395.1</td><td>d__Archaea;p__Methanobacteriota;c__Thermococci;o__Thermococcales;f__Thermococcaceae;g__Thermococcus_A;s__Thermococcus_A sibiricus</td><td>95.0</td></tr>\n",
       "\t<tr><td>GB_GCA_013330385.1</td><td>d__Archaea;p__Thermoplasmatota;c__Poseidoniia;o__Poseidoniales;f__Thalassarchaeaceae;g__MGIIb-O1;s__MGIIb-O1 sp12570u            </td><td>95.0</td></tr>\n",
       "</tbody>\n",
       "</table>\n"
      ],
      "text/latex": [
       "A tidytable: 194600 × 3\n",
       "\\begin{tabular}{lll}\n",
       " accession & gtdb\\_taxonomy & Release\\\\\n",
       " <chr> & <chr> & <chr>\\\\\n",
       "\\hline\n",
       "\t GB\\_GCA\\_000006155.2 & d\\_\\_Bacteria;p\\_\\_Firmicutes;c\\_\\_Bacilli;o\\_\\_Bacillales;f\\_\\_Bacillaceae\\_G;g\\_\\_Bacillus\\_A;s\\_\\_Bacillus\\_A anthracis                        & 95.0\\\\\n",
       "\t GB\\_GCA\\_000007385.1 & d\\_\\_Bacteria;p\\_\\_Proteobacteria;c\\_\\_Gammaproteobacteria;o\\_\\_Xanthomonadales;f\\_\\_Xanthomonadaceae;g\\_\\_Xanthomonas;s\\_\\_Xanthomonas oryzae & 95.0\\\\\n",
       "\t ⋮ & ⋮ & ⋮\\\\\n",
       "\t GB\\_GCA\\_013330395.1 & d\\_\\_Archaea;p\\_\\_Methanobacteriota;c\\_\\_Thermococci;o\\_\\_Thermococcales;f\\_\\_Thermococcaceae;g\\_\\_Thermococcus\\_A;s\\_\\_Thermococcus\\_A sibiricus & 95.0\\\\\n",
       "\t GB\\_GCA\\_013330385.1 & d\\_\\_Archaea;p\\_\\_Thermoplasmatota;c\\_\\_Poseidoniia;o\\_\\_Poseidoniales;f\\_\\_Thalassarchaeaceae;g\\_\\_MGIIb-O1;s\\_\\_MGIIb-O1 sp12570u             & 95.0\\\\\n",
       "\\end{tabular}\n"
      ],
      "text/markdown": [
       "\n",
       "A tidytable: 194600 × 3\n",
       "\n",
       "| accession &lt;chr&gt; | gtdb_taxonomy &lt;chr&gt; | Release &lt;chr&gt; |\n",
       "|---|---|---|\n",
       "| GB_GCA_000006155.2 | d__Bacteria;p__Firmicutes;c__Bacilli;o__Bacillales;f__Bacillaceae_G;g__Bacillus_A;s__Bacillus_A anthracis                        | 95.0 |\n",
       "| GB_GCA_000007385.1 | d__Bacteria;p__Proteobacteria;c__Gammaproteobacteria;o__Xanthomonadales;f__Xanthomonadaceae;g__Xanthomonas;s__Xanthomonas oryzae | 95.0 |\n",
       "| ⋮ | ⋮ | ⋮ |\n",
       "| GB_GCA_013330395.1 | d__Archaea;p__Methanobacteriota;c__Thermococci;o__Thermococcales;f__Thermococcaceae;g__Thermococcus_A;s__Thermococcus_A sibiricus | 95.0 |\n",
       "| GB_GCA_013330385.1 | d__Archaea;p__Thermoplasmatota;c__Poseidoniia;o__Poseidoniales;f__Thalassarchaeaceae;g__MGIIb-O1;s__MGIIb-O1 sp12570u             | 95.0 |\n",
       "\n"
      ],
      "text/plain": [
       "       accession         \n",
       "1      GB_GCA_000006155.2\n",
       "2      GB_GCA_000007385.1\n",
       "⋮      ⋮                 \n",
       "194599 GB_GCA_013330395.1\n",
       "194600 GB_GCA_013330385.1\n",
       "       gtdb_taxonomy                                                                                                                    \n",
       "1      d__Bacteria;p__Firmicutes;c__Bacilli;o__Bacillales;f__Bacillaceae_G;g__Bacillus_A;s__Bacillus_A anthracis                        \n",
       "2      d__Bacteria;p__Proteobacteria;c__Gammaproteobacteria;o__Xanthomonadales;f__Xanthomonadaceae;g__Xanthomonas;s__Xanthomonas oryzae \n",
       "⋮      ⋮                                                                                                                                \n",
       "194599 d__Archaea;p__Methanobacteriota;c__Thermococci;o__Thermococcales;f__Thermococcaceae;g__Thermococcus_A;s__Thermococcus_A sibiricus\n",
       "194600 d__Archaea;p__Thermoplasmatota;c__Poseidoniia;o__Poseidoniales;f__Thalassarchaeaceae;g__MGIIb-O1;s__MGIIb-O1 sp12570u            \n",
       "       Release\n",
       "1      95.0   \n",
       "2      95.0   \n",
       "⋮      ⋮      \n",
       "194599 95.0   \n",
       "194600 95.0   "
      ]
     },
     "metadata": {},
     "output_type": "display_data"
    }
   ],
   "source": [
    "v95 = rbind(\n",
    "    Fread(file.path(work_dir, 'bac120_metadata_r95.tsv')) %>%\n",
    "        distinct.(accession, gtdb_taxonomy),\n",
    "    Fread(file.path(work_dir, 'ar122_metadata_r95.tsv')) %>%\n",
    "        distinct.(accession, gtdb_taxonomy)) %>%\n",
    "    mutate.(Release = '95.0')\n",
    "v95"
   ]
  },
  {
   "cell_type": "code",
   "execution_count": 27,
   "metadata": {
    "ExecuteTime": {
     "end_time": "2021-07-07T07:15:33.207447Z",
     "start_time": "2021-07-07T07:15:10.264Z"
    }
   },
   "outputs": [
    {
     "data": {
      "text/html": [
       "<table class=\"dataframe\">\n",
       "<caption>A tidytable: 258406 × 3</caption>\n",
       "<thead>\n",
       "\t<tr><th scope=col>accession</th><th scope=col>gtdb_taxonomy</th><th scope=col>Release</th></tr>\n",
       "\t<tr><th scope=col>&lt;chr&gt;</th><th scope=col>&lt;chr&gt;</th><th scope=col>&lt;chr&gt;</th></tr>\n",
       "</thead>\n",
       "<tbody>\n",
       "\t<tr><td>GB_GCA_000013845.2</td><td>d__Bacteria;p__Firmicutes_A;c__Clostridia;o__Clostridiales;f__Clostridiaceae;g__Clostridium_P;s__Clostridium_P perfringens          </td><td>202.0</td></tr>\n",
       "\t<tr><td>GB_GCA_000016465.1</td><td>d__Bacteria;p__Proteobacteria;c__Gammaproteobacteria;o__Enterobacterales;f__Pasteurellaceae;g__Haemophilus;s__Haemophilus influenzae</td><td>202.0</td></tr>\n",
       "\t<tr><td>⋮</td><td>⋮</td><td>⋮</td></tr>\n",
       "\t<tr><td>RS_GCF_902384055.1</td><td>d__Archaea;p__Methanobacteriota;c__Methanobacteria;o__Methanobacteriales;f__Methanobacteriaceae;g__Methanobrevibacter_A;s__Methanobrevibacter_A smithii</td><td>202.0</td></tr>\n",
       "\t<tr><td>RS_GCF_902384065.1</td><td>d__Archaea;p__Methanobacteriota;c__Methanobacteria;o__Methanobacteriales;f__Methanobacteriaceae;g__Methanobrevibacter_A;s__Methanobrevibacter_A oralis </td><td>202.0</td></tr>\n",
       "</tbody>\n",
       "</table>\n"
      ],
      "text/latex": [
       "A tidytable: 258406 × 3\n",
       "\\begin{tabular}{lll}\n",
       " accession & gtdb\\_taxonomy & Release\\\\\n",
       " <chr> & <chr> & <chr>\\\\\n",
       "\\hline\n",
       "\t GB\\_GCA\\_000013845.2 & d\\_\\_Bacteria;p\\_\\_Firmicutes\\_A;c\\_\\_Clostridia;o\\_\\_Clostridiales;f\\_\\_Clostridiaceae;g\\_\\_Clostridium\\_P;s\\_\\_Clostridium\\_P perfringens           & 202.0\\\\\n",
       "\t GB\\_GCA\\_000016465.1 & d\\_\\_Bacteria;p\\_\\_Proteobacteria;c\\_\\_Gammaproteobacteria;o\\_\\_Enterobacterales;f\\_\\_Pasteurellaceae;g\\_\\_Haemophilus;s\\_\\_Haemophilus influenzae & 202.0\\\\\n",
       "\t ⋮ & ⋮ & ⋮\\\\\n",
       "\t RS\\_GCF\\_902384055.1 & d\\_\\_Archaea;p\\_\\_Methanobacteriota;c\\_\\_Methanobacteria;o\\_\\_Methanobacteriales;f\\_\\_Methanobacteriaceae;g\\_\\_Methanobrevibacter\\_A;s\\_\\_Methanobrevibacter\\_A smithii & 202.0\\\\\n",
       "\t RS\\_GCF\\_902384065.1 & d\\_\\_Archaea;p\\_\\_Methanobacteriota;c\\_\\_Methanobacteria;o\\_\\_Methanobacteriales;f\\_\\_Methanobacteriaceae;g\\_\\_Methanobrevibacter\\_A;s\\_\\_Methanobrevibacter\\_A oralis  & 202.0\\\\\n",
       "\\end{tabular}\n"
      ],
      "text/markdown": [
       "\n",
       "A tidytable: 258406 × 3\n",
       "\n",
       "| accession &lt;chr&gt; | gtdb_taxonomy &lt;chr&gt; | Release &lt;chr&gt; |\n",
       "|---|---|---|\n",
       "| GB_GCA_000013845.2 | d__Bacteria;p__Firmicutes_A;c__Clostridia;o__Clostridiales;f__Clostridiaceae;g__Clostridium_P;s__Clostridium_P perfringens           | 202.0 |\n",
       "| GB_GCA_000016465.1 | d__Bacteria;p__Proteobacteria;c__Gammaproteobacteria;o__Enterobacterales;f__Pasteurellaceae;g__Haemophilus;s__Haemophilus influenzae | 202.0 |\n",
       "| ⋮ | ⋮ | ⋮ |\n",
       "| RS_GCF_902384055.1 | d__Archaea;p__Methanobacteriota;c__Methanobacteria;o__Methanobacteriales;f__Methanobacteriaceae;g__Methanobrevibacter_A;s__Methanobrevibacter_A smithii | 202.0 |\n",
       "| RS_GCF_902384065.1 | d__Archaea;p__Methanobacteriota;c__Methanobacteria;o__Methanobacteriales;f__Methanobacteriaceae;g__Methanobrevibacter_A;s__Methanobrevibacter_A oralis  | 202.0 |\n",
       "\n"
      ],
      "text/plain": [
       "       accession         \n",
       "1      GB_GCA_000013845.2\n",
       "2      GB_GCA_000016465.1\n",
       "⋮      ⋮                 \n",
       "258405 RS_GCF_902384055.1\n",
       "258406 RS_GCF_902384065.1\n",
       "       gtdb_taxonomy                                                                                                                                          \n",
       "1      d__Bacteria;p__Firmicutes_A;c__Clostridia;o__Clostridiales;f__Clostridiaceae;g__Clostridium_P;s__Clostridium_P perfringens                             \n",
       "2      d__Bacteria;p__Proteobacteria;c__Gammaproteobacteria;o__Enterobacterales;f__Pasteurellaceae;g__Haemophilus;s__Haemophilus influenzae                   \n",
       "⋮      ⋮                                                                                                                                                      \n",
       "258405 d__Archaea;p__Methanobacteriota;c__Methanobacteria;o__Methanobacteriales;f__Methanobacteriaceae;g__Methanobrevibacter_A;s__Methanobrevibacter_A smithii\n",
       "258406 d__Archaea;p__Methanobacteriota;c__Methanobacteria;o__Methanobacteriales;f__Methanobacteriaceae;g__Methanobrevibacter_A;s__Methanobrevibacter_A oralis \n",
       "       Release\n",
       "1      202.0  \n",
       "2      202.0  \n",
       "⋮      ⋮      \n",
       "258405 202.0  \n",
       "258406 202.0  "
      ]
     },
     "metadata": {},
     "output_type": "display_data"
    }
   ],
   "source": [
    "v202 = rbind(\n",
    "    Fread(file.path(work_dir, 'bac120_metadata_r202.tsv')) %>%\n",
    "        distinct.(accession, gtdb_taxonomy),\n",
    "    Fread(file.path(work_dir, 'ar122_metadata_r202.tsv')) %>%\n",
    "        distinct.(accession, gtdb_taxonomy)) %>%\n",
    "    mutate.(Release = '202.0')\n",
    "v202"
   ]
  },
  {
   "cell_type": "code",
   "execution_count": 28,
   "metadata": {
    "ExecuteTime": {
     "end_time": "2021-07-07T07:15:33.292976Z",
     "start_time": "2021-07-07T07:15:10.800Z"
    }
   },
   "outputs": [
    {
     "data": {
      "text/html": [
       "<table class=\"dataframe\">\n",
       "<caption>A data.table: 930406 × 3</caption>\n",
       "<thead>\n",
       "\t<tr><th scope=col>accession</th><th scope=col>gtdb_taxonomy</th><th scope=col>Release</th></tr>\n",
       "\t<tr><th scope=col>&lt;chr&gt;</th><th scope=col>&lt;chr&gt;</th><th scope=col>&lt;chr&gt;</th></tr>\n",
       "</thead>\n",
       "<tbody>\n",
       "\t<tr><td>GB_GCA_000006155.2</td><td>d__Bacteria;p__Firmicutes;c__Bacilli;o__Bacillales;f__Bacillaceae_G;g__Bacillus_A;s__Bacillus_A anthracis                          </td><td>80.0</td></tr>\n",
       "\t<tr><td>GB_GCA_000006945.2</td><td>d__Bacteria;p__Proteobacteria;c__Gammaproteobacteria;o__Enterobacterales;f__Enterobacteriaceae;g__Salmonella;s__Salmonella enterica</td><td>80.0</td></tr>\n",
       "\t<tr><td>⋮</td><td>⋮</td><td>⋮</td></tr>\n",
       "\t<tr><td>RS_GCF_902384055.1</td><td>d__Archaea;p__Methanobacteriota;c__Methanobacteria;o__Methanobacteriales;f__Methanobacteriaceae;g__Methanobrevibacter_A;s__Methanobrevibacter_A smithii</td><td>202.0</td></tr>\n",
       "\t<tr><td>RS_GCF_902384065.1</td><td>d__Archaea;p__Methanobacteriota;c__Methanobacteria;o__Methanobacteriales;f__Methanobacteriaceae;g__Methanobrevibacter_A;s__Methanobrevibacter_A oralis </td><td>202.0</td></tr>\n",
       "</tbody>\n",
       "</table>\n"
      ],
      "text/latex": [
       "A data.table: 930406 × 3\n",
       "\\begin{tabular}{lll}\n",
       " accession & gtdb\\_taxonomy & Release\\\\\n",
       " <chr> & <chr> & <chr>\\\\\n",
       "\\hline\n",
       "\t GB\\_GCA\\_000006155.2 & d\\_\\_Bacteria;p\\_\\_Firmicutes;c\\_\\_Bacilli;o\\_\\_Bacillales;f\\_\\_Bacillaceae\\_G;g\\_\\_Bacillus\\_A;s\\_\\_Bacillus\\_A anthracis                           & 80.0\\\\\n",
       "\t GB\\_GCA\\_000006945.2 & d\\_\\_Bacteria;p\\_\\_Proteobacteria;c\\_\\_Gammaproteobacteria;o\\_\\_Enterobacterales;f\\_\\_Enterobacteriaceae;g\\_\\_Salmonella;s\\_\\_Salmonella enterica & 80.0\\\\\n",
       "\t ⋮ & ⋮ & ⋮\\\\\n",
       "\t RS\\_GCF\\_902384055.1 & d\\_\\_Archaea;p\\_\\_Methanobacteriota;c\\_\\_Methanobacteria;o\\_\\_Methanobacteriales;f\\_\\_Methanobacteriaceae;g\\_\\_Methanobrevibacter\\_A;s\\_\\_Methanobrevibacter\\_A smithii & 202.0\\\\\n",
       "\t RS\\_GCF\\_902384065.1 & d\\_\\_Archaea;p\\_\\_Methanobacteriota;c\\_\\_Methanobacteria;o\\_\\_Methanobacteriales;f\\_\\_Methanobacteriaceae;g\\_\\_Methanobrevibacter\\_A;s\\_\\_Methanobrevibacter\\_A oralis  & 202.0\\\\\n",
       "\\end{tabular}\n"
      ],
      "text/markdown": [
       "\n",
       "A data.table: 930406 × 3\n",
       "\n",
       "| accession &lt;chr&gt; | gtdb_taxonomy &lt;chr&gt; | Release &lt;chr&gt; |\n",
       "|---|---|---|\n",
       "| GB_GCA_000006155.2 | d__Bacteria;p__Firmicutes;c__Bacilli;o__Bacillales;f__Bacillaceae_G;g__Bacillus_A;s__Bacillus_A anthracis                           | 80.0 |\n",
       "| GB_GCA_000006945.2 | d__Bacteria;p__Proteobacteria;c__Gammaproteobacteria;o__Enterobacterales;f__Enterobacteriaceae;g__Salmonella;s__Salmonella enterica | 80.0 |\n",
       "| ⋮ | ⋮ | ⋮ |\n",
       "| RS_GCF_902384055.1 | d__Archaea;p__Methanobacteriota;c__Methanobacteria;o__Methanobacteriales;f__Methanobacteriaceae;g__Methanobrevibacter_A;s__Methanobrevibacter_A smithii | 202.0 |\n",
       "| RS_GCF_902384065.1 | d__Archaea;p__Methanobacteriota;c__Methanobacteria;o__Methanobacteriales;f__Methanobacteriaceae;g__Methanobrevibacter_A;s__Methanobrevibacter_A oralis  | 202.0 |\n",
       "\n"
      ],
      "text/plain": [
       "       accession         \n",
       "1      GB_GCA_000006155.2\n",
       "2      GB_GCA_000006945.2\n",
       "⋮      ⋮                 \n",
       "930405 RS_GCF_902384055.1\n",
       "930406 RS_GCF_902384065.1\n",
       "       gtdb_taxonomy                                                                                                                                          \n",
       "1      d__Bacteria;p__Firmicutes;c__Bacilli;o__Bacillales;f__Bacillaceae_G;g__Bacillus_A;s__Bacillus_A anthracis                                              \n",
       "2      d__Bacteria;p__Proteobacteria;c__Gammaproteobacteria;o__Enterobacterales;f__Enterobacteriaceae;g__Salmonella;s__Salmonella enterica                    \n",
       "⋮      ⋮                                                                                                                                                      \n",
       "930405 d__Archaea;p__Methanobacteriota;c__Methanobacteria;o__Methanobacteriales;f__Methanobacteriaceae;g__Methanobrevibacter_A;s__Methanobrevibacter_A smithii\n",
       "930406 d__Archaea;p__Methanobacteriota;c__Methanobacteria;o__Methanobacteriales;f__Methanobacteriaceae;g__Methanobrevibacter_A;s__Methanobrevibacter_A oralis \n",
       "       Release\n",
       "1      80.0   \n",
       "2      80.0   \n",
       "⋮      ⋮      \n",
       "930405 202.0  \n",
       "930406 202.0  "
      ]
     },
     "metadata": {},
     "output_type": "display_data"
    }
   ],
   "source": [
    "# merging\n",
    "vAll = list(v80, v83, v86, v89, v95, v202) %>%\n",
    "    rbindlist(use.names=TRUE) \n",
    "v80 = v83 = v86 = v89 = v95 = v202 = NULL\n",
    "vAll"
   ]
  },
  {
   "cell_type": "code",
   "execution_count": 29,
   "metadata": {
    "ExecuteTime": {
     "end_time": "2021-07-07T07:15:33.824425Z",
     "start_time": "2021-07-07T07:15:11.367Z"
    }
   },
   "outputs": [
    {
     "data": {
      "text/html": [
       "<table class=\"dataframe\">\n",
       "<caption>A data.table: 12 × 3</caption>\n",
       "<thead>\n",
       "\t<tr><th scope=col>Release</th><th scope=col>n</th><th scope=col>category</th></tr>\n",
       "\t<tr><th scope=col>&lt;chr&gt;</th><th scope=col>&lt;int&gt;</th><th scope=col>&lt;chr&gt;</th></tr>\n",
       "</thead>\n",
       "<tbody>\n",
       "\t<tr><td>80.0</td><td> 94759</td><td>genomes</td></tr>\n",
       "\t<tr><td>83.0</td><td>109419</td><td>genomes</td></tr>\n",
       "\t<tr><td>⋮</td><td>⋮</td><td>⋮</td></tr>\n",
       "\t<tr><td>95.0 </td><td>31910</td><td>lineages</td></tr>\n",
       "\t<tr><td>202.0</td><td>47894</td><td>lineages</td></tr>\n",
       "</tbody>\n",
       "</table>\n"
      ],
      "text/latex": [
       "A data.table: 12 × 3\n",
       "\\begin{tabular}{lll}\n",
       " Release & n & category\\\\\n",
       " <chr> & <int> & <chr>\\\\\n",
       "\\hline\n",
       "\t 80.0 &  94759 & genomes\\\\\n",
       "\t 83.0 & 109419 & genomes\\\\\n",
       "\t ⋮ & ⋮ & ⋮\\\\\n",
       "\t 95.0  & 31910 & lineages\\\\\n",
       "\t 202.0 & 47894 & lineages\\\\\n",
       "\\end{tabular}\n"
      ],
      "text/markdown": [
       "\n",
       "A data.table: 12 × 3\n",
       "\n",
       "| Release &lt;chr&gt; | n &lt;int&gt; | category &lt;chr&gt; |\n",
       "|---|---|---|\n",
       "| 80.0 |  94759 | genomes |\n",
       "| 83.0 | 109419 | genomes |\n",
       "| ⋮ | ⋮ | ⋮ |\n",
       "| 95.0  | 31910 | lineages |\n",
       "| 202.0 | 47894 | lineages |\n",
       "\n"
      ],
      "text/plain": [
       "   Release n      category\n",
       "1  80.0     94759 genomes \n",
       "2  83.0    109419 genomes \n",
       "⋮  ⋮       ⋮      ⋮       \n",
       "11 95.0    31910  lineages\n",
       "12 202.0   47894  lineages"
      ]
     },
     "metadata": {},
     "output_type": "display_data"
    }
   ],
   "source": [
    "# number of genomes and lineages\n",
    "vAll_s = rbind(vAll %>%\n",
    "        summarize.(n = accession %>% unique %>% length,\n",
    "                   .by=c(Release)) %>%\n",
    "        mutate.(category = 'genomes'),\n",
    "    vAll %>%\n",
    "        summarize.(n = gtdb_taxonomy %>% unique %>% length,\n",
    "               .by=c(Release)) %>%\n",
    "        mutate.(category = 'lineages'))\n",
    "vAll_s"
   ]
  },
  {
   "cell_type": "code",
   "execution_count": 32,
   "metadata": {
    "ExecuteTime": {
     "end_time": "2021-07-07T07:16:01.285882Z",
     "start_time": "2021-07-07T07:16:00.992Z"
    }
   },
   "outputs": [
    {
     "data": {
      "image/png": "[encoded data removed]",
      "text/plain": [
       "plot without title"
      ]
     },
     "metadata": {
      "image/png": {
       "height": 230,
       "width": 480
      }
     },
     "output_type": "display_data"
    }
   ],
   "source": [
    "## plotting\n",
    "p = vAll_s %>%\n",
    "    mutate.(Release = Release %>% reorder(Release %>% as.Num)) %>%\n",
    "    ggplot(aes(Release, n, color=category, group=category)) +\n",
    "    geom_line() +\n",
    "    geom_point() +\n",
    "    labs(x='GTDB release', y='No. of genomes or\\ntaxonomic lineages') +\n",
    "    theme_bw()\n",
    "p.dims(4.8,2.3)\n",
    "plot(p)"
   ]
  },
  {
   "cell_type": "code",
   "execution_count": 14,
   "metadata": {
    "ExecuteTime": {
     "end_time": "2021-07-07T07:11:51.548121Z",
     "start_time": "2021-07-07T07:11:41.756Z"
    }
   },
   "outputs": [
    {
     "data": {
      "text/html": [
       "<table class=\"dataframe\">\n",
       "<caption>A tidytable: 930406 × 9</caption>\n",
       "<thead>\n",
       "\t<tr><th scope=col>accession</th><th scope=col>Release</th><th scope=col>Domain</th><th scope=col>Phylum</th><th scope=col>Class</th><th scope=col>Order</th><th scope=col>Family</th><th scope=col>Genus</th><th scope=col>Species</th></tr>\n",
       "\t<tr><th scope=col>&lt;chr&gt;</th><th scope=col>&lt;chr&gt;</th><th scope=col>&lt;chr&gt;</th><th scope=col>&lt;chr&gt;</th><th scope=col>&lt;chr&gt;</th><th scope=col>&lt;chr&gt;</th><th scope=col>&lt;chr&gt;</th><th scope=col>&lt;chr&gt;</th><th scope=col>&lt;chr&gt;</th></tr>\n",
       "</thead>\n",
       "<tbody>\n",
       "\t<tr><td>GB_GCA_000006155.2</td><td>80.0</td><td>Bacteria</td><td>Firmicutes    </td><td>Bacilli            </td><td>Bacillales      </td><td>Bacillaceae_G     </td><td>Bacillus_A</td><td>Bacillus_A anthracis</td></tr>\n",
       "\t<tr><td>GB_GCA_000006945.2</td><td>80.0</td><td>Bacteria</td><td>Proteobacteria</td><td>Gammaproteobacteria</td><td>Enterobacterales</td><td>Enterobacteriaceae</td><td>Salmonella</td><td>Salmonella enterica </td></tr>\n",
       "\t<tr><td>⋮</td><td>⋮</td><td>⋮</td><td>⋮</td><td>⋮</td><td>⋮</td><td>⋮</td><td>⋮</td><td>⋮</td></tr>\n",
       "\t<tr><td>RS_GCF_902384055.1</td><td>202.0</td><td>Archaea</td><td>Methanobacteriota</td><td>Methanobacteria</td><td>Methanobacteriales</td><td>Methanobacteriaceae</td><td>Methanobrevibacter_A</td><td>Methanobrevibacter_A smithii</td></tr>\n",
       "\t<tr><td>RS_GCF_902384065.1</td><td>202.0</td><td>Archaea</td><td>Methanobacteriota</td><td>Methanobacteria</td><td>Methanobacteriales</td><td>Methanobacteriaceae</td><td>Methanobrevibacter_A</td><td>Methanobrevibacter_A oralis </td></tr>\n",
       "</tbody>\n",
       "</table>\n"
      ],
      "text/latex": [
       "A tidytable: 930406 × 9\n",
       "\\begin{tabular}{lllllllll}\n",
       " accession & Release & Domain & Phylum & Class & Order & Family & Genus & Species\\\\\n",
       " <chr> & <chr> & <chr> & <chr> & <chr> & <chr> & <chr> & <chr> & <chr>\\\\\n",
       "\\hline\n",
       "\t GB\\_GCA\\_000006155.2 & 80.0 & Bacteria & Firmicutes     & Bacilli             & Bacillales       & Bacillaceae\\_G      & Bacillus\\_A & Bacillus\\_A anthracis\\\\\n",
       "\t GB\\_GCA\\_000006945.2 & 80.0 & Bacteria & Proteobacteria & Gammaproteobacteria & Enterobacterales & Enterobacteriaceae & Salmonella & Salmonella enterica \\\\\n",
       "\t ⋮ & ⋮ & ⋮ & ⋮ & ⋮ & ⋮ & ⋮ & ⋮ & ⋮\\\\\n",
       "\t RS\\_GCF\\_902384055.1 & 202.0 & Archaea & Methanobacteriota & Methanobacteria & Methanobacteriales & Methanobacteriaceae & Methanobrevibacter\\_A & Methanobrevibacter\\_A smithii\\\\\n",
       "\t RS\\_GCF\\_902384065.1 & 202.0 & Archaea & Methanobacteriota & Methanobacteria & Methanobacteriales & Methanobacteriaceae & Methanobrevibacter\\_A & Methanobrevibacter\\_A oralis \\\\\n",
       "\\end{tabular}\n"
      ],
      "text/markdown": [
       "\n",
       "A tidytable: 930406 × 9\n",
       "\n",
       "| accession &lt;chr&gt; | Release &lt;chr&gt; | Domain &lt;chr&gt; | Phylum &lt;chr&gt; | Class &lt;chr&gt; | Order &lt;chr&gt; | Family &lt;chr&gt; | Genus &lt;chr&gt; | Species &lt;chr&gt; |\n",
       "|---|---|---|---|---|---|---|---|---|\n",
       "| GB_GCA_000006155.2 | 80.0 | Bacteria | Firmicutes     | Bacilli             | Bacillales       | Bacillaceae_G      | Bacillus_A | Bacillus_A anthracis |\n",
       "| GB_GCA_000006945.2 | 80.0 | Bacteria | Proteobacteria | Gammaproteobacteria | Enterobacterales | Enterobacteriaceae | Salmonella | Salmonella enterica  |\n",
       "| ⋮ | ⋮ | ⋮ | ⋮ | ⋮ | ⋮ | ⋮ | ⋮ | ⋮ |\n",
       "| RS_GCF_902384055.1 | 202.0 | Archaea | Methanobacteriota | Methanobacteria | Methanobacteriales | Methanobacteriaceae | Methanobrevibacter_A | Methanobrevibacter_A smithii |\n",
       "| RS_GCF_902384065.1 | 202.0 | Archaea | Methanobacteriota | Methanobacteria | Methanobacteriales | Methanobacteriaceae | Methanobrevibacter_A | Methanobrevibacter_A oralis  |\n",
       "\n"
      ],
      "text/plain": [
       "       accession          Release Domain   Phylum           \n",
       "1      GB_GCA_000006155.2 80.0    Bacteria Firmicutes       \n",
       "2      GB_GCA_000006945.2 80.0    Bacteria Proteobacteria   \n",
       "⋮      ⋮                  ⋮       ⋮        ⋮                \n",
       "930405 RS_GCF_902384055.1 202.0   Archaea  Methanobacteriota\n",
       "930406 RS_GCF_902384065.1 202.0   Archaea  Methanobacteriota\n",
       "       Class               Order              Family             \n",
       "1      Bacilli             Bacillales         Bacillaceae_G      \n",
       "2      Gammaproteobacteria Enterobacterales   Enterobacteriaceae \n",
       "⋮      ⋮                   ⋮                  ⋮                  \n",
       "930405 Methanobacteria     Methanobacteriales Methanobacteriaceae\n",
       "930406 Methanobacteria     Methanobacteriales Methanobacteriaceae\n",
       "       Genus                Species                     \n",
       "1      Bacillus_A           Bacillus_A anthracis        \n",
       "2      Salmonella           Salmonella enterica         \n",
       "⋮      ⋮                    ⋮                           \n",
       "930405 Methanobrevibacter_A Methanobrevibacter_A smithii\n",
       "930406 Methanobrevibacter_A Methanobrevibacter_A oralis "
      ]
     },
     "metadata": {},
     "output_type": "display_data"
    }
   ],
   "source": [
    "# formatting\n",
    "vAll = vAll %>%\n",
    "    mutate.(gtdb_taxonomy = gsub('[dpcofgs]__', '', gtdb_taxonomy)) %>%\n",
    "    separate.(gtdb_taxonomy, taxonomy_levels(), sep=';')\n",
    "vAll"
   ]
  },
  {
   "cell_type": "code",
   "execution_count": 15,
   "metadata": {
    "ExecuteTime": {
     "end_time": "2021-07-07T07:11:55.497120Z",
     "start_time": "2021-07-07T07:11:48.152Z"
    }
   },
   "outputs": [
    {
     "data": {
      "text/html": [
       "<table class=\"dataframe\">\n",
       "<caption>A data.table: 36 × 3</caption>\n",
       "<thead>\n",
       "\t<tr><th scope=col>Release</th><th scope=col>n</th><th scope=col>category</th></tr>\n",
       "\t<tr><th scope=col>&lt;chr&gt;</th><th scope=col>&lt;int&gt;</th><th scope=col>&lt;chr&gt;</th></tr>\n",
       "</thead>\n",
       "<tbody>\n",
       "\t<tr><td>80.0</td><td> 99</td><td>Phyla</td></tr>\n",
       "\t<tr><td>83.0</td><td>111</td><td>Phyla</td></tr>\n",
       "\t<tr><td>⋮</td><td>⋮</td><td>⋮</td></tr>\n",
       "\t<tr><td>95.0 </td><td>31910</td><td>Species</td></tr>\n",
       "\t<tr><td>202.0</td><td>47894</td><td>Species</td></tr>\n",
       "</tbody>\n",
       "</table>\n"
      ],
      "text/latex": [
       "A data.table: 36 × 3\n",
       "\\begin{tabular}{lll}\n",
       " Release & n & category\\\\\n",
       " <chr> & <int> & <chr>\\\\\n",
       "\\hline\n",
       "\t 80.0 &  99 & Phyla\\\\\n",
       "\t 83.0 & 111 & Phyla\\\\\n",
       "\t ⋮ & ⋮ & ⋮\\\\\n",
       "\t 95.0  & 31910 & Species\\\\\n",
       "\t 202.0 & 47894 & Species\\\\\n",
       "\\end{tabular}\n"
      ],
      "text/markdown": [
       "\n",
       "A data.table: 36 × 3\n",
       "\n",
       "| Release &lt;chr&gt; | n &lt;int&gt; | category &lt;chr&gt; |\n",
       "|---|---|---|\n",
       "| 80.0 |  99 | Phyla |\n",
       "| 83.0 | 111 | Phyla |\n",
       "| ⋮ | ⋮ | ⋮ |\n",
       "| 95.0  | 31910 | Species |\n",
       "| 202.0 | 47894 | Species |\n",
       "\n"
      ],
      "text/plain": [
       "   Release n     category\n",
       "1  80.0     99   Phyla   \n",
       "2  83.0    111   Phyla   \n",
       "⋮  ⋮       ⋮     ⋮       \n",
       "35 95.0    31910 Species \n",
       "36 202.0   47894 Species "
      ]
     },
     "metadata": {},
     "output_type": "display_data"
    }
   ],
   "source": [
    "# number of genomes and species\n",
    "vAll_s = rbind(\n",
    "    vAll %>%\n",
    "        mutate.(taxonomy = paste(Domain, Phylum, sep=';')) %>%\n",
    "        summarize.(n = taxonomy %>% unique %>% length,\n",
    "               .by=c(Release)) %>%\n",
    "        mutate.(category = 'Phyla'),\n",
    "    vAll %>%\n",
    "        mutate.(taxonomy = paste(Domain, Phylum, Class, sep=';')) %>%\n",
    "        summarize.(n = taxonomy %>% unique %>% length,\n",
    "               .by=c(Release)) %>%\n",
    "        mutate.(category = 'Classes'),\n",
    "    vAll %>%\n",
    "        mutate.(taxonomy = paste(Domain, Phylum, Class, Order, sep=';')) %>%\n",
    "        summarize.(n = taxonomy %>% unique %>% length,\n",
    "               .by=c(Release)) %>%\n",
    "        mutate.(category = 'Orders'),\n",
    "    vAll %>%\n",
    "        mutate.(taxonomy = paste(Domain, Phylum, Class, Order, Family, sep=';')) %>%\n",
    "        summarize.(n = taxonomy %>% unique %>% length,\n",
    "               .by=c(Release)) %>%\n",
    "        mutate.(category = 'Families'),\n",
    "    vAll %>%\n",
    "        mutate.(taxonomy = paste(Domain, Phylum, Class, Order, Family, Genus, sep=';')) %>%\n",
    "        summarize.(n = taxonomy %>% unique %>% length,\n",
    "               .by=c(Release)) %>%\n",
    "        mutate.(category = 'Genera'),\n",
    "    vAll %>%\n",
    "        mutate.(taxonomy = paste(Domain, Phylum, Class, Order, Family, Genus, Species, sep=';')) %>%\n",
    "        summarize.(n = taxonomy %>% unique %>% length,\n",
    "               .by=c(Release)) %>%\n",
    "        mutate.(category = 'Species'))\n",
    "vAll_s"
   ]
  },
  {
   "cell_type": "code",
   "execution_count": 19,
   "metadata": {
    "ExecuteTime": {
     "end_time": "2021-07-07T07:13:59.569272Z",
     "start_time": "2021-07-07T07:13:59.003Z"
    }
   },
   "outputs": [
    {
     "data": {
      "image/png": "[encoded data removed]",
      "text/plain": [
       "plot without title"
      ]
     },
     "metadata": {
      "image/png": {
       "height": 240,
       "width": 500
      }
     },
     "output_type": "display_data"
    }
   ],
   "source": [
    "## plotting\n",
    "p = vAll_s %>%\n",
    "    mutate.(Release = Release %>% reorder(Release %>% as.Num)) %>%\n",
    "    ggplot(aes(Release, n, color=category, group=category)) +\n",
    "    geom_line() +\n",
    "    geom_point() +\n",
    "    labs(x='GTDB release', y='No. of taxonomic\\nclassifications') +\n",
    "    theme_bw()\n",
    "p.dims(5,2.4)\n",
    "plot(p)"
   ]
  },
  {
   "cell_type": "markdown",
   "metadata": {},
   "source": [
    "# sessionInfo"
   ]
  },
  {
   "cell_type": "code",
   "execution_count": 66,
   "metadata": {
    "ExecuteTime": {
     "end_time": "2021-03-03T09:48:47.962061Z",
     "start_time": "2021-03-03T09:48:47.856Z"
    }
   },
   "outputs": [
    {
     "data": {
      "text/plain": [
       "R version 4.0.3 (2020-10-10)\n",
       "Platform: x86_64-conda-linux-gnu (64-bit)\n",
       "Running under: Ubuntu 18.04.5 LTS\n",
       "\n",
       "Matrix products: default\n",
       "BLAS/LAPACK: /ebio/abt3_projects/Anxiety_Twins_Metagenomes/envs/tidyverse2/lib/libopenblasp-r0.3.12.so\n",
       "\n",
       "locale:\n",
       " [1] LC_CTYPE=en_US.UTF-8       LC_NUMERIC=C              \n",
       " [3] LC_TIME=en_US.UTF-8        LC_COLLATE=en_US.UTF-8    \n",
       " [5] LC_MONETARY=en_US.UTF-8    LC_MESSAGES=en_US.UTF-8   \n",
       " [7] LC_PAPER=en_US.UTF-8       LC_NAME=C                 \n",
       " [9] LC_ADDRESS=C               LC_TELEPHONE=C            \n",
       "[11] LC_MEASUREMENT=en_US.UTF-8 LC_IDENTIFICATION=C       \n",
       "\n",
       "attached base packages:\n",
       "[1] stats     graphics  grDevices utils     datasets  methods   base     \n",
       "\n",
       "other attached packages:\n",
       "[1] LeyLabRMisc_0.1.8 tidytable_0.5.8   data.table_1.13.6 ggplot2_3.3.3    \n",
       "[5] tidyr_1.1.2       dplyr_1.0.3      \n",
       "\n",
       "loaded via a namespace (and not attached):\n",
       " [1] magrittr_2.0.1    munsell_0.5.0     tidyselect_1.1.0  uuid_0.1-4       \n",
       " [5] colorspace_2.0-0  R6_2.5.0          rlang_0.4.10      tools_4.0.3      \n",
       " [9] grid_4.0.3        gtable_0.3.0      withr_2.4.1       htmltools_0.5.1.1\n",
       "[13] ellipsis_0.3.1    digest_0.6.27     tibble_3.0.6      lifecycle_0.2.0  \n",
       "[17] crayon_1.4.0      IRdisplay_1.0     farver_2.0.3      purrr_0.3.4      \n",
       "[21] repr_1.1.3        base64enc_0.1-3   vctrs_0.3.6       IRkernel_1.1.1   \n",
       "[25] glue_1.4.2        evaluate_0.14     labeling_0.4.2    pbdZMQ_0.3-4     \n",
       "[29] compiler_4.0.3    pillar_1.4.7      scales_1.1.1      generics_0.1.0   \n",
       "[33] jsonlite_1.7.2    pkgconfig_2.0.3  "
      ]
     },
     "metadata": {},
     "output_type": "display_data"
    }
   ],
   "source": [
    "sessionInfo()"
   ]
  },
  {
   "cell_type": "code",
   "execution_count": null,
   "metadata": {},
   "outputs": [],
   "source": []
  }
 ],
 "metadata": {
  "kernelspec": {
   "display_name": "R [conda env:Anxiety_Twins_Metagenomes-tidyverse2]",
   "language": "R",
   "name": "conda-env-Anxiety_Twins_Metagenomes-tidyverse2-r"
  },
  "language_info": {
   "codemirror_mode": "r",
   "file_extension": ".r",
   "mimetype": "text/x-r-source",
   "name": "R",
   "pygments_lexer": "r",
   "version": "4.0.3"
  },
  "notify_time": "30",
  "toc": {
   "base_numbering": 1,
   "nav_menu": {},
   "number_sections": true,
   "sideBar": true,
   "skip_h1_title": false,
   "title_cell": "Table of Contents",
   "title_sidebar": "Contents",
   "toc_cell": true,
   "toc_position": {},
   "toc_section_display": true,
   "toc_window_display": true
  }
 },
 "nbformat": 4,
 "nbformat_minor": 4
}
