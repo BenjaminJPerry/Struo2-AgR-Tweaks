{
 "cells": [
  {
   "cell_type": "markdown",
   "metadata": {
    "toc": true
   },
   "source": [
    "<h1>Table of Contents<span class=\"tocSkip\"></span></h1>\n",
    "<div class=\"toc\"><ul class=\"toc-item\"><li><span><a href=\"#Goal\" data-toc-modified-id=\"Goal-1\"><span class=\"toc-item-num\">1&nbsp;&nbsp;</span>Goal</a></span></li><li><span><a href=\"#Var\" data-toc-modified-id=\"Var-2\"><span class=\"toc-item-num\">2&nbsp;&nbsp;</span>Var</a></span></li><li><span><a href=\"#Init\" data-toc-modified-id=\"Init-3\"><span class=\"toc-item-num\">3&nbsp;&nbsp;</span>Init</a></span></li><li><span><a href=\"#Load\" data-toc-modified-id=\"Load-4\"><span class=\"toc-item-num\">4&nbsp;&nbsp;</span>Load</a></span><ul class=\"toc-item\"><li><span><a href=\"#Checks\" data-toc-modified-id=\"Checks-4.1\"><span class=\"toc-item-num\">4.1&nbsp;&nbsp;</span>Checks</a></span></li></ul></li><li><span><a href=\"#Merging-&amp;-pruning-tree\" data-toc-modified-id=\"Merging-&amp;-pruning-tree-5\"><span class=\"toc-item-num\">5&nbsp;&nbsp;</span>Merging &amp; pruning tree</a></span><ul class=\"toc-item\"><li><span><a href=\"#Checks\" data-toc-modified-id=\"Checks-5.1\"><span class=\"toc-item-num\">5.1&nbsp;&nbsp;</span>Checks</a></span></li></ul></li><li><span><a href=\"#Writing-tree\" data-toc-modified-id=\"Writing-tree-6\"><span class=\"toc-item-num\">6&nbsp;&nbsp;</span>Writing tree</a></span></li><li><span><a href=\"#sessionInfo\" data-toc-modified-id=\"sessionInfo-7\"><span class=\"toc-item-num\">7&nbsp;&nbsp;</span>sessionInfo</a></span></li></ul></div>"
   ]
  },
  {
   "cell_type": "markdown",
   "metadata": {},
   "source": [
    "# Goal\n",
    "\n",
    "* Create phylogeny for all genome reps used for the Struo2 database\n",
    "  * merging & filtering GTDB MLSA phylogenies"
   ]
  },
  {
   "cell_type": "markdown",
   "metadata": {},
   "source": [
    "# Var"
   ]
  },
  {
   "cell_type": "code",
   "execution_count": 1,
   "metadata": {
    "ExecuteTime": {
     "end_time": "2021-05-02T11:00:48.962852Z",
     "start_time": "2021-05-02T11:00:48.818Z"
    }
   },
   "outputs": [],
   "source": [
    "work_dir = '/ebio/abt3_projects2/databases_no-backup/GTDB/release202/Struo2/phylogeny/'\n",
    "\n",
    "# species-rep genomes selected\n",
    "genomes_file = file.path(dirname(work_dir),'metadata_1per-GTDB-Spec_gte50comp-lt5cont_wtaxID_wPath.tsv')\n",
    "\n",
    "# trees from gtdb\n",
    "arc_tree_file = '/ebio/abt3_projects2/databases_no-backup/GTDB/release202/phylogeny/ar122_r202.tree'\n",
    "bac_tree_file = '/ebio/abt3_projects2/databases_no-backup/GTDB/release202/phylogeny/bac120_r202.tree'\n",
    "\n",
    "# full gtdb metadata\n",
    "gtdb_meta_dir = '/ebio/abt3_projects2/databases_no-backup/GTDB/release202/metadata/'\n",
    "gtdb_meta_arc_file = file.path(gtdb_meta_dir, 'ar122_metadata_r202.tsv')\n",
    "gtdb_meta_bac_file = file.path(gtdb_meta_dir, 'bac120_metadata_r202.tsv')"
   ]
  },
  {
   "cell_type": "markdown",
   "metadata": {},
   "source": [
    "# Init"
   ]
  },
  {
   "cell_type": "code",
   "execution_count": 3,
   "metadata": {
    "ExecuteTime": {
     "end_time": "2021-05-02T11:01:04.119942Z",
     "start_time": "2021-05-02T11:01:04.046Z"
    }
   },
   "outputs": [],
   "source": [
    "library(dplyr)\n",
    "library(tidyr)\n",
    "library(ggplot2)\n",
    "library(data.table)\n",
    "library(tidytable)\n",
    "library(ape)\n",
    "library(LeyLabRMisc)"
   ]
  },
  {
   "cell_type": "code",
   "execution_count": 4,
   "metadata": {
    "ExecuteTime": {
     "end_time": "2021-05-02T11:01:05.674186Z",
     "start_time": "2021-05-02T11:01:05.626Z"
    }
   },
   "outputs": [],
   "source": [
    "df.dims()"
   ]
  },
  {
   "cell_type": "markdown",
   "metadata": {},
   "source": [
    "# Load"
   ]
  },
  {
   "cell_type": "code",
   "execution_count": 5,
   "metadata": {
    "ExecuteTime": {
     "end_time": "2021-05-02T11:01:17.145853Z",
     "start_time": "2021-05-02T11:01:17.065Z"
    }
   },
   "outputs": [],
   "source": [
    "tax_levs = c('Domain', 'Phylum', 'Class', 'Order', 'Family', 'Genus', 'Species')"
   ]
  },
  {
   "cell_type": "code",
   "execution_count": 6,
   "metadata": {
    "ExecuteTime": {
     "end_time": "2021-05-02T11:01:23.229409Z",
     "start_time": "2021-05-02T11:01:20.146Z"
    }
   },
   "outputs": [
    {
     "name": "stdout",
     "output_type": "stream",
     "text": [
      "No. of unique genomes: 46434 \n"
     ]
    },
    {
     "data": {
      "text/html": [
       "<table class=\"dataframe\">\n",
       "<caption>A tidytable: 46434 × 9</caption>\n",
       "<thead>\n",
       "\t<tr><th scope=col>ncbi_organism_name</th><th scope=col>accession</th><th scope=col>Domain</th><th scope=col>Phylum</th><th scope=col>Class</th><th scope=col>Order</th><th scope=col>Family</th><th scope=col>Genus</th><th scope=col>Species</th></tr>\n",
       "\t<tr><th scope=col>&lt;chr&gt;</th><th scope=col>&lt;chr&gt;</th><th scope=col>&lt;chr&gt;</th><th scope=col>&lt;chr&gt;</th><th scope=col>&lt;chr&gt;</th><th scope=col>&lt;chr&gt;</th><th scope=col>&lt;chr&gt;</th><th scope=col>&lt;chr&gt;</th><th scope=col>&lt;chr&gt;</th></tr>\n",
       "</thead>\n",
       "<tbody>\n",
       "\t<tr><td>RS_GCF_000970205.1_Methanosarcina mazei S-6 </td><td>RS_GCF_000970205.1</td><td>d__Archaea</td><td>p__Halobacteriota</td><td>c__Methanosarcinia</td><td>o__Methanosarcinales</td><td>f__Methanosarcinaceae</td><td>g__Methanosarcina</td><td>s__Methanosarcina_mazei      </td></tr>\n",
       "\t<tr><td>GB_GCA_002499445.1_Methanosarcina sp. UBA293</td><td>GB_GCA_002499445.1</td><td>d__Archaea</td><td>p__Halobacteriota</td><td>c__Methanosarcinia</td><td>o__Methanosarcinales</td><td>f__Methanosarcinaceae</td><td>g__Methanosarcina</td><td>s__Methanosarcina_sp002499445</td></tr>\n",
       "\t<tr><td>⋮</td><td>⋮</td><td>⋮</td><td>⋮</td><td>⋮</td><td>⋮</td><td>⋮</td><td>⋮</td><td>⋮</td></tr>\n",
       "\t<tr><td>RS_GCF_013359645.1_Pseudomonas brassicacearum</td><td>RS_GCF_013359645.1</td><td>d__Bacteria</td><td>p__Proteobacteria   </td><td>c__Gammaproteobacteria</td><td>o__Pseudomonadales    </td><td>f__Pseudomonadaceae    </td><td>g__Pseudomonas_E</td><td>s__Pseudomonas_E_kilonensis_B</td></tr>\n",
       "\t<tr><td>RS_GCF_902810635.1_Chloroflexi bacterium     </td><td>RS_GCF_902810635.1</td><td>d__Bacteria</td><td>p__Verrucomicrobiota</td><td>c__Verrucomicrobiae   </td><td>o__Methylacidiphilales</td><td>f__Methylacidiphilaceae</td><td>g__CADDYQ01     </td><td>s__CADDYQ01_sp902810725      </td></tr>\n",
       "</tbody>\n",
       "</table>\n"
      ],
      "text/latex": [
       "A tidytable: 46434 × 9\n",
       "\\begin{tabular}{lllllllll}\n",
       " ncbi\\_organism\\_name & accession & Domain & Phylum & Class & Order & Family & Genus & Species\\\\\n",
       " <chr> & <chr> & <chr> & <chr> & <chr> & <chr> & <chr> & <chr> & <chr>\\\\\n",
       "\\hline\n",
       "\t RS\\_GCF\\_000970205.1\\_Methanosarcina mazei S-6  & RS\\_GCF\\_000970205.1 & d\\_\\_Archaea & p\\_\\_Halobacteriota & c\\_\\_Methanosarcinia & o\\_\\_Methanosarcinales & f\\_\\_Methanosarcinaceae & g\\_\\_Methanosarcina & s\\_\\_Methanosarcina\\_mazei      \\\\\n",
       "\t GB\\_GCA\\_002499445.1\\_Methanosarcina sp. UBA293 & GB\\_GCA\\_002499445.1 & d\\_\\_Archaea & p\\_\\_Halobacteriota & c\\_\\_Methanosarcinia & o\\_\\_Methanosarcinales & f\\_\\_Methanosarcinaceae & g\\_\\_Methanosarcina & s\\_\\_Methanosarcina\\_sp002499445\\\\\n",
       "\t ⋮ & ⋮ & ⋮ & ⋮ & ⋮ & ⋮ & ⋮ & ⋮ & ⋮\\\\\n",
       "\t RS\\_GCF\\_013359645.1\\_Pseudomonas brassicacearum & RS\\_GCF\\_013359645.1 & d\\_\\_Bacteria & p\\_\\_Proteobacteria    & c\\_\\_Gammaproteobacteria & o\\_\\_Pseudomonadales     & f\\_\\_Pseudomonadaceae     & g\\_\\_Pseudomonas\\_E & s\\_\\_Pseudomonas\\_E\\_kilonensis\\_B\\\\\n",
       "\t RS\\_GCF\\_902810635.1\\_Chloroflexi bacterium      & RS\\_GCF\\_902810635.1 & d\\_\\_Bacteria & p\\_\\_Verrucomicrobiota & c\\_\\_Verrucomicrobiae    & o\\_\\_Methylacidiphilales & f\\_\\_Methylacidiphilaceae & g\\_\\_CADDYQ01      & s\\_\\_CADDYQ01\\_sp902810725      \\\\\n",
       "\\end{tabular}\n"
      ],
      "text/markdown": [
       "\n",
       "A tidytable: 46434 × 9\n",
       "\n",
       "| ncbi_organism_name &lt;chr&gt; | accession &lt;chr&gt; | Domain &lt;chr&gt; | Phylum &lt;chr&gt; | Class &lt;chr&gt; | Order &lt;chr&gt; | Family &lt;chr&gt; | Genus &lt;chr&gt; | Species &lt;chr&gt; |\n",
       "|---|---|---|---|---|---|---|---|---|\n",
       "| RS_GCF_000970205.1_Methanosarcina mazei S-6  | RS_GCF_000970205.1 | d__Archaea | p__Halobacteriota | c__Methanosarcinia | o__Methanosarcinales | f__Methanosarcinaceae | g__Methanosarcina | s__Methanosarcina_mazei       |\n",
       "| GB_GCA_002499445.1_Methanosarcina sp. UBA293 | GB_GCA_002499445.1 | d__Archaea | p__Halobacteriota | c__Methanosarcinia | o__Methanosarcinales | f__Methanosarcinaceae | g__Methanosarcina | s__Methanosarcina_sp002499445 |\n",
       "| ⋮ | ⋮ | ⋮ | ⋮ | ⋮ | ⋮ | ⋮ | ⋮ | ⋮ |\n",
       "| RS_GCF_013359645.1_Pseudomonas brassicacearum | RS_GCF_013359645.1 | d__Bacteria | p__Proteobacteria    | c__Gammaproteobacteria | o__Pseudomonadales     | f__Pseudomonadaceae     | g__Pseudomonas_E | s__Pseudomonas_E_kilonensis_B |\n",
       "| RS_GCF_902810635.1_Chloroflexi bacterium      | RS_GCF_902810635.1 | d__Bacteria | p__Verrucomicrobiota | c__Verrucomicrobiae    | o__Methylacidiphilales | f__Methylacidiphilaceae | g__CADDYQ01      | s__CADDYQ01_sp902810725       |\n",
       "\n"
      ],
      "text/plain": [
       "      ncbi_organism_name                            accession         \n",
       "1     RS_GCF_000970205.1_Methanosarcina mazei S-6   RS_GCF_000970205.1\n",
       "2     GB_GCA_002499445.1_Methanosarcina sp. UBA293  GB_GCA_002499445.1\n",
       "⋮     ⋮                                             ⋮                 \n",
       "46433 RS_GCF_013359645.1_Pseudomonas brassicacearum RS_GCF_013359645.1\n",
       "46434 RS_GCF_902810635.1_Chloroflexi bacterium      RS_GCF_902810635.1\n",
       "      Domain      Phylum               Class                 \n",
       "1     d__Archaea  p__Halobacteriota    c__Methanosarcinia    \n",
       "2     d__Archaea  p__Halobacteriota    c__Methanosarcinia    \n",
       "⋮     ⋮           ⋮                    ⋮                     \n",
       "46433 d__Bacteria p__Proteobacteria    c__Gammaproteobacteria\n",
       "46434 d__Bacteria p__Verrucomicrobiota c__Verrucomicrobiae   \n",
       "      Order                  Family                  Genus            \n",
       "1     o__Methanosarcinales   f__Methanosarcinaceae   g__Methanosarcina\n",
       "2     o__Methanosarcinales   f__Methanosarcinaceae   g__Methanosarcina\n",
       "⋮     ⋮                      ⋮                       ⋮                \n",
       "46433 o__Pseudomonadales     f__Pseudomonadaceae     g__Pseudomonas_E \n",
       "46434 o__Methylacidiphilales f__Methylacidiphilaceae g__CADDYQ01      \n",
       "      Species                      \n",
       "1     s__Methanosarcina_mazei      \n",
       "2     s__Methanosarcina_sp002499445\n",
       "⋮     ⋮                            \n",
       "46433 s__Pseudomonas_E_kilonensis_B\n",
       "46434 s__CADDYQ01_sp902810725      "
      ]
     },
     "metadata": {},
     "output_type": "display_data"
    }
   ],
   "source": [
    "# genomes used for struo\n",
    "genomes = Fread(genomes_file) %>%\n",
    "    select.(ncbi_organism_name, accession, gtdb_taxonomy) %>%\n",
    "    separate.(gtdb_taxonomy, tax_levs, sep = ';') %>%\n",
    "    mutate.(Species = gsub(' ', '_', Species))\n",
    "genomes %>% unique_n('genomes', ncbi_organism_name)\n",
    "genomes"
   ]
  },
  {
   "cell_type": "code",
   "execution_count": 7,
   "metadata": {
    "ExecuteTime": {
     "end_time": "2021-05-02T11:01:25.397383Z",
     "start_time": "2021-05-02T11:01:25.283Z"
    }
   },
   "outputs": [
    {
     "data": {
      "text/plain": [
       "\n",
       "Phylogenetic tree with 2339 tips and 2338 internal nodes.\n",
       "\n",
       "Tip labels:\n",
       "  RS_GCF_002286985.1, RS_GCF_004114995.1, RS_GCF_000337915.1, RS_GCF_007671685.1, RS_GCF_002727125.1, RS_GCF_000739595.1, ...\n",
       "Node labels:\n",
       "  d__Archaea, 100.0, 71.0, 50.0, 50.0, 79.0, ...\n",
       "\n",
       "Rooted; includes branch lengths."
      ]
     },
     "metadata": {},
     "output_type": "display_data"
    }
   ],
   "source": [
    "# arc tree\n",
    "arc_tree = read.tree(arc_tree_file)\n",
    "arc_tree"
   ]
  },
  {
   "cell_type": "code",
   "execution_count": 8,
   "metadata": {
    "ExecuteTime": {
     "end_time": "2021-05-02T11:01:31.036542Z",
     "start_time": "2021-05-02T11:01:29.578Z"
    }
   },
   "outputs": [
    {
     "data": {
      "text/plain": [
       "\n",
       "Phylogenetic tree with 45555 tips and 45554 internal nodes.\n",
       "\n",
       "Tip labels:\n",
       "  RS_GCF_001020875.1, RS_GCF_902498005.1, RS_GCF_014472415.1, RS_GCF_002813455.1, RS_GCF_009764645.1, RS_GCF_000282515.1, ...\n",
       "Node labels:\n",
       "  d__Bacteria, 65.0, 100.0, 10.0, 10.0, 1.0, ...\n",
       "\n",
       "Rooted; includes branch lengths."
      ]
     },
     "metadata": {},
     "output_type": "display_data"
    }
   ],
   "source": [
    "# bac tree\n",
    "bac_tree = read.tree(bac_tree_file)\n",
    "bac_tree"
   ]
  },
  {
   "cell_type": "code",
   "execution_count": 9,
   "metadata": {
    "ExecuteTime": {
     "end_time": "2021-05-02T11:01:33.812766Z",
     "start_time": "2021-05-02T11:01:33.658Z"
    }
   },
   "outputs": [
    {
     "data": {
      "text/html": [
       "<table class=\"dataframe\">\n",
       "<caption>A tidytable: 2339 × 8</caption>\n",
       "<thead>\n",
       "\t<tr><th scope=col>accession</th><th scope=col>Domain</th><th scope=col>Phylum</th><th scope=col>Class</th><th scope=col>Order</th><th scope=col>Family</th><th scope=col>Genus</th><th scope=col>Species</th></tr>\n",
       "\t<tr><th scope=col>&lt;chr&gt;</th><th scope=col>&lt;chr&gt;</th><th scope=col>&lt;chr&gt;</th><th scope=col>&lt;chr&gt;</th><th scope=col>&lt;chr&gt;</th><th scope=col>&lt;chr&gt;</th><th scope=col>&lt;chr&gt;</th><th scope=col>&lt;chr&gt;</th></tr>\n",
       "</thead>\n",
       "<tbody>\n",
       "\t<tr><td>GB_GCA_000200715.1</td><td>d__Archaea</td><td>p__Thermoproteota</td><td>c__Nitrososphaeria</td><td>o__Nitrososphaerales</td><td>f__Nitrosopumilaceae</td><td>g__Cenarchaeum</td><td>s__Cenarchaeum symbiosum</td></tr>\n",
       "\t<tr><td>GB_GCA_000247545.1</td><td>d__Archaea</td><td>p__Thermoproteota</td><td>c__Thermoproteia  </td><td>o__Thermoproteales  </td><td>f__Thermoproteaceae </td><td>g__Pyrobaculum</td><td>s__Pyrobaculum oguniense</td></tr>\n",
       "\t<tr><td>⋮</td><td>⋮</td><td>⋮</td><td>⋮</td><td>⋮</td><td>⋮</td><td>⋮</td><td>⋮</td></tr>\n",
       "\t<tr><td>RS_GCF_900109065.1</td><td>d__Archaea</td><td>p__Halobacteriota   </td><td>c__Halobacteria   </td><td>o__Halobacteriales   </td><td>f__Haloferacaceae     </td><td>g__Halohasta         </td><td>s__Halohasta litchfieldiae   </td></tr>\n",
       "\t<tr><td>RS_GCF_900114585.1</td><td>d__Archaea</td><td>p__Methanobacteriota</td><td>c__Methanobacteria</td><td>o__Methanobacteriales</td><td>f__Methanobacteriaceae</td><td>g__Methanobrevibacter</td><td>s__Methanobrevibacter olleyae</td></tr>\n",
       "</tbody>\n",
       "</table>\n"
      ],
      "text/latex": [
       "A tidytable: 2339 × 8\n",
       "\\begin{tabular}{llllllll}\n",
       " accession & Domain & Phylum & Class & Order & Family & Genus & Species\\\\\n",
       " <chr> & <chr> & <chr> & <chr> & <chr> & <chr> & <chr> & <chr>\\\\\n",
       "\\hline\n",
       "\t GB\\_GCA\\_000200715.1 & d\\_\\_Archaea & p\\_\\_Thermoproteota & c\\_\\_Nitrososphaeria & o\\_\\_Nitrososphaerales & f\\_\\_Nitrosopumilaceae & g\\_\\_Cenarchaeum & s\\_\\_Cenarchaeum symbiosum\\\\\n",
       "\t GB\\_GCA\\_000247545.1 & d\\_\\_Archaea & p\\_\\_Thermoproteota & c\\_\\_Thermoproteia   & o\\_\\_Thermoproteales   & f\\_\\_Thermoproteaceae  & g\\_\\_Pyrobaculum & s\\_\\_Pyrobaculum oguniense\\\\\n",
       "\t ⋮ & ⋮ & ⋮ & ⋮ & ⋮ & ⋮ & ⋮ & ⋮\\\\\n",
       "\t RS\\_GCF\\_900109065.1 & d\\_\\_Archaea & p\\_\\_Halobacteriota    & c\\_\\_Halobacteria    & o\\_\\_Halobacteriales    & f\\_\\_Haloferacaceae      & g\\_\\_Halohasta          & s\\_\\_Halohasta litchfieldiae   \\\\\n",
       "\t RS\\_GCF\\_900114585.1 & d\\_\\_Archaea & p\\_\\_Methanobacteriota & c\\_\\_Methanobacteria & o\\_\\_Methanobacteriales & f\\_\\_Methanobacteriaceae & g\\_\\_Methanobrevibacter & s\\_\\_Methanobrevibacter olleyae\\\\\n",
       "\\end{tabular}\n"
      ],
      "text/markdown": [
       "\n",
       "A tidytable: 2339 × 8\n",
       "\n",
       "| accession &lt;chr&gt; | Domain &lt;chr&gt; | Phylum &lt;chr&gt; | Class &lt;chr&gt; | Order &lt;chr&gt; | Family &lt;chr&gt; | Genus &lt;chr&gt; | Species &lt;chr&gt; |\n",
       "|---|---|---|---|---|---|---|---|\n",
       "| GB_GCA_000200715.1 | d__Archaea | p__Thermoproteota | c__Nitrososphaeria | o__Nitrososphaerales | f__Nitrosopumilaceae | g__Cenarchaeum | s__Cenarchaeum symbiosum |\n",
       "| GB_GCA_000247545.1 | d__Archaea | p__Thermoproteota | c__Thermoproteia   | o__Thermoproteales   | f__Thermoproteaceae  | g__Pyrobaculum | s__Pyrobaculum oguniense |\n",
       "| ⋮ | ⋮ | ⋮ | ⋮ | ⋮ | ⋮ | ⋮ | ⋮ |\n",
       "| RS_GCF_900109065.1 | d__Archaea | p__Halobacteriota    | c__Halobacteria    | o__Halobacteriales    | f__Haloferacaceae      | g__Halohasta          | s__Halohasta litchfieldiae    |\n",
       "| RS_GCF_900114585.1 | d__Archaea | p__Methanobacteriota | c__Methanobacteria | o__Methanobacteriales | f__Methanobacteriaceae | g__Methanobrevibacter | s__Methanobrevibacter olleyae |\n",
       "\n"
      ],
      "text/plain": [
       "     accession          Domain     Phylum               Class             \n",
       "1    GB_GCA_000200715.1 d__Archaea p__Thermoproteota    c__Nitrososphaeria\n",
       "2    GB_GCA_000247545.1 d__Archaea p__Thermoproteota    c__Thermoproteia  \n",
       "⋮    ⋮                  ⋮          ⋮                    ⋮                 \n",
       "2338 RS_GCF_900109065.1 d__Archaea p__Halobacteriota    c__Halobacteria   \n",
       "2339 RS_GCF_900114585.1 d__Archaea p__Methanobacteriota c__Methanobacteria\n",
       "     Order                 Family                 Genus                \n",
       "1    o__Nitrososphaerales  f__Nitrosopumilaceae   g__Cenarchaeum       \n",
       "2    o__Thermoproteales    f__Thermoproteaceae    g__Pyrobaculum       \n",
       "⋮    ⋮                     ⋮                      ⋮                    \n",
       "2338 o__Halobacteriales    f__Haloferacaceae      g__Halohasta         \n",
       "2339 o__Methanobacteriales f__Methanobacteriaceae g__Methanobrevibacter\n",
       "     Species                      \n",
       "1    s__Cenarchaeum symbiosum     \n",
       "2    s__Pyrobaculum oguniense     \n",
       "⋮    ⋮                            \n",
       "2338 s__Halohasta litchfieldiae   \n",
       "2339 s__Methanobrevibacter olleyae"
      ]
     },
     "metadata": {},
     "output_type": "display_data"
    }
   ],
   "source": [
    "# metadata: archaea\n",
    "gtdb_meta_arc = Fread(gtdb_meta_arc_file) %>%\n",
    "    select.(accession, gtdb_taxonomy) %>%\n",
    "    filter.(accession %in% arc_tree$tip.label) %>%\n",
    "    separate.(gtdb_taxonomy, tax_levs, sep = ';')\n",
    "gtdb_meta_arc"
   ]
  },
  {
   "cell_type": "code",
   "execution_count": 10,
   "metadata": {
    "ExecuteTime": {
     "end_time": "2021-05-02T11:01:50.135349Z",
     "start_time": "2021-05-02T11:01:38.754Z"
    }
   },
   "outputs": [
    {
     "data": {
      "text/html": [
       "<table class=\"dataframe\">\n",
       "<caption>A tidytable: 45555 × 8</caption>\n",
       "<thead>\n",
       "\t<tr><th scope=col>accession</th><th scope=col>Domain</th><th scope=col>Phylum</th><th scope=col>Class</th><th scope=col>Order</th><th scope=col>Family</th><th scope=col>Genus</th><th scope=col>Species</th></tr>\n",
       "\t<tr><th scope=col>&lt;chr&gt;</th><th scope=col>&lt;chr&gt;</th><th scope=col>&lt;chr&gt;</th><th scope=col>&lt;chr&gt;</th><th scope=col>&lt;chr&gt;</th><th scope=col>&lt;chr&gt;</th><th scope=col>&lt;chr&gt;</th><th scope=col>&lt;chr&gt;</th></tr>\n",
       "</thead>\n",
       "<tbody>\n",
       "\t<tr><td>GB_GCA_000024525.1</td><td>d__Bacteria</td><td>p__Bacteroidota</td><td>c__Bacteroidia</td><td>o__Cytophagales  </td><td>f__Spirosomaceae  </td><td>g__Spirosoma</td><td>s__Spirosoma linguale   </td></tr>\n",
       "\t<tr><td>GB_GCA_000285855.2</td><td>d__Bacteria</td><td>p__Firmicutes_A</td><td>c__Clostridia </td><td>o__Lachnospirales</td><td>f__Lachnospiraceae</td><td>g__Blautia_A</td><td>s__Blautia_A sp000285855</td></tr>\n",
       "\t<tr><td>⋮</td><td>⋮</td><td>⋮</td><td>⋮</td><td>⋮</td><td>⋮</td><td>⋮</td><td>⋮</td></tr>\n",
       "\t<tr><td>RS_GCF_903643055.1</td><td>d__Bacteria</td><td>p__Proteobacteria  </td><td>c__Gammaproteobacteria</td><td>o__Burkholderiales</td><td>f__Burkholderiaceae</td><td>g__Rhizobacter </td><td>s__Rhizobacter sp903643055 </td></tr>\n",
       "\t<tr><td>RS_GCF_903645355.1</td><td>d__Bacteria</td><td>p__Actinobacteriota</td><td>c__Actinomycetia      </td><td>o__Actinomycetales</td><td>f__Actinomycetaceae</td><td>g__Pauljensenia</td><td>s__Pauljensenia sp903645355</td></tr>\n",
       "</tbody>\n",
       "</table>\n"
      ],
      "text/latex": [
       "A tidytable: 45555 × 8\n",
       "\\begin{tabular}{llllllll}\n",
       " accession & Domain & Phylum & Class & Order & Family & Genus & Species\\\\\n",
       " <chr> & <chr> & <chr> & <chr> & <chr> & <chr> & <chr> & <chr>\\\\\n",
       "\\hline\n",
       "\t GB\\_GCA\\_000024525.1 & d\\_\\_Bacteria & p\\_\\_Bacteroidota & c\\_\\_Bacteroidia & o\\_\\_Cytophagales   & f\\_\\_Spirosomaceae   & g\\_\\_Spirosoma & s\\_\\_Spirosoma linguale   \\\\\n",
       "\t GB\\_GCA\\_000285855.2 & d\\_\\_Bacteria & p\\_\\_Firmicutes\\_A & c\\_\\_Clostridia  & o\\_\\_Lachnospirales & f\\_\\_Lachnospiraceae & g\\_\\_Blautia\\_A & s\\_\\_Blautia\\_A sp000285855\\\\\n",
       "\t ⋮ & ⋮ & ⋮ & ⋮ & ⋮ & ⋮ & ⋮ & ⋮\\\\\n",
       "\t RS\\_GCF\\_903643055.1 & d\\_\\_Bacteria & p\\_\\_Proteobacteria   & c\\_\\_Gammaproteobacteria & o\\_\\_Burkholderiales & f\\_\\_Burkholderiaceae & g\\_\\_Rhizobacter  & s\\_\\_Rhizobacter sp903643055 \\\\\n",
       "\t RS\\_GCF\\_903645355.1 & d\\_\\_Bacteria & p\\_\\_Actinobacteriota & c\\_\\_Actinomycetia       & o\\_\\_Actinomycetales & f\\_\\_Actinomycetaceae & g\\_\\_Pauljensenia & s\\_\\_Pauljensenia sp903645355\\\\\n",
       "\\end{tabular}\n"
      ],
      "text/markdown": [
       "\n",
       "A tidytable: 45555 × 8\n",
       "\n",
       "| accession &lt;chr&gt; | Domain &lt;chr&gt; | Phylum &lt;chr&gt; | Class &lt;chr&gt; | Order &lt;chr&gt; | Family &lt;chr&gt; | Genus &lt;chr&gt; | Species &lt;chr&gt; |\n",
       "|---|---|---|---|---|---|---|---|\n",
       "| GB_GCA_000024525.1 | d__Bacteria | p__Bacteroidota | c__Bacteroidia | o__Cytophagales   | f__Spirosomaceae   | g__Spirosoma | s__Spirosoma linguale    |\n",
       "| GB_GCA_000285855.2 | d__Bacteria | p__Firmicutes_A | c__Clostridia  | o__Lachnospirales | f__Lachnospiraceae | g__Blautia_A | s__Blautia_A sp000285855 |\n",
       "| ⋮ | ⋮ | ⋮ | ⋮ | ⋮ | ⋮ | ⋮ | ⋮ |\n",
       "| RS_GCF_903643055.1 | d__Bacteria | p__Proteobacteria   | c__Gammaproteobacteria | o__Burkholderiales | f__Burkholderiaceae | g__Rhizobacter  | s__Rhizobacter sp903643055  |\n",
       "| RS_GCF_903645355.1 | d__Bacteria | p__Actinobacteriota | c__Actinomycetia       | o__Actinomycetales | f__Actinomycetaceae | g__Pauljensenia | s__Pauljensenia sp903645355 |\n",
       "\n"
      ],
      "text/plain": [
       "      accession          Domain      Phylum              Class                 \n",
       "1     GB_GCA_000024525.1 d__Bacteria p__Bacteroidota     c__Bacteroidia        \n",
       "2     GB_GCA_000285855.2 d__Bacteria p__Firmicutes_A     c__Clostridia         \n",
       "⋮     ⋮                  ⋮           ⋮                   ⋮                     \n",
       "45554 RS_GCF_903643055.1 d__Bacteria p__Proteobacteria   c__Gammaproteobacteria\n",
       "45555 RS_GCF_903645355.1 d__Bacteria p__Actinobacteriota c__Actinomycetia      \n",
       "      Order              Family              Genus          \n",
       "1     o__Cytophagales    f__Spirosomaceae    g__Spirosoma   \n",
       "2     o__Lachnospirales  f__Lachnospiraceae  g__Blautia_A   \n",
       "⋮     ⋮                  ⋮                   ⋮              \n",
       "45554 o__Burkholderiales f__Burkholderiaceae g__Rhizobacter \n",
       "45555 o__Actinomycetales f__Actinomycetaceae g__Pauljensenia\n",
       "      Species                    \n",
       "1     s__Spirosoma linguale      \n",
       "2     s__Blautia_A sp000285855   \n",
       "⋮     ⋮                          \n",
       "45554 s__Rhizobacter sp903643055 \n",
       "45555 s__Pauljensenia sp903645355"
      ]
     },
     "metadata": {},
     "output_type": "display_data"
    }
   ],
   "source": [
    "# metadata: bacteria\n",
    "gtdb_meta_bac = Fread(gtdb_meta_bac_file) %>%\n",
    "    select.(accession, gtdb_taxonomy) %>%\n",
    "    filter.(accession %in% bac_tree$tip.label) %>%\n",
    "    separate.(gtdb_taxonomy, tax_levs, sep = ';')\n",
    "gtdb_meta_bac"
   ]
  },
  {
   "cell_type": "code",
   "execution_count": 11,
   "metadata": {
    "ExecuteTime": {
     "end_time": "2021-05-02T11:01:50.325744Z",
     "start_time": "2021-05-02T11:01:50.259Z"
    }
   },
   "outputs": [
    {
     "data": {
      "text/html": [
       "<table class=\"dataframe\">\n",
       "<caption>A data.table: 47894 × 8</caption>\n",
       "<thead>\n",
       "\t<tr><th scope=col>accession</th><th scope=col>Domain</th><th scope=col>Phylum</th><th scope=col>Class</th><th scope=col>Order</th><th scope=col>Family</th><th scope=col>Genus</th><th scope=col>Species</th></tr>\n",
       "\t<tr><th scope=col>&lt;chr&gt;</th><th scope=col>&lt;chr&gt;</th><th scope=col>&lt;chr&gt;</th><th scope=col>&lt;chr&gt;</th><th scope=col>&lt;chr&gt;</th><th scope=col>&lt;chr&gt;</th><th scope=col>&lt;chr&gt;</th><th scope=col>&lt;chr&gt;</th></tr>\n",
       "</thead>\n",
       "<tbody>\n",
       "\t<tr><td>GB_GCA_000200715.1</td><td>d__Archaea</td><td>p__Thermoproteota</td><td>c__Nitrososphaeria</td><td>o__Nitrososphaerales</td><td>f__Nitrosopumilaceae</td><td>g__Cenarchaeum</td><td>s__Cenarchaeum symbiosum</td></tr>\n",
       "\t<tr><td>GB_GCA_000247545.1</td><td>d__Archaea</td><td>p__Thermoproteota</td><td>c__Thermoproteia  </td><td>o__Thermoproteales  </td><td>f__Thermoproteaceae </td><td>g__Pyrobaculum</td><td>s__Pyrobaculum oguniense</td></tr>\n",
       "\t<tr><td>⋮</td><td>⋮</td><td>⋮</td><td>⋮</td><td>⋮</td><td>⋮</td><td>⋮</td><td>⋮</td></tr>\n",
       "\t<tr><td>RS_GCF_903643055.1</td><td>d__Bacteria</td><td>p__Proteobacteria  </td><td>c__Gammaproteobacteria</td><td>o__Burkholderiales</td><td>f__Burkholderiaceae</td><td>g__Rhizobacter </td><td>s__Rhizobacter sp903643055 </td></tr>\n",
       "\t<tr><td>RS_GCF_903645355.1</td><td>d__Bacteria</td><td>p__Actinobacteriota</td><td>c__Actinomycetia      </td><td>o__Actinomycetales</td><td>f__Actinomycetaceae</td><td>g__Pauljensenia</td><td>s__Pauljensenia sp903645355</td></tr>\n",
       "</tbody>\n",
       "</table>\n"
      ],
      "text/latex": [
       "A data.table: 47894 × 8\n",
       "\\begin{tabular}{llllllll}\n",
       " accession & Domain & Phylum & Class & Order & Family & Genus & Species\\\\\n",
       " <chr> & <chr> & <chr> & <chr> & <chr> & <chr> & <chr> & <chr>\\\\\n",
       "\\hline\n",
       "\t GB\\_GCA\\_000200715.1 & d\\_\\_Archaea & p\\_\\_Thermoproteota & c\\_\\_Nitrososphaeria & o\\_\\_Nitrososphaerales & f\\_\\_Nitrosopumilaceae & g\\_\\_Cenarchaeum & s\\_\\_Cenarchaeum symbiosum\\\\\n",
       "\t GB\\_GCA\\_000247545.1 & d\\_\\_Archaea & p\\_\\_Thermoproteota & c\\_\\_Thermoproteia   & o\\_\\_Thermoproteales   & f\\_\\_Thermoproteaceae  & g\\_\\_Pyrobaculum & s\\_\\_Pyrobaculum oguniense\\\\\n",
       "\t ⋮ & ⋮ & ⋮ & ⋮ & ⋮ & ⋮ & ⋮ & ⋮\\\\\n",
       "\t RS\\_GCF\\_903643055.1 & d\\_\\_Bacteria & p\\_\\_Proteobacteria   & c\\_\\_Gammaproteobacteria & o\\_\\_Burkholderiales & f\\_\\_Burkholderiaceae & g\\_\\_Rhizobacter  & s\\_\\_Rhizobacter sp903643055 \\\\\n",
       "\t RS\\_GCF\\_903645355.1 & d\\_\\_Bacteria & p\\_\\_Actinobacteriota & c\\_\\_Actinomycetia       & o\\_\\_Actinomycetales & f\\_\\_Actinomycetaceae & g\\_\\_Pauljensenia & s\\_\\_Pauljensenia sp903645355\\\\\n",
       "\\end{tabular}\n"
      ],
      "text/markdown": [
       "\n",
       "A data.table: 47894 × 8\n",
       "\n",
       "| accession &lt;chr&gt; | Domain &lt;chr&gt; | Phylum &lt;chr&gt; | Class &lt;chr&gt; | Order &lt;chr&gt; | Family &lt;chr&gt; | Genus &lt;chr&gt; | Species &lt;chr&gt; |\n",
       "|---|---|---|---|---|---|---|---|\n",
       "| GB_GCA_000200715.1 | d__Archaea | p__Thermoproteota | c__Nitrososphaeria | o__Nitrososphaerales | f__Nitrosopumilaceae | g__Cenarchaeum | s__Cenarchaeum symbiosum |\n",
       "| GB_GCA_000247545.1 | d__Archaea | p__Thermoproteota | c__Thermoproteia   | o__Thermoproteales   | f__Thermoproteaceae  | g__Pyrobaculum | s__Pyrobaculum oguniense |\n",
       "| ⋮ | ⋮ | ⋮ | ⋮ | ⋮ | ⋮ | ⋮ | ⋮ |\n",
       "| RS_GCF_903643055.1 | d__Bacteria | p__Proteobacteria   | c__Gammaproteobacteria | o__Burkholderiales | f__Burkholderiaceae | g__Rhizobacter  | s__Rhizobacter sp903643055  |\n",
       "| RS_GCF_903645355.1 | d__Bacteria | p__Actinobacteriota | c__Actinomycetia       | o__Actinomycetales | f__Actinomycetaceae | g__Pauljensenia | s__Pauljensenia sp903645355 |\n",
       "\n"
      ],
      "text/plain": [
       "      accession          Domain      Phylum              Class                 \n",
       "1     GB_GCA_000200715.1 d__Archaea  p__Thermoproteota   c__Nitrososphaeria    \n",
       "2     GB_GCA_000247545.1 d__Archaea  p__Thermoproteota   c__Thermoproteia      \n",
       "⋮     ⋮                  ⋮           ⋮                   ⋮                     \n",
       "47893 RS_GCF_903643055.1 d__Bacteria p__Proteobacteria   c__Gammaproteobacteria\n",
       "47894 RS_GCF_903645355.1 d__Bacteria p__Actinobacteriota c__Actinomycetia      \n",
       "      Order                Family               Genus          \n",
       "1     o__Nitrososphaerales f__Nitrosopumilaceae g__Cenarchaeum \n",
       "2     o__Thermoproteales   f__Thermoproteaceae  g__Pyrobaculum \n",
       "⋮     ⋮                    ⋮                    ⋮              \n",
       "47893 o__Burkholderiales   f__Burkholderiaceae  g__Rhizobacter \n",
       "47894 o__Actinomycetales   f__Actinomycetaceae  g__Pauljensenia\n",
       "      Species                    \n",
       "1     s__Cenarchaeum symbiosum   \n",
       "2     s__Pyrobaculum oguniense   \n",
       "⋮     ⋮                          \n",
       "47893 s__Rhizobacter sp903643055 \n",
       "47894 s__Pauljensenia sp903645355"
      ]
     },
     "metadata": {},
     "output_type": "display_data"
    }
   ],
   "source": [
    "# combined\n",
    "gtdb_meta = rbind(gtdb_meta_arc, gtdb_meta_bac)\n",
    "gtdb_meta_arc = gtdb_meta_bac = NULL\n",
    "gtdb_meta"
   ]
  },
  {
   "cell_type": "markdown",
   "metadata": {},
   "source": [
    "## Checks"
   ]
  },
  {
   "cell_type": "code",
   "execution_count": 12,
   "metadata": {
    "ExecuteTime": {
     "end_time": "2021-05-02T11:02:11.922202Z",
     "start_time": "2021-05-02T11:02:11.490Z"
    }
   },
   "outputs": [
    {
     "data": {
      "text/html": [
       "<table class=\"dataframe\">\n",
       "<caption>A matrix: 1 × 8 of type dbl</caption>\n",
       "<thead>\n",
       "\t<tr><th></th><th scope=col>Min.</th><th scope=col>1st Qu.</th><th scope=col>Median</th><th scope=col>Mean</th><th scope=col>3rd Qu.</th><th scope=col>Max.</th><th scope=col>sd</th><th scope=col>sd_err_of_mean</th></tr>\n",
       "</thead>\n",
       "<tbody>\n",
       "\t<tr><th scope=row>edge.length</th><td>0</td><td>0.028705</td><td>0.06437</td><td>0.1287773</td><td>0.1504475</td><td>1.98851</td><td>0.784</td><td>0.32</td></tr>\n",
       "</tbody>\n",
       "</table>\n"
      ],
      "text/latex": [
       "A matrix: 1 × 8 of type dbl\n",
       "\\begin{tabular}{r|llllllll}\n",
       "  & Min. & 1st Qu. & Median & Mean & 3rd Qu. & Max. & sd & sd\\_err\\_of\\_mean\\\\\n",
       "\\hline\n",
       "\tedge.length & 0 & 0.028705 & 0.06437 & 0.1287773 & 0.1504475 & 1.98851 & 0.784 & 0.32\\\\\n",
       "\\end{tabular}\n"
      ],
      "text/markdown": [
       "\n",
       "A matrix: 1 × 8 of type dbl\n",
       "\n",
       "| <!--/--> | Min. | 1st Qu. | Median | Mean | 3rd Qu. | Max. | sd | sd_err_of_mean |\n",
       "|---|---|---|---|---|---|---|---|---|\n",
       "| edge.length | 0 | 0.028705 | 0.06437 | 0.1287773 | 0.1504475 | 1.98851 | 0.784 | 0.32 |\n",
       "\n"
      ],
      "text/plain": [
       "            Min. 1st Qu.  Median  Mean      3rd Qu.   Max.    sd   \n",
       "edge.length 0    0.028705 0.06437 0.1287773 0.1504475 1.98851 0.784\n",
       "            sd_err_of_mean\n",
       "edge.length 0.32          "
      ]
     },
     "metadata": {},
     "output_type": "display_data"
    },
    {
     "data": {
      "text/html": [
       "<table class=\"dataframe\">\n",
       "<caption>A matrix: 1 × 8 of type dbl</caption>\n",
       "<thead>\n",
       "\t<tr><th></th><th scope=col>Min.</th><th scope=col>1st Qu.</th><th scope=col>Median</th><th scope=col>Mean</th><th scope=col>3rd Qu.</th><th scope=col>Max.</th><th scope=col>sd</th><th scope=col>sd_err_of_mean</th></tr>\n",
       "</thead>\n",
       "<tbody>\n",
       "\t<tr><th scope=row>edge.length</th><td>5e-04</td><td>0.01201</td><td>0.02894</td><td>0.0561111</td><td>0.0678525</td><td>1.9046</td><td>0.764</td><td>0.312</td></tr>\n",
       "</tbody>\n",
       "</table>\n"
      ],
      "text/latex": [
       "A matrix: 1 × 8 of type dbl\n",
       "\\begin{tabular}{r|llllllll}\n",
       "  & Min. & 1st Qu. & Median & Mean & 3rd Qu. & Max. & sd & sd\\_err\\_of\\_mean\\\\\n",
       "\\hline\n",
       "\tedge.length & 5e-04 & 0.01201 & 0.02894 & 0.0561111 & 0.0678525 & 1.9046 & 0.764 & 0.312\\\\\n",
       "\\end{tabular}\n"
      ],
      "text/markdown": [
       "\n",
       "A matrix: 1 × 8 of type dbl\n",
       "\n",
       "| <!--/--> | Min. | 1st Qu. | Median | Mean | 3rd Qu. | Max. | sd | sd_err_of_mean |\n",
       "|---|---|---|---|---|---|---|---|---|\n",
       "| edge.length | 5e-04 | 0.01201 | 0.02894 | 0.0561111 | 0.0678525 | 1.9046 | 0.764 | 0.312 |\n",
       "\n"
      ],
      "text/plain": [
       "            Min.  1st Qu. Median  Mean      3rd Qu.   Max.   sd   \n",
       "edge.length 5e-04 0.01201 0.02894 0.0561111 0.0678525 1.9046 0.764\n",
       "            sd_err_of_mean\n",
       "edge.length 0.312         "
      ]
     },
     "metadata": {},
     "output_type": "display_data"
    }
   ],
   "source": [
    "summary_x(arc_tree$edge.length)\n",
    "summary_x(bac_tree$edge.length)"
   ]
  },
  {
   "cell_type": "markdown",
   "metadata": {},
   "source": [
    "# Merging & pruning tree"
   ]
  },
  {
   "cell_type": "code",
   "execution_count": 13,
   "metadata": {
    "ExecuteTime": {
     "end_time": "2021-05-02T11:02:27.170024Z",
     "start_time": "2021-05-02T11:02:26.711Z"
    }
   },
   "outputs": [
    {
     "data": {
      "text/plain": [
       "\n",
       "Phylogenetic tree with 47894 tips and 47891 internal nodes.\n",
       "\n",
       "Tip labels:\n",
       "  RS_GCF_002286985.1, RS_GCF_004114995.1, RS_GCF_000337915.1, RS_GCF_007671685.1, RS_GCF_002727125.1, RS_GCF_000739595.1, ...\n",
       "Node labels:\n",
       "  d__Archaea, 100.0, 71.0, 50.0, 50.0, 79.0, ...\n",
       "\n",
       "Unrooted; includes branch lengths."
      ]
     },
     "metadata": {},
     "output_type": "display_data"
    }
   ],
   "source": [
    "# binding trees at root\n",
    "tree = ape::bind.tree(arc_tree, bac_tree)\n",
    "tree"
   ]
  },
  {
   "cell_type": "code",
   "execution_count": 14,
   "metadata": {
    "ExecuteTime": {
     "end_time": "2021-05-02T11:02:32.301558Z",
     "start_time": "2021-05-02T11:02:31.489Z"
    }
   },
   "outputs": [
    {
     "data": {
      "text/plain": [
       "\n",
       "Phylogenetic tree with 47894 tips and 47891 internal nodes.\n",
       "\n",
       "Tip labels:\n",
       "  s__Halorubrum_sp002286985, s__Halorubrum_amylolyticum, s__Halorubrum_saccharovorum, s__Halorubrum_salsamenti, s__Halorubrum_persicum, s__Halorubrum_halophilum, ...\n",
       "Node labels:\n",
       "  d__Archaea, 100.0, 71.0, 50.0, 50.0, 79.0, ...\n",
       "\n",
       "Unrooted; includes branch lengths."
      ]
     },
     "metadata": {},
     "output_type": "display_data"
    }
   ],
   "source": [
    "# renaming as species\n",
    "idx = gtdb_meta %>%\n",
    "    filter.(accession %in% tree$tip.label) %>%\n",
    "    select.(accession, Species) %>%\n",
    "    mutate.(Species = gsub(' ', '_', Species)) %>%\n",
    "    as.data.frame\n",
    "rownames(idx) = idx$accession\n",
    "tree$tip.label = idx[tree$tip.label,'Species']\n",
    "tree"
   ]
  },
  {
   "cell_type": "code",
   "execution_count": 15,
   "metadata": {
    "ExecuteTime": {
     "end_time": "2021-05-02T11:02:36.483135Z",
     "start_time": "2021-05-02T11:02:36.432Z"
    }
   },
   "outputs": [
    {
     "name": "stdout",
     "output_type": "stream",
     "text": [
      "intersect(x,y): 46434 \n",
      "setdiff(x,y): 0 \n",
      "setdiff(y,x): 1460 \n",
      "union(x,y): 47894 \n"
     ]
    }
   ],
   "source": [
    "# checking overlap\n",
    "overlap(genomes$Species, tree$tip.label)"
   ]
  },
  {
   "cell_type": "code",
   "execution_count": 16,
   "metadata": {
    "ExecuteTime": {
     "end_time": "2021-05-02T11:02:41.531770Z",
     "start_time": "2021-05-02T11:02:41.256Z"
    }
   },
   "outputs": [
    {
     "data": {
      "text/html": [
       "1460"
      ],
      "text/latex": [
       "1460"
      ],
      "text/markdown": [
       "1460"
      ],
      "text/plain": [
       "[1] 1460"
      ]
     },
     "metadata": {},
     "output_type": "display_data"
    },
    {
     "data": {
      "text/plain": [
       "\n",
       "Phylogenetic tree with 46434 tips and 46431 internal nodes.\n",
       "\n",
       "Tip labels:\n",
       "  s__Halorubrum_sp002286985, s__Halorubrum_amylolyticum, s__Halorubrum_saccharovorum, s__Halorubrum_salsamenti, s__Halorubrum_persicum, s__Halorubrum_halophilum, ...\n",
       "Node labels:\n",
       "  d__Archaea, 100.0, 71.0, 50.0, 50.0, 79.0, ...\n",
       "\n",
       "Unrooted; includes branch lengths."
      ]
     },
     "metadata": {},
     "output_type": "display_data"
    }
   ],
   "source": [
    "# purning\n",
    "to_rm = setdiff(tree$tip.label, genomes$Species)\n",
    "to_rm %>% length\n",
    "tree_f = ape::drop.tip(tree, to_rm)\n",
    "tree_f"
   ]
  },
  {
   "cell_type": "markdown",
   "metadata": {},
   "source": [
    "## Checks"
   ]
  },
  {
   "cell_type": "code",
   "execution_count": 20,
   "metadata": {
    "ExecuteTime": {
     "end_time": "2021-05-02T11:03:21.185065Z",
     "start_time": "2021-05-02T11:03:21.133Z"
    }
   },
   "outputs": [
    {
     "name": "stdout",
     "output_type": "stream",
     "text": [
      "intersect(x,y): 46434 \n",
      "setdiff(x,y): 0 \n",
      "setdiff(y,x): 0 \n",
      "union(x,y): 46434 \n"
     ]
    }
   ],
   "source": [
    "# checking overlap\n",
    "overlap(genomes$Species, tree_f$tip.label)"
   ]
  },
  {
   "cell_type": "code",
   "execution_count": 21,
   "metadata": {
    "ExecuteTime": {
     "end_time": "2021-05-02T11:03:21.340626Z",
     "start_time": "2021-05-02T11:03:21.270Z"
    }
   },
   "outputs": [
    {
     "data": {
      "text/html": [
       "<table class=\"dataframe\">\n",
       "<caption>A matrix: 1 × 8 of type dbl</caption>\n",
       "<thead>\n",
       "\t<tr><th></th><th scope=col>Min.</th><th scope=col>1st Qu.</th><th scope=col>Median</th><th scope=col>Mean</th><th scope=col>3rd Qu.</th><th scope=col>Max.</th><th scope=col>sd</th><th scope=col>sd_err_of_mean</th></tr>\n",
       "</thead>\n",
       "<tbody>\n",
       "\t<tr><th scope=row>edge.length</th><td>0</td><td>0.01233</td><td>0.02995</td><td>0.05987137</td><td>0.07089</td><td>1.98851</td><td>0.798</td><td>0.326</td></tr>\n",
       "</tbody>\n",
       "</table>\n"
      ],
      "text/latex": [
       "A matrix: 1 × 8 of type dbl\n",
       "\\begin{tabular}{r|llllllll}\n",
       "  & Min. & 1st Qu. & Median & Mean & 3rd Qu. & Max. & sd & sd\\_err\\_of\\_mean\\\\\n",
       "\\hline\n",
       "\tedge.length & 0 & 0.01233 & 0.02995 & 0.05987137 & 0.07089 & 1.98851 & 0.798 & 0.326\\\\\n",
       "\\end{tabular}\n"
      ],
      "text/markdown": [
       "\n",
       "A matrix: 1 × 8 of type dbl\n",
       "\n",
       "| <!--/--> | Min. | 1st Qu. | Median | Mean | 3rd Qu. | Max. | sd | sd_err_of_mean |\n",
       "|---|---|---|---|---|---|---|---|---|\n",
       "| edge.length | 0 | 0.01233 | 0.02995 | 0.05987137 | 0.07089 | 1.98851 | 0.798 | 0.326 |\n",
       "\n"
      ],
      "text/plain": [
       "            Min. 1st Qu. Median  Mean       3rd Qu. Max.    sd   \n",
       "edge.length 0    0.01233 0.02995 0.05987137 0.07089 1.98851 0.798\n",
       "            sd_err_of_mean\n",
       "edge.length 0.326         "
      ]
     },
     "metadata": {},
     "output_type": "display_data"
    }
   ],
   "source": [
    "# branch lengths\n",
    "summary_x(tree_f$edge.length)"
   ]
  },
  {
   "cell_type": "markdown",
   "metadata": {},
   "source": [
    "# Writing tree"
   ]
  },
  {
   "cell_type": "code",
   "execution_count": 23,
   "metadata": {
    "ExecuteTime": {
     "end_time": "2021-05-02T11:03:58.493470Z",
     "start_time": "2021-05-02T11:03:56.373Z"
    }
   },
   "outputs": [
    {
     "name": "stdout",
     "output_type": "stream",
     "text": [
      "File writen: /ebio/abt3_projects2/databases_no-backup/GTDB/release202/Struo2/phylogeny//ar122-bac120_r202_1per-GTDB-Spec_gte50comp-lt5cont.nwk \n"
     ]
    }
   ],
   "source": [
    "F = file.path(work_dir, 'ar122-bac120_r202_1per-GTDB-Spec_gte50comp-lt5cont.nwk')\n",
    "write.tree(tree_f, F)\n",
    "cat('File writen:', F, '\\n')"
   ]
  },
  {
   "cell_type": "markdown",
   "metadata": {},
   "source": [
    "# sessionInfo"
   ]
  },
  {
   "cell_type": "code",
   "execution_count": 24,
   "metadata": {
    "ExecuteTime": {
     "end_time": "2021-05-02T11:04:05.609248Z",
     "start_time": "2021-05-02T11:04:05.501Z"
    }
   },
   "outputs": [
    {
     "data": {
      "text/plain": [
       "R version 4.0.3 (2020-10-10)\n",
       "Platform: x86_64-conda-linux-gnu (64-bit)\n",
       "Running under: Ubuntu 18.04.5 LTS\n",
       "\n",
       "Matrix products: default\n",
       "BLAS/LAPACK: /ebio/abt3_projects/Georg_animal_feces/envs/phyloseq2/lib/libopenblasp-r0.3.10.so\n",
       "\n",
       "locale:\n",
       " [1] LC_CTYPE=en_US.UTF-8       LC_NUMERIC=C              \n",
       " [3] LC_TIME=en_US.UTF-8        LC_COLLATE=en_US.UTF-8    \n",
       " [5] LC_MONETARY=en_US.UTF-8    LC_MESSAGES=en_US.UTF-8   \n",
       " [7] LC_PAPER=en_US.UTF-8       LC_NAME=C                 \n",
       " [9] LC_ADDRESS=C               LC_TELEPHONE=C            \n",
       "[11] LC_MEASUREMENT=en_US.UTF-8 LC_IDENTIFICATION=C       \n",
       "\n",
       "attached base packages:\n",
       "[1] stats     graphics  grDevices utils     datasets  methods   base     \n",
       "\n",
       "other attached packages:\n",
       "[1] LeyLabRMisc_0.1.9 ape_5.4-1         tidytable_0.5.8   data.table_1.13.6\n",
       "[5] ggplot2_3.3.3     tidyr_1.1.2       dplyr_1.0.3      \n",
       "\n",
       "loaded via a namespace (and not attached):\n",
       " [1] Rcpp_1.0.6        pillar_1.4.7      compiler_4.0.3    base64enc_0.1-3  \n",
       " [5] tools_4.0.3       digest_0.6.27     uuid_0.1-4        jsonlite_1.7.2   \n",
       " [9] evaluate_0.14     lifecycle_0.2.0   tibble_3.0.5      gtable_0.3.0     \n",
       "[13] nlme_3.1-151      lattice_0.20-41   pkgconfig_2.0.3   rlang_0.4.10     \n",
       "[17] IRdisplay_1.0     IRkernel_1.1.1    parallel_4.0.3    repr_1.1.3       \n",
       "[21] withr_2.4.1       generics_0.1.0    vctrs_0.3.6       grid_4.0.3       \n",
       "[25] tidyselect_1.1.0  glue_1.4.2        R6_2.5.0          pbdZMQ_0.3-4     \n",
       "[29] purrr_0.3.4       magrittr_2.0.1    scales_1.1.1      ellipsis_0.3.1   \n",
       "[33] htmltools_0.5.1.1 colorspace_2.0-0  munsell_0.5.0     crayon_1.3.4     "
      ]
     },
     "metadata": {},
     "output_type": "display_data"
    }
   ],
   "source": [
    "sessionInfo()"
   ]
  },
  {
   "cell_type": "code",
   "execution_count": null,
   "metadata": {},
   "outputs": [],
   "source": []
  }
 ],
 "metadata": {
  "kernelspec": {
   "display_name": "R [conda env:Georg_animal_feces-phyloseq2]",
   "language": "R",
   "name": "conda-env-Georg_animal_feces-phyloseq2-r"
  },
  "language_info": {
   "codemirror_mode": "r",
   "file_extension": ".r",
   "mimetype": "text/x-r-source",
   "name": "R",
   "pygments_lexer": "r",
   "version": "4.0.3"
  },
  "notify_time": "30",
  "toc": {
   "base_numbering": 1,
   "nav_menu": {},
   "number_sections": true,
   "sideBar": true,
   "skip_h1_title": false,
   "title_cell": "Table of Contents",
   "title_sidebar": "Contents",
   "toc_cell": true,
   "toc_position": {},
   "toc_section_display": true,
   "toc_window_display": true
  }
 },
 "nbformat": 4,
 "nbformat_minor": 4
}
