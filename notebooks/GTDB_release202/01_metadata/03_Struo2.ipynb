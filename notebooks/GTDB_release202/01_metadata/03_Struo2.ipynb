{
 "cells": [
  {
   "cell_type": "markdown",
   "metadata": {
    "toc": true
   },
   "source": [
    "<h1>Table of Contents<span class=\"tocSkip\"></span></h1>\n",
    "<div class=\"toc\"><ul class=\"toc-item\"><li><span><a href=\"#Goal\" data-toc-modified-id=\"Goal-1\"><span class=\"toc-item-num\">1&nbsp;&nbsp;</span>Goal</a></span></li><li><span><a href=\"#Var\" data-toc-modified-id=\"Var-2\"><span class=\"toc-item-num\">2&nbsp;&nbsp;</span>Var</a></span></li><li><span><a href=\"#Init\" data-toc-modified-id=\"Init-3\"><span class=\"toc-item-num\">3&nbsp;&nbsp;</span>Init</a></span></li><li><span><a href=\"#Load\" data-toc-modified-id=\"Load-4\"><span class=\"toc-item-num\">4&nbsp;&nbsp;</span>Load</a></span></li><li><span><a href=\"#Taxonomy-overlap\" data-toc-modified-id=\"Taxonomy-overlap-5\"><span class=\"toc-item-num\">5&nbsp;&nbsp;</span>Taxonomy overlap</a></span></li><li><span><a href=\"#Struo2-create\" data-toc-modified-id=\"Struo2-create-6\"><span class=\"toc-item-num\">6&nbsp;&nbsp;</span>Struo2 create</a></span><ul class=\"toc-item\"><li><ul class=\"toc-item\"><li><span><a href=\"#Config\" data-toc-modified-id=\"Config-6.0.1\"><span class=\"toc-item-num\">6.0.1&nbsp;&nbsp;</span>Config</a></span></li><li><span><a href=\"#Run\" data-toc-modified-id=\"Run-6.0.2\"><span class=\"toc-item-num\">6.0.2&nbsp;&nbsp;</span>Run</a></span></li></ul></li></ul></li><li><span><a href=\"#sessionInfo\" data-toc-modified-id=\"sessionInfo-7\"><span class=\"toc-item-num\">7&nbsp;&nbsp;</span>sessionInfo</a></span></li></ul></div>"
   ]
  },
  {
   "cell_type": "markdown",
   "metadata": {},
   "source": [
    "# Goal\n",
    "\n",
    "* Creating metagenome profiling databases with Struo2"
   ]
  },
  {
   "cell_type": "markdown",
   "metadata": {},
   "source": [
    "# Var"
   ]
  },
  {
   "cell_type": "code",
   "execution_count": 26,
   "metadata": {
    "ExecuteTime": {
     "end_time": "2021-05-02T11:37:45.189503Z",
     "start_time": "2021-05-02T11:37:45.122Z"
    }
   },
   "outputs": [],
   "source": [
    "work_dir = '/ebio/abt3_projects2/databases_no-backup/GTDB/release202/Struo2/'\n",
    "\n",
    "# release metadata\n",
    "## newest release\n",
    "meta_file_r202 = '/ebio/abt3_projects2/databases_no-backup/GTDB/release202/Struo2/metadata_1per-GTDB-Spec_gte50comp-lt5cont_wtaxID_wPath.tsv'\n",
    "## last release\n",
    "meta_file_r95 = '/ebio/abt3_projects2/databases_no-backup/GTDB/release95/Struo/metadata_1per-GTDB-Spec_gte50comp-lt5cont_wtaxID_wPath.tsv'\n",
    "\n",
    "# params\n",
    "threads = 4"
   ]
  },
  {
   "cell_type": "markdown",
   "metadata": {},
   "source": [
    "# Init"
   ]
  },
  {
   "cell_type": "code",
   "execution_count": 12,
   "metadata": {
    "ExecuteTime": {
     "end_time": "2021-05-02T11:17:02.204094Z",
     "start_time": "2021-05-02T11:17:02.163Z"
    }
   },
   "outputs": [],
   "source": [
    "library(dplyr)\n",
    "library(tidyr)\n",
    "library(ggplot2)\n",
    "library(data.table)\n",
    "library(tidytable)\n",
    "library(LeyLabRMisc)"
   ]
  },
  {
   "cell_type": "code",
   "execution_count": 13,
   "metadata": {
    "ExecuteTime": {
     "end_time": "2021-05-02T11:17:02.351087Z",
     "start_time": "2021-05-02T11:17:02.310Z"
    }
   },
   "outputs": [],
   "source": [
    "set.seed(8473)\n",
    "setDTthreads(threads)\n",
    "df.dims()"
   ]
  },
  {
   "cell_type": "markdown",
   "metadata": {},
   "source": [
    "# Load"
   ]
  },
  {
   "cell_type": "code",
   "execution_count": 16,
   "metadata": {
    "ExecuteTime": {
     "end_time": "2021-05-02T11:17:35.591367Z",
     "start_time": "2021-05-02T11:17:34.127Z"
    }
   },
   "outputs": [
    {
     "data": {
      "text/html": [
       "<table class=\"dataframe\">\n",
       "<caption>A data.table: 30989 × 113</caption>\n",
       "<thead>\n",
       "\t<tr><th scope=col>ncbi_organism_name</th><th scope=col>accession</th><th scope=col>ambiguous_bases</th><th scope=col>checkm_completeness</th><th scope=col>checkm_contamination</th><th scope=col>checkm_marker_count</th><th scope=col>checkm_marker_lineage</th><th scope=col>checkm_marker_set_count</th><th scope=col>checkm_strain_heterogeneity</th><th scope=col>coding_bases</th><th scope=col>⋯</th><th scope=col>ssu_silva_blast_perc_identity</th><th scope=col>ssu_silva_blast_subject_id</th><th scope=col>ssu_silva_taxonomy</th><th scope=col>total_gap_length</th><th scope=col>trna_aa_count</th><th scope=col>trna_count</th><th scope=col>trna_selenocysteine_count</th><th scope=col>SPECIES</th><th scope=col>gtdb_taxid</th><th scope=col>fasta_file_path</th></tr>\n",
       "\t<tr><th scope=col>&lt;chr&gt;</th><th scope=col>&lt;chr&gt;</th><th scope=col>&lt;int&gt;</th><th scope=col>&lt;dbl&gt;</th><th scope=col>&lt;dbl&gt;</th><th scope=col>&lt;int&gt;</th><th scope=col>&lt;chr&gt;</th><th scope=col>&lt;int&gt;</th><th scope=col>&lt;dbl&gt;</th><th scope=col>&lt;int&gt;</th><th scope=col>⋯</th><th scope=col>&lt;chr&gt;</th><th scope=col>&lt;chr&gt;</th><th scope=col>&lt;chr&gt;</th><th scope=col>&lt;int&gt;</th><th scope=col>&lt;int&gt;</th><th scope=col>&lt;int&gt;</th><th scope=col>&lt;int&gt;</th><th scope=col>&lt;chr&gt;</th><th scope=col>&lt;int&gt;</th><th scope=col>&lt;chr&gt;</th></tr>\n",
       "</thead>\n",
       "<tbody>\n",
       "\t<tr><td>GB_GCA_002789635.1_Candidatus Aenigmarchaeota archaeon CG_4_9_14_3_um_filter_37_18</td><td>GB_GCA_002789635.1</td><td>  9</td><td>79.44</td><td>0</td><td>149</td><td>k__Archaea (UID2)</td><td>107</td><td>0</td><td>794970</td><td>⋯</td><td>100</td><td>MNUF01000028.16163.17137</td><td>Archaea;Nanoarchaeaeota;Nanohaloarchaeia;Aenigmarchaeales;Candidatus Aenigmarchaeota archaeon CG1_02_38_14</td><td> 368</td><td>19</td><td>35</td><td>0</td><td>CG10238-14 sp002789635  </td><td> 689</td><td>/ebio/abt3_projects2/databases_no-backup/GTDB/release95/Struo/genomes/genbank/archaea/GCA_002789635.1/GCA_002789635.1_ASM278963v1_genomic.fna.gz</td></tr>\n",
       "\t<tr><td>GB_GCA_001784635.1_Candidatus Micrarchaeota archaeon RBG_16_49_10                 </td><td>GB_GCA_001784635.1</td><td>151</td><td>74.92</td><td>0</td><td>149</td><td>k__Archaea (UID2)</td><td>107</td><td>0</td><td>773516</td><td>⋯</td><td>100</td><td>MFRS01000021.2138.3463  </td><td>Archaea;Nanoarchaeaeota;Nanohaloarchaeia;Aenigmarchaeales;Candidatus Micrarchaeota archaeon RBG_16_49_10  </td><td>6621</td><td>18</td><td>36</td><td>0</td><td>RBG-16-49-10 sp001784635</td><td>3509</td><td>/ebio/abt3_projects2/databases_no-backup/GTDB/release95/Struo/genomes/genbank/archaea/GCA_001784635.1/GCA_001784635.1_ASM178463v1_genomic.fna.gz</td></tr>\n",
       "\t<tr><td>⋮</td><td>⋮</td><td>⋮</td><td>⋮</td><td>⋮</td><td>⋮</td><td>⋮</td><td>⋮</td><td>⋮</td><td>⋮</td><td>⋱</td><td>⋮</td><td>⋮</td><td>⋮</td><td>⋮</td><td>⋮</td><td>⋮</td><td>⋮</td><td>⋮</td><td>⋮</td><td>⋮</td></tr>\n",
       "\t<tr><td>RS_GCF_001644955.1_Pseudomonas putida</td><td>RS_GCF_001644955.1</td><td>0</td><td>99.59</td><td>0.16</td><td>813</td><td>o__Pseudomonadales (UID4488) </td><td>308</td><td>0</td><td>5508282</td><td>⋯</td><td>none</td><td>none           </td><td>none                                                                                                  </td><td>0</td><td>19</td><td>61</td><td>0</td><td>Pseudomonas_E putida_C</td><td>188090</td><td>/ebio/abt3_projects2/databases_no-backup/GTDB/release95/Struo/genomes/genbank/bacteria/GCA_001644955.1/GCA_001644955.1_CBF10-2_genomic.fna.gz    </td></tr>\n",
       "\t<tr><td>RS_GCF_003233695.1_Lysobacter maris  </td><td>RS_GCF_003233695.1</td><td>0</td><td>99.77</td><td>0.69</td><td>659</td><td>f__Xanthomonadaceae (UID4214)</td><td>290</td><td>0</td><td>3531075</td><td>⋯</td><td>100 </td><td>KX886800.1.1510</td><td>Bacteria;Proteobacteria;Gammaproteobacteria;Xanthomonadales;Xanthomonadaceae;Lysobacter;Lysobacter sp.</td><td>0</td><td>20</td><td>56</td><td>0</td><td>Lysobacter maris      </td><td>183442</td><td>/ebio/abt3_projects2/databases_no-backup/GTDB/release95/Struo/genomes/genbank/bacteria/GCA_003233695.1/GCA_003233695.1_ASM323369v1_genomic.fna.gz</td></tr>\n",
       "</tbody>\n",
       "</table>\n"
      ],
      "text/latex": [
       "A data.table: 30989 × 113\n",
       "\\begin{tabular}{lllllllllllllllllllll}\n",
       " ncbi\\_organism\\_name & accession & ambiguous\\_bases & checkm\\_completeness & checkm\\_contamination & checkm\\_marker\\_count & checkm\\_marker\\_lineage & checkm\\_marker\\_set\\_count & checkm\\_strain\\_heterogeneity & coding\\_bases & ⋯ & ssu\\_silva\\_blast\\_perc\\_identity & ssu\\_silva\\_blast\\_subject\\_id & ssu\\_silva\\_taxonomy & total\\_gap\\_length & trna\\_aa\\_count & trna\\_count & trna\\_selenocysteine\\_count & SPECIES & gtdb\\_taxid & fasta\\_file\\_path\\\\\n",
       " <chr> & <chr> & <int> & <dbl> & <dbl> & <int> & <chr> & <int> & <dbl> & <int> & ⋯ & <chr> & <chr> & <chr> & <int> & <int> & <int> & <int> & <chr> & <int> & <chr>\\\\\n",
       "\\hline\n",
       "\t GB\\_GCA\\_002789635.1\\_Candidatus Aenigmarchaeota archaeon CG\\_4\\_9\\_14\\_3\\_um\\_filter\\_37\\_18 & GB\\_GCA\\_002789635.1 &   9 & 79.44 & 0 & 149 & k\\_\\_Archaea (UID2) & 107 & 0 & 794970 & ⋯ & 100 & MNUF01000028.16163.17137 & Archaea;Nanoarchaeaeota;Nanohaloarchaeia;Aenigmarchaeales;Candidatus Aenigmarchaeota archaeon CG1\\_02\\_38\\_14 &  368 & 19 & 35 & 0 & CG10238-14 sp002789635   &  689 & /ebio/abt3\\_projects/databases\\_no-backup/GTDB/release95/Struo/genomes/genbank/archaea/GCA\\_002789635.1/GCA\\_002789635.1\\_ASM278963v1\\_genomic.fna.gz\\\\\n",
       "\t GB\\_GCA\\_001784635.1\\_Candidatus Micrarchaeota archaeon RBG\\_16\\_49\\_10                  & GB\\_GCA\\_001784635.1 & 151 & 74.92 & 0 & 149 & k\\_\\_Archaea (UID2) & 107 & 0 & 773516 & ⋯ & 100 & MFRS01000021.2138.3463   & Archaea;Nanoarchaeaeota;Nanohaloarchaeia;Aenigmarchaeales;Candidatus Micrarchaeota archaeon RBG\\_16\\_49\\_10   & 6621 & 18 & 36 & 0 & RBG-16-49-10 sp001784635 & 3509 & /ebio/abt3\\_projects/databases\\_no-backup/GTDB/release95/Struo/genomes/genbank/archaea/GCA\\_001784635.1/GCA\\_001784635.1\\_ASM178463v1\\_genomic.fna.gz\\\\\n",
       "\t ⋮ & ⋮ & ⋮ & ⋮ & ⋮ & ⋮ & ⋮ & ⋮ & ⋮ & ⋮ & ⋱ & ⋮ & ⋮ & ⋮ & ⋮ & ⋮ & ⋮ & ⋮ & ⋮ & ⋮ & ⋮\\\\\n",
       "\t RS\\_GCF\\_001644955.1\\_Pseudomonas putida & RS\\_GCF\\_001644955.1 & 0 & 99.59 & 0.16 & 813 & o\\_\\_Pseudomonadales (UID4488)  & 308 & 0 & 5508282 & ⋯ & none & none            & none                                                                                                   & 0 & 19 & 61 & 0 & Pseudomonas\\_E putida\\_C & 188090 & /ebio/abt3\\_projects/databases\\_no-backup/GTDB/release95/Struo/genomes/genbank/bacteria/GCA\\_001644955.1/GCA\\_001644955.1\\_CBF10-2\\_genomic.fna.gz    \\\\\n",
       "\t RS\\_GCF\\_003233695.1\\_Lysobacter maris   & RS\\_GCF\\_003233695.1 & 0 & 99.77 & 0.69 & 659 & f\\_\\_Xanthomonadaceae (UID4214) & 290 & 0 & 3531075 & ⋯ & 100  & KX886800.1.1510 & Bacteria;Proteobacteria;Gammaproteobacteria;Xanthomonadales;Xanthomonadaceae;Lysobacter;Lysobacter sp. & 0 & 20 & 56 & 0 & Lysobacter maris       & 183442 & /ebio/abt3\\_projects/databases\\_no-backup/GTDB/release95/Struo/genomes/genbank/bacteria/GCA\\_003233695.1/GCA\\_003233695.1\\_ASM323369v1\\_genomic.fna.gz\\\\\n",
       "\\end{tabular}\n"
      ],
      "text/markdown": [
       "\n",
       "A data.table: 30989 × 113\n",
       "\n",
       "| ncbi_organism_name &lt;chr&gt; | accession &lt;chr&gt; | ambiguous_bases &lt;int&gt; | checkm_completeness &lt;dbl&gt; | checkm_contamination &lt;dbl&gt; | checkm_marker_count &lt;int&gt; | checkm_marker_lineage &lt;chr&gt; | checkm_marker_set_count &lt;int&gt; | checkm_strain_heterogeneity &lt;dbl&gt; | coding_bases &lt;int&gt; | ⋯ ⋯ | ssu_silva_blast_perc_identity &lt;chr&gt; | ssu_silva_blast_subject_id &lt;chr&gt; | ssu_silva_taxonomy &lt;chr&gt; | total_gap_length &lt;int&gt; | trna_aa_count &lt;int&gt; | trna_count &lt;int&gt; | trna_selenocysteine_count &lt;int&gt; | SPECIES &lt;chr&gt; | gtdb_taxid &lt;int&gt; | fasta_file_path &lt;chr&gt; |\n",
       "|---|---|---|---|---|---|---|---|---|---|---|---|---|---|---|---|---|---|---|---|---|\n",
       "| GB_GCA_002789635.1_Candidatus Aenigmarchaeota archaeon CG_4_9_14_3_um_filter_37_18 | GB_GCA_002789635.1 |   9 | 79.44 | 0 | 149 | k__Archaea (UID2) | 107 | 0 | 794970 | ⋯ | 100 | MNUF01000028.16163.17137 | Archaea;Nanoarchaeaeota;Nanohaloarchaeia;Aenigmarchaeales;Candidatus Aenigmarchaeota archaeon CG1_02_38_14 |  368 | 19 | 35 | 0 | CG10238-14 sp002789635   |  689 | /ebio/abt3_projects2/databases_no-backup/GTDB/release95/Struo/genomes/genbank/archaea/GCA_002789635.1/GCA_002789635.1_ASM278963v1_genomic.fna.gz |\n",
       "| GB_GCA_001784635.1_Candidatus Micrarchaeota archaeon RBG_16_49_10                  | GB_GCA_001784635.1 | 151 | 74.92 | 0 | 149 | k__Archaea (UID2) | 107 | 0 | 773516 | ⋯ | 100 | MFRS01000021.2138.3463   | Archaea;Nanoarchaeaeota;Nanohaloarchaeia;Aenigmarchaeales;Candidatus Micrarchaeota archaeon RBG_16_49_10   | 6621 | 18 | 36 | 0 | RBG-16-49-10 sp001784635 | 3509 | /ebio/abt3_projects2/databases_no-backup/GTDB/release95/Struo/genomes/genbank/archaea/GCA_001784635.1/GCA_001784635.1_ASM178463v1_genomic.fna.gz |\n",
       "| ⋮ | ⋮ | ⋮ | ⋮ | ⋮ | ⋮ | ⋮ | ⋮ | ⋮ | ⋮ | ⋱ | ⋮ | ⋮ | ⋮ | ⋮ | ⋮ | ⋮ | ⋮ | ⋮ | ⋮ | ⋮ |\n",
       "| RS_GCF_001644955.1_Pseudomonas putida | RS_GCF_001644955.1 | 0 | 99.59 | 0.16 | 813 | o__Pseudomonadales (UID4488)  | 308 | 0 | 5508282 | ⋯ | none | none            | none                                                                                                   | 0 | 19 | 61 | 0 | Pseudomonas_E putida_C | 188090 | /ebio/abt3_projects2/databases_no-backup/GTDB/release95/Struo/genomes/genbank/bacteria/GCA_001644955.1/GCA_001644955.1_CBF10-2_genomic.fna.gz     |\n",
       "| RS_GCF_003233695.1_Lysobacter maris   | RS_GCF_003233695.1 | 0 | 99.77 | 0.69 | 659 | f__Xanthomonadaceae (UID4214) | 290 | 0 | 3531075 | ⋯ | 100  | KX886800.1.1510 | Bacteria;Proteobacteria;Gammaproteobacteria;Xanthomonadales;Xanthomonadaceae;Lysobacter;Lysobacter sp. | 0 | 20 | 56 | 0 | Lysobacter maris       | 183442 | /ebio/abt3_projects2/databases_no-backup/GTDB/release95/Struo/genomes/genbank/bacteria/GCA_003233695.1/GCA_003233695.1_ASM323369v1_genomic.fna.gz |\n",
       "\n"
      ],
      "text/plain": [
       "      ncbi_organism_name                                                                \n",
       "1     GB_GCA_002789635.1_Candidatus Aenigmarchaeota archaeon CG_4_9_14_3_um_filter_37_18\n",
       "2     GB_GCA_001784635.1_Candidatus Micrarchaeota archaeon RBG_16_49_10                 \n",
       "⋮     ⋮                                                                                 \n",
       "30988 RS_GCF_001644955.1_Pseudomonas putida                                             \n",
       "30989 RS_GCF_003233695.1_Lysobacter maris                                               \n",
       "      accession          ambiguous_bases checkm_completeness\n",
       "1     GB_GCA_002789635.1   9             79.44              \n",
       "2     GB_GCA_001784635.1 151             74.92              \n",
       "⋮     ⋮                  ⋮               ⋮                  \n",
       "30988 RS_GCF_001644955.1 0               99.59              \n",
       "30989 RS_GCF_003233695.1 0               99.77              \n",
       "      checkm_contamination checkm_marker_count checkm_marker_lineage        \n",
       "1     0                    149                 k__Archaea (UID2)            \n",
       "2     0                    149                 k__Archaea (UID2)            \n",
       "⋮     ⋮                    ⋮                   ⋮                            \n",
       "30988 0.16                 813                 o__Pseudomonadales (UID4488) \n",
       "30989 0.69                 659                 f__Xanthomonadaceae (UID4214)\n",
       "      checkm_marker_set_count checkm_strain_heterogeneity coding_bases ⋯\n",
       "1     107                     0                           794970       ⋯\n",
       "2     107                     0                           773516       ⋯\n",
       "⋮     ⋮                       ⋮                           ⋮            ⋱\n",
       "30988 308                     0                           5508282      ⋯\n",
       "30989 290                     0                           3531075      ⋯\n",
       "      ssu_silva_blast_perc_identity ssu_silva_blast_subject_id\n",
       "1     100                           MNUF01000028.16163.17137  \n",
       "2     100                           MFRS01000021.2138.3463    \n",
       "⋮     ⋮                             ⋮                         \n",
       "30988 none                          none                      \n",
       "30989 100                           KX886800.1.1510           \n",
       "      ssu_silva_taxonomy                                                                                        \n",
       "1     Archaea;Nanoarchaeaeota;Nanohaloarchaeia;Aenigmarchaeales;Candidatus Aenigmarchaeota archaeon CG1_02_38_14\n",
       "2     Archaea;Nanoarchaeaeota;Nanohaloarchaeia;Aenigmarchaeales;Candidatus Micrarchaeota archaeon RBG_16_49_10  \n",
       "⋮     ⋮                                                                                                         \n",
       "30988 none                                                                                                      \n",
       "30989 Bacteria;Proteobacteria;Gammaproteobacteria;Xanthomonadales;Xanthomonadaceae;Lysobacter;Lysobacter sp.    \n",
       "      total_gap_length trna_aa_count trna_count trna_selenocysteine_count\n",
       "1      368             19            35         0                        \n",
       "2     6621             18            36         0                        \n",
       "⋮     ⋮                ⋮             ⋮          ⋮                        \n",
       "30988 0                19            61         0                        \n",
       "30989 0                20            56         0                        \n",
       "      SPECIES                  gtdb_taxid\n",
       "1     CG10238-14 sp002789635    689      \n",
       "2     RBG-16-49-10 sp001784635 3509      \n",
       "⋮     ⋮                        ⋮         \n",
       "30988 Pseudomonas_E putida_C   188090    \n",
       "30989 Lysobacter maris         183442    \n",
       "      fasta_file_path                                                                                                                                 \n",
       "1     /ebio/abt3_projects2/databases_no-backup/GTDB/release95/Struo/genomes/genbank/archaea/GCA_002789635.1/GCA_002789635.1_ASM278963v1_genomic.fna.gz \n",
       "2     /ebio/abt3_projects2/databases_no-backup/GTDB/release95/Struo/genomes/genbank/archaea/GCA_001784635.1/GCA_001784635.1_ASM178463v1_genomic.fna.gz \n",
       "⋮     ⋮                                                                                                                                               \n",
       "30988 /ebio/abt3_projects2/databases_no-backup/GTDB/release95/Struo/genomes/genbank/bacteria/GCA_001644955.1/GCA_001644955.1_CBF10-2_genomic.fna.gz    \n",
       "30989 /ebio/abt3_projects2/databases_no-backup/GTDB/release95/Struo/genomes/genbank/bacteria/GCA_003233695.1/GCA_003233695.1_ASM323369v1_genomic.fna.gz"
      ]
     },
     "metadata": {},
     "output_type": "display_data"
    }
   ],
   "source": [
    "meta_r95 = Fread(meta_file_r95, check.names=TRUE) \n",
    "meta_r95"
   ]
  },
  {
   "cell_type": "code",
   "execution_count": 17,
   "metadata": {
    "ExecuteTime": {
     "end_time": "2021-05-02T11:17:37.391179Z",
     "start_time": "2021-05-02T11:17:34.236Z"
    }
   },
   "outputs": [
    {
     "data": {
      "text/html": [
       "<table class=\"dataframe\">\n",
       "<caption>A data.table: 46434 × 112</caption>\n",
       "<thead>\n",
       "\t<tr><th scope=col>accession</th><th scope=col>ambiguous_bases</th><th scope=col>checkm_completeness</th><th scope=col>checkm_contamination</th><th scope=col>checkm_marker_count</th><th scope=col>checkm_marker_lineage</th><th scope=col>checkm_marker_set_count</th><th scope=col>checkm_strain_heterogeneity</th><th scope=col>coding_bases</th><th scope=col>coding_density</th><th scope=col>⋯</th><th scope=col>ssu_silva_blast_perc_identity</th><th scope=col>ssu_silva_blast_subject_id</th><th scope=col>ssu_silva_taxonomy</th><th scope=col>total_gap_length</th><th scope=col>trna_aa_count</th><th scope=col>trna_count</th><th scope=col>trna_selenocysteine_count</th><th scope=col>SPECIES</th><th scope=col>gtdb_taxid</th><th scope=col>fasta_file_path</th></tr>\n",
       "\t<tr><th scope=col>&lt;chr&gt;</th><th scope=col>&lt;int&gt;</th><th scope=col>&lt;dbl&gt;</th><th scope=col>&lt;dbl&gt;</th><th scope=col>&lt;int&gt;</th><th scope=col>&lt;chr&gt;</th><th scope=col>&lt;int&gt;</th><th scope=col>&lt;dbl&gt;</th><th scope=col>&lt;int&gt;</th><th scope=col>&lt;dbl&gt;</th><th scope=col>⋯</th><th scope=col>&lt;chr&gt;</th><th scope=col>&lt;chr&gt;</th><th scope=col>&lt;chr&gt;</th><th scope=col>&lt;int&gt;</th><th scope=col>&lt;int&gt;</th><th scope=col>&lt;int&gt;</th><th scope=col>&lt;int&gt;</th><th scope=col>&lt;chr&gt;</th><th scope=col>&lt;int&gt;</th><th scope=col>&lt;chr&gt;</th></tr>\n",
       "</thead>\n",
       "<tbody>\n",
       "\t<tr><td>RS_GCF_000970205.1</td><td> 0</td><td>100.00</td><td>0.65</td><td>228</td><td>p__Euryarchaeota (UID49)</td><td>153</td><td>0</td><td>3158464</td><td>76.23954</td><td>⋯</td><td>100 </td><td>AE008384.235306.236779</td><td>Archaea;Halobacterota;Methanosarcinia;Methanosarciniales;Methanosarcinaceae;Methanosarcina;Methanosarcina mazei Go1</td><td>  0</td><td>20</td><td>57</td><td>0</td><td>Methanosarcina mazei      </td><td> 44</td><td>/ebio/abt3_projects2/databases_no-backup/GTDB/release202/Struo2/genomes/genbank/archaea/GCA_000970205.1/GCA_000970205.1_ASM97020v1_genomic.fna.gz </td></tr>\n",
       "\t<tr><td>GB_GCA_002499445.1</td><td>41</td><td> 99.18</td><td>0.00</td><td>228</td><td>p__Euryarchaeota (UID49)</td><td>153</td><td>0</td><td>2352681</td><td>75.88116</td><td>⋯</td><td>none</td><td>none                  </td><td>none                                                                                                               </td><td>940</td><td>20</td><td>53</td><td>0</td><td>Methanosarcina sp002499445</td><td>422</td><td>/ebio/abt3_projects2/databases_no-backup/GTDB/release202/Struo2/genomes/genbank/archaea/GCA_002499445.1/GCA_002499445.1_ASM249944v1_genomic.fna.gz</td></tr>\n",
       "\t<tr><td>⋮</td><td>⋮</td><td>⋮</td><td>⋮</td><td>⋮</td><td>⋮</td><td>⋮</td><td>⋮</td><td>⋮</td><td>⋮</td><td>⋱</td><td>⋮</td><td>⋮</td><td>⋮</td><td>⋮</td><td>⋮</td><td>⋮</td><td>⋮</td><td>⋮</td><td>⋮</td><td>⋮</td></tr>\n",
       "\t<tr><td>RS_GCF_013359645.1</td><td>0</td><td>100.00</td><td>0.96</td><td>845</td><td>f__Pseudomonadaceae (UID4490)</td><td>321</td><td>0</td><td>5557852</td><td>88.12439</td><td>⋯</td><td>100   </td><td>CP002585.6171599.6173135</td><td>Bacteria;Proteobacteria;Gammaproteobacteria;Pseudomonadales;Pseudomonadaceae;Pseudomonas;Pseudomonas brassicacearum subsp. brassicacearum NFM421 </td><td>1077</td><td>19</td><td>51</td><td>0</td><td>Pseudomonas_E kilonensis_B</td><td>210031</td><td>/ebio/abt3_projects2/databases_no-backup/GTDB/release202/Struo2/genomes/genbank/bacteria/GCA_013359645.1/GCA_013359645.1_ASM1335964v1_genomic.fna.gz</td></tr>\n",
       "\t<tr><td>RS_GCF_902810635.1</td><td>0</td><td> 98.65</td><td>1.35</td><td>230</td><td>k__Bacteria (UID2982)        </td><td>148</td><td>0</td><td>1968798</td><td>80.04366</td><td>⋯</td><td>89.967</td><td>CP000975.892025.893540  </td><td>Bacteria;Verrucomicrobiota;Verrucomicrobiae;Methylacidiphilales;Methylacidiphilaceae;Candidatus Methylacidiphilum;Methylacidiphilum infernorum V4</td><td>   0</td><td>20</td><td>65</td><td>0</td><td>CADDYQ01 sp902810725      </td><td>231702</td><td>/ebio/abt3_projects2/databases_no-backup/GTDB/release202/Struo2/genomes/genbank/bacteria/GCA_902810635.1/GCA_902810635.1_Chloroflexi_genomic.fna.gz </td></tr>\n",
       "</tbody>\n",
       "</table>\n"
      ],
      "text/latex": [
       "A data.table: 46434 × 112\n",
       "\\begin{tabular}{lllllllllllllllllllll}\n",
       " accession & ambiguous\\_bases & checkm\\_completeness & checkm\\_contamination & checkm\\_marker\\_count & checkm\\_marker\\_lineage & checkm\\_marker\\_set\\_count & checkm\\_strain\\_heterogeneity & coding\\_bases & coding\\_density & ⋯ & ssu\\_silva\\_blast\\_perc\\_identity & ssu\\_silva\\_blast\\_subject\\_id & ssu\\_silva\\_taxonomy & total\\_gap\\_length & trna\\_aa\\_count & trna\\_count & trna\\_selenocysteine\\_count & SPECIES & gtdb\\_taxid & fasta\\_file\\_path\\\\\n",
       " <chr> & <int> & <dbl> & <dbl> & <int> & <chr> & <int> & <dbl> & <int> & <dbl> & ⋯ & <chr> & <chr> & <chr> & <int> & <int> & <int> & <int> & <chr> & <int> & <chr>\\\\\n",
       "\\hline\n",
       "\t RS\\_GCF\\_000970205.1 &  0 & 100.00 & 0.65 & 228 & p\\_\\_Euryarchaeota (UID49) & 153 & 0 & 3158464 & 76.23954 & ⋯ & 100  & AE008384.235306.236779 & Archaea;Halobacterota;Methanosarcinia;Methanosarciniales;Methanosarcinaceae;Methanosarcina;Methanosarcina mazei Go1 &   0 & 20 & 57 & 0 & Methanosarcina mazei       &  44 & /ebio/abt3\\_projects/databases\\_no-backup/GTDB/release202/Struo2/genomes/genbank/archaea/GCA\\_000970205.1/GCA\\_000970205.1\\_ASM97020v1\\_genomic.fna.gz \\\\\n",
       "\t GB\\_GCA\\_002499445.1 & 41 &  99.18 & 0.00 & 228 & p\\_\\_Euryarchaeota (UID49) & 153 & 0 & 2352681 & 75.88116 & ⋯ & none & none                   & none                                                                                                                & 940 & 20 & 53 & 0 & Methanosarcina sp002499445 & 422 & /ebio/abt3\\_projects/databases\\_no-backup/GTDB/release202/Struo2/genomes/genbank/archaea/GCA\\_002499445.1/GCA\\_002499445.1\\_ASM249944v1\\_genomic.fna.gz\\\\\n",
       "\t ⋮ & ⋮ & ⋮ & ⋮ & ⋮ & ⋮ & ⋮ & ⋮ & ⋮ & ⋮ & ⋱ & ⋮ & ⋮ & ⋮ & ⋮ & ⋮ & ⋮ & ⋮ & ⋮ & ⋮ & ⋮\\\\\n",
       "\t RS\\_GCF\\_013359645.1 & 0 & 100.00 & 0.96 & 845 & f\\_\\_Pseudomonadaceae (UID4490) & 321 & 0 & 5557852 & 88.12439 & ⋯ & 100    & CP002585.6171599.6173135 & Bacteria;Proteobacteria;Gammaproteobacteria;Pseudomonadales;Pseudomonadaceae;Pseudomonas;Pseudomonas brassicacearum subsp. brassicacearum NFM421  & 1077 & 19 & 51 & 0 & Pseudomonas\\_E kilonensis\\_B & 210031 & /ebio/abt3\\_projects/databases\\_no-backup/GTDB/release202/Struo2/genomes/genbank/bacteria/GCA\\_013359645.1/GCA\\_013359645.1\\_ASM1335964v1\\_genomic.fna.gz\\\\\n",
       "\t RS\\_GCF\\_902810635.1 & 0 &  98.65 & 1.35 & 230 & k\\_\\_Bacteria (UID2982)         & 148 & 0 & 1968798 & 80.04366 & ⋯ & 89.967 & CP000975.892025.893540   & Bacteria;Verrucomicrobiota;Verrucomicrobiae;Methylacidiphilales;Methylacidiphilaceae;Candidatus Methylacidiphilum;Methylacidiphilum infernorum V4 &    0 & 20 & 65 & 0 & CADDYQ01 sp902810725       & 231702 & /ebio/abt3\\_projects/databases\\_no-backup/GTDB/release202/Struo2/genomes/genbank/bacteria/GCA\\_902810635.1/GCA\\_902810635.1\\_Chloroflexi\\_genomic.fna.gz \\\\\n",
       "\\end{tabular}\n"
      ],
      "text/markdown": [
       "\n",
       "A data.table: 46434 × 112\n",
       "\n",
       "| accession &lt;chr&gt; | ambiguous_bases &lt;int&gt; | checkm_completeness &lt;dbl&gt; | checkm_contamination &lt;dbl&gt; | checkm_marker_count &lt;int&gt; | checkm_marker_lineage &lt;chr&gt; | checkm_marker_set_count &lt;int&gt; | checkm_strain_heterogeneity &lt;dbl&gt; | coding_bases &lt;int&gt; | coding_density &lt;dbl&gt; | ⋯ ⋯ | ssu_silva_blast_perc_identity &lt;chr&gt; | ssu_silva_blast_subject_id &lt;chr&gt; | ssu_silva_taxonomy &lt;chr&gt; | total_gap_length &lt;int&gt; | trna_aa_count &lt;int&gt; | trna_count &lt;int&gt; | trna_selenocysteine_count &lt;int&gt; | SPECIES &lt;chr&gt; | gtdb_taxid &lt;int&gt; | fasta_file_path &lt;chr&gt; |\n",
       "|---|---|---|---|---|---|---|---|---|---|---|---|---|---|---|---|---|---|---|---|---|\n",
       "| RS_GCF_000970205.1 |  0 | 100.00 | 0.65 | 228 | p__Euryarchaeota (UID49) | 153 | 0 | 3158464 | 76.23954 | ⋯ | 100  | AE008384.235306.236779 | Archaea;Halobacterota;Methanosarcinia;Methanosarciniales;Methanosarcinaceae;Methanosarcina;Methanosarcina mazei Go1 |   0 | 20 | 57 | 0 | Methanosarcina mazei       |  44 | /ebio/abt3_projects2/databases_no-backup/GTDB/release202/Struo2/genomes/genbank/archaea/GCA_000970205.1/GCA_000970205.1_ASM97020v1_genomic.fna.gz  |\n",
       "| GB_GCA_002499445.1 | 41 |  99.18 | 0.00 | 228 | p__Euryarchaeota (UID49) | 153 | 0 | 2352681 | 75.88116 | ⋯ | none | none                   | none                                                                                                                | 940 | 20 | 53 | 0 | Methanosarcina sp002499445 | 422 | /ebio/abt3_projects2/databases_no-backup/GTDB/release202/Struo2/genomes/genbank/archaea/GCA_002499445.1/GCA_002499445.1_ASM249944v1_genomic.fna.gz |\n",
       "| ⋮ | ⋮ | ⋮ | ⋮ | ⋮ | ⋮ | ⋮ | ⋮ | ⋮ | ⋮ | ⋱ | ⋮ | ⋮ | ⋮ | ⋮ | ⋮ | ⋮ | ⋮ | ⋮ | ⋮ | ⋮ |\n",
       "| RS_GCF_013359645.1 | 0 | 100.00 | 0.96 | 845 | f__Pseudomonadaceae (UID4490) | 321 | 0 | 5557852 | 88.12439 | ⋯ | 100    | CP002585.6171599.6173135 | Bacteria;Proteobacteria;Gammaproteobacteria;Pseudomonadales;Pseudomonadaceae;Pseudomonas;Pseudomonas brassicacearum subsp. brassicacearum NFM421  | 1077 | 19 | 51 | 0 | Pseudomonas_E kilonensis_B | 210031 | /ebio/abt3_projects2/databases_no-backup/GTDB/release202/Struo2/genomes/genbank/bacteria/GCA_013359645.1/GCA_013359645.1_ASM1335964v1_genomic.fna.gz |\n",
       "| RS_GCF_902810635.1 | 0 |  98.65 | 1.35 | 230 | k__Bacteria (UID2982)         | 148 | 0 | 1968798 | 80.04366 | ⋯ | 89.967 | CP000975.892025.893540   | Bacteria;Verrucomicrobiota;Verrucomicrobiae;Methylacidiphilales;Methylacidiphilaceae;Candidatus Methylacidiphilum;Methylacidiphilum infernorum V4 |    0 | 20 | 65 | 0 | CADDYQ01 sp902810725       | 231702 | /ebio/abt3_projects2/databases_no-backup/GTDB/release202/Struo2/genomes/genbank/bacteria/GCA_902810635.1/GCA_902810635.1_Chloroflexi_genomic.fna.gz  |\n",
       "\n"
      ],
      "text/plain": [
       "      accession          ambiguous_bases checkm_completeness\n",
       "1     RS_GCF_000970205.1  0              100.00             \n",
       "2     GB_GCA_002499445.1 41               99.18             \n",
       "⋮     ⋮                  ⋮               ⋮                  \n",
       "46433 RS_GCF_013359645.1 0               100.00             \n",
       "46434 RS_GCF_902810635.1 0                98.65             \n",
       "      checkm_contamination checkm_marker_count checkm_marker_lineage        \n",
       "1     0.65                 228                 p__Euryarchaeota (UID49)     \n",
       "2     0.00                 228                 p__Euryarchaeota (UID49)     \n",
       "⋮     ⋮                    ⋮                   ⋮                            \n",
       "46433 0.96                 845                 f__Pseudomonadaceae (UID4490)\n",
       "46434 1.35                 230                 k__Bacteria (UID2982)        \n",
       "      checkm_marker_set_count checkm_strain_heterogeneity coding_bases\n",
       "1     153                     0                           3158464     \n",
       "2     153                     0                           2352681     \n",
       "⋮     ⋮                       ⋮                           ⋮           \n",
       "46433 321                     0                           5557852     \n",
       "46434 148                     0                           1968798     \n",
       "      coding_density ⋯ ssu_silva_blast_perc_identity ssu_silva_blast_subject_id\n",
       "1     76.23954       ⋯ 100                           AE008384.235306.236779    \n",
       "2     75.88116       ⋯ none                          none                      \n",
       "⋮     ⋮              ⋱ ⋮                             ⋮                         \n",
       "46433 88.12439       ⋯ 100                           CP002585.6171599.6173135  \n",
       "46434 80.04366       ⋯ 89.967                        CP000975.892025.893540    \n",
       "      ssu_silva_taxonomy                                                                                                                               \n",
       "1     Archaea;Halobacterota;Methanosarcinia;Methanosarciniales;Methanosarcinaceae;Methanosarcina;Methanosarcina mazei Go1                              \n",
       "2     none                                                                                                                                             \n",
       "⋮     ⋮                                                                                                                                                \n",
       "46433 Bacteria;Proteobacteria;Gammaproteobacteria;Pseudomonadales;Pseudomonadaceae;Pseudomonas;Pseudomonas brassicacearum subsp. brassicacearum NFM421 \n",
       "46434 Bacteria;Verrucomicrobiota;Verrucomicrobiae;Methylacidiphilales;Methylacidiphilaceae;Candidatus Methylacidiphilum;Methylacidiphilum infernorum V4\n",
       "      total_gap_length trna_aa_count trna_count trna_selenocysteine_count\n",
       "1       0              20            57         0                        \n",
       "2     940              20            53         0                        \n",
       "⋮     ⋮                ⋮             ⋮          ⋮                        \n",
       "46433 1077             19            51         0                        \n",
       "46434    0             20            65         0                        \n",
       "      SPECIES                    gtdb_taxid\n",
       "1     Methanosarcina mazei        44       \n",
       "2     Methanosarcina sp002499445 422       \n",
       "⋮     ⋮                          ⋮         \n",
       "46433 Pseudomonas_E kilonensis_B 210031    \n",
       "46434 CADDYQ01 sp902810725       231702    \n",
       "      fasta_file_path                                                                                                                                    \n",
       "1     /ebio/abt3_projects2/databases_no-backup/GTDB/release202/Struo2/genomes/genbank/archaea/GCA_000970205.1/GCA_000970205.1_ASM97020v1_genomic.fna.gz   \n",
       "2     /ebio/abt3_projects2/databases_no-backup/GTDB/release202/Struo2/genomes/genbank/archaea/GCA_002499445.1/GCA_002499445.1_ASM249944v1_genomic.fna.gz  \n",
       "⋮     ⋮                                                                                                                                                  \n",
       "46433 /ebio/abt3_projects2/databases_no-backup/GTDB/release202/Struo2/genomes/genbank/bacteria/GCA_013359645.1/GCA_013359645.1_ASM1335964v1_genomic.fna.gz\n",
       "46434 /ebio/abt3_projects2/databases_no-backup/GTDB/release202/Struo2/genomes/genbank/bacteria/GCA_902810635.1/GCA_902810635.1_Chloroflexi_genomic.fna.gz "
      ]
     },
     "metadata": {},
     "output_type": "display_data"
    }
   ],
   "source": [
    "meta_r202 = Fread(meta_file_r202, check.names=TRUE)\n",
    "meta_r202"
   ]
  },
  {
   "cell_type": "markdown",
   "metadata": {},
   "source": [
    "# Taxonomy overlap\n",
    "\n",
    "* latest vs previous"
   ]
  },
  {
   "cell_type": "code",
   "execution_count": 20,
   "metadata": {
    "ExecuteTime": {
     "end_time": "2021-05-02T11:20:26.051977Z",
     "start_time": "2021-05-02T11:20:25.836Z"
    }
   },
   "outputs": [
    {
     "name": "stdout",
     "output_type": "stream",
     "text": [
      "intersect(x,y): 26579 \n",
      "setdiff(x,y): 4410 \n",
      "setdiff(y,x): 19855 \n",
      "union(x,y): 50844 \n"
     ]
    }
   ],
   "source": [
    "# overlap in GTDB taxonomies\n",
    "overlap(meta_r95$gtdb_taxonomy, meta_r202$gtdb_taxonomy)"
   ]
  },
  {
   "cell_type": "code",
   "execution_count": 24,
   "metadata": {
    "ExecuteTime": {
     "end_time": "2021-05-02T11:22:29.448524Z",
     "start_time": "2021-05-02T11:22:29.219Z"
    }
   },
   "outputs": [
    {
     "data": {
      "text/html": [
       "<table class=\"dataframe\">\n",
       "<caption>A tidytable: 4410 × 1</caption>\n",
       "<thead>\n",
       "\t<tr><th scope=col>gtdb_taxonomy</th></tr>\n",
       "\t<tr><th scope=col>&lt;chr&gt;</th></tr>\n",
       "</thead>\n",
       "<tbody>\n",
       "\t<tr><td>d__Archaea;p__Aenigmatarchaeota;c__Aenigmatarchaeia;o__GW2011-AR5;f__GCA-2688965;g__GCA-2688965;s__GCA-2688965 sp002688965</td></tr>\n",
       "\t<tr><td>d__Archaea;p__Aenigmatarchaeota;c__Aenigmatarchaeia;o__GW2011-AR5;f__GW2011-AR5;g__GW2011-AR5;s__GW2011-AR5 sp000806115   </td></tr>\n",
       "\t<tr><td>⋮</td></tr>\n",
       "\t<tr><td>d__Bacteria;p__Proteobacteria;c__Gammaproteobacteria;o__Enterobacterales;f__Alteromonadaceae;g__Aliidiomarina;s__Aliidiomarina sp007097585</td></tr>\n",
       "\t<tr><td>d__Bacteria;p__Proteobacteria;c__Gammaproteobacteria;o__Pseudomonadales;f__Moraxellaceae;g__Acinetobacter;s__Acinetobacter cumulans       </td></tr>\n",
       "</tbody>\n",
       "</table>\n"
      ],
      "text/latex": [
       "A tidytable: 4410 × 1\n",
       "\\begin{tabular}{l}\n",
       " gtdb\\_taxonomy\\\\\n",
       " <chr>\\\\\n",
       "\\hline\n",
       "\t d\\_\\_Archaea;p\\_\\_Aenigmatarchaeota;c\\_\\_Aenigmatarchaeia;o\\_\\_GW2011-AR5;f\\_\\_GCA-2688965;g\\_\\_GCA-2688965;s\\_\\_GCA-2688965 sp002688965\\\\\n",
       "\t d\\_\\_Archaea;p\\_\\_Aenigmatarchaeota;c\\_\\_Aenigmatarchaeia;o\\_\\_GW2011-AR5;f\\_\\_GW2011-AR5;g\\_\\_GW2011-AR5;s\\_\\_GW2011-AR5 sp000806115   \\\\\n",
       "\t ⋮\\\\\n",
       "\t d\\_\\_Bacteria;p\\_\\_Proteobacteria;c\\_\\_Gammaproteobacteria;o\\_\\_Enterobacterales;f\\_\\_Alteromonadaceae;g\\_\\_Aliidiomarina;s\\_\\_Aliidiomarina sp007097585\\\\\n",
       "\t d\\_\\_Bacteria;p\\_\\_Proteobacteria;c\\_\\_Gammaproteobacteria;o\\_\\_Pseudomonadales;f\\_\\_Moraxellaceae;g\\_\\_Acinetobacter;s\\_\\_Acinetobacter cumulans       \\\\\n",
       "\\end{tabular}\n"
      ],
      "text/markdown": [
       "\n",
       "A tidytable: 4410 × 1\n",
       "\n",
       "| gtdb_taxonomy &lt;chr&gt; |\n",
       "|---|\n",
       "| d__Archaea;p__Aenigmatarchaeota;c__Aenigmatarchaeia;o__GW2011-AR5;f__GCA-2688965;g__GCA-2688965;s__GCA-2688965 sp002688965 |\n",
       "| d__Archaea;p__Aenigmatarchaeota;c__Aenigmatarchaeia;o__GW2011-AR5;f__GW2011-AR5;g__GW2011-AR5;s__GW2011-AR5 sp000806115    |\n",
       "| ⋮ |\n",
       "| d__Bacteria;p__Proteobacteria;c__Gammaproteobacteria;o__Enterobacterales;f__Alteromonadaceae;g__Aliidiomarina;s__Aliidiomarina sp007097585 |\n",
       "| d__Bacteria;p__Proteobacteria;c__Gammaproteobacteria;o__Pseudomonadales;f__Moraxellaceae;g__Acinetobacter;s__Acinetobacter cumulans        |\n",
       "\n"
      ],
      "text/plain": [
       "     gtdb_taxonomy                                                                                                                             \n",
       "1    d__Archaea;p__Aenigmatarchaeota;c__Aenigmatarchaeia;o__GW2011-AR5;f__GCA-2688965;g__GCA-2688965;s__GCA-2688965 sp002688965                \n",
       "2    d__Archaea;p__Aenigmatarchaeota;c__Aenigmatarchaeia;o__GW2011-AR5;f__GW2011-AR5;g__GW2011-AR5;s__GW2011-AR5 sp000806115                   \n",
       "⋮    ⋮                                                                                                                                         \n",
       "4409 d__Bacteria;p__Proteobacteria;c__Gammaproteobacteria;o__Enterobacterales;f__Alteromonadaceae;g__Aliidiomarina;s__Aliidiomarina sp007097585\n",
       "4410 d__Bacteria;p__Proteobacteria;c__Gammaproteobacteria;o__Pseudomonadales;f__Moraxellaceae;g__Acinetobacter;s__Acinetobacter cumulans       "
      ]
     },
     "metadata": {},
     "output_type": "display_data"
    }
   ],
   "source": [
    "# just in r95\n",
    "meta_r95 %>%\n",
    "    anti_join.(meta_r202, c('gtdb_taxonomy')) %>%\n",
    "    select.(gtdb_taxonomy)"
   ]
  },
  {
   "cell_type": "code",
   "execution_count": 27,
   "metadata": {
    "ExecuteTime": {
     "end_time": "2021-05-02T11:38:24.673201Z",
     "start_time": "2021-05-02T11:38:24.425Z"
    }
   },
   "outputs": [
    {
     "data": {
      "text/html": [
       "<table class=\"dataframe\">\n",
       "<caption>A tidytable: 19855 × 1</caption>\n",
       "<thead>\n",
       "\t<tr><th scope=col>gtdb_taxonomy</th></tr>\n",
       "\t<tr><th scope=col>&lt;chr&gt;</th></tr>\n",
       "</thead>\n",
       "<tbody>\n",
       "\t<tr><td>d__Archaea;p__Halobacteriota;c__Methanosarcinia;o__Methanosarcinales;f__Methanosarcinaceae;g__Methanosarcina;s__Methanosarcina flavescens             </td></tr>\n",
       "\t<tr><td>d__Archaea;p__Halobacteriota;c__Methanosarcinia;o__Methanosarcinales;f__Methanosarcinaceae;g__Methanomethylovorans;s__Methanomethylovorans sp014361205</td></tr>\n",
       "\t<tr><td>⋮</td></tr>\n",
       "\t<tr><td>d__Bacteria;p__Proteobacteria;c__Gammaproteobacteria;o__Burkholderiales;f__Burkholderiaceae;g__Cupriavidus;s__Cupriavidus basilensis   </td></tr>\n",
       "\t<tr><td>d__Bacteria;p__Verrucomicrobiota;c__Verrucomicrobiae;o__Methylacidiphilales;f__Methylacidiphilaceae;g__CADDYQ01;s__CADDYQ01 sp902810725</td></tr>\n",
       "</tbody>\n",
       "</table>\n"
      ],
      "text/latex": [
       "A tidytable: 19855 × 1\n",
       "\\begin{tabular}{l}\n",
       " gtdb\\_taxonomy\\\\\n",
       " <chr>\\\\\n",
       "\\hline\n",
       "\t d\\_\\_Archaea;p\\_\\_Halobacteriota;c\\_\\_Methanosarcinia;o\\_\\_Methanosarcinales;f\\_\\_Methanosarcinaceae;g\\_\\_Methanosarcina;s\\_\\_Methanosarcina flavescens             \\\\\n",
       "\t d\\_\\_Archaea;p\\_\\_Halobacteriota;c\\_\\_Methanosarcinia;o\\_\\_Methanosarcinales;f\\_\\_Methanosarcinaceae;g\\_\\_Methanomethylovorans;s\\_\\_Methanomethylovorans sp014361205\\\\\n",
       "\t ⋮\\\\\n",
       "\t d\\_\\_Bacteria;p\\_\\_Proteobacteria;c\\_\\_Gammaproteobacteria;o\\_\\_Burkholderiales;f\\_\\_Burkholderiaceae;g\\_\\_Cupriavidus;s\\_\\_Cupriavidus basilensis   \\\\\n",
       "\t d\\_\\_Bacteria;p\\_\\_Verrucomicrobiota;c\\_\\_Verrucomicrobiae;o\\_\\_Methylacidiphilales;f\\_\\_Methylacidiphilaceae;g\\_\\_CADDYQ01;s\\_\\_CADDYQ01 sp902810725\\\\\n",
       "\\end{tabular}\n"
      ],
      "text/markdown": [
       "\n",
       "A tidytable: 19855 × 1\n",
       "\n",
       "| gtdb_taxonomy &lt;chr&gt; |\n",
       "|---|\n",
       "| d__Archaea;p__Halobacteriota;c__Methanosarcinia;o__Methanosarcinales;f__Methanosarcinaceae;g__Methanosarcina;s__Methanosarcina flavescens              |\n",
       "| d__Archaea;p__Halobacteriota;c__Methanosarcinia;o__Methanosarcinales;f__Methanosarcinaceae;g__Methanomethylovorans;s__Methanomethylovorans sp014361205 |\n",
       "| ⋮ |\n",
       "| d__Bacteria;p__Proteobacteria;c__Gammaproteobacteria;o__Burkholderiales;f__Burkholderiaceae;g__Cupriavidus;s__Cupriavidus basilensis    |\n",
       "| d__Bacteria;p__Verrucomicrobiota;c__Verrucomicrobiae;o__Methylacidiphilales;f__Methylacidiphilaceae;g__CADDYQ01;s__CADDYQ01 sp902810725 |\n",
       "\n"
      ],
      "text/plain": [
       "      gtdb_taxonomy                                                                                                                                         \n",
       "1     d__Archaea;p__Halobacteriota;c__Methanosarcinia;o__Methanosarcinales;f__Methanosarcinaceae;g__Methanosarcina;s__Methanosarcina flavescens             \n",
       "2     d__Archaea;p__Halobacteriota;c__Methanosarcinia;o__Methanosarcinales;f__Methanosarcinaceae;g__Methanomethylovorans;s__Methanomethylovorans sp014361205\n",
       "⋮     ⋮                                                                                                                                                     \n",
       "19854 d__Bacteria;p__Proteobacteria;c__Gammaproteobacteria;o__Burkholderiales;f__Burkholderiaceae;g__Cupriavidus;s__Cupriavidus basilensis                  \n",
       "19855 d__Bacteria;p__Verrucomicrobiota;c__Verrucomicrobiae;o__Methylacidiphilales;f__Methylacidiphilaceae;g__CADDYQ01;s__CADDYQ01 sp902810725               "
      ]
     },
     "metadata": {},
     "output_type": "display_data"
    }
   ],
   "source": [
    "# new to r202\n",
    "meta_r202 %>%\n",
    "    anti_join.(meta_r95, c('gtdb_taxonomy')) %>%\n",
    "    select.(gtdb_taxonomy)"
   ]
  },
  {
   "cell_type": "markdown",
   "metadata": {},
   "source": [
    "# Struo2 create\n",
    "\n",
    "* Creating profiling databases from scratch due to taxonomy changes between r95 and r202\n",
    "* If I tried to update r95 with r202, then the updated database would still have taxa only found in r95"
   ]
  },
  {
   "cell_type": "markdown",
   "metadata": {},
   "source": [
    "### Config"
   ]
  },
  {
   "cell_type": "code",
   "execution_count": 28,
   "metadata": {
    "ExecuteTime": {
     "end_time": "2021-05-02T11:39:38.789314Z",
     "start_time": "2021-05-02T11:39:38.686Z"
    }
   },
   "outputs": [
    {
     "name": "stdout",
     "output_type": "stream",
     "text": [
      "#-- email notifications of pipeline success/failure (use \"Skip\" to deactivate) --#\n",
      "email: nyoungblut@tuebingen.mpg.de\n",
      "\n",
      "#-- I/O --#\n",
      "# file listing samples and associated data\n",
      "samples_file: /ebio/abt3_projects2/databases_no-backup/GTDB/release202/Struo2/metadata_1per-GTDB-Spec_gte50comp-lt5cont_wtaxID_wPath_n100.tsv\n",
      "#samples_file: /ebio/abt3_projects2/databases_no-backup/GTDB/release202/Struo2/metadata_1per-GTDB-Spec_gte50comp-lt5cont_wtaxID_wPath.tsv\n",
      "\n",
      "## column names in samples table\n",
      "samples_col: 'ncbi_organism_name'\n",
      "accession_col: 'accession'\n",
      "fasta_file_path_col: 'fasta_file_path'\n",
      "taxID_col: 'gtdb_taxid'          # or 'ncbi_species_taxid'\n",
      "taxonomy_col: 'gtdb_taxonomy'    # or 'ncbi_taxonomy' \n",
      "\n",
      "# output location\n",
      "output_dir: /ebio/abt3_projects2/databases_no-backup/GTDB/release202/Struo2/\n",
      "\n",
      "# temporary file directory (your username will be added automatically)\n",
      "tmp_dir: /ebio/abt3_scratch/\n",
      "\n",
      "#-- databases to create --#\n",
      "# Replace \"Create\" with \"Skip\" to skip creation of any of these\n",
      "# Note that braken relies on the kraken2 database\n",
      "databases:\n",
      "  kraken2: Create\n",
      "  bracken: Create\n",
      "  genes: Create\n",
      "  humann3_bowtie2: Create\n",
      "  humann3_diamond: Create\n",
      "\n",
      "# Name of UniRef clustering (uniref90 or uniref50)\n",
      "## \"uniref90\" highly recommended\n",
      "uniref_name: uniref90\n",
      "# Name of the humann3 diamond database to be created\n",
      "## This must match the naming allowed by humann3 (eg., \"uniref90_201901.dmnd\")\n",
      "dmnd_name: uniref90_201901.dmnd\n",
      "# Index mapping UniRef90 clusters to UniRef50 (saves time vs re-annotating)\n",
      "## This is skipped if annotating with UniRef50 instead of UniRef90\n",
      "cluster_idx: /ebio/abt3_projects2/databases_no-backup/uniref/2019.01/uniref50-90.pkl\n",
      "\n",
      "#-- if custom NCBI/GTDB taxdump files, \"Skip\" if standard NCBI taxdump --#\n",
      "# Used for kraken taxonomy & metaphlan\n",
      "names_dmp: /ebio/abt3_projects2/databases_no-backup/GTDB/release202/taxdump/names.dmp\n",
      "nodes_dmp: /ebio/abt3_projects2/databases_no-backup/GTDB/release202/taxdump/nodes.dmp\n",
      "\n",
      "#-- keep intermediate files required for re-creating DBs (eg., w/ more genomes) --#\n",
      "# If \"True\", the intermediate files are saved to `output_dir`\n",
      "# Else, the intermediate files are temporarily stored in `temp_folder`\n",
      "keep_intermediate: True\n",
      "\n",
      "#-- software parameters --#\n",
      "# `vsearch_per_genome` = per-genome gene clustering\n",
      "# use \"Skip\" at the start of any param to skip (if possible to skip) \n",
      "# for humann3, use either mmseqs or diamond (mmseqs gets priority if neither skipped)\n",
      "# for humann3::mmseqs_search::run, --num-iterations must be >=2\n",
      "params:\n",
      "  ionice: -c 3\n",
      "  bracken:\n",
      "    build_kmer: 35\n",
      "    build_read_lens:\n",
      "      - 100\n",
      "      - 150\n",
      "      - 200\n",
      "      - 250\n",
      "  genes:\n",
      "    prodigal: \"\"\n",
      "    vsearch_per_genome: --id 0.97 --strand both --qmask none --fasta_width 0\n",
      "    mmseqs_cluster: --min-seq-id 0.9 -c 0.8\n",
      "    mmseqs_cluster_method: linclust     # or \"cluster\", which is slower\n",
      "  humann3:\n",
      "    batches: 3000\n",
      "    mmseqs_search:\n",
      "      db: /ebio/abt3_projects2/databases_no-backup/mmseqs/UniRef90/2019_01/uniref90\n",
      "      index: -s 6\n",
      "      run: -e 1e-3 --max-accept 1 --max-seqs 100 --num-iterations 2 --start-sens 1 --sens-steps 3 -s 6\n",
      "    diamond:\n",
      "      db: /ebio/abt3_projects2/databases_no-backup/humann3/201901/uniref90/uniref90_201901.dmnd\n",
      "      run: Skip #--evalue 1e-3 --query-cover 80 --id 50 --max-target-seqs 1 --block-size 4 --index-chunks 2\n",
      "    propagate_annotations: --min-cov 80 --min-pident 90\n",
      "\n",
      "#-- snakemake pipeline --#\n",
      "pipeline:\n",
      "  snakemake_folder: ./\n",
      "  script_folder: ./bin/scripts/\n",
      "  name: Struo2_db-create\n",
      "  config: create"
     ]
    }
   ],
   "source": [
    "F = file.path(work_dir, 'config_db-create.yaml')\n",
    "cat_file(F)"
   ]
  },
  {
   "cell_type": "markdown",
   "metadata": {},
   "source": [
    "### Run"
   ]
  },
  {
   "cell_type": "markdown",
   "metadata": {},
   "source": [
    "```\n",
    "#(snakemake) @ rick:/ebio/abt3_projects/software/dev/struo2\n",
    "screen -L -S Struo2-r202 ./snakemake_sge.sh /ebio/abt3_projects2/databases_no-backup/GTDB/release202/Struo2/config_db-create.yaml 30 --scheduler greedy -F\n",
    "```"
   ]
  },
  {
   "cell_type": "markdown",
   "metadata": {},
   "source": [
    "# sessionInfo"
   ]
  },
  {
   "cell_type": "code",
   "execution_count": 1,
   "metadata": {
    "ExecuteTime": {
     "end_time": "2021-07-07T13:01:13.781152Z",
     "start_time": "2021-07-07T13:01:12.643Z"
    }
   },
   "outputs": [
    {
     "data": {
      "text/plain": [
       "R version 4.0.3 (2020-10-10)\n",
       "Platform: x86_64-conda-linux-gnu (64-bit)\n",
       "Running under: Ubuntu 18.04.5 LTS\n",
       "\n",
       "Matrix products: default\n",
       "BLAS/LAPACK: /ebio/abt3_projects/Georg_animal_feces/envs/phyloseq2/lib/libopenblasp-r0.3.10.so\n",
       "\n",
       "locale:\n",
       " [1] LC_CTYPE=en_US.UTF-8       LC_NUMERIC=C              \n",
       " [3] LC_TIME=en_US.UTF-8        LC_COLLATE=en_US.UTF-8    \n",
       " [5] LC_MONETARY=en_US.UTF-8    LC_MESSAGES=en_US.UTF-8   \n",
       " [7] LC_PAPER=en_US.UTF-8       LC_NAME=C                 \n",
       " [9] LC_ADDRESS=C               LC_TELEPHONE=C            \n",
       "[11] LC_MEASUREMENT=en_US.UTF-8 LC_IDENTIFICATION=C       \n",
       "\n",
       "attached base packages:\n",
       "[1] stats     graphics  grDevices utils     datasets  methods   base     \n",
       "\n",
       "loaded via a namespace (and not attached):\n",
       " [1] compiler_4.0.3    ellipsis_0.3.1    IRdisplay_1.0     pbdZMQ_0.3-4     \n",
       " [5] tools_4.0.3       htmltools_0.5.1.1 pillar_1.4.7      base64enc_0.1-3  \n",
       " [9] crayon_1.3.4      uuid_0.1-4        IRkernel_1.1.1    jsonlite_1.7.2   \n",
       "[13] digest_0.6.27     lifecycle_0.2.0   repr_1.1.3        rlang_0.4.10     \n",
       "[17] evaluate_0.14    "
      ]
     },
     "metadata": {},
     "output_type": "display_data"
    }
   ],
   "source": [
    "sessionInfo()"
   ]
  },
  {
   "cell_type": "code",
   "execution_count": null,
   "metadata": {},
   "outputs": [],
   "source": []
  }
 ],
 "metadata": {
  "kernelspec": {
   "display_name": "R [conda env:Georg_animal_feces-phyloseq2]",
   "language": "R",
   "name": "conda-env-Georg_animal_feces-phyloseq2-r"
  },
  "language_info": {
   "codemirror_mode": "r",
   "file_extension": ".r",
   "mimetype": "text/x-r-source",
   "name": "R",
   "pygments_lexer": "r",
   "version": "4.0.3"
  },
  "notify_time": "30",
  "toc": {
   "base_numbering": 1,
   "nav_menu": {},
   "number_sections": true,
   "sideBar": true,
   "skip_h1_title": false,
   "title_cell": "Table of Contents",
   "title_sidebar": "Contents",
   "toc_cell": true,
   "toc_position": {},
   "toc_section_display": true,
   "toc_window_display": true
  }
 },
 "nbformat": 4,
 "nbformat_minor": 4
}
