{
 "cells": [
  {
   "cell_type": "markdown",
   "metadata": {
    "toc": true
   },
   "source": [
    "<h1>Table of Contents<span class=\"tocSkip\"></span></h1>\n",
    "<div class=\"toc\"><ul class=\"toc-item\"><li><span><a href=\"#Goal\" data-toc-modified-id=\"Goal-1\"><span class=\"toc-item-num\">1&nbsp;&nbsp;</span>Goal</a></span></li><li><span><a href=\"#Var\" data-toc-modified-id=\"Var-2\"><span class=\"toc-item-num\">2&nbsp;&nbsp;</span>Var</a></span></li><li><span><a href=\"#Init\" data-toc-modified-id=\"Init-3\"><span class=\"toc-item-num\">3&nbsp;&nbsp;</span>Init</a></span></li><li><span><a href=\"#Test-samples\" data-toc-modified-id=\"Test-samples-4\"><span class=\"toc-item-num\">4&nbsp;&nbsp;</span>Test samples</a></span><ul class=\"toc-item\"><li><span><a href=\"#n50_Pseudomonas\" data-toc-modified-id=\"n50_Pseudomonas-4.1\"><span class=\"toc-item-num\">4.1&nbsp;&nbsp;</span>n50_Pseudomonas</a></span></li><li><span><a href=\"#n10\" data-toc-modified-id=\"n10-4.2\"><span class=\"toc-item-num\">4.2&nbsp;&nbsp;</span>n10</a></span></li><li><span><a href=\"#n5\" data-toc-modified-id=\"n5-4.3\"><span class=\"toc-item-num\">4.3&nbsp;&nbsp;</span>n5</a></span></li></ul></li><li><span><a href=\"#Gene-list\" data-toc-modified-id=\"Gene-list-5\"><span class=\"toc-item-num\">5&nbsp;&nbsp;</span>Gene list</a></span></li></ul></div>"
   ]
  },
  {
   "cell_type": "markdown",
   "metadata": {},
   "source": [
    "# Goal\n",
    "\n",
    "* test dataset construction & evaluation for Struo2"
   ]
  },
  {
   "cell_type": "markdown",
   "metadata": {},
   "source": [
    "# Var"
   ]
  },
  {
   "cell_type": "code",
   "execution_count": 37,
   "metadata": {
    "ExecuteTime": {
     "end_time": "2020-10-23T13:21:24.088178Z",
     "start_time": "2020-10-23T13:21:24.052Z"
    }
   },
   "outputs": [],
   "source": [
    "samps_dir = '/ebio/abt3_projects/software/dev/struo2/tests/samples/'\n",
    "work_dir = '/ebio/abt3_projects/software/dev/struo2/tests/data/'\n",
    "\n",
    "meta_file = '/ebio/abt3_projects/databases_no-backup/GTDB/release95/Struo/'\n",
    "meta_file = file.path(meta_file, 'metadata_1per-GTDB-Spec_gte50comp-lt5cont_wtaxID_wPath.tsv')"
   ]
  },
  {
   "cell_type": "markdown",
   "metadata": {},
   "source": [
    "# Init"
   ]
  },
  {
   "cell_type": "code",
   "execution_count": 34,
   "metadata": {
    "ExecuteTime": {
     "end_time": "2020-10-23T13:20:50.643356Z",
     "start_time": "2020-10-23T13:20:50.604Z"
    }
   },
   "outputs": [],
   "source": [
    "library(dplyr)\n",
    "library(tidyr)\n",
    "library(ggplot2)\n",
    "library(LeyLabRMisc)\n",
    "library(uuid)\n",
    "df.dims()"
   ]
  },
  {
   "cell_type": "markdown",
   "metadata": {},
   "source": [
    "# Test samples"
   ]
  },
  {
   "cell_type": "code",
   "execution_count": 38,
   "metadata": {
    "ExecuteTime": {
     "end_time": "2020-10-23T13:21:36.426347Z",
     "start_time": "2020-10-23T13:21:26.211Z"
    }
   },
   "outputs": [
    {
     "data": {
      "text/html": [
       "<table>\n",
       "<caption>A data.frame: 30989 × 113</caption>\n",
       "<thead>\n",
       "\t<tr><th scope=col>ncbi_organism_name</th><th scope=col>accession</th><th scope=col>ambiguous_bases</th><th scope=col>checkm_completeness</th><th scope=col>checkm_contamination</th><th scope=col>checkm_marker_count</th><th scope=col>checkm_marker_lineage</th><th scope=col>checkm_marker_set_count</th><th scope=col>checkm_strain_heterogeneity</th><th scope=col>coding_bases</th><th scope=col>⋯</th><th scope=col>ssu_silva_blast_perc_identity</th><th scope=col>ssu_silva_blast_subject_id</th><th scope=col>ssu_silva_taxonomy</th><th scope=col>total_gap_length</th><th scope=col>trna_aa_count</th><th scope=col>trna_count</th><th scope=col>trna_selenocysteine_count</th><th scope=col>SPECIES</th><th scope=col>gtdb_taxid</th><th scope=col>fasta_file_path</th></tr>\n",
       "\t<tr><th scope=col>&lt;fct&gt;</th><th scope=col>&lt;fct&gt;</th><th scope=col>&lt;int&gt;</th><th scope=col>&lt;dbl&gt;</th><th scope=col>&lt;dbl&gt;</th><th scope=col>&lt;int&gt;</th><th scope=col>&lt;fct&gt;</th><th scope=col>&lt;int&gt;</th><th scope=col>&lt;dbl&gt;</th><th scope=col>&lt;int&gt;</th><th scope=col>⋯</th><th scope=col>&lt;fct&gt;</th><th scope=col>&lt;fct&gt;</th><th scope=col>&lt;fct&gt;</th><th scope=col>&lt;int&gt;</th><th scope=col>&lt;int&gt;</th><th scope=col>&lt;int&gt;</th><th scope=col>&lt;int&gt;</th><th scope=col>&lt;fct&gt;</th><th scope=col>&lt;int&gt;</th><th scope=col>&lt;fct&gt;</th></tr>\n",
       "</thead>\n",
       "<tbody>\n",
       "\t<tr><td>GB_GCA_002789635.1_Candidatus Aenigmarchaeota archaeon CG_4_9_14_3_um_filter_37_18</td><td>GB_GCA_002789635.1</td><td>  9</td><td>79.44</td><td>0</td><td>149</td><td>k__Archaea (UID2)</td><td>107</td><td>0</td><td>794970</td><td>⋯</td><td>100</td><td>MNUF01000028.16163.17137</td><td>Archaea;Nanoarchaeaeota;Nanohaloarchaeia;Aenigmarchaeales;Candidatus Aenigmarchaeota archaeon CG1_02_38_14</td><td> 368</td><td>19</td><td>35</td><td>0</td><td>CG10238-14 sp002789635  </td><td> 689</td><td>/ebio/abt3_projects/databases_no-backup/GTDB/release95/Struo/genomes/genbank/archaea/GCA_002789635.1/GCA_002789635.1_ASM278963v1_genomic.fna.gz</td></tr>\n",
       "\t<tr><td>GB_GCA_001784635.1_Candidatus Micrarchaeota archaeon RBG_16_49_10                 </td><td>GB_GCA_001784635.1</td><td>151</td><td>74.92</td><td>0</td><td>149</td><td>k__Archaea (UID2)</td><td>107</td><td>0</td><td>773516</td><td>⋯</td><td>100</td><td>MFRS01000021.2138.3463  </td><td>Archaea;Nanoarchaeaeota;Nanohaloarchaeia;Aenigmarchaeales;Candidatus Micrarchaeota archaeon RBG_16_49_10  </td><td>6621</td><td>18</td><td>36</td><td>0</td><td>RBG-16-49-10 sp001784635</td><td>3509</td><td>/ebio/abt3_projects/databases_no-backup/GTDB/release95/Struo/genomes/genbank/archaea/GCA_001784635.1/GCA_001784635.1_ASM178463v1_genomic.fna.gz</td></tr>\n",
       "\t<tr><td>⋮</td><td>⋮</td><td>⋮</td><td>⋮</td><td>⋮</td><td>⋮</td><td>⋮</td><td>⋮</td><td>⋮</td><td>⋮</td><td>⋱</td><td>⋮</td><td>⋮</td><td>⋮</td><td>⋮</td><td>⋮</td><td>⋮</td><td>⋮</td><td>⋮</td><td>⋮</td><td>⋮</td></tr>\n",
       "\t<tr><td>RS_GCF_001644955.1_Pseudomonas putida</td><td>RS_GCF_001644955.1</td><td>0</td><td>99.59</td><td>0.16</td><td>813</td><td>o__Pseudomonadales (UID4488) </td><td>308</td><td>0</td><td>5508282</td><td>⋯</td><td>none</td><td>none           </td><td>none                                                                                                  </td><td>0</td><td>19</td><td>61</td><td>0</td><td>Pseudomonas_E putida_C</td><td>188090</td><td>/ebio/abt3_projects/databases_no-backup/GTDB/release95/Struo/genomes/genbank/bacteria/GCA_001644955.1/GCA_001644955.1_CBF10-2_genomic.fna.gz    </td></tr>\n",
       "\t<tr><td>RS_GCF_003233695.1_Lysobacter maris  </td><td>RS_GCF_003233695.1</td><td>0</td><td>99.77</td><td>0.69</td><td>659</td><td>f__Xanthomonadaceae (UID4214)</td><td>290</td><td>0</td><td>3531075</td><td>⋯</td><td>100 </td><td>KX886800.1.1510</td><td>Bacteria;Proteobacteria;Gammaproteobacteria;Xanthomonadales;Xanthomonadaceae;Lysobacter;Lysobacter sp.</td><td>0</td><td>20</td><td>56</td><td>0</td><td>Lysobacter maris      </td><td>183442</td><td>/ebio/abt3_projects/databases_no-backup/GTDB/release95/Struo/genomes/genbank/bacteria/GCA_003233695.1/GCA_003233695.1_ASM323369v1_genomic.fna.gz</td></tr>\n",
       "</tbody>\n",
       "</table>\n"
      ],
      "text/latex": [
       "A data.frame: 30989 × 113\n",
       "\\begin{tabular}{lllllllllllllllllllll}\n",
       " ncbi\\_organism\\_name & accession & ambiguous\\_bases & checkm\\_completeness & checkm\\_contamination & checkm\\_marker\\_count & checkm\\_marker\\_lineage & checkm\\_marker\\_set\\_count & checkm\\_strain\\_heterogeneity & coding\\_bases & ⋯ & ssu\\_silva\\_blast\\_perc\\_identity & ssu\\_silva\\_blast\\_subject\\_id & ssu\\_silva\\_taxonomy & total\\_gap\\_length & trna\\_aa\\_count & trna\\_count & trna\\_selenocysteine\\_count & SPECIES & gtdb\\_taxid & fasta\\_file\\_path\\\\\n",
       " <fct> & <fct> & <int> & <dbl> & <dbl> & <int> & <fct> & <int> & <dbl> & <int> & ⋯ & <fct> & <fct> & <fct> & <int> & <int> & <int> & <int> & <fct> & <int> & <fct>\\\\\n",
       "\\hline\n",
       "\t GB\\_GCA\\_002789635.1\\_Candidatus Aenigmarchaeota archaeon CG\\_4\\_9\\_14\\_3\\_um\\_filter\\_37\\_18 & GB\\_GCA\\_002789635.1 &   9 & 79.44 & 0 & 149 & k\\_\\_Archaea (UID2) & 107 & 0 & 794970 & ⋯ & 100 & MNUF01000028.16163.17137 & Archaea;Nanoarchaeaeota;Nanohaloarchaeia;Aenigmarchaeales;Candidatus Aenigmarchaeota archaeon CG1\\_02\\_38\\_14 &  368 & 19 & 35 & 0 & CG10238-14 sp002789635   &  689 & /ebio/abt3\\_projects/databases\\_no-backup/GTDB/release95/Struo/genomes/genbank/archaea/GCA\\_002789635.1/GCA\\_002789635.1\\_ASM278963v1\\_genomic.fna.gz\\\\\n",
       "\t GB\\_GCA\\_001784635.1\\_Candidatus Micrarchaeota archaeon RBG\\_16\\_49\\_10                  & GB\\_GCA\\_001784635.1 & 151 & 74.92 & 0 & 149 & k\\_\\_Archaea (UID2) & 107 & 0 & 773516 & ⋯ & 100 & MFRS01000021.2138.3463   & Archaea;Nanoarchaeaeota;Nanohaloarchaeia;Aenigmarchaeales;Candidatus Micrarchaeota archaeon RBG\\_16\\_49\\_10   & 6621 & 18 & 36 & 0 & RBG-16-49-10 sp001784635 & 3509 & /ebio/abt3\\_projects/databases\\_no-backup/GTDB/release95/Struo/genomes/genbank/archaea/GCA\\_001784635.1/GCA\\_001784635.1\\_ASM178463v1\\_genomic.fna.gz\\\\\n",
       "\t ⋮ & ⋮ & ⋮ & ⋮ & ⋮ & ⋮ & ⋮ & ⋮ & ⋮ & ⋮ & ⋱ & ⋮ & ⋮ & ⋮ & ⋮ & ⋮ & ⋮ & ⋮ & ⋮ & ⋮ & ⋮\\\\\n",
       "\t RS\\_GCF\\_001644955.1\\_Pseudomonas putida & RS\\_GCF\\_001644955.1 & 0 & 99.59 & 0.16 & 813 & o\\_\\_Pseudomonadales (UID4488)  & 308 & 0 & 5508282 & ⋯ & none & none            & none                                                                                                   & 0 & 19 & 61 & 0 & Pseudomonas\\_E putida\\_C & 188090 & /ebio/abt3\\_projects/databases\\_no-backup/GTDB/release95/Struo/genomes/genbank/bacteria/GCA\\_001644955.1/GCA\\_001644955.1\\_CBF10-2\\_genomic.fna.gz    \\\\\n",
       "\t RS\\_GCF\\_003233695.1\\_Lysobacter maris   & RS\\_GCF\\_003233695.1 & 0 & 99.77 & 0.69 & 659 & f\\_\\_Xanthomonadaceae (UID4214) & 290 & 0 & 3531075 & ⋯ & 100  & KX886800.1.1510 & Bacteria;Proteobacteria;Gammaproteobacteria;Xanthomonadales;Xanthomonadaceae;Lysobacter;Lysobacter sp. & 0 & 20 & 56 & 0 & Lysobacter maris       & 183442 & /ebio/abt3\\_projects/databases\\_no-backup/GTDB/release95/Struo/genomes/genbank/bacteria/GCA\\_003233695.1/GCA\\_003233695.1\\_ASM323369v1\\_genomic.fna.gz\\\\\n",
       "\\end{tabular}\n"
      ],
      "text/markdown": [
       "\n",
       "A data.frame: 30989 × 113\n",
       "\n",
       "| ncbi_organism_name &lt;fct&gt; | accession &lt;fct&gt; | ambiguous_bases &lt;int&gt; | checkm_completeness &lt;dbl&gt; | checkm_contamination &lt;dbl&gt; | checkm_marker_count &lt;int&gt; | checkm_marker_lineage &lt;fct&gt; | checkm_marker_set_count &lt;int&gt; | checkm_strain_heterogeneity &lt;dbl&gt; | coding_bases &lt;int&gt; | ⋯ ⋯ | ssu_silva_blast_perc_identity &lt;fct&gt; | ssu_silva_blast_subject_id &lt;fct&gt; | ssu_silva_taxonomy &lt;fct&gt; | total_gap_length &lt;int&gt; | trna_aa_count &lt;int&gt; | trna_count &lt;int&gt; | trna_selenocysteine_count &lt;int&gt; | SPECIES &lt;fct&gt; | gtdb_taxid &lt;int&gt; | fasta_file_path &lt;fct&gt; |\n",
       "|---|---|---|---|---|---|---|---|---|---|---|---|---|---|---|---|---|---|---|---|---|\n",
       "| GB_GCA_002789635.1_Candidatus Aenigmarchaeota archaeon CG_4_9_14_3_um_filter_37_18 | GB_GCA_002789635.1 |   9 | 79.44 | 0 | 149 | k__Archaea (UID2) | 107 | 0 | 794970 | ⋯ | 100 | MNUF01000028.16163.17137 | Archaea;Nanoarchaeaeota;Nanohaloarchaeia;Aenigmarchaeales;Candidatus Aenigmarchaeota archaeon CG1_02_38_14 |  368 | 19 | 35 | 0 | CG10238-14 sp002789635   |  689 | /ebio/abt3_projects/databases_no-backup/GTDB/release95/Struo/genomes/genbank/archaea/GCA_002789635.1/GCA_002789635.1_ASM278963v1_genomic.fna.gz |\n",
       "| GB_GCA_001784635.1_Candidatus Micrarchaeota archaeon RBG_16_49_10                  | GB_GCA_001784635.1 | 151 | 74.92 | 0 | 149 | k__Archaea (UID2) | 107 | 0 | 773516 | ⋯ | 100 | MFRS01000021.2138.3463   | Archaea;Nanoarchaeaeota;Nanohaloarchaeia;Aenigmarchaeales;Candidatus Micrarchaeota archaeon RBG_16_49_10   | 6621 | 18 | 36 | 0 | RBG-16-49-10 sp001784635 | 3509 | /ebio/abt3_projects/databases_no-backup/GTDB/release95/Struo/genomes/genbank/archaea/GCA_001784635.1/GCA_001784635.1_ASM178463v1_genomic.fna.gz |\n",
       "| ⋮ | ⋮ | ⋮ | ⋮ | ⋮ | ⋮ | ⋮ | ⋮ | ⋮ | ⋮ | ⋱ | ⋮ | ⋮ | ⋮ | ⋮ | ⋮ | ⋮ | ⋮ | ⋮ | ⋮ | ⋮ |\n",
       "| RS_GCF_001644955.1_Pseudomonas putida | RS_GCF_001644955.1 | 0 | 99.59 | 0.16 | 813 | o__Pseudomonadales (UID4488)  | 308 | 0 | 5508282 | ⋯ | none | none            | none                                                                                                   | 0 | 19 | 61 | 0 | Pseudomonas_E putida_C | 188090 | /ebio/abt3_projects/databases_no-backup/GTDB/release95/Struo/genomes/genbank/bacteria/GCA_001644955.1/GCA_001644955.1_CBF10-2_genomic.fna.gz     |\n",
       "| RS_GCF_003233695.1_Lysobacter maris   | RS_GCF_003233695.1 | 0 | 99.77 | 0.69 | 659 | f__Xanthomonadaceae (UID4214) | 290 | 0 | 3531075 | ⋯ | 100  | KX886800.1.1510 | Bacteria;Proteobacteria;Gammaproteobacteria;Xanthomonadales;Xanthomonadaceae;Lysobacter;Lysobacter sp. | 0 | 20 | 56 | 0 | Lysobacter maris       | 183442 | /ebio/abt3_projects/databases_no-backup/GTDB/release95/Struo/genomes/genbank/bacteria/GCA_003233695.1/GCA_003233695.1_ASM323369v1_genomic.fna.gz |\n",
       "\n"
      ],
      "text/plain": [
       "      ncbi_organism_name                                                                \n",
       "1     GB_GCA_002789635.1_Candidatus Aenigmarchaeota archaeon CG_4_9_14_3_um_filter_37_18\n",
       "2     GB_GCA_001784635.1_Candidatus Micrarchaeota archaeon RBG_16_49_10                 \n",
       "⋮     ⋮                                                                                 \n",
       "30988 RS_GCF_001644955.1_Pseudomonas putida                                             \n",
       "30989 RS_GCF_003233695.1_Lysobacter maris                                               \n",
       "      accession          ambiguous_bases checkm_completeness\n",
       "1     GB_GCA_002789635.1   9             79.44              \n",
       "2     GB_GCA_001784635.1 151             74.92              \n",
       "⋮     ⋮                  ⋮               ⋮                  \n",
       "30988 RS_GCF_001644955.1 0               99.59              \n",
       "30989 RS_GCF_003233695.1 0               99.77              \n",
       "      checkm_contamination checkm_marker_count checkm_marker_lineage        \n",
       "1     0                    149                 k__Archaea (UID2)            \n",
       "2     0                    149                 k__Archaea (UID2)            \n",
       "⋮     ⋮                    ⋮                   ⋮                            \n",
       "30988 0.16                 813                 o__Pseudomonadales (UID4488) \n",
       "30989 0.69                 659                 f__Xanthomonadaceae (UID4214)\n",
       "      checkm_marker_set_count checkm_strain_heterogeneity coding_bases ⋯\n",
       "1     107                     0                           794970       ⋯\n",
       "2     107                     0                           773516       ⋯\n",
       "⋮     ⋮                       ⋮                           ⋮            ⋱\n",
       "30988 308                     0                           5508282      ⋯\n",
       "30989 290                     0                           3531075      ⋯\n",
       "      ssu_silva_blast_perc_identity ssu_silva_blast_subject_id\n",
       "1     100                           MNUF01000028.16163.17137  \n",
       "2     100                           MFRS01000021.2138.3463    \n",
       "⋮     ⋮                             ⋮                         \n",
       "30988 none                          none                      \n",
       "30989 100                           KX886800.1.1510           \n",
       "      ssu_silva_taxonomy                                                                                        \n",
       "1     Archaea;Nanoarchaeaeota;Nanohaloarchaeia;Aenigmarchaeales;Candidatus Aenigmarchaeota archaeon CG1_02_38_14\n",
       "2     Archaea;Nanoarchaeaeota;Nanohaloarchaeia;Aenigmarchaeales;Candidatus Micrarchaeota archaeon RBG_16_49_10  \n",
       "⋮     ⋮                                                                                                         \n",
       "30988 none                                                                                                      \n",
       "30989 Bacteria;Proteobacteria;Gammaproteobacteria;Xanthomonadales;Xanthomonadaceae;Lysobacter;Lysobacter sp.    \n",
       "      total_gap_length trna_aa_count trna_count trna_selenocysteine_count\n",
       "1      368             19            35         0                        \n",
       "2     6621             18            36         0                        \n",
       "⋮     ⋮                ⋮             ⋮          ⋮                        \n",
       "30988 0                19            61         0                        \n",
       "30989 0                20            56         0                        \n",
       "      SPECIES                  gtdb_taxid\n",
       "1     CG10238-14 sp002789635    689      \n",
       "2     RBG-16-49-10 sp001784635 3509      \n",
       "⋮     ⋮                        ⋮         \n",
       "30988 Pseudomonas_E putida_C   188090    \n",
       "30989 Lysobacter maris         183442    \n",
       "      fasta_file_path                                                                                                                                 \n",
       "1     /ebio/abt3_projects/databases_no-backup/GTDB/release95/Struo/genomes/genbank/archaea/GCA_002789635.1/GCA_002789635.1_ASM278963v1_genomic.fna.gz \n",
       "2     /ebio/abt3_projects/databases_no-backup/GTDB/release95/Struo/genomes/genbank/archaea/GCA_001784635.1/GCA_001784635.1_ASM178463v1_genomic.fna.gz \n",
       "⋮     ⋮                                                                                                                                               \n",
       "30988 /ebio/abt3_projects/databases_no-backup/GTDB/release95/Struo/genomes/genbank/bacteria/GCA_001644955.1/GCA_001644955.1_CBF10-2_genomic.fna.gz    \n",
       "30989 /ebio/abt3_projects/databases_no-backup/GTDB/release95/Struo/genomes/genbank/bacteria/GCA_003233695.1/GCA_003233695.1_ASM323369v1_genomic.fna.gz"
      ]
     },
     "metadata": {},
     "output_type": "display_data"
    }
   ],
   "source": [
    "# reading in GTDB metadata file used for Struo\n",
    "meta = read.delim(meta_file, sep='\\t')\n",
    "meta"
   ]
  },
  {
   "cell_type": "markdown",
   "metadata": {},
   "source": [
    "## n50_Pseudomonas"
   ]
  },
  {
   "cell_type": "code",
   "execution_count": 56,
   "metadata": {
    "ExecuteTime": {
     "end_time": "2020-10-25T08:00:59.442081Z",
     "start_time": "2020-10-25T08:00:59.274Z"
    }
   },
   "outputs": [
    {
     "data": {
      "text/html": [
       "<table>\n",
       "<caption>A data.frame: 50 × 113</caption>\n",
       "<thead>\n",
       "\t<tr><th scope=col>ncbi_organism_name</th><th scope=col>accession</th><th scope=col>ambiguous_bases</th><th scope=col>checkm_completeness</th><th scope=col>checkm_contamination</th><th scope=col>checkm_marker_count</th><th scope=col>checkm_marker_lineage</th><th scope=col>checkm_marker_set_count</th><th scope=col>checkm_strain_heterogeneity</th><th scope=col>coding_bases</th><th scope=col>⋯</th><th scope=col>ssu_silva_blast_perc_identity</th><th scope=col>ssu_silva_blast_subject_id</th><th scope=col>ssu_silva_taxonomy</th><th scope=col>total_gap_length</th><th scope=col>trna_aa_count</th><th scope=col>trna_count</th><th scope=col>trna_selenocysteine_count</th><th scope=col>SPECIES</th><th scope=col>gtdb_taxid</th><th scope=col>fasta_file_path</th></tr>\n",
       "\t<tr><th scope=col>&lt;fct&gt;</th><th scope=col>&lt;fct&gt;</th><th scope=col>&lt;int&gt;</th><th scope=col>&lt;dbl&gt;</th><th scope=col>&lt;dbl&gt;</th><th scope=col>&lt;int&gt;</th><th scope=col>&lt;fct&gt;</th><th scope=col>&lt;int&gt;</th><th scope=col>&lt;dbl&gt;</th><th scope=col>&lt;int&gt;</th><th scope=col>⋯</th><th scope=col>&lt;fct&gt;</th><th scope=col>&lt;fct&gt;</th><th scope=col>&lt;fct&gt;</th><th scope=col>&lt;int&gt;</th><th scope=col>&lt;int&gt;</th><th scope=col>&lt;int&gt;</th><th scope=col>&lt;int&gt;</th><th scope=col>&lt;fct&gt;</th><th scope=col>&lt;int&gt;</th><th scope=col>&lt;fct&gt;</th></tr>\n",
       "</thead>\n",
       "<tbody>\n",
       "\t<tr><td>RS_GCF_006384975.1_Pseudomonas psychrotolerans</td><td>RS_GCF_006384975.1</td><td>0</td><td>98.53</td><td>0.67</td><td> 813</td><td>o__Pseudomonadales (UID4488)</td><td>308</td><td>0</td><td>4771043</td><td>⋯</td><td>99.739</td><td>LDSZ01000057.203.1746</td><td>Bacteria;Proteobacteria;Gammaproteobacteria;Pseudomonadales;Pseudomonadaceae;Pseudomonas;Pseudomonas psychrotolerans</td><td>  0</td><td>20</td><td>66</td><td>0</td><td>Pseudomonas_B psychrotolerans_B</td><td>206755</td><td>/ebio/abt3_projects/databases_no-backup/GTDB/release95/Struo/genomes/genbank/bacteria/GCA_006384975.1/GCA_006384975.1_ASM638497v1_genomic.fna.gz</td></tr>\n",
       "\t<tr><td>RS_GCF_003208475.1_Pseudomonas sp. OV286      </td><td>RS_GCF_003208475.1</td><td>0</td><td>99.86</td><td>0.36</td><td>1044</td><td>g__Pseudomonas (UID4550)    </td><td>368</td><td>0</td><td>5825316</td><td>⋯</td><td>99.804</td><td>FNOX01000039.206.1746</td><td>Bacteria;Proteobacteria;Gammaproteobacteria;Pseudomonadales;Pseudomonadaceae;Pseudomonas;Pseudomonas salomonii      </td><td>591</td><td>20</td><td>58</td><td>0</td><td>Pseudomonas_E sp003208475      </td><td>218395</td><td>/ebio/abt3_projects/databases_no-backup/GTDB/release95/Struo/genomes/genbank/bacteria/GCA_003208475.1/GCA_003208475.1_ASM320847v1_genomic.fna.gz</td></tr>\n",
       "\t<tr><td>⋮</td><td>⋮</td><td>⋮</td><td>⋮</td><td>⋮</td><td>⋮</td><td>⋮</td><td>⋮</td><td>⋮</td><td>⋮</td><td>⋱</td><td>⋮</td><td>⋮</td><td>⋮</td><td>⋮</td><td>⋮</td><td>⋮</td><td>⋮</td><td>⋮</td><td>⋮</td><td>⋮</td></tr>\n",
       "\t<tr><td>RS_GCF_001411475.1_Pseudomonas endophytica</td><td>RS_GCF_001411475.1</td><td> 0</td><td>99.57</td><td>0.54</td><td> 812</td><td>o__Pseudomonadales (UID4488)</td><td>308</td><td>0</td><td>4432776</td><td>⋯</td><td>99.804</td><td>LT629795.1212597.1214137</td><td>Bacteria;Proteobacteria;Gammaproteobacteria;Pseudomonadales;Pseudomonadaceae;Pseudomonas;Pseudomonas psychrophila</td><td>  0</td><td>20</td><td>51</td><td>0</td><td>Pseudomonas_E endophytica   </td><td>236363</td><td>/ebio/abt3_projects/databases_no-backup/GTDB/release95/Struo/genomes/genbank/bacteria/GCA_001411475.1/GCA_001411475.1_ASM141147v1_genomic.fna.gz</td></tr>\n",
       "\t<tr><td>RS_GCF_000817895.1_Pseudomonas fluorescens</td><td>RS_GCF_000817895.1</td><td>22</td><td>99.66</td><td>0.27</td><td>1044</td><td>g__Pseudomonas (UID4550)    </td><td>368</td><td>0</td><td>5194388</td><td>⋯</td><td>100   </td><td>KT695837.1.1540         </td><td>Bacteria;Proteobacteria;Gammaproteobacteria;Pseudomonadales;Pseudomonadaceae;Pseudomonas;Pseudomonas fluorescens </td><td>323</td><td>20</td><td>53</td><td>0</td><td>Pseudomonas_E fluorescens_AO</td><td>193647</td><td>/ebio/abt3_projects/databases_no-backup/GTDB/release95/Struo/genomes/genbank/bacteria/GCA_000817895.1/GCA_000817895.1_ASM81789v1_genomic.fna.gz </td></tr>\n",
       "</tbody>\n",
       "</table>\n"
      ],
      "text/latex": [
       "A data.frame: 50 × 113\n",
       "\\begin{tabular}{lllllllllllllllllllll}\n",
       " ncbi\\_organism\\_name & accession & ambiguous\\_bases & checkm\\_completeness & checkm\\_contamination & checkm\\_marker\\_count & checkm\\_marker\\_lineage & checkm\\_marker\\_set\\_count & checkm\\_strain\\_heterogeneity & coding\\_bases & ⋯ & ssu\\_silva\\_blast\\_perc\\_identity & ssu\\_silva\\_blast\\_subject\\_id & ssu\\_silva\\_taxonomy & total\\_gap\\_length & trna\\_aa\\_count & trna\\_count & trna\\_selenocysteine\\_count & SPECIES & gtdb\\_taxid & fasta\\_file\\_path\\\\\n",
       " <fct> & <fct> & <int> & <dbl> & <dbl> & <int> & <fct> & <int> & <dbl> & <int> & ⋯ & <fct> & <fct> & <fct> & <int> & <int> & <int> & <int> & <fct> & <int> & <fct>\\\\\n",
       "\\hline\n",
       "\t RS\\_GCF\\_006384975.1\\_Pseudomonas psychrotolerans & RS\\_GCF\\_006384975.1 & 0 & 98.53 & 0.67 &  813 & o\\_\\_Pseudomonadales (UID4488) & 308 & 0 & 4771043 & ⋯ & 99.739 & LDSZ01000057.203.1746 & Bacteria;Proteobacteria;Gammaproteobacteria;Pseudomonadales;Pseudomonadaceae;Pseudomonas;Pseudomonas psychrotolerans &   0 & 20 & 66 & 0 & Pseudomonas\\_B psychrotolerans\\_B & 206755 & /ebio/abt3\\_projects/databases\\_no-backup/GTDB/release95/Struo/genomes/genbank/bacteria/GCA\\_006384975.1/GCA\\_006384975.1\\_ASM638497v1\\_genomic.fna.gz\\\\\n",
       "\t RS\\_GCF\\_003208475.1\\_Pseudomonas sp. OV286       & RS\\_GCF\\_003208475.1 & 0 & 99.86 & 0.36 & 1044 & g\\_\\_Pseudomonas (UID4550)     & 368 & 0 & 5825316 & ⋯ & 99.804 & FNOX01000039.206.1746 & Bacteria;Proteobacteria;Gammaproteobacteria;Pseudomonadales;Pseudomonadaceae;Pseudomonas;Pseudomonas salomonii       & 591 & 20 & 58 & 0 & Pseudomonas\\_E sp003208475       & 218395 & /ebio/abt3\\_projects/databases\\_no-backup/GTDB/release95/Struo/genomes/genbank/bacteria/GCA\\_003208475.1/GCA\\_003208475.1\\_ASM320847v1\\_genomic.fna.gz\\\\\n",
       "\t ⋮ & ⋮ & ⋮ & ⋮ & ⋮ & ⋮ & ⋮ & ⋮ & ⋮ & ⋮ & ⋱ & ⋮ & ⋮ & ⋮ & ⋮ & ⋮ & ⋮ & ⋮ & ⋮ & ⋮ & ⋮\\\\\n",
       "\t RS\\_GCF\\_001411475.1\\_Pseudomonas endophytica & RS\\_GCF\\_001411475.1 &  0 & 99.57 & 0.54 &  812 & o\\_\\_Pseudomonadales (UID4488) & 308 & 0 & 4432776 & ⋯ & 99.804 & LT629795.1212597.1214137 & Bacteria;Proteobacteria;Gammaproteobacteria;Pseudomonadales;Pseudomonadaceae;Pseudomonas;Pseudomonas psychrophila &   0 & 20 & 51 & 0 & Pseudomonas\\_E endophytica    & 236363 & /ebio/abt3\\_projects/databases\\_no-backup/GTDB/release95/Struo/genomes/genbank/bacteria/GCA\\_001411475.1/GCA\\_001411475.1\\_ASM141147v1\\_genomic.fna.gz\\\\\n",
       "\t RS\\_GCF\\_000817895.1\\_Pseudomonas fluorescens & RS\\_GCF\\_000817895.1 & 22 & 99.66 & 0.27 & 1044 & g\\_\\_Pseudomonas (UID4550)     & 368 & 0 & 5194388 & ⋯ & 100    & KT695837.1.1540          & Bacteria;Proteobacteria;Gammaproteobacteria;Pseudomonadales;Pseudomonadaceae;Pseudomonas;Pseudomonas fluorescens  & 323 & 20 & 53 & 0 & Pseudomonas\\_E fluorescens\\_AO & 193647 & /ebio/abt3\\_projects/databases\\_no-backup/GTDB/release95/Struo/genomes/genbank/bacteria/GCA\\_000817895.1/GCA\\_000817895.1\\_ASM81789v1\\_genomic.fna.gz \\\\\n",
       "\\end{tabular}\n"
      ],
      "text/markdown": [
       "\n",
       "A data.frame: 50 × 113\n",
       "\n",
       "| ncbi_organism_name &lt;fct&gt; | accession &lt;fct&gt; | ambiguous_bases &lt;int&gt; | checkm_completeness &lt;dbl&gt; | checkm_contamination &lt;dbl&gt; | checkm_marker_count &lt;int&gt; | checkm_marker_lineage &lt;fct&gt; | checkm_marker_set_count &lt;int&gt; | checkm_strain_heterogeneity &lt;dbl&gt; | coding_bases &lt;int&gt; | ⋯ ⋯ | ssu_silva_blast_perc_identity &lt;fct&gt; | ssu_silva_blast_subject_id &lt;fct&gt; | ssu_silva_taxonomy &lt;fct&gt; | total_gap_length &lt;int&gt; | trna_aa_count &lt;int&gt; | trna_count &lt;int&gt; | trna_selenocysteine_count &lt;int&gt; | SPECIES &lt;fct&gt; | gtdb_taxid &lt;int&gt; | fasta_file_path &lt;fct&gt; |\n",
       "|---|---|---|---|---|---|---|---|---|---|---|---|---|---|---|---|---|---|---|---|---|\n",
       "| RS_GCF_006384975.1_Pseudomonas psychrotolerans | RS_GCF_006384975.1 | 0 | 98.53 | 0.67 |  813 | o__Pseudomonadales (UID4488) | 308 | 0 | 4771043 | ⋯ | 99.739 | LDSZ01000057.203.1746 | Bacteria;Proteobacteria;Gammaproteobacteria;Pseudomonadales;Pseudomonadaceae;Pseudomonas;Pseudomonas psychrotolerans |   0 | 20 | 66 | 0 | Pseudomonas_B psychrotolerans_B | 206755 | /ebio/abt3_projects/databases_no-backup/GTDB/release95/Struo/genomes/genbank/bacteria/GCA_006384975.1/GCA_006384975.1_ASM638497v1_genomic.fna.gz |\n",
       "| RS_GCF_003208475.1_Pseudomonas sp. OV286       | RS_GCF_003208475.1 | 0 | 99.86 | 0.36 | 1044 | g__Pseudomonas (UID4550)     | 368 | 0 | 5825316 | ⋯ | 99.804 | FNOX01000039.206.1746 | Bacteria;Proteobacteria;Gammaproteobacteria;Pseudomonadales;Pseudomonadaceae;Pseudomonas;Pseudomonas salomonii       | 591 | 20 | 58 | 0 | Pseudomonas_E sp003208475       | 218395 | /ebio/abt3_projects/databases_no-backup/GTDB/release95/Struo/genomes/genbank/bacteria/GCA_003208475.1/GCA_003208475.1_ASM320847v1_genomic.fna.gz |\n",
       "| ⋮ | ⋮ | ⋮ | ⋮ | ⋮ | ⋮ | ⋮ | ⋮ | ⋮ | ⋮ | ⋱ | ⋮ | ⋮ | ⋮ | ⋮ | ⋮ | ⋮ | ⋮ | ⋮ | ⋮ | ⋮ |\n",
       "| RS_GCF_001411475.1_Pseudomonas endophytica | RS_GCF_001411475.1 |  0 | 99.57 | 0.54 |  812 | o__Pseudomonadales (UID4488) | 308 | 0 | 4432776 | ⋯ | 99.804 | LT629795.1212597.1214137 | Bacteria;Proteobacteria;Gammaproteobacteria;Pseudomonadales;Pseudomonadaceae;Pseudomonas;Pseudomonas psychrophila |   0 | 20 | 51 | 0 | Pseudomonas_E endophytica    | 236363 | /ebio/abt3_projects/databases_no-backup/GTDB/release95/Struo/genomes/genbank/bacteria/GCA_001411475.1/GCA_001411475.1_ASM141147v1_genomic.fna.gz |\n",
       "| RS_GCF_000817895.1_Pseudomonas fluorescens | RS_GCF_000817895.1 | 22 | 99.66 | 0.27 | 1044 | g__Pseudomonas (UID4550)     | 368 | 0 | 5194388 | ⋯ | 100    | KT695837.1.1540          | Bacteria;Proteobacteria;Gammaproteobacteria;Pseudomonadales;Pseudomonadaceae;Pseudomonas;Pseudomonas fluorescens  | 323 | 20 | 53 | 0 | Pseudomonas_E fluorescens_AO | 193647 | /ebio/abt3_projects/databases_no-backup/GTDB/release95/Struo/genomes/genbank/bacteria/GCA_000817895.1/GCA_000817895.1_ASM81789v1_genomic.fna.gz  |\n",
       "\n"
      ],
      "text/plain": [
       "   ncbi_organism_name                             accession         \n",
       "1  RS_GCF_006384975.1_Pseudomonas psychrotolerans RS_GCF_006384975.1\n",
       "2  RS_GCF_003208475.1_Pseudomonas sp. OV286       RS_GCF_003208475.1\n",
       "⋮  ⋮                                              ⋮                 \n",
       "49 RS_GCF_001411475.1_Pseudomonas endophytica     RS_GCF_001411475.1\n",
       "50 RS_GCF_000817895.1_Pseudomonas fluorescens     RS_GCF_000817895.1\n",
       "   ambiguous_bases checkm_completeness checkm_contamination checkm_marker_count\n",
       "1  0               98.53               0.67                  813               \n",
       "2  0               99.86               0.36                 1044               \n",
       "⋮  ⋮               ⋮                   ⋮                    ⋮                  \n",
       "49  0              99.57               0.54                  812               \n",
       "50 22              99.66               0.27                 1044               \n",
       "   checkm_marker_lineage        checkm_marker_set_count\n",
       "1  o__Pseudomonadales (UID4488) 308                    \n",
       "2  g__Pseudomonas (UID4550)     368                    \n",
       "⋮  ⋮                            ⋮                      \n",
       "49 o__Pseudomonadales (UID4488) 308                    \n",
       "50 g__Pseudomonas (UID4550)     368                    \n",
       "   checkm_strain_heterogeneity coding_bases ⋯ ssu_silva_blast_perc_identity\n",
       "1  0                           4771043      ⋯ 99.739                       \n",
       "2  0                           5825316      ⋯ 99.804                       \n",
       "⋮  ⋮                           ⋮            ⋱ ⋮                            \n",
       "49 0                           4432776      ⋯ 99.804                       \n",
       "50 0                           5194388      ⋯ 100                          \n",
       "   ssu_silva_blast_subject_id\n",
       "1  LDSZ01000057.203.1746     \n",
       "2  FNOX01000039.206.1746     \n",
       "⋮  ⋮                         \n",
       "49 LT629795.1212597.1214137  \n",
       "50 KT695837.1.1540           \n",
       "   ssu_silva_taxonomy                                                                                                  \n",
       "1  Bacteria;Proteobacteria;Gammaproteobacteria;Pseudomonadales;Pseudomonadaceae;Pseudomonas;Pseudomonas psychrotolerans\n",
       "2  Bacteria;Proteobacteria;Gammaproteobacteria;Pseudomonadales;Pseudomonadaceae;Pseudomonas;Pseudomonas salomonii      \n",
       "⋮  ⋮                                                                                                                   \n",
       "49 Bacteria;Proteobacteria;Gammaproteobacteria;Pseudomonadales;Pseudomonadaceae;Pseudomonas;Pseudomonas psychrophila   \n",
       "50 Bacteria;Proteobacteria;Gammaproteobacteria;Pseudomonadales;Pseudomonadaceae;Pseudomonas;Pseudomonas fluorescens    \n",
       "   total_gap_length trna_aa_count trna_count trna_selenocysteine_count\n",
       "1    0              20            66         0                        \n",
       "2  591              20            58         0                        \n",
       "⋮  ⋮                ⋮             ⋮          ⋮                        \n",
       "49   0              20            51         0                        \n",
       "50 323              20            53         0                        \n",
       "   SPECIES                         gtdb_taxid\n",
       "1  Pseudomonas_B psychrotolerans_B 206755    \n",
       "2  Pseudomonas_E sp003208475       218395    \n",
       "⋮  ⋮                               ⋮         \n",
       "49 Pseudomonas_E endophytica       236363    \n",
       "50 Pseudomonas_E fluorescens_AO    193647    \n",
       "   fasta_file_path                                                                                                                                 \n",
       "1  /ebio/abt3_projects/databases_no-backup/GTDB/release95/Struo/genomes/genbank/bacteria/GCA_006384975.1/GCA_006384975.1_ASM638497v1_genomic.fna.gz\n",
       "2  /ebio/abt3_projects/databases_no-backup/GTDB/release95/Struo/genomes/genbank/bacteria/GCA_003208475.1/GCA_003208475.1_ASM320847v1_genomic.fna.gz\n",
       "⋮  ⋮                                                                                                                                               \n",
       "49 /ebio/abt3_projects/databases_no-backup/GTDB/release95/Struo/genomes/genbank/bacteria/GCA_001411475.1/GCA_001411475.1_ASM141147v1_genomic.fna.gz\n",
       "50 /ebio/abt3_projects/databases_no-backup/GTDB/release95/Struo/genomes/genbank/bacteria/GCA_000817895.1/GCA_000817895.1_ASM81789v1_genomic.fna.gz "
      ]
     },
     "metadata": {},
     "output_type": "display_data"
    }
   ],
   "source": [
    "# selecting subset\n",
    "meta_n50 = meta %>%\n",
    "    filter(grepl('Pseudomonas', gtdb_taxonomy)) %>%\n",
    "    sample_n(50) \n",
    "meta_n50"
   ]
  },
  {
   "cell_type": "code",
   "execution_count": 57,
   "metadata": {
    "ExecuteTime": {
     "end_time": "2020-10-25T08:01:19.398225Z",
     "start_time": "2020-10-25T08:01:19.329Z"
    }
   },
   "outputs": [
    {
     "name": "stdout",
     "output_type": "stream",
     "text": [
      "File written: /ebio/abt3_projects/software/dev/struo2/tests/samples//GTDBr95_n50_Pseudomonas.tsv \n"
     ]
    }
   ],
   "source": [
    "outF = file.path(samps_dir, 'GTDBr95_n50_Pseudomonas.tsv')\n",
    "write_table(meta_n50, outF)"
   ]
  },
  {
   "cell_type": "markdown",
   "metadata": {},
   "source": [
    "## n10"
   ]
  },
  {
   "cell_type": "code",
   "execution_count": 39,
   "metadata": {
    "ExecuteTime": {
     "end_time": "2020-10-23T13:21:36.474209Z",
     "start_time": "2020-10-23T13:21:28.523Z"
    }
   },
   "outputs": [
    {
     "data": {
      "text/html": [
       "<table>\n",
       "<caption>A data.frame: 10 × 113</caption>\n",
       "<thead>\n",
       "\t<tr><th scope=col>ncbi_organism_name</th><th scope=col>accession</th><th scope=col>ambiguous_bases</th><th scope=col>checkm_completeness</th><th scope=col>checkm_contamination</th><th scope=col>checkm_marker_count</th><th scope=col>checkm_marker_lineage</th><th scope=col>checkm_marker_set_count</th><th scope=col>checkm_strain_heterogeneity</th><th scope=col>coding_bases</th><th scope=col>⋯</th><th scope=col>ssu_silva_blast_perc_identity</th><th scope=col>ssu_silva_blast_subject_id</th><th scope=col>ssu_silva_taxonomy</th><th scope=col>total_gap_length</th><th scope=col>trna_aa_count</th><th scope=col>trna_count</th><th scope=col>trna_selenocysteine_count</th><th scope=col>SPECIES</th><th scope=col>gtdb_taxid</th><th scope=col>fasta_file_path</th></tr>\n",
       "\t<tr><th scope=col>&lt;fct&gt;</th><th scope=col>&lt;fct&gt;</th><th scope=col>&lt;int&gt;</th><th scope=col>&lt;dbl&gt;</th><th scope=col>&lt;dbl&gt;</th><th scope=col>&lt;int&gt;</th><th scope=col>&lt;fct&gt;</th><th scope=col>&lt;int&gt;</th><th scope=col>&lt;dbl&gt;</th><th scope=col>&lt;int&gt;</th><th scope=col>⋯</th><th scope=col>&lt;fct&gt;</th><th scope=col>&lt;fct&gt;</th><th scope=col>&lt;fct&gt;</th><th scope=col>&lt;int&gt;</th><th scope=col>&lt;int&gt;</th><th scope=col>&lt;int&gt;</th><th scope=col>&lt;int&gt;</th><th scope=col>&lt;fct&gt;</th><th scope=col>&lt;int&gt;</th><th scope=col>&lt;fct&gt;</th></tr>\n",
       "</thead>\n",
       "<tbody>\n",
       "\t<tr><td>RS_GCF_900114195.1_Succinivibrio dextrinosolvens      </td><td>RS_GCF_900114195.1</td><td>0</td><td>98.24</td><td>0.74</td><td>271</td><td>c__Gammaproteobacteria (UID4201)</td><td>170</td><td>0</td><td>2683431</td><td>⋯</td><td>none  </td><td>none                    </td><td>none                                                                                                                                         </td><td>5771</td><td>16</td><td>49</td><td>0</td><td>Succinivibrio dextrinosolvens_A</td><td>172441</td><td>/ebio/abt3_projects/databases_no-backup/GTDB/release95/Struo/genomes/genbank/bacteria/GCA_900114195.1/GCA_900114195.1_IMG-taxon_2626541589_annotated_assembly_genomic.fna.gz</td></tr>\n",
       "\t<tr><td>RS_GCF_001632805.1_Mycobacteroides chelonae CCUG 47445</td><td>RS_GCF_001632805.1</td><td>0</td><td>98.83</td><td>0.03</td><td>693</td><td>g__Mycobacterium (UID1816)      </td><td>300</td><td>0</td><td>4667284</td><td>⋯</td><td>99.802</td><td>CP003699.3336558.3338079</td><td>Bacteria;Actinobacteria;Actinobacteria;Corynebacteriales;Mycobacteriaceae;Mycobacterium;Mycobacterium abscessus subsp. massiliense str. GO 06</td><td>   0</td><td>20</td><td>47</td><td>0</td><td>Mycobacterium chelonae         </td><td>127906</td><td>/ebio/abt3_projects/databases_no-backup/GTDB/release95/Struo/genomes/genbank/bacteria/GCA_001632805.1/GCA_001632805.1_ASM163280v1_genomic.fna.gz                            </td></tr>\n",
       "\t<tr><td>⋮</td><td>⋮</td><td>⋮</td><td>⋮</td><td>⋮</td><td>⋮</td><td>⋮</td><td>⋮</td><td>⋮</td><td>⋮</td><td>⋱</td><td>⋮</td><td>⋮</td><td>⋮</td><td>⋮</td><td>⋮</td><td>⋮</td><td>⋮</td><td>⋮</td><td>⋮</td><td>⋮</td></tr>\n",
       "\t<tr><td>RS_GCF_900108095.1_Natronorubrum sediminis </td><td>RS_GCF_900108095.1</td><td>0</td><td>99.87</td><td>0.19</td><td>417</td><td>f__Halobacteriaceae (UID96)     </td><td>263</td><td>0</td><td>3214760</td><td>⋯</td><td>100  </td><td>FNWL01000001.3628.5101  </td><td>Archaea;Euryarchaeota;Halobacteria;Halobacteriales;Haloferacaceae;Natronorubrum;Natronorubrum sediminis          </td><td>210</td><td>19</td><td>48</td><td>0</td><td>Natronorubrum sediminis</td><td>  4006</td><td>/ebio/abt3_projects/databases_no-backup/GTDB/release95/Struo/genomes/genbank/archaea/GCA_900108095.1/GCA_900108095.1_IMG-taxon_2617270925_annotated_assembly_genomic.fna.gz</td></tr>\n",
       "\t<tr><td>RS_GCF_000426025.1_Caulobacter sp. URHA0033</td><td>RS_GCF_000426025.1</td><td>0</td><td>99.68</td><td>0.32</td><td>529</td><td>c__Alphaproteobacteria (UID3422)</td><td>308</td><td>0</td><td>4999536</td><td>⋯</td><td>99.46</td><td>LMFQ01000007.95055.96547</td><td>Bacteria;Proteobacteria;Alphaproteobacteria;Caulobacterales;Caulobacteraceae;Caulobacter;Caulobacter sp. Root1455</td><td>345</td><td>20</td><td>47</td><td>0</td><td>Caulobacter sp000426025</td><td>225952</td><td>/ebio/abt3_projects/databases_no-backup/GTDB/release95/Struo/genomes/genbank/bacteria/GCA_000426025.1/GCA_000426025.1_ASM42602v1_genomic.fna.gz                            </td></tr>\n",
       "</tbody>\n",
       "</table>\n"
      ],
      "text/latex": [
       "A data.frame: 10 × 113\n",
       "\\begin{tabular}{lllllllllllllllllllll}\n",
       " ncbi\\_organism\\_name & accession & ambiguous\\_bases & checkm\\_completeness & checkm\\_contamination & checkm\\_marker\\_count & checkm\\_marker\\_lineage & checkm\\_marker\\_set\\_count & checkm\\_strain\\_heterogeneity & coding\\_bases & ⋯ & ssu\\_silva\\_blast\\_perc\\_identity & ssu\\_silva\\_blast\\_subject\\_id & ssu\\_silva\\_taxonomy & total\\_gap\\_length & trna\\_aa\\_count & trna\\_count & trna\\_selenocysteine\\_count & SPECIES & gtdb\\_taxid & fasta\\_file\\_path\\\\\n",
       " <fct> & <fct> & <int> & <dbl> & <dbl> & <int> & <fct> & <int> & <dbl> & <int> & ⋯ & <fct> & <fct> & <fct> & <int> & <int> & <int> & <int> & <fct> & <int> & <fct>\\\\\n",
       "\\hline\n",
       "\t RS\\_GCF\\_900114195.1\\_Succinivibrio dextrinosolvens       & RS\\_GCF\\_900114195.1 & 0 & 98.24 & 0.74 & 271 & c\\_\\_Gammaproteobacteria (UID4201) & 170 & 0 & 2683431 & ⋯ & none   & none                     & none                                                                                                                                          & 5771 & 16 & 49 & 0 & Succinivibrio dextrinosolvens\\_A & 172441 & /ebio/abt3\\_projects/databases\\_no-backup/GTDB/release95/Struo/genomes/genbank/bacteria/GCA\\_900114195.1/GCA\\_900114195.1\\_IMG-taxon\\_2626541589\\_annotated\\_assembly\\_genomic.fna.gz\\\\\n",
       "\t RS\\_GCF\\_001632805.1\\_Mycobacteroides chelonae CCUG 47445 & RS\\_GCF\\_001632805.1 & 0 & 98.83 & 0.03 & 693 & g\\_\\_Mycobacterium (UID1816)       & 300 & 0 & 4667284 & ⋯ & 99.802 & CP003699.3336558.3338079 & Bacteria;Actinobacteria;Actinobacteria;Corynebacteriales;Mycobacteriaceae;Mycobacterium;Mycobacterium abscessus subsp. massiliense str. GO 06 &    0 & 20 & 47 & 0 & Mycobacterium chelonae          & 127906 & /ebio/abt3\\_projects/databases\\_no-backup/GTDB/release95/Struo/genomes/genbank/bacteria/GCA\\_001632805.1/GCA\\_001632805.1\\_ASM163280v1\\_genomic.fna.gz                            \\\\\n",
       "\t ⋮ & ⋮ & ⋮ & ⋮ & ⋮ & ⋮ & ⋮ & ⋮ & ⋮ & ⋮ & ⋱ & ⋮ & ⋮ & ⋮ & ⋮ & ⋮ & ⋮ & ⋮ & ⋮ & ⋮ & ⋮\\\\\n",
       "\t RS\\_GCF\\_900108095.1\\_Natronorubrum sediminis  & RS\\_GCF\\_900108095.1 & 0 & 99.87 & 0.19 & 417 & f\\_\\_Halobacteriaceae (UID96)      & 263 & 0 & 3214760 & ⋯ & 100   & FNWL01000001.3628.5101   & Archaea;Euryarchaeota;Halobacteria;Halobacteriales;Haloferacaceae;Natronorubrum;Natronorubrum sediminis           & 210 & 19 & 48 & 0 & Natronorubrum sediminis &   4006 & /ebio/abt3\\_projects/databases\\_no-backup/GTDB/release95/Struo/genomes/genbank/archaea/GCA\\_900108095.1/GCA\\_900108095.1\\_IMG-taxon\\_2617270925\\_annotated\\_assembly\\_genomic.fna.gz\\\\\n",
       "\t RS\\_GCF\\_000426025.1\\_Caulobacter sp. URHA0033 & RS\\_GCF\\_000426025.1 & 0 & 99.68 & 0.32 & 529 & c\\_\\_Alphaproteobacteria (UID3422) & 308 & 0 & 4999536 & ⋯ & 99.46 & LMFQ01000007.95055.96547 & Bacteria;Proteobacteria;Alphaproteobacteria;Caulobacterales;Caulobacteraceae;Caulobacter;Caulobacter sp. Root1455 & 345 & 20 & 47 & 0 & Caulobacter sp000426025 & 225952 & /ebio/abt3\\_projects/databases\\_no-backup/GTDB/release95/Struo/genomes/genbank/bacteria/GCA\\_000426025.1/GCA\\_000426025.1\\_ASM42602v1\\_genomic.fna.gz                            \\\\\n",
       "\\end{tabular}\n"
      ],
      "text/markdown": [
       "\n",
       "A data.frame: 10 × 113\n",
       "\n",
       "| ncbi_organism_name &lt;fct&gt; | accession &lt;fct&gt; | ambiguous_bases &lt;int&gt; | checkm_completeness &lt;dbl&gt; | checkm_contamination &lt;dbl&gt; | checkm_marker_count &lt;int&gt; | checkm_marker_lineage &lt;fct&gt; | checkm_marker_set_count &lt;int&gt; | checkm_strain_heterogeneity &lt;dbl&gt; | coding_bases &lt;int&gt; | ⋯ ⋯ | ssu_silva_blast_perc_identity &lt;fct&gt; | ssu_silva_blast_subject_id &lt;fct&gt; | ssu_silva_taxonomy &lt;fct&gt; | total_gap_length &lt;int&gt; | trna_aa_count &lt;int&gt; | trna_count &lt;int&gt; | trna_selenocysteine_count &lt;int&gt; | SPECIES &lt;fct&gt; | gtdb_taxid &lt;int&gt; | fasta_file_path &lt;fct&gt; |\n",
       "|---|---|---|---|---|---|---|---|---|---|---|---|---|---|---|---|---|---|---|---|---|\n",
       "| RS_GCF_900114195.1_Succinivibrio dextrinosolvens       | RS_GCF_900114195.1 | 0 | 98.24 | 0.74 | 271 | c__Gammaproteobacteria (UID4201) | 170 | 0 | 2683431 | ⋯ | none   | none                     | none                                                                                                                                          | 5771 | 16 | 49 | 0 | Succinivibrio dextrinosolvens_A | 172441 | /ebio/abt3_projects/databases_no-backup/GTDB/release95/Struo/genomes/genbank/bacteria/GCA_900114195.1/GCA_900114195.1_IMG-taxon_2626541589_annotated_assembly_genomic.fna.gz |\n",
       "| RS_GCF_001632805.1_Mycobacteroides chelonae CCUG 47445 | RS_GCF_001632805.1 | 0 | 98.83 | 0.03 | 693 | g__Mycobacterium (UID1816)       | 300 | 0 | 4667284 | ⋯ | 99.802 | CP003699.3336558.3338079 | Bacteria;Actinobacteria;Actinobacteria;Corynebacteriales;Mycobacteriaceae;Mycobacterium;Mycobacterium abscessus subsp. massiliense str. GO 06 |    0 | 20 | 47 | 0 | Mycobacterium chelonae          | 127906 | /ebio/abt3_projects/databases_no-backup/GTDB/release95/Struo/genomes/genbank/bacteria/GCA_001632805.1/GCA_001632805.1_ASM163280v1_genomic.fna.gz                             |\n",
       "| ⋮ | ⋮ | ⋮ | ⋮ | ⋮ | ⋮ | ⋮ | ⋮ | ⋮ | ⋮ | ⋱ | ⋮ | ⋮ | ⋮ | ⋮ | ⋮ | ⋮ | ⋮ | ⋮ | ⋮ | ⋮ |\n",
       "| RS_GCF_900108095.1_Natronorubrum sediminis  | RS_GCF_900108095.1 | 0 | 99.87 | 0.19 | 417 | f__Halobacteriaceae (UID96)      | 263 | 0 | 3214760 | ⋯ | 100   | FNWL01000001.3628.5101   | Archaea;Euryarchaeota;Halobacteria;Halobacteriales;Haloferacaceae;Natronorubrum;Natronorubrum sediminis           | 210 | 19 | 48 | 0 | Natronorubrum sediminis |   4006 | /ebio/abt3_projects/databases_no-backup/GTDB/release95/Struo/genomes/genbank/archaea/GCA_900108095.1/GCA_900108095.1_IMG-taxon_2617270925_annotated_assembly_genomic.fna.gz |\n",
       "| RS_GCF_000426025.1_Caulobacter sp. URHA0033 | RS_GCF_000426025.1 | 0 | 99.68 | 0.32 | 529 | c__Alphaproteobacteria (UID3422) | 308 | 0 | 4999536 | ⋯ | 99.46 | LMFQ01000007.95055.96547 | Bacteria;Proteobacteria;Alphaproteobacteria;Caulobacterales;Caulobacteraceae;Caulobacter;Caulobacter sp. Root1455 | 345 | 20 | 47 | 0 | Caulobacter sp000426025 | 225952 | /ebio/abt3_projects/databases_no-backup/GTDB/release95/Struo/genomes/genbank/bacteria/GCA_000426025.1/GCA_000426025.1_ASM42602v1_genomic.fna.gz                             |\n",
       "\n"
      ],
      "text/plain": [
       "   ncbi_organism_name                                     accession         \n",
       "1  RS_GCF_900114195.1_Succinivibrio dextrinosolvens       RS_GCF_900114195.1\n",
       "2  RS_GCF_001632805.1_Mycobacteroides chelonae CCUG 47445 RS_GCF_001632805.1\n",
       "⋮  ⋮                                                      ⋮                 \n",
       "9  RS_GCF_900108095.1_Natronorubrum sediminis             RS_GCF_900108095.1\n",
       "10 RS_GCF_000426025.1_Caulobacter sp. URHA0033            RS_GCF_000426025.1\n",
       "   ambiguous_bases checkm_completeness checkm_contamination checkm_marker_count\n",
       "1  0               98.24               0.74                 271                \n",
       "2  0               98.83               0.03                 693                \n",
       "⋮  ⋮               ⋮                   ⋮                    ⋮                  \n",
       "9  0               99.87               0.19                 417                \n",
       "10 0               99.68               0.32                 529                \n",
       "   checkm_marker_lineage            checkm_marker_set_count\n",
       "1  c__Gammaproteobacteria (UID4201) 170                    \n",
       "2  g__Mycobacterium (UID1816)       300                    \n",
       "⋮  ⋮                                ⋮                      \n",
       "9  f__Halobacteriaceae (UID96)      263                    \n",
       "10 c__Alphaproteobacteria (UID3422) 308                    \n",
       "   checkm_strain_heterogeneity coding_bases ⋯ ssu_silva_blast_perc_identity\n",
       "1  0                           2683431      ⋯ none                         \n",
       "2  0                           4667284      ⋯ 99.802                       \n",
       "⋮  ⋮                           ⋮            ⋱ ⋮                            \n",
       "9  0                           3214760      ⋯ 100                          \n",
       "10 0                           4999536      ⋯ 99.46                        \n",
       "   ssu_silva_blast_subject_id\n",
       "1  none                      \n",
       "2  CP003699.3336558.3338079  \n",
       "⋮  ⋮                         \n",
       "9  FNWL01000001.3628.5101    \n",
       "10 LMFQ01000007.95055.96547  \n",
       "   ssu_silva_taxonomy                                                                                                                           \n",
       "1  none                                                                                                                                         \n",
       "2  Bacteria;Actinobacteria;Actinobacteria;Corynebacteriales;Mycobacteriaceae;Mycobacterium;Mycobacterium abscessus subsp. massiliense str. GO 06\n",
       "⋮  ⋮                                                                                                                                            \n",
       "9  Archaea;Euryarchaeota;Halobacteria;Halobacteriales;Haloferacaceae;Natronorubrum;Natronorubrum sediminis                                      \n",
       "10 Bacteria;Proteobacteria;Alphaproteobacteria;Caulobacterales;Caulobacteraceae;Caulobacter;Caulobacter sp. Root1455                            \n",
       "   total_gap_length trna_aa_count trna_count trna_selenocysteine_count\n",
       "1  5771             16            49         0                        \n",
       "2     0             20            47         0                        \n",
       "⋮  ⋮                ⋮             ⋮          ⋮                        \n",
       "9  210              19            48         0                        \n",
       "10 345              20            47         0                        \n",
       "   SPECIES                         gtdb_taxid\n",
       "1  Succinivibrio dextrinosolvens_A 172441    \n",
       "2  Mycobacterium chelonae          127906    \n",
       "⋮  ⋮                               ⋮         \n",
       "9  Natronorubrum sediminis           4006    \n",
       "10 Caulobacter sp000426025         225952    \n",
       "   fasta_file_path                                                                                                                                                             \n",
       "1  /ebio/abt3_projects/databases_no-backup/GTDB/release95/Struo/genomes/genbank/bacteria/GCA_900114195.1/GCA_900114195.1_IMG-taxon_2626541589_annotated_assembly_genomic.fna.gz\n",
       "2  /ebio/abt3_projects/databases_no-backup/GTDB/release95/Struo/genomes/genbank/bacteria/GCA_001632805.1/GCA_001632805.1_ASM163280v1_genomic.fna.gz                            \n",
       "⋮  ⋮                                                                                                                                                                           \n",
       "9  /ebio/abt3_projects/databases_no-backup/GTDB/release95/Struo/genomes/genbank/archaea/GCA_900108095.1/GCA_900108095.1_IMG-taxon_2617270925_annotated_assembly_genomic.fna.gz \n",
       "10 /ebio/abt3_projects/databases_no-backup/GTDB/release95/Struo/genomes/genbank/bacteria/GCA_000426025.1/GCA_000426025.1_ASM42602v1_genomic.fna.gz                             "
      ]
     },
     "metadata": {},
     "output_type": "display_data"
    }
   ],
   "source": [
    "# selecting subset\n",
    "meta_n10 = meta %>%\n",
    "    sample_n(10) \n",
    "meta_n10"
   ]
  },
  {
   "cell_type": "code",
   "execution_count": 40,
   "metadata": {
    "ExecuteTime": {
     "end_time": "2020-10-23T13:21:36.504201Z",
     "start_time": "2020-10-23T13:21:28.643Z"
    }
   },
   "outputs": [
    {
     "name": "stdout",
     "output_type": "stream",
     "text": [
      "File written: /ebio/abt3_projects/software/dev/struo2/tests/samples//GTDBr95_n10.tsv \n"
     ]
    }
   ],
   "source": [
    "outF = file.path(samps_dir, 'GTDBr95_n10.tsv')\n",
    "write_table(meta_n10, outF)"
   ]
  },
  {
   "cell_type": "markdown",
   "metadata": {},
   "source": [
    "## n5"
   ]
  },
  {
   "cell_type": "code",
   "execution_count": 41,
   "metadata": {
    "ExecuteTime": {
     "end_time": "2020-10-23T13:21:36.567139Z",
     "start_time": "2020-10-23T13:21:28.893Z"
    }
   },
   "outputs": [
    {
     "data": {
      "text/html": [
       "<table>\n",
       "<caption>A data.frame: 5 × 113</caption>\n",
       "<thead>\n",
       "\t<tr><th scope=col>ncbi_organism_name</th><th scope=col>accession</th><th scope=col>ambiguous_bases</th><th scope=col>checkm_completeness</th><th scope=col>checkm_contamination</th><th scope=col>checkm_marker_count</th><th scope=col>checkm_marker_lineage</th><th scope=col>checkm_marker_set_count</th><th scope=col>checkm_strain_heterogeneity</th><th scope=col>coding_bases</th><th scope=col>⋯</th><th scope=col>ssu_silva_blast_perc_identity</th><th scope=col>ssu_silva_blast_subject_id</th><th scope=col>ssu_silva_taxonomy</th><th scope=col>total_gap_length</th><th scope=col>trna_aa_count</th><th scope=col>trna_count</th><th scope=col>trna_selenocysteine_count</th><th scope=col>SPECIES</th><th scope=col>gtdb_taxid</th><th scope=col>fasta_file_path</th></tr>\n",
       "\t<tr><th scope=col>&lt;fct&gt;</th><th scope=col>&lt;fct&gt;</th><th scope=col>&lt;int&gt;</th><th scope=col>&lt;dbl&gt;</th><th scope=col>&lt;dbl&gt;</th><th scope=col>&lt;int&gt;</th><th scope=col>&lt;fct&gt;</th><th scope=col>&lt;int&gt;</th><th scope=col>&lt;dbl&gt;</th><th scope=col>&lt;int&gt;</th><th scope=col>⋯</th><th scope=col>&lt;fct&gt;</th><th scope=col>&lt;fct&gt;</th><th scope=col>&lt;fct&gt;</th><th scope=col>&lt;int&gt;</th><th scope=col>&lt;int&gt;</th><th scope=col>&lt;int&gt;</th><th scope=col>&lt;int&gt;</th><th scope=col>&lt;fct&gt;</th><th scope=col>&lt;int&gt;</th><th scope=col>&lt;fct&gt;</th></tr>\n",
       "</thead>\n",
       "<tbody>\n",
       "\t<tr><td>RS_GCF_006715045.1_Amycolatopsis cihanbeyliensis     </td><td>RS_GCF_006715045.1</td><td>0</td><td>100.00</td><td>0.99</td><td>350</td><td>o__Actinomycetales (UID2014)</td><td>203</td><td>0</td><td>6692435</td><td>⋯</td><td>100 </td><td>JN989302.1.1460</td><td>Bacteria;Actinobacteria;Actinobacteria;Pseudonocardiales;Pseudonocardiaceae;Amycolatopsis;Amycolatopsis cihanbeyliensis</td><td>   0</td><td>20</td><td>49</td><td>0</td><td>Amycolatopsis cihanbeyliensis</td><td>202433</td><td>/ebio/abt3_projects/databases_no-backup/GTDB/release95/Struo/genomes/genbank/bacteria/GCA_006715045.1/GCA_006715045.1_ASM671504v1_genomic.fna.gz</td></tr>\n",
       "\t<tr><td>GB_GCA_002478565.1_Flavobacteriales bacterium UBA7468</td><td>GB_GCA_002478565.1</td><td>0</td><td> 96.74</td><td>0.54</td><td>277</td><td>k__Bacteria (UID2569)       </td><td>185</td><td>0</td><td>2200517</td><td>⋯</td><td>none</td><td>none           </td><td>none                                                                                                                   </td><td>1834</td><td>17</td><td>28</td><td>0</td><td>UBA952 sp002478565           </td><td>189650</td><td>/ebio/abt3_projects/databases_no-backup/GTDB/release95/Struo/genomes/genbank/bacteria/GCA_002478565.1/GCA_002478565.1_ASM247856v1_genomic.fna.gz</td></tr>\n",
       "\t<tr><td>⋮</td><td>⋮</td><td>⋮</td><td>⋮</td><td>⋮</td><td>⋮</td><td>⋮</td><td>⋮</td><td>⋮</td><td>⋮</td><td>⋱</td><td>⋮</td><td>⋮</td><td>⋮</td><td>⋮</td><td>⋮</td><td>⋮</td><td>⋮</td><td>⋮</td><td>⋮</td><td>⋮</td></tr>\n",
       "\t<tr><td>GB_GCA_000014945.1_Methanosaeta thermophila PT</td><td>GB_GCA_000014945.1</td><td>0</td><td>100.00</td><td>0.00</td><td>228</td><td>p__Euryarchaeota (UID49)    </td><td>153</td><td>0</td><td> 1591668</td><td>⋯</td><td>100</td><td>CP000477.1617193.1618665</td><td>Archaea;Euryarchaeota;Methanomicrobia;Methanosarcinales;Methanosaetaceae;Methanosaeta;Methanosaeta thermophila PT</td><td>0</td><td>18</td><td>43</td><td>0</td><td>Methanothrix_B thermoacetophila</td><td>  5158</td><td>/ebio/abt3_projects/databases_no-backup/GTDB/release95/Struo/genomes/genbank/archaea/GCA_000014945.1/GCA_000014945.1_ASM1494v1_genomic.fna.gz  </td></tr>\n",
       "\t<tr><td>GB_GCA_000720375.1_Rhodococcus rhodnii        </td><td>GB_GCA_000720375.1</td><td>0</td><td> 99.47</td><td>3.85</td><td>495</td><td>o__Actinomycetales (UID2012)</td><td>282</td><td>0</td><td>11292191</td><td>⋯</td><td>100</td><td>JOAA01000108.1.1312     </td><td>Bacteria;Actinobacteria;Actinobacteria;Pseudonocardiales;Pseudonocardiaceae;Kibdelosporangium;Rhodococcus rhodnii</td><td>0</td><td>20</td><td>66</td><td>2</td><td>Kibdelosporangium sp000720375  </td><td>193223</td><td>/ebio/abt3_projects/databases_no-backup/GTDB/release95/Struo/genomes/genbank/bacteria/GCA_000720375.1/GCA_000720375.1_ASM72037v1_genomic.fna.gz</td></tr>\n",
       "</tbody>\n",
       "</table>\n"
      ],
      "text/latex": [
       "A data.frame: 5 × 113\n",
       "\\begin{tabular}{lllllllllllllllllllll}\n",
       " ncbi\\_organism\\_name & accession & ambiguous\\_bases & checkm\\_completeness & checkm\\_contamination & checkm\\_marker\\_count & checkm\\_marker\\_lineage & checkm\\_marker\\_set\\_count & checkm\\_strain\\_heterogeneity & coding\\_bases & ⋯ & ssu\\_silva\\_blast\\_perc\\_identity & ssu\\_silva\\_blast\\_subject\\_id & ssu\\_silva\\_taxonomy & total\\_gap\\_length & trna\\_aa\\_count & trna\\_count & trna\\_selenocysteine\\_count & SPECIES & gtdb\\_taxid & fasta\\_file\\_path\\\\\n",
       " <fct> & <fct> & <int> & <dbl> & <dbl> & <int> & <fct> & <int> & <dbl> & <int> & ⋯ & <fct> & <fct> & <fct> & <int> & <int> & <int> & <int> & <fct> & <int> & <fct>\\\\\n",
       "\\hline\n",
       "\t RS\\_GCF\\_006715045.1\\_Amycolatopsis cihanbeyliensis      & RS\\_GCF\\_006715045.1 & 0 & 100.00 & 0.99 & 350 & o\\_\\_Actinomycetales (UID2014) & 203 & 0 & 6692435 & ⋯ & 100  & JN989302.1.1460 & Bacteria;Actinobacteria;Actinobacteria;Pseudonocardiales;Pseudonocardiaceae;Amycolatopsis;Amycolatopsis cihanbeyliensis &    0 & 20 & 49 & 0 & Amycolatopsis cihanbeyliensis & 202433 & /ebio/abt3\\_projects/databases\\_no-backup/GTDB/release95/Struo/genomes/genbank/bacteria/GCA\\_006715045.1/GCA\\_006715045.1\\_ASM671504v1\\_genomic.fna.gz\\\\\n",
       "\t GB\\_GCA\\_002478565.1\\_Flavobacteriales bacterium UBA7468 & GB\\_GCA\\_002478565.1 & 0 &  96.74 & 0.54 & 277 & k\\_\\_Bacteria (UID2569)        & 185 & 0 & 2200517 & ⋯ & none & none            & none                                                                                                                    & 1834 & 17 & 28 & 0 & UBA952 sp002478565            & 189650 & /ebio/abt3\\_projects/databases\\_no-backup/GTDB/release95/Struo/genomes/genbank/bacteria/GCA\\_002478565.1/GCA\\_002478565.1\\_ASM247856v1\\_genomic.fna.gz\\\\\n",
       "\t ⋮ & ⋮ & ⋮ & ⋮ & ⋮ & ⋮ & ⋮ & ⋮ & ⋮ & ⋮ & ⋱ & ⋮ & ⋮ & ⋮ & ⋮ & ⋮ & ⋮ & ⋮ & ⋮ & ⋮ & ⋮\\\\\n",
       "\t GB\\_GCA\\_000014945.1\\_Methanosaeta thermophila PT & GB\\_GCA\\_000014945.1 & 0 & 100.00 & 0.00 & 228 & p\\_\\_Euryarchaeota (UID49)     & 153 & 0 &  1591668 & ⋯ & 100 & CP000477.1617193.1618665 & Archaea;Euryarchaeota;Methanomicrobia;Methanosarcinales;Methanosaetaceae;Methanosaeta;Methanosaeta thermophila PT & 0 & 18 & 43 & 0 & Methanothrix\\_B thermoacetophila &   5158 & /ebio/abt3\\_projects/databases\\_no-backup/GTDB/release95/Struo/genomes/genbank/archaea/GCA\\_000014945.1/GCA\\_000014945.1\\_ASM1494v1\\_genomic.fna.gz  \\\\\n",
       "\t GB\\_GCA\\_000720375.1\\_Rhodococcus rhodnii         & GB\\_GCA\\_000720375.1 & 0 &  99.47 & 3.85 & 495 & o\\_\\_Actinomycetales (UID2012) & 282 & 0 & 11292191 & ⋯ & 100 & JOAA01000108.1.1312      & Bacteria;Actinobacteria;Actinobacteria;Pseudonocardiales;Pseudonocardiaceae;Kibdelosporangium;Rhodococcus rhodnii & 0 & 20 & 66 & 2 & Kibdelosporangium sp000720375   & 193223 & /ebio/abt3\\_projects/databases\\_no-backup/GTDB/release95/Struo/genomes/genbank/bacteria/GCA\\_000720375.1/GCA\\_000720375.1\\_ASM72037v1\\_genomic.fna.gz\\\\\n",
       "\\end{tabular}\n"
      ],
      "text/markdown": [
       "\n",
       "A data.frame: 5 × 113\n",
       "\n",
       "| ncbi_organism_name &lt;fct&gt; | accession &lt;fct&gt; | ambiguous_bases &lt;int&gt; | checkm_completeness &lt;dbl&gt; | checkm_contamination &lt;dbl&gt; | checkm_marker_count &lt;int&gt; | checkm_marker_lineage &lt;fct&gt; | checkm_marker_set_count &lt;int&gt; | checkm_strain_heterogeneity &lt;dbl&gt; | coding_bases &lt;int&gt; | ⋯ ⋯ | ssu_silva_blast_perc_identity &lt;fct&gt; | ssu_silva_blast_subject_id &lt;fct&gt; | ssu_silva_taxonomy &lt;fct&gt; | total_gap_length &lt;int&gt; | trna_aa_count &lt;int&gt; | trna_count &lt;int&gt; | trna_selenocysteine_count &lt;int&gt; | SPECIES &lt;fct&gt; | gtdb_taxid &lt;int&gt; | fasta_file_path &lt;fct&gt; |\n",
       "|---|---|---|---|---|---|---|---|---|---|---|---|---|---|---|---|---|---|---|---|---|\n",
       "| RS_GCF_006715045.1_Amycolatopsis cihanbeyliensis      | RS_GCF_006715045.1 | 0 | 100.00 | 0.99 | 350 | o__Actinomycetales (UID2014) | 203 | 0 | 6692435 | ⋯ | 100  | JN989302.1.1460 | Bacteria;Actinobacteria;Actinobacteria;Pseudonocardiales;Pseudonocardiaceae;Amycolatopsis;Amycolatopsis cihanbeyliensis |    0 | 20 | 49 | 0 | Amycolatopsis cihanbeyliensis | 202433 | /ebio/abt3_projects/databases_no-backup/GTDB/release95/Struo/genomes/genbank/bacteria/GCA_006715045.1/GCA_006715045.1_ASM671504v1_genomic.fna.gz |\n",
       "| GB_GCA_002478565.1_Flavobacteriales bacterium UBA7468 | GB_GCA_002478565.1 | 0 |  96.74 | 0.54 | 277 | k__Bacteria (UID2569)        | 185 | 0 | 2200517 | ⋯ | none | none            | none                                                                                                                    | 1834 | 17 | 28 | 0 | UBA952 sp002478565            | 189650 | /ebio/abt3_projects/databases_no-backup/GTDB/release95/Struo/genomes/genbank/bacteria/GCA_002478565.1/GCA_002478565.1_ASM247856v1_genomic.fna.gz |\n",
       "| ⋮ | ⋮ | ⋮ | ⋮ | ⋮ | ⋮ | ⋮ | ⋮ | ⋮ | ⋮ | ⋱ | ⋮ | ⋮ | ⋮ | ⋮ | ⋮ | ⋮ | ⋮ | ⋮ | ⋮ | ⋮ |\n",
       "| GB_GCA_000014945.1_Methanosaeta thermophila PT | GB_GCA_000014945.1 | 0 | 100.00 | 0.00 | 228 | p__Euryarchaeota (UID49)     | 153 | 0 |  1591668 | ⋯ | 100 | CP000477.1617193.1618665 | Archaea;Euryarchaeota;Methanomicrobia;Methanosarcinales;Methanosaetaceae;Methanosaeta;Methanosaeta thermophila PT | 0 | 18 | 43 | 0 | Methanothrix_B thermoacetophila |   5158 | /ebio/abt3_projects/databases_no-backup/GTDB/release95/Struo/genomes/genbank/archaea/GCA_000014945.1/GCA_000014945.1_ASM1494v1_genomic.fna.gz   |\n",
       "| GB_GCA_000720375.1_Rhodococcus rhodnii         | GB_GCA_000720375.1 | 0 |  99.47 | 3.85 | 495 | o__Actinomycetales (UID2012) | 282 | 0 | 11292191 | ⋯ | 100 | JOAA01000108.1.1312      | Bacteria;Actinobacteria;Actinobacteria;Pseudonocardiales;Pseudonocardiaceae;Kibdelosporangium;Rhodococcus rhodnii | 0 | 20 | 66 | 2 | Kibdelosporangium sp000720375   | 193223 | /ebio/abt3_projects/databases_no-backup/GTDB/release95/Struo/genomes/genbank/bacteria/GCA_000720375.1/GCA_000720375.1_ASM72037v1_genomic.fna.gz |\n",
       "\n"
      ],
      "text/plain": [
       "  ncbi_organism_name                                    accession         \n",
       "1 RS_GCF_006715045.1_Amycolatopsis cihanbeyliensis      RS_GCF_006715045.1\n",
       "2 GB_GCA_002478565.1_Flavobacteriales bacterium UBA7468 GB_GCA_002478565.1\n",
       "⋮ ⋮                                                     ⋮                 \n",
       "4 GB_GCA_000014945.1_Methanosaeta thermophila PT        GB_GCA_000014945.1\n",
       "5 GB_GCA_000720375.1_Rhodococcus rhodnii                GB_GCA_000720375.1\n",
       "  ambiguous_bases checkm_completeness checkm_contamination checkm_marker_count\n",
       "1 0               100.00              0.99                 350                \n",
       "2 0                96.74              0.54                 277                \n",
       "⋮ ⋮               ⋮                   ⋮                    ⋮                  \n",
       "4 0               100.00              0.00                 228                \n",
       "5 0                99.47              3.85                 495                \n",
       "  checkm_marker_lineage        checkm_marker_set_count\n",
       "1 o__Actinomycetales (UID2014) 203                    \n",
       "2 k__Bacteria (UID2569)        185                    \n",
       "⋮ ⋮                            ⋮                      \n",
       "4 p__Euryarchaeota (UID49)     153                    \n",
       "5 o__Actinomycetales (UID2012) 282                    \n",
       "  checkm_strain_heterogeneity coding_bases ⋯ ssu_silva_blast_perc_identity\n",
       "1 0                           6692435      ⋯ 100                          \n",
       "2 0                           2200517      ⋯ none                         \n",
       "⋮ ⋮                           ⋮            ⋱ ⋮                            \n",
       "4 0                            1591668     ⋯ 100                          \n",
       "5 0                           11292191     ⋯ 100                          \n",
       "  ssu_silva_blast_subject_id\n",
       "1 JN989302.1.1460           \n",
       "2 none                      \n",
       "⋮ ⋮                         \n",
       "4 CP000477.1617193.1618665  \n",
       "5 JOAA01000108.1.1312       \n",
       "  ssu_silva_taxonomy                                                                                                     \n",
       "1 Bacteria;Actinobacteria;Actinobacteria;Pseudonocardiales;Pseudonocardiaceae;Amycolatopsis;Amycolatopsis cihanbeyliensis\n",
       "2 none                                                                                                                   \n",
       "⋮ ⋮                                                                                                                      \n",
       "4 Archaea;Euryarchaeota;Methanomicrobia;Methanosarcinales;Methanosaetaceae;Methanosaeta;Methanosaeta thermophila PT      \n",
       "5 Bacteria;Actinobacteria;Actinobacteria;Pseudonocardiales;Pseudonocardiaceae;Kibdelosporangium;Rhodococcus rhodnii      \n",
       "  total_gap_length trna_aa_count trna_count trna_selenocysteine_count\n",
       "1    0             20            49         0                        \n",
       "2 1834             17            28         0                        \n",
       "⋮ ⋮                ⋮             ⋮          ⋮                        \n",
       "4 0                18            43         0                        \n",
       "5 0                20            66         2                        \n",
       "  SPECIES                         gtdb_taxid\n",
       "1 Amycolatopsis cihanbeyliensis   202433    \n",
       "2 UBA952 sp002478565              189650    \n",
       "⋮ ⋮                               ⋮         \n",
       "4 Methanothrix_B thermoacetophila   5158    \n",
       "5 Kibdelosporangium sp000720375   193223    \n",
       "  fasta_file_path                                                                                                                                 \n",
       "1 /ebio/abt3_projects/databases_no-backup/GTDB/release95/Struo/genomes/genbank/bacteria/GCA_006715045.1/GCA_006715045.1_ASM671504v1_genomic.fna.gz\n",
       "2 /ebio/abt3_projects/databases_no-backup/GTDB/release95/Struo/genomes/genbank/bacteria/GCA_002478565.1/GCA_002478565.1_ASM247856v1_genomic.fna.gz\n",
       "⋮ ⋮                                                                                                                                               \n",
       "4 /ebio/abt3_projects/databases_no-backup/GTDB/release95/Struo/genomes/genbank/archaea/GCA_000014945.1/GCA_000014945.1_ASM1494v1_genomic.fna.gz   \n",
       "5 /ebio/abt3_projects/databases_no-backup/GTDB/release95/Struo/genomes/genbank/bacteria/GCA_000720375.1/GCA_000720375.1_ASM72037v1_genomic.fna.gz "
      ]
     },
     "metadata": {},
     "output_type": "display_data"
    }
   ],
   "source": [
    "# selecting subset\n",
    "meta_n5 = meta %>%\n",
    "    anti_join(meta_n10, c('accession')) %>%\n",
    "    sample_n(5) \n",
    "meta_n5"
   ]
  },
  {
   "cell_type": "code",
   "execution_count": 42,
   "metadata": {
    "ExecuteTime": {
     "end_time": "2020-10-23T13:21:36.595636Z",
     "start_time": "2020-10-23T13:21:29.451Z"
    }
   },
   "outputs": [
    {
     "name": "stdout",
     "output_type": "stream",
     "text": [
      "File written: /ebio/abt3_projects/software/dev/struo2/tests/samples//GTDBr95_n5.tsv \n"
     ]
    }
   ],
   "source": [
    "outF = file.path(samps_dir, 'GTDBr95_n5.tsv')\n",
    "write_table(meta_n5, outF)"
   ]
  },
  {
   "cell_type": "markdown",
   "metadata": {},
   "source": [
    "# Gene list\n",
    "\n",
    "* A list of genes to add to an existing gene database\n",
    "* Columns required in gene metadata table:\n",
    "\n",
    "```\n",
    "'seq_uuid',\n",
    "'seq_orig_name',\n",
    "'domain',\n",
    "'phylum',\n",
    "'class',\n",
    "'order',\n",
    "'family',\n",
    "'genus',\n",
    "'species',\n",
    "'taxid',\n",
    "'genome_name',\n",
    "'genome_length_bp'\n",
    "```"
   ]
  },
  {
   "cell_type": "code",
   "execution_count": 8,
   "metadata": {
    "ExecuteTime": {
     "end_time": "2020-10-15T08:48:15.652294Z",
     "start_time": "2020-10-15T08:48:15.560Z"
    }
   },
   "outputs": [
    {
     "data": {
      "text/html": [
       "<table>\n",
       "<caption>A data.frame: 5000 × 3</caption>\n",
       "<thead>\n",
       "\t<tr><th scope=col>V1</th><th scope=col>V2</th><th scope=col>V3</th></tr>\n",
       "\t<tr><th scope=col>&lt;fct&gt;</th><th scope=col>&lt;int&gt;</th><th scope=col>&lt;fct&gt;</th></tr>\n",
       "</thead>\n",
       "<tbody>\n",
       "\t<tr><td>UniRef50_U6EEN0</td><td>117</td><td>g__Candidatus_Methanoperedenaceae.s__Candidatus_Methanoperedens_sp_BLZ1__taxID1719120</td></tr>\n",
       "\t<tr><td>UniRef50_W1I8X6</td><td>316</td><td>g__Clostridiaceae.s__uncultured_Clostridium_sp___taxID59620                          </td></tr>\n",
       "\t<tr><td>⋮</td><td>⋮</td><td>⋮</td></tr>\n",
       "\t<tr><td>UniRef50_Q650H1</td><td>133</td><td>g__Bacteroidaceae.s__unclassified__taxID483215</td></tr>\n",
       "\t<tr><td>UniRef50_J9GMN3</td><td> 39</td><td>g__unclassified.s__unclassified               </td></tr>\n",
       "</tbody>\n",
       "</table>\n"
      ],
      "text/latex": [
       "A data.frame: 5000 × 3\n",
       "\\begin{tabular}{lll}\n",
       " V1 & V2 & V3\\\\\n",
       " <fct> & <int> & <fct>\\\\\n",
       "\\hline\n",
       "\t UniRef50\\_U6EEN0 & 117 & g\\_\\_Candidatus\\_Methanoperedenaceae.s\\_\\_Candidatus\\_Methanoperedens\\_sp\\_BLZ1\\_\\_taxID1719120\\\\\n",
       "\t UniRef50\\_W1I8X6 & 316 & g\\_\\_Clostridiaceae.s\\_\\_uncultured\\_Clostridium\\_sp\\_\\_\\_taxID59620                          \\\\\n",
       "\t ⋮ & ⋮ & ⋮\\\\\n",
       "\t UniRef50\\_Q650H1 & 133 & g\\_\\_Bacteroidaceae.s\\_\\_unclassified\\_\\_taxID483215\\\\\n",
       "\t UniRef50\\_J9GMN3 &  39 & g\\_\\_unclassified.s\\_\\_unclassified               \\\\\n",
       "\\end{tabular}\n"
      ],
      "text/markdown": [
       "\n",
       "A data.frame: 5000 × 3\n",
       "\n",
       "| V1 &lt;fct&gt; | V2 &lt;int&gt; | V3 &lt;fct&gt; |\n",
       "|---|---|---|\n",
       "| UniRef50_U6EEN0 | 117 | g__Candidatus_Methanoperedenaceae.s__Candidatus_Methanoperedens_sp_BLZ1__taxID1719120 |\n",
       "| UniRef50_W1I8X6 | 316 | g__Clostridiaceae.s__uncultured_Clostridium_sp___taxID59620                           |\n",
       "| ⋮ | ⋮ | ⋮ |\n",
       "| UniRef50_Q650H1 | 133 | g__Bacteroidaceae.s__unclassified__taxID483215 |\n",
       "| UniRef50_J9GMN3 |  39 | g__unclassified.s__unclassified                |\n",
       "\n"
      ],
      "text/plain": [
       "     V1              V2 \n",
       "1    UniRef50_U6EEN0 117\n",
       "2    UniRef50_W1I8X6 316\n",
       "⋮    ⋮               ⋮  \n",
       "4999 UniRef50_Q650H1 133\n",
       "5000 UniRef50_J9GMN3  39\n",
       "     V3                                                                                   \n",
       "1    g__Candidatus_Methanoperedenaceae.s__Candidatus_Methanoperedens_sp_BLZ1__taxID1719120\n",
       "2    g__Clostridiaceae.s__uncultured_Clostridium_sp___taxID59620                          \n",
       "⋮    ⋮                                                                                    \n",
       "4999 g__Bacteroidaceae.s__unclassified__taxID483215                                       \n",
       "5000 g__unclassified.s__unclassified                                                      "
      ]
     },
     "metadata": {},
     "output_type": "display_data"
    }
   ],
   "source": [
    "F = file.path(work_dir, 'clusters_rep-seqs_tmp.txt')\n",
    "meta = read.delim(F, sep='\\t', header=FALSE) \n",
    "meta"
   ]
  },
  {
   "cell_type": "code",
   "execution_count": 16,
   "metadata": {
    "ExecuteTime": {
     "end_time": "2020-10-15T08:55:03.630721Z",
     "start_time": "2020-10-15T08:55:03.511Z"
    }
   },
   "outputs": [
    {
     "data": {
      "text/html": [
       "<table>\n",
       "<caption>A data.frame: 5000 × 12</caption>\n",
       "<thead>\n",
       "\t<tr><th scope=col>seq_uuid</th><th scope=col>seq_orig_name</th><th scope=col>domain</th><th scope=col>phylum</th><th scope=col>class</th><th scope=col>order</th><th scope=col>family</th><th scope=col>genus</th><th scope=col>species</th><th scope=col>taxid</th><th scope=col>genome_name</th><th scope=col>genome_length_bp</th></tr>\n",
       "\t<tr><th scope=col>&lt;chr&gt;</th><th scope=col>&lt;fct&gt;</th><th scope=col>&lt;chr&gt;</th><th scope=col>&lt;chr&gt;</th><th scope=col>&lt;chr&gt;</th><th scope=col>&lt;chr&gt;</th><th scope=col>&lt;chr&gt;</th><th scope=col>&lt;chr&gt;</th><th scope=col>&lt;chr&gt;</th><th scope=col>&lt;chr&gt;</th><th scope=col>&lt;chr&gt;</th><th scope=col>&lt;chr&gt;</th></tr>\n",
       "</thead>\n",
       "<tbody>\n",
       "\t<tr><td>4266a33a185749b2a85dba7975e62ce3</td><td>UniRef50_U6EEN0</td><td></td><td></td><td></td><td></td><td></td><td>g__Candidatus_Methanoperedenaceae</td><td>s__Candidatus_Methanoperedens_sp_BLZ1</td><td>1719120</td><td></td><td></td></tr>\n",
       "\t<tr><td>4266a33a185749b2a85dba7975e62ce3</td><td>UniRef50_W1I8X6</td><td></td><td></td><td></td><td></td><td></td><td>g__Clostridiaceae                </td><td>s__uncultured_Clostridium_sp_        </td><td>59620  </td><td></td><td></td></tr>\n",
       "\t<tr><td>⋮</td><td>⋮</td><td>⋮</td><td>⋮</td><td>⋮</td><td>⋮</td><td>⋮</td><td>⋮</td><td>⋮</td><td>⋮</td><td>⋮</td><td>⋮</td></tr>\n",
       "\t<tr><td>4266a33a185749b2a85dba7975e62ce3</td><td>UniRef50_Q650H1</td><td></td><td></td><td></td><td></td><td></td><td>g__Bacteroidaceae</td><td>s__unclassified</td><td>483215</td><td></td><td></td></tr>\n",
       "\t<tr><td>4266a33a185749b2a85dba7975e62ce3</td><td>UniRef50_J9GMN3</td><td></td><td></td><td></td><td></td><td></td><td>g__unclassified  </td><td>s__unclassified</td><td>      </td><td></td><td></td></tr>\n",
       "</tbody>\n",
       "</table>\n"
      ],
      "text/latex": [
       "A data.frame: 5000 × 12\n",
       "\\begin{tabular}{llllllllllll}\n",
       " seq\\_uuid & seq\\_orig\\_name & domain & phylum & class & order & family & genus & species & taxid & genome\\_name & genome\\_length\\_bp\\\\\n",
       " <chr> & <fct> & <chr> & <chr> & <chr> & <chr> & <chr> & <chr> & <chr> & <chr> & <chr> & <chr>\\\\\n",
       "\\hline\n",
       "\t 4266a33a185749b2a85dba7975e62ce3 & UniRef50\\_U6EEN0 &  &  &  &  &  & g\\_\\_Candidatus\\_Methanoperedenaceae & s\\_\\_Candidatus\\_Methanoperedens\\_sp\\_BLZ1 & 1719120 &  & \\\\\n",
       "\t 4266a33a185749b2a85dba7975e62ce3 & UniRef50\\_W1I8X6 &  &  &  &  &  & g\\_\\_Clostridiaceae                 & s\\_\\_uncultured\\_Clostridium\\_sp\\_         & 59620   &  & \\\\\n",
       "\t ⋮ & ⋮ & ⋮ & ⋮ & ⋮ & ⋮ & ⋮ & ⋮ & ⋮ & ⋮ & ⋮ & ⋮\\\\\n",
       "\t 4266a33a185749b2a85dba7975e62ce3 & UniRef50\\_Q650H1 &  &  &  &  &  & g\\_\\_Bacteroidaceae & s\\_\\_unclassified & 483215 &  & \\\\\n",
       "\t 4266a33a185749b2a85dba7975e62ce3 & UniRef50\\_J9GMN3 &  &  &  &  &  & g\\_\\_unclassified   & s\\_\\_unclassified &        &  & \\\\\n",
       "\\end{tabular}\n"
      ],
      "text/markdown": [
       "\n",
       "A data.frame: 5000 × 12\n",
       "\n",
       "| seq_uuid &lt;chr&gt; | seq_orig_name &lt;fct&gt; | domain &lt;chr&gt; | phylum &lt;chr&gt; | class &lt;chr&gt; | order &lt;chr&gt; | family &lt;chr&gt; | genus &lt;chr&gt; | species &lt;chr&gt; | taxid &lt;chr&gt; | genome_name &lt;chr&gt; | genome_length_bp &lt;chr&gt; |\n",
       "|---|---|---|---|---|---|---|---|---|---|---|---|\n",
       "| 4266a33a185749b2a85dba7975e62ce3 | UniRef50_U6EEN0 | <!----> | <!----> | <!----> | <!----> | <!----> | g__Candidatus_Methanoperedenaceae | s__Candidatus_Methanoperedens_sp_BLZ1 | 1719120 | <!----> | <!----> |\n",
       "| 4266a33a185749b2a85dba7975e62ce3 | UniRef50_W1I8X6 | <!----> | <!----> | <!----> | <!----> | <!----> | g__Clostridiaceae                 | s__uncultured_Clostridium_sp_         | 59620   | <!----> | <!----> |\n",
       "| ⋮ | ⋮ | ⋮ | ⋮ | ⋮ | ⋮ | ⋮ | ⋮ | ⋮ | ⋮ | ⋮ | ⋮ |\n",
       "| 4266a33a185749b2a85dba7975e62ce3 | UniRef50_Q650H1 | <!----> | <!----> | <!----> | <!----> | <!----> | g__Bacteroidaceae | s__unclassified | 483215 | <!----> | <!----> |\n",
       "| 4266a33a185749b2a85dba7975e62ce3 | UniRef50_J9GMN3 | <!----> | <!----> | <!----> | <!----> | <!----> | g__unclassified   | s__unclassified | <!----> | <!----> | <!----> |\n",
       "\n"
      ],
      "text/plain": [
       "     seq_uuid                         seq_orig_name   domain phylum class order\n",
       "1    4266a33a185749b2a85dba7975e62ce3 UniRef50_U6EEN0                          \n",
       "2    4266a33a185749b2a85dba7975e62ce3 UniRef50_W1I8X6                          \n",
       "⋮    ⋮                                ⋮               ⋮      ⋮      ⋮     ⋮    \n",
       "4999 4266a33a185749b2a85dba7975e62ce3 UniRef50_Q650H1                          \n",
       "5000 4266a33a185749b2a85dba7975e62ce3 UniRef50_J9GMN3                          \n",
       "     family genus                            \n",
       "1           g__Candidatus_Methanoperedenaceae\n",
       "2           g__Clostridiaceae                \n",
       "⋮    ⋮      ⋮                                \n",
       "4999        g__Bacteroidaceae                \n",
       "5000        g__unclassified                  \n",
       "     species                               taxid   genome_name genome_length_bp\n",
       "1    s__Candidatus_Methanoperedens_sp_BLZ1 1719120                             \n",
       "2    s__uncultured_Clostridium_sp_         59620                               \n",
       "⋮    ⋮                                     ⋮       ⋮           ⋮               \n",
       "4999 s__unclassified                       483215                              \n",
       "5000 s__unclassified                                                           "
      ]
     },
     "metadata": {},
     "output_type": "display_data"
    }
   ],
   "source": [
    "meta_f = meta %>%\n",
    "    rename('seq_orig_name' = V1) %>%\n",
    "    mutate(seq_uuid = gsub('-', '', UUIDgenerate())) %>%\n",
    "    mutate(domain = '',\n",
    "           phylum = '',\n",
    "           class = '',\n",
    "           order = '',\n",
    "           family = '',\n",
    "           genus = gsub('(.+)\\\\.s__.+', '\\\\1', V3),\n",
    "           species = gsub('.+\\\\.(s__.+)', '\\\\1', V3),\n",
    "           taxid = gsub('.+__taxID(.+)', '\\\\1', V3),\n",
    "           genome_name = '',\n",
    "           genome_length_bp = '') %>%\n",
    "    mutate(species = gsub('__taxID.+', '', species),\n",
    "           taxid = ifelse(grepl('^[0-9]+$', taxid), taxid, '')) %>%\n",
    "    dplyr::select(seq_uuid, seq_orig_name, domain, phylum, class, \n",
    "                  order, family, genus, species, taxid, genome_name, \n",
    "                  genome_length_bp)\n",
    "meta_f                      "
   ]
  },
  {
   "cell_type": "code",
   "execution_count": 17,
   "metadata": {
    "ExecuteTime": {
     "end_time": "2020-10-15T10:20:58.964765Z",
     "start_time": "2020-10-15T10:20:58.904Z"
    }
   },
   "outputs": [
    {
     "name": "stdout",
     "output_type": "stream",
     "text": [
      "File written: /ebio/abt3_projects/software/dev/struo2/tests/data//clusters_rep-seqs.txt \n"
     ]
    }
   ],
   "source": [
    "# writing\n",
    "outF = file.path(work_dir, 'clusters_rep-seqs.txt')\n",
    "write_table(meta_f, outF)"
   ]
  },
  {
   "cell_type": "code",
   "execution_count": null,
   "metadata": {},
   "outputs": [],
   "source": []
  }
 ],
 "metadata": {
  "kernelspec": {
   "display_name": "R [conda env:Georg_animal_feces-tidyverse]",
   "language": "R",
   "name": "conda-env-Georg_animal_feces-tidyverse-r"
  },
  "language_info": {
   "codemirror_mode": "r",
   "file_extension": ".r",
   "mimetype": "text/x-r-source",
   "name": "R",
   "pygments_lexer": "r",
   "version": "3.6.3"
  },
  "toc": {
   "base_numbering": 1,
   "nav_menu": {},
   "number_sections": true,
   "sideBar": true,
   "skip_h1_title": false,
   "title_cell": "Table of Contents",
   "title_sidebar": "Contents",
   "toc_cell": true,
   "toc_position": {},
   "toc_section_display": true,
   "toc_window_display": true
  }
 },
 "nbformat": 4,
 "nbformat_minor": 4
}
